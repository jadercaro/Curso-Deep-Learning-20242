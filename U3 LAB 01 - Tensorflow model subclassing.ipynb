{
  "cells": [
    {
      "cell_type": "markdown",
      "metadata": {
        "id": "pbt9N7vJ1kkC"
      },
      "source": [
        "# LAB 3.1 - TF model subclassing"
      ]
    },
    {
      "cell_type": "code",
      "source": [
        "!pip install tensorflow==2.15"
      ],
      "metadata": {
        "id": "jlo5XsbLA1bi",
        "outputId": "c1dc3c09-297e-43f2-fb64-e7db90369afd",
        "colab": {
          "base_uri": "https://localhost:8080/"
        }
      },
      "execution_count": 1,
      "outputs": [
        {
          "output_type": "stream",
          "name": "stdout",
          "text": [
            "Requirement already satisfied: tensorflow==2.15 in /usr/local/lib/python3.10/dist-packages (2.15.0)\n",
            "Requirement already satisfied: absl-py>=1.0.0 in /usr/local/lib/python3.10/dist-packages (from tensorflow==2.15) (1.4.0)\n",
            "Requirement already satisfied: astunparse>=1.6.0 in /usr/local/lib/python3.10/dist-packages (from tensorflow==2.15) (1.6.3)\n",
            "Requirement already satisfied: flatbuffers>=23.5.26 in /usr/local/lib/python3.10/dist-packages (from tensorflow==2.15) (24.3.25)\n",
            "Requirement already satisfied: gast!=0.5.0,!=0.5.1,!=0.5.2,>=0.2.1 in /usr/local/lib/python3.10/dist-packages (from tensorflow==2.15) (0.6.0)\n",
            "Requirement already satisfied: google-pasta>=0.1.1 in /usr/local/lib/python3.10/dist-packages (from tensorflow==2.15) (0.2.0)\n",
            "Requirement already satisfied: h5py>=2.9.0 in /usr/local/lib/python3.10/dist-packages (from tensorflow==2.15) (3.11.0)\n",
            "Requirement already satisfied: libclang>=13.0.0 in /usr/local/lib/python3.10/dist-packages (from tensorflow==2.15) (18.1.1)\n",
            "Requirement already satisfied: ml-dtypes~=0.2.0 in /usr/local/lib/python3.10/dist-packages (from tensorflow==2.15) (0.2.0)\n",
            "Requirement already satisfied: numpy<2.0.0,>=1.23.5 in /usr/local/lib/python3.10/dist-packages (from tensorflow==2.15) (1.26.4)\n",
            "Requirement already satisfied: opt-einsum>=2.3.2 in /usr/local/lib/python3.10/dist-packages (from tensorflow==2.15) (3.3.0)\n",
            "Requirement already satisfied: packaging in /usr/local/lib/python3.10/dist-packages (from tensorflow==2.15) (24.1)\n",
            "Requirement already satisfied: protobuf!=4.21.0,!=4.21.1,!=4.21.2,!=4.21.3,!=4.21.4,!=4.21.5,<5.0.0dev,>=3.20.3 in /usr/local/lib/python3.10/dist-packages (from tensorflow==2.15) (3.20.3)\n",
            "Requirement already satisfied: setuptools in /usr/local/lib/python3.10/dist-packages (from tensorflow==2.15) (71.0.4)\n",
            "Requirement already satisfied: six>=1.12.0 in /usr/local/lib/python3.10/dist-packages (from tensorflow==2.15) (1.16.0)\n",
            "Requirement already satisfied: termcolor>=1.1.0 in /usr/local/lib/python3.10/dist-packages (from tensorflow==2.15) (2.4.0)\n",
            "Requirement already satisfied: typing-extensions>=3.6.6 in /usr/local/lib/python3.10/dist-packages (from tensorflow==2.15) (4.12.2)\n",
            "Requirement already satisfied: wrapt<1.15,>=1.11.0 in /usr/local/lib/python3.10/dist-packages (from tensorflow==2.15) (1.14.1)\n",
            "Requirement already satisfied: tensorflow-io-gcs-filesystem>=0.23.1 in /usr/local/lib/python3.10/dist-packages (from tensorflow==2.15) (0.37.1)\n",
            "Requirement already satisfied: grpcio<2.0,>=1.24.3 in /usr/local/lib/python3.10/dist-packages (from tensorflow==2.15) (1.64.1)\n",
            "Requirement already satisfied: tensorboard<2.16,>=2.15 in /usr/local/lib/python3.10/dist-packages (from tensorflow==2.15) (2.15.2)\n",
            "Requirement already satisfied: tensorflow-estimator<2.16,>=2.15.0 in /usr/local/lib/python3.10/dist-packages (from tensorflow==2.15) (2.15.0)\n",
            "Requirement already satisfied: keras<2.16,>=2.15.0 in /usr/local/lib/python3.10/dist-packages (from tensorflow==2.15) (2.15.0)\n",
            "Requirement already satisfied: wheel<1.0,>=0.23.0 in /usr/local/lib/python3.10/dist-packages (from astunparse>=1.6.0->tensorflow==2.15) (0.44.0)\n",
            "Requirement already satisfied: google-auth<3,>=1.6.3 in /usr/local/lib/python3.10/dist-packages (from tensorboard<2.16,>=2.15->tensorflow==2.15) (2.27.0)\n",
            "Requirement already satisfied: google-auth-oauthlib<2,>=0.5 in /usr/local/lib/python3.10/dist-packages (from tensorboard<2.16,>=2.15->tensorflow==2.15) (1.2.1)\n",
            "Requirement already satisfied: markdown>=2.6.8 in /usr/local/lib/python3.10/dist-packages (from tensorboard<2.16,>=2.15->tensorflow==2.15) (3.7)\n",
            "Requirement already satisfied: requests<3,>=2.21.0 in /usr/local/lib/python3.10/dist-packages (from tensorboard<2.16,>=2.15->tensorflow==2.15) (2.32.3)\n",
            "Requirement already satisfied: tensorboard-data-server<0.8.0,>=0.7.0 in /usr/local/lib/python3.10/dist-packages (from tensorboard<2.16,>=2.15->tensorflow==2.15) (0.7.2)\n",
            "Requirement already satisfied: werkzeug>=1.0.1 in /usr/local/lib/python3.10/dist-packages (from tensorboard<2.16,>=2.15->tensorflow==2.15) (3.0.4)\n",
            "Requirement already satisfied: cachetools<6.0,>=2.0.0 in /usr/local/lib/python3.10/dist-packages (from google-auth<3,>=1.6.3->tensorboard<2.16,>=2.15->tensorflow==2.15) (5.5.0)\n",
            "Requirement already satisfied: pyasn1-modules>=0.2.1 in /usr/local/lib/python3.10/dist-packages (from google-auth<3,>=1.6.3->tensorboard<2.16,>=2.15->tensorflow==2.15) (0.4.1)\n",
            "Requirement already satisfied: rsa<5,>=3.1.4 in /usr/local/lib/python3.10/dist-packages (from google-auth<3,>=1.6.3->tensorboard<2.16,>=2.15->tensorflow==2.15) (4.9)\n",
            "Requirement already satisfied: requests-oauthlib>=0.7.0 in /usr/local/lib/python3.10/dist-packages (from google-auth-oauthlib<2,>=0.5->tensorboard<2.16,>=2.15->tensorflow==2.15) (1.3.1)\n",
            "Requirement already satisfied: charset-normalizer<4,>=2 in /usr/local/lib/python3.10/dist-packages (from requests<3,>=2.21.0->tensorboard<2.16,>=2.15->tensorflow==2.15) (3.3.2)\n",
            "Requirement already satisfied: idna<4,>=2.5 in /usr/local/lib/python3.10/dist-packages (from requests<3,>=2.21.0->tensorboard<2.16,>=2.15->tensorflow==2.15) (3.8)\n",
            "Requirement already satisfied: urllib3<3,>=1.21.1 in /usr/local/lib/python3.10/dist-packages (from requests<3,>=2.21.0->tensorboard<2.16,>=2.15->tensorflow==2.15) (2.0.7)\n",
            "Requirement already satisfied: certifi>=2017.4.17 in /usr/local/lib/python3.10/dist-packages (from requests<3,>=2.21.0->tensorboard<2.16,>=2.15->tensorflow==2.15) (2024.8.30)\n",
            "Requirement already satisfied: MarkupSafe>=2.1.1 in /usr/local/lib/python3.10/dist-packages (from werkzeug>=1.0.1->tensorboard<2.16,>=2.15->tensorflow==2.15) (2.1.5)\n",
            "Requirement already satisfied: pyasn1<0.7.0,>=0.4.6 in /usr/local/lib/python3.10/dist-packages (from pyasn1-modules>=0.2.1->google-auth<3,>=1.6.3->tensorboard<2.16,>=2.15->tensorflow==2.15) (0.6.1)\n",
            "Requirement already satisfied: oauthlib>=3.0.0 in /usr/local/lib/python3.10/dist-packages (from requests-oauthlib>=0.7.0->google-auth-oauthlib<2,>=0.5->tensorboard<2.16,>=2.15->tensorflow==2.15) (3.2.2)\n"
          ]
        }
      ]
    },
    {
      "cell_type": "code",
      "execution_count": 2,
      "metadata": {
        "id": "NKaTmXrT1kkG",
        "outputId": "76cab628-1299-46ec-d956-4e4c989e6138",
        "colab": {
          "base_uri": "https://localhost:8080/",
          "height": 17
        }
      },
      "outputs": [
        {
          "output_type": "display_data",
          "data": {
            "text/plain": [
              "<IPython.core.display.HTML object>"
            ],
            "text/html": [
              "\n",
              "<meta name=\"google-signin-client_id\"\n",
              "      content=\"461673936472-kdjosv61up3ac1ajeuq6qqu72upilmls.apps.googleusercontent.com\"/>\n",
              "<script src=\"https://apis.google.com/js/client:platform.js?onload=google_button_start\"></script>\n",
              "    "
            ]
          },
          "metadata": {}
        }
      ],
      "source": [
        "!wget -nc --no-cache -O init.py -q https://raw.githubusercontent.com/rramosp/2021.deeplearning/main/content/init.py\n",
        "import init; init.init(force_download=False);"
      ]
    },
    {
      "cell_type": "code",
      "execution_count": 34,
      "metadata": {
        "scrolled": true,
        "id": "MiLIp_aa1kkL",
        "outputId": "96527077-3491-4b48-bcaa-fac5de3a79c9",
        "colab": {
          "base_uri": "https://localhost:8080/",
          "height": 89,
          "referenced_widgets": [
            "7f756982d5294bf58dcda0a1f6bd5c12",
            "3e7614066af14866ac33c94d15b2b420",
            "b454fd7f8b104d6ea12aa9257f51f66a",
            "d0d38591392a403e8df830b468da57ce",
            "f023b4b2bf0d4ebd8bb71f582787701b",
            "e20fb7733865492da0c055506dbda021",
            "2a592e7553c94d2287ba3b1075e88ee6",
            "36693631abf540c8b696cfdd9156d411",
            "1b5ca5b0904e43f98950b827de8a6bdc",
            "6529a53cb0dd4134b33448e45156da40",
            "349c0638483a4ed39928a52c8cfae976",
            "dac272582d144d39aeeb7359b4bd42e4",
            "9f027d439b4e4bea8017370aa6b89ee0",
            "02cd8a99900e4e299820ac0f2ce705de",
            "b31834d8177c4aaeb5b5979433d7606a",
            "3f050e6dd60c495b8ca6dc3dab78f2ee",
            "5879a25b80a34a62b2957a72f3cd7bdb",
            "9d06ca1674614d9786977ac74e93519d",
            "8bce23ab27e14036b48c069c77e4acbe"
          ]
        }
      },
      "outputs": [
        {
          "output_type": "stream",
          "name": "stdout",
          "text": [
            "logging in as jader.caro@udea.edu.co ... please wait\n",
            "\n",
            "-------------\n",
            "using course session 2021.deeplearning::udea.20242\n",
            "success!! you are logged in\n",
            "-------------\n"
          ]
        }
      ],
      "source": [
        "from local.lib.rlxmoocapi import submit, session\n",
        "import inspect\n",
        "session.LoginSequence(endpoint=init.endpoint, course_id=init.course_id, lab_id=\"L03.01\", varname=\"student\");"
      ]
    },
    {
      "cell_type": "code",
      "execution_count": 38,
      "metadata": {
        "id": "KeXWiP6c1kkM",
        "outputId": "6b640ee1-e6a2-425d-8b44-909fb846cd64",
        "colab": {
          "base_uri": "https://localhost:8080/",
          "height": 35
        }
      },
      "outputs": [
        {
          "output_type": "execute_result",
          "data": {
            "text/plain": [
              "'2.15.0'"
            ],
            "application/vnd.google.colaboratory.intrinsic+json": {
              "type": "string"
            }
          },
          "metadata": {},
          "execution_count": 38
        }
      ],
      "source": [
        "import numpy as np\n",
        "import os\n",
        "os.environ['TF_CPP_MIN_LOG_LEVEL'] = '3'\n",
        "import tensorflow as tf\n",
        "import matplotlib.pyplot as plt\n",
        "%matplotlib inline\n",
        "%load_ext tensorboard\n",
        "\n",
        "from sklearn.datasets import *\n",
        "from local.lib import mlutils\n",
        "tf.__version__"
      ]
    },
    {
      "cell_type": "markdown",
      "metadata": {
        "id": "FDByTVHS1kkN"
      },
      "source": [
        "\n",
        "\n",
        "**A multilayer perceptron**\n",
        "\n",
        "assuming $n$ layers, the output at layer $i$\n",
        "\n",
        "$$\\mathbf{a}_i = \\text{activation}(\\mathbf{a}_{i-1} \\cdot \\mathbf{W}_i + \\mathbf{b}_i)$$\n",
        "\n",
        "at the first layer\n",
        "\n",
        "$$\\mathbf{a}_0 = \\text{activation}(\\mathbf{X} \\cdot \\mathbf{W}_0 + \\mathbf{b}_0)$$\n",
        "\n",
        "and the layer prediction is the output of the last layer:\n",
        "\n",
        "$$\\hat{\\mathbf{y}} = \\mathbf{a}_{n-1}$$\n",
        "\n",
        "with $\\text{activation}$ being an activation function, such as $\\text{sigmoid}(z) = \\frac{1}{1+e^{-z}}$, $\\text{tanh}$, $\\text{ReLU}$, etc.\n",
        "\n",
        "\n",
        "**Cost (with regularization)**\n",
        "\n",
        "\n",
        "$$J(\\mathbf{b}_1, b_2, \\mathbf{W}_1, \\mathbf{W}_2) = \\frac{1}{m}\\sum_{i=0}^{m-1} (\\hat{y}-y)^2 + \\lambda \\sum_{i=0}^{n-1} \\bigg[ \\| \\mathbf{b}_i\\|^2 + \\|\\mathbf{W}_i\\|^2 \\bigg]$$\n",
        "\n",
        "\n",
        "$\\lambda$ regulates the participation of the regularization terms. Given a vector or matrix $\\mathbf{T}$, its squared norm is denoted by $||\\mathbf{T}||^2 \\in \\mathbb{R}$ and it's computed by squaring all its elements and summing them all up.\n"
      ]
    },
    {
      "cell_type": "markdown",
      "metadata": {
        "id": "j6bJU-xP1kkO"
      },
      "source": [
        "## TASK 1: Model `build`\n",
        "\n",
        "Observe the class template below which is used to build a multilayer perceptron with a specific number of layers. In the constructor.\n",
        "\n",
        "- `neurons` must be a list of integers specifying the number of neurons of each hidden layer and the output layer.\n",
        "- `activations` must be a list of strings specifying  the activations of the neurons of each layer.\n",
        "\n",
        "Both `neurons` and `activations` must have the same number of elements. Observe how in the class constructor (`__init__`) we check for this and transform the list of activation strings to actual TF funcions.\n",
        "\n",
        "**YOU MUST** complete the `build` method in the class below so that `self.W` and `self.b` contain a list of tensors with randomly initialized weights for each layer. Create the weights by calling the `self.add_weights` function for each layer, both for the weights (add them to list `self.W`) and the biases (add them to list `b`). Call `self.add_weights` with parameters `initializer='random_normal', trainable=True, dtype=tf.float32`.\n",
        "\n",
        "Note that the shape of the first layer weights are not known until the `build` method is called which is when the `input_shape` for the input data is known. For instance, the following invokations\n",
        "\n",
        "\n",
        "    >> mlp = MLP_class(neurons=[10,5,1], activations=[\"tanh\",\"tanh\", \"sigmoid\"])\n",
        "    >> mlp.build([None, 2])\n",
        "    >> print (\"W shapes\", [i.shape for i in mlp.W])\n",
        "    \n",
        "should produce the following output\n",
        "    \n",
        "    W shapes [TensorShape([2, 10]), TensorShape([10, 5]), TensorShape([5, 1])]\n",
        "    b shapes [TensorShape([10]), TensorShape([5]), TensorShape([1])]"
      ]
    },
    {
      "cell_type": "code",
      "execution_count": 13,
      "metadata": {
        "id": "LZj5vyQJ1kkQ"
      },
      "outputs": [],
      "source": [
        "def MLP(neurons, activations, reg=0.):\n",
        "\n",
        "    from tensorflow.keras import Model\n",
        "    from tensorflow.keras.activations import relu, sigmoid, tanh, linear\n",
        "    import numpy as np\n",
        "    import tensorflow as tf\n",
        "\n",
        "    class MLP_class(Model):\n",
        "        def __init__(self, neurons, activations, reg=0.):\n",
        "            super().__init__()\n",
        "            self.activation_map = {\"linear\": linear, \"relu\": relu, \"tanh\":tanh, \"sigmoid\": sigmoid}\n",
        "\n",
        "            assert len(neurons)==len(activations), \\\n",
        "                        \"must have the same number of neurons and activations\"\n",
        "\n",
        "            assert np.alltrue([i in self.activation_map.keys() for i in activations]), \\\n",
        "                                \"activation string not recognized\"\n",
        "\n",
        "            self.neurons = neurons\n",
        "            self.reg = reg\n",
        "            self.activations = [self.activation_map[i] for i in activations]\n",
        "\n",
        "            super().__init__()\n",
        "\n",
        "        def build(self, input_shape):\n",
        "            self.W = []\n",
        "            self.b = []\n",
        "\n",
        "            for i in range(len(self.neurons)):\n",
        "                shape = [input_shape[-1] if i==0 else self.neurons[i-1]] + [self.neurons[i]]\n",
        "                self.W.append(self.add_weight(shape=shape, initializer='random_normal', trainable=True, dtype=tf.float32))\n",
        "                self.b.append(self.add_weight(shape=[self.neurons[i]], initializer='random_normal', trainable=True, dtype=tf.float32))\n",
        "\n",
        "    return MLP_class(neurons, activations, reg)\n"
      ]
    },
    {
      "cell_type": "markdown",
      "metadata": {
        "id": "YvC7S5B21kkR"
      },
      "source": [
        "test manually your code"
      ]
    },
    {
      "cell_type": "code",
      "execution_count": 14,
      "metadata": {
        "id": "4WLOLWB81kkX",
        "outputId": "d8953cd1-4ab0-4ef4-f406-149d649c1214",
        "colab": {
          "base_uri": "https://localhost:8080/"
        }
      },
      "outputs": [
        {
          "output_type": "stream",
          "name": "stdout",
          "text": [
            "W shapes [TensorShape([2, 10]), TensorShape([10, 5]), TensorShape([5, 1])]\n",
            "b shapes [TensorShape([10]), TensorShape([5]), TensorShape([1])]\n"
          ]
        },
        {
          "output_type": "stream",
          "name": "stderr",
          "text": [
            "<ipython-input-13-19cd5b357b99>:34: DeprecationWarning: `alltrue` is deprecated as of NumPy 1.25.0, and will be removed in NumPy 2.0. Please use `all` instead.\n",
            "  return MLP_class(neurons, activations, reg)\n"
          ]
        }
      ],
      "source": [
        "mlp = MLP(neurons=[10,5,1], activations=[\"tanh\",\"tanh\", \"sigmoid\"])\n",
        "mlp.build([None, 2])\n",
        "print (\"W shapes\", [i.shape for i in mlp.W])\n",
        "print (\"b shapes\", [i.shape for i in mlp.b])"
      ]
    },
    {
      "cell_type": "markdown",
      "metadata": {
        "id": "ZxaRs4Q51kkY"
      },
      "source": [
        "**Registra tu solución en linea**"
      ]
    },
    {
      "cell_type": "code",
      "execution_count": 15,
      "metadata": {
        "scrolled": false,
        "id": "hKf2C6eB1kka",
        "outputId": "2cc701ef-8a20-47c0-997c-4db6d67cea2d",
        "colab": {
          "base_uri": "https://localhost:8080/",
          "height": 161
        }
      },
      "outputs": [
        {
          "output_type": "display_data",
          "data": {
            "text/plain": [
              "<IPython.core.display.HTML object>"
            ],
            "text/html": [
              "\n",
              "                    <b>T1 submitted.</b> <b><font color=\"blue\">your grade is 5</font></b> \n",
              "                    <p/><pre>----- grader message -------</pre>testing your code with 100 random calls<br/><b>correct</b><pre>----------------------------</pre>\n",
              "                    <p/><p/>\n",
              "                    <div style=\"font-size:10px\"><b>SUBMISSION CODE</b> Ya3rZOl2jHFXGAgWvhhadiCFVdNlbPmTTeYzl1DxX8FI9j0zvsmJqoMCmzWeFciA4WA+mgdbVvhChp8JMJKj0vyTQxjSUUUgvkSZ0Dwav+aHZT3g6T4a6EiHj0Tx9718hgpxEhRP9vtsy0rqFCbzP07ViB/QYvLvrzqaD1J/Z1I=</div>\n",
              "                    "
            ]
          },
          "metadata": {}
        }
      ],
      "source": [
        "student.submit_task(namespace=globals(), task_id='T1');"
      ]
    },
    {
      "cell_type": "markdown",
      "metadata": {
        "id": "g7oEUc8w1kkb"
      },
      "source": [
        "## Task 2: Model `call`\n",
        "\n",
        "Complete the `call` method below so that it computes the output of the configured MLP with the input `X` as\n",
        "\n",
        "$$\\hat{\\mathbf{y}} = \\mathbf{a}_{n-1}$$\n",
        "\n",
        "as described above. Use `self.W`, `self.b` and `self.activations` as constructed previously on the `build` and `__init__` methods."
      ]
    },
    {
      "cell_type": "code",
      "execution_count": 24,
      "metadata": {
        "id": "3JF4QOEd1kkc"
      },
      "outputs": [],
      "source": [
        "def MLP2(neurons, activations, reg=0.):\n",
        "\n",
        "    from tensorflow.keras import Model\n",
        "    from tensorflow.keras.activations import relu, sigmoid, tanh, linear\n",
        "\n",
        "\n",
        "    class MLP_class(Model):\n",
        "        def __init__(self, neurons, activations, reg=0.):\n",
        "            super().__init__()\n",
        "            self.activation_map = {\"linear\": linear, \"relu\": relu, \"tanh\":tanh, \"sigmoid\": sigmoid}\n",
        "\n",
        "            assert len(neurons)==len(activations), \\\n",
        "                        \"must have the same number of neurons and activations\"\n",
        "\n",
        "            assert np.alltrue([i in self.activation_map.keys() for i in activations]), \\\n",
        "                                \"activation string not recognized\"\n",
        "\n",
        "            self.neurons = neurons\n",
        "            self.reg = reg\n",
        "            self.activations = [self.activation_map[i] for i in activations]\n",
        "\n",
        "            super().__init__()\n",
        "\n",
        "        def build(self, input_shape):\n",
        "            self.W = []\n",
        "            self.b = []\n",
        "            for i in range(len(self.neurons)):\n",
        "                shape = [input_shape[-1] if i==0 else self.neurons[i-1]] + [self.neurons[i]]\n",
        "                self.W.append(self.add_weight(shape=shape, initializer='random_normal', trainable=True, dtype=tf.float32))\n",
        "                self.b.append(self.add_weight(shape=[self.neurons[i]], initializer='random_normal', trainable=True, dtype=tf.float32))\n",
        "\n",
        "\n",
        "        @tf.function\n",
        "        def call(self, X):\n",
        "            a = X\n",
        "            for i in range(len(self.neurons)):\n",
        "                s = self.activations[i](tf.matmul(a, self.W[i])+self.b[i])\n",
        "                a = s\n",
        "            return s\n",
        "\n",
        "    return MLP_class(neurons, activations, reg)"
      ]
    },
    {
      "cell_type": "markdown",
      "metadata": {
        "id": "H3o5CmQs1kkc"
      },
      "source": [
        "test manually your code, the following two cells must return the same value everytime you execute them. Observe your MLP will initialize to different random weights each time."
      ]
    },
    {
      "cell_type": "code",
      "execution_count": 27,
      "metadata": {
        "id": "-OcPSyTa1kkc",
        "outputId": "6ebc6ab6-2edc-4fa7-8c04-37d7347caa4c",
        "colab": {
          "base_uri": "https://localhost:8080/"
        }
      },
      "outputs": [
        {
          "output_type": "stream",
          "name": "stderr",
          "text": [
            "<ipython-input-24-d57310d14bae>:41: DeprecationWarning: `alltrue` is deprecated as of NumPy 1.25.0, and will be removed in NumPy 2.0. Please use `all` instead.\n",
            "  return MLP_class(neurons, activations, reg)\n"
          ]
        },
        {
          "output_type": "execute_result",
          "data": {
            "text/plain": [
              "<tf.Tensor: shape=(4, 2), dtype=float32, numpy=\n",
              "array([[0.51059526, 0.49381468],\n",
              "       [0.51016045, 0.49335438],\n",
              "       [0.51054394, 0.49380177],\n",
              "       [0.5104745 , 0.49374926]], dtype=float32)>"
            ]
          },
          "metadata": {},
          "execution_count": 27
        }
      ],
      "source": [
        "import numpy as np\n",
        "import tensorflow as tf\n",
        "X = np.random.random(size=(4,2))\n",
        "neurons = [3,2]\n",
        "mlp = MLP2(neurons=[3,2], activations=[\"linear\", \"sigmoid\"])\n",
        "mlp(X)"
      ]
    },
    {
      "cell_type": "code",
      "execution_count": 28,
      "metadata": {
        "id": "7P80Crb_1kkd",
        "outputId": "2c569234-b347-409b-e37e-47c8ebb6d990",
        "colab": {
          "base_uri": "https://localhost:8080/"
        }
      },
      "outputs": [
        {
          "output_type": "execute_result",
          "data": {
            "text/plain": [
              "array([[0.51059524, 0.49381467],\n",
              "       [0.51016045, 0.4933544 ],\n",
              "       [0.51054394, 0.49380175],\n",
              "       [0.51047448, 0.49374928]])"
            ]
          },
          "metadata": {},
          "execution_count": 28
        }
      ],
      "source": [
        "sigm = lambda x: 1/(1+np.exp(-x))\n",
        "W = [i.numpy() for i in mlp.W]\n",
        "b = [i.numpy() for i in mlp.b]\n",
        "sigm((X.dot(W[0])+b[0]).dot(W[1])+b[1])"
      ]
    },
    {
      "cell_type": "markdown",
      "metadata": {
        "id": "AqA92XCi1kkd"
      },
      "source": [
        "**Registra tu solución en linea**"
      ]
    },
    {
      "cell_type": "code",
      "execution_count": 29,
      "metadata": {
        "scrolled": false,
        "id": "KsWxvvlT1kkd",
        "outputId": "42513bf6-f821-4007-b502-80e3b78c060c",
        "colab": {
          "base_uri": "https://localhost:8080/",
          "height": 161
        }
      },
      "outputs": [
        {
          "output_type": "display_data",
          "data": {
            "text/plain": [
              "<IPython.core.display.HTML object>"
            ],
            "text/html": [
              "\n",
              "                    <b>T2 submitted.</b> <b><font color=\"blue\">your grade is 5</font></b> \n",
              "                    <p/><pre>----- grader message -------</pre>testing your code with 100 random calls<br/><b>correct</b><pre>----------------------------</pre>\n",
              "                    <p/><p/>\n",
              "                    <div style=\"font-size:10px\"><b>SUBMISSION CODE</b> fOzfCEeCUmlQ2W6FBITpGGXLPyYyOIFQUXn/q1Q7RtfYriyYfD693U00ctfZo6gygeqiVqN0F5FbFkfe45ihN/kcvaMMt6x4EGCnLBeuIpn6vMnKObZRo9OStkxTNFufS7VrTSgV2HqT6eSw/Nkep3HM26AVRNl2Rj1A/6hCd1s=</div>\n",
              "                    "
            ]
          },
          "metadata": {}
        }
      ],
      "source": [
        "student.submit_task(namespace=globals(), task_id='T2');"
      ]
    },
    {
      "cell_type": "code",
      "execution_count": null,
      "metadata": {
        "id": "j6HKxSr71kke"
      },
      "outputs": [],
      "source": []
    },
    {
      "cell_type": "markdown",
      "metadata": {
        "id": "GxNInTS51kke"
      },
      "source": [
        "## Task 3: Loss function\n",
        "\n",
        "Complete the `loss` method below so that it computes the loss of the `MLP` given predictions `y_pred` (as the output of the network) and desired output `y_true`.\n",
        "\n",
        "$$J(\\mathbf{b}_1, b_2, \\mathbf{W}_1, \\mathbf{W}_2) = \\frac{1}{m}\\sum_{i=0}^{m-1} (\\hat{y}-y)^2 + \\lambda \\sum_{i=0}^{n-1} \\bigg[ \\| \\mathbf{b}_i\\|^2_{mean} + \\|\\mathbf{W}_i\\|^2_{mean} \\bigg]$$\n",
        "\n",
        "\n",
        "observe the regularization term $\\lambda$ which is stored as `self.reg` in your class.\n",
        "\n",
        "For any weight or bias $\\mathbf{k}$, the expression $\\| \\mathbf{k}\\|^2_{mean}$ is the mean of all its elements squared."
      ]
    },
    {
      "cell_type": "code",
      "execution_count": 30,
      "metadata": {
        "id": "qMbarnB51kke"
      },
      "outputs": [],
      "source": [
        "def MLP3(neurons, activations, reg=0.):\n",
        "\n",
        "    from tensorflow.keras import Model\n",
        "    from tensorflow.keras.activations import relu, sigmoid, tanh, linear\n",
        "\n",
        "    class MLP_class(Model):\n",
        "        def __init__(self, neurons, activations, reg=0.):\n",
        "            super().__init__()\n",
        "            self.activation_map = {\"linear\": linear, \"relu\": relu, \"tanh\":tanh, \"sigmoid\": sigmoid}\n",
        "\n",
        "            assert len(neurons)==len(activations), \\\n",
        "                        \"must have the same number of neurons and activations\"\n",
        "\n",
        "            assert np.alltrue([i in self.activation_map.keys() for i in activations]), \\\n",
        "                                \"activation string not recognized\"\n",
        "\n",
        "            self.neurons = neurons\n",
        "            self.reg = reg\n",
        "            self.activations = [self.activation_map[i] for i in activations]\n",
        "\n",
        "            super().__init__()\n",
        "\n",
        "        def build(self, input_shape):\n",
        "            self.W = []\n",
        "            self.b = []\n",
        "            for i in range(len(self.neurons)):\n",
        "                shape = [input_shape[-1] if i==0 else self.neurons[i-1]] + [self.neurons[i]]\n",
        "                self.W.append(self.add_weight(shape=shape, initializer='random_normal', trainable=True, dtype=tf.float32))\n",
        "                self.b.append(self.add_weight(shape=[self.neurons[i]], initializer='random_normal', trainable=True, dtype=tf.float32))\n",
        "\n",
        "        @tf.function\n",
        "        def call(self, X):\n",
        "            a = X\n",
        "            for i in range(len(self.neurons)):\n",
        "                s = self.activations[i](tf.matmul(a, self.W[i])+self.b[i])\n",
        "                a = s\n",
        "            return s\n",
        "\n",
        "\n",
        "        @tf.function\n",
        "        def loss(self, y_true, y_pred):\n",
        "          mse = tf.reduce_mean(tf.square(y_true - y_pred))\n",
        "          reg = self.reg * tf.reduce_sum([tf.reduce_mean(tf.square(w)) for w in self.W]) + self.reg * tf.reduce_sum([tf.reduce_mean(tf.square(b)) for b in self.b])\n",
        "          return mse + reg\n",
        "\n",
        "    return MLP_class(neurons, activations, reg)"
      ]
    },
    {
      "cell_type": "markdown",
      "metadata": {
        "id": "L5zfUmQK1kkg"
      },
      "source": [
        "test manually your code, the following two cells must return the same value everytime you execute them. Observe your MLP will initialize to different random weights each time."
      ]
    },
    {
      "cell_type": "code",
      "execution_count": 31,
      "metadata": {
        "id": "gp2muRtt1kkg",
        "outputId": "77d89610-83d2-42ae-dc5d-d3a5350df5b9",
        "colab": {
          "base_uri": "https://localhost:8080/"
        }
      },
      "outputs": [
        {
          "output_type": "stream",
          "name": "stderr",
          "text": [
            "<ipython-input-30-ecdc4e62feaa>:46: DeprecationWarning: `alltrue` is deprecated as of NumPy 1.25.0, and will be removed in NumPy 2.0. Please use `all` instead.\n",
            "  return MLP_class(neurons, activations, reg)\n"
          ]
        },
        {
          "output_type": "execute_result",
          "data": {
            "text/plain": [
              "0.245821"
            ]
          },
          "metadata": {},
          "execution_count": 31
        }
      ],
      "source": [
        "X = np.random.random(size=(4,2)).astype(np.float32)\n",
        "y_true = np.random.randint(2, size=(len(X),1)).astype(np.float32)\n",
        "neurons = [3,2]\n",
        "mlp = MLP3(neurons=[3,1], activations=[\"linear\", \"sigmoid\"], reg=0.2)\n",
        "mlp.loss(mlp(X), y_true).numpy()"
      ]
    },
    {
      "cell_type": "code",
      "execution_count": 32,
      "metadata": {
        "id": "-sBefpHP1kkg",
        "outputId": "5781e71f-a997-44c8-937f-4158a4473caa",
        "colab": {
          "base_uri": "https://localhost:8080/"
        }
      },
      "outputs": [
        {
          "output_type": "execute_result",
          "data": {
            "text/plain": [
              "0.24582099374383687"
            ]
          },
          "metadata": {},
          "execution_count": 32
        }
      ],
      "source": [
        "sigm = lambda x: 1/(1+np.exp(-x))\n",
        "W = [i.numpy() for i in mlp.W]\n",
        "b = [i.numpy() for i in mlp.b]\n",
        "y_pred = sigm((X.dot(W[0])+b[0]).dot(W[1])+b[1])\n",
        "((y_pred-y_true)**2).mean() + mlp.reg * np.sum([(i**2).numpy().mean() for i in mlp.W+mlp.b])"
      ]
    },
    {
      "cell_type": "markdown",
      "metadata": {
        "id": "CBMDcibB1kkh"
      },
      "source": [
        "**Registra tu solución en linea**"
      ]
    },
    {
      "cell_type": "code",
      "execution_count": 35,
      "metadata": {
        "scrolled": true,
        "id": "m8kZum-U1kkh",
        "outputId": "fff978e7-8fbe-4dba-c88d-1fb4bdd2a88b",
        "colab": {
          "base_uri": "https://localhost:8080/",
          "height": 161
        }
      },
      "outputs": [
        {
          "output_type": "display_data",
          "data": {
            "text/plain": [
              "<IPython.core.display.HTML object>"
            ],
            "text/html": [
              "\n",
              "                    <b>T3 submitted.</b> <b><font color=\"blue\">your grade is 5</font></b> \n",
              "                    <p/><pre>----- grader message -------</pre>testing your code with 100 random calls<br/><b>correct</b><pre>----------------------------</pre>\n",
              "                    <p/><p/>\n",
              "                    <div style=\"font-size:10px\"><b>SUBMISSION CODE</b> SlhHetOMgyEFhcs2mweMpdsWLhy0QtS7EEYD+6qO9RMsbcj3MI80fyS55uWGc76WGCGj6liUKsSRSaxftrtUOMfSWpz+iiFnnF1DN5C7gLHV8Sd/Hl+Pq5Mc7YeyDzBkDnuAi4p1K6GoQ4m5b/LFMHoAJB3FIWMJbLA1RE+Eb8Q=</div>\n",
              "                    "
            ]
          },
          "metadata": {}
        }
      ],
      "source": [
        "student.submit_task(namespace=globals(), task_id='T3');"
      ]
    },
    {
      "cell_type": "markdown",
      "metadata": {
        "id": "7OO3HU5G1kkh"
      },
      "source": [
        "## Done!!\n",
        "\n",
        "now you can try your class with synthetic data"
      ]
    },
    {
      "cell_type": "code",
      "execution_count": 39,
      "metadata": {
        "id": "FjiOgwNl1kki",
        "outputId": "4bed6a12-1c4c-4677-83c5-b55664b5f4fb",
        "colab": {
          "base_uri": "https://localhost:8080/",
          "height": 447
        }
      },
      "outputs": [
        {
          "output_type": "execute_result",
          "data": {
            "text/plain": [
              "<matplotlib.collections.PathCollection at 0x7828c01b73d0>"
            ]
          },
          "metadata": {},
          "execution_count": 39
        },
        {
          "output_type": "display_data",
          "data": {
            "text/plain": [
              "<Figure size 640x480 with 1 Axes>"
            ],
            "image/png": "[encoded data removed]"
          },
          "metadata": {}
        }
      ],
      "source": [
        "\n",
        "X, y = make_moons(200, noise=.35)\n",
        "X, y = X.astype(np.float32), y.astype(np.float32).reshape(-1,1)\n",
        "plt.scatter(X[:,0][y[:,0]==0], X[:,1][y[:,0]==0], color=\"red\", label=\"class 0\")\n",
        "plt.scatter(X[:,0][y[:,0]==1], X[:,1][y[:,0]==1], color=\"blue\", label=\"class 1\")"
      ]
    },
    {
      "cell_type": "markdown",
      "metadata": {
        "id": "0T-aFYuf1kki"
      },
      "source": [
        "create MLP and train!!"
      ]
    },
    {
      "cell_type": "code",
      "execution_count": 41,
      "metadata": {
        "id": "4qBID2zh1kkr",
        "outputId": "d98dcd0f-5d4a-4a0d-e90b-f10f1d1671cd",
        "colab": {
          "base_uri": "https://localhost:8080/",
          "height": 248
        }
      },
      "outputs": [
        {
          "output_type": "stream",
          "name": "stderr",
          "text": [
            "<ipython-input-13-19cd5b357b99>:34: DeprecationWarning: `alltrue` is deprecated as of NumPy 1.25.0, and will be removed in NumPy 2.0. Please use `all` instead.\n",
            "  return MLP_class(neurons, activations, reg)\n"
          ]
        },
        {
          "output_type": "error",
          "ename": "AttributeError",
          "evalue": "'MLP_class' object has no attribute 'loss'",
          "traceback": [
            "\u001b[0;31m---------------------------------------------------------------------------\u001b[0m",
            "\u001b[0;31mAttributeError\u001b[0m                            Traceback (most recent call last)",
            "\u001b[0;32m<ipython-input-41-82cddb9fab41>\u001b[0m in \u001b[0;36m<cell line: 3>\u001b[0;34m()\u001b[0m\n\u001b[1;32m      1\u001b[0m \u001b[0mmlp_class\u001b[0m \u001b[0;34m=\u001b[0m \u001b[0mMLP\u001b[0m\u001b[0;34m\u001b[0m\u001b[0;34m\u001b[0m\u001b[0m\n\u001b[1;32m      2\u001b[0m \u001b[0mmlp\u001b[0m \u001b[0;34m=\u001b[0m \u001b[0mmlp_class\u001b[0m\u001b[0;34m(\u001b[0m\u001b[0mneurons\u001b[0m\u001b[0;34m=\u001b[0m\u001b[0;34m[\u001b[0m\u001b[0;36m10\u001b[0m\u001b[0;34m,\u001b[0m\u001b[0;36m1\u001b[0m\u001b[0;34m]\u001b[0m\u001b[0;34m,\u001b[0m \u001b[0mactivations\u001b[0m\u001b[0;34m=\u001b[0m\u001b[0;34m[\u001b[0m\u001b[0;34m\"tanh\"\u001b[0m\u001b[0;34m,\u001b[0m\u001b[0;34m\"sigmoid\"\u001b[0m\u001b[0;34m]\u001b[0m\u001b[0;34m,\u001b[0m \u001b[0mreg\u001b[0m\u001b[0;34m=\u001b[0m\u001b[0;36m0.0\u001b[0m\u001b[0;34m)\u001b[0m\u001b[0;34m\u001b[0m\u001b[0;34m\u001b[0m\u001b[0m\n\u001b[0;32m----> 3\u001b[0;31m mlp.compile(optimizer=tf.keras.optimizers.Adam(learning_rate=0.1), loss=mlp.loss,\n\u001b[0m\u001b[1;32m      4\u001b[0m            metrics=[tf.keras.metrics.mae, tf.keras.metrics.binary_accuracy])\n",
            "\u001b[0;31mAttributeError\u001b[0m: 'MLP_class' object has no attribute 'loss'"
          ]
        }
      ],
      "source": [
        "mlp_class = MLP\n",
        "mlp = mlp_class(neurons=[10,1], activations=[\"tanh\",\"sigmoid\"], reg=0.0)\n",
        "mlp.compile(optimizer=tf.keras.optimizers.Adam(learning_rate=0.1), loss=mlp.loss,\n",
        "           metrics=[tf.keras.metrics.mae, tf.keras.metrics.binary_accuracy])"
      ]
    },
    {
      "cell_type": "code",
      "execution_count": null,
      "metadata": {
        "id": "ecD6D3ui1kkr"
      },
      "outputs": [],
      "source": [
        "!rm -rf logs\n",
        "tensorboard_callback = tf.keras.callbacks.TensorBoard(log_dir=\"logs/no_regularization\")\n",
        "mlp.fit(X,y, epochs=400, batch_size=16, verbose=0,\n",
        "        callbacks=[tensorboard_callback])"
      ]
    },
    {
      "cell_type": "markdown",
      "metadata": {
        "id": "fMNW6e3z1kkr"
      },
      "source": [
        "observe the accuracy and classification frontier"
      ]
    },
    {
      "cell_type": "code",
      "execution_count": null,
      "metadata": {
        "id": "-9bFhALq1kks"
      },
      "outputs": [],
      "source": [
        "predict = lambda X: (mlp.predict(X)[:,0]>0.5).astype(int)\n",
        "mlutils.plot_2Ddata_with_boundary(predict, X, y.reshape(-1));\n",
        "plt.title(\"accuracy %.2f\"%np.mean(predict(X)==y.reshape(-1)));"
      ]
    },
    {
      "cell_type": "markdown",
      "metadata": {
        "id": "tL1Fsake1kks"
      },
      "source": [
        "regularization must work!!!"
      ]
    },
    {
      "cell_type": "code",
      "execution_count": null,
      "metadata": {
        "id": "qTXhHKSB1kks"
      },
      "outputs": [],
      "source": [
        "tensorboard_callback = tf.keras.callbacks.TensorBoard(log_dir=\"logs/with_regularization\")\n",
        "mlp = MLP(neurons=[10,1], activations=[\"tanh\",\"sigmoid\"], reg=0.005)\n",
        "\n",
        "mlp.compile(optimizer=tf.keras.optimizers.Adam(learning_rate=0.1), loss=mlp.loss,\n",
        "           metrics=[tf.keras.metrics.mae, tf.keras.metrics.binary_accuracy])\n",
        "\n",
        "mlp.fit(X,y, epochs=400, batch_size=10, verbose=0, callbacks=[tensorboard_callback])\n",
        "mlutils.plot_2Ddata_with_boundary(predict, X, y.reshape(-1))\n",
        "plt.title(\"accuracy %.2f\"%np.mean(predict(X)==y.reshape(-1)));"
      ]
    },
    {
      "cell_type": "markdown",
      "metadata": {
        "id": "lcP7uK7c1kks"
      },
      "source": [
        "and inspect tensorboard"
      ]
    },
    {
      "cell_type": "code",
      "execution_count": null,
      "metadata": {
        "id": "YZ-ZrMrL1kks"
      },
      "outputs": [],
      "source": [
        "%load_ext tensorboard\n",
        "%tensorboard --logdir logs\n"
      ]
    },
    {
      "cell_type": "code",
      "execution_count": null,
      "metadata": {
        "id": "K9nJ1QaC1kkt"
      },
      "outputs": [],
      "source": []
    }
  ],
  "metadata": {
    "kernelspec": {
      "display_name": "p38",
      "language": "python",
      "name": "p38"
    },
    "language_info": {
      "codemirror_mode": {
        "name": "ipython",
        "version": 3
      },
      "file_extension": ".py",
      "mimetype": "text/x-python",
      "name": "python",
      "nbconvert_exporter": "python",
      "pygments_lexer": "ipython3",
      "version": "3.8.5"
    },
    "colab": {
      "provenance": []
    },
    "widgets": {
      "application/vnd.jupyter.widget-state+json": {
        "7f756982d5294bf58dcda0a1f6bd5c12": {
          "model_module": "@jupyter-widgets/controls",
          "model_name": "HBoxModel",
          "model_module_version": "1.5.0",
          "state": {
            "_dom_classes": [],
            "_model_module": "@jupyter-widgets/controls",
            "_model_module_version": "1.5.0",
            "_model_name": "HBoxModel",
            "_view_count": null,
            "_view_module": "@jupyter-widgets/controls",
            "_view_module_version": "1.5.0",
            "_view_name": "HBoxView",
            "box_style": "",
            "children": [
              "IPY_MODEL_3e7614066af14866ac33c94d15b2b420",
              "IPY_MODEL_b454fd7f8b104d6ea12aa9257f51f66a",
              "IPY_MODEL_d0d38591392a403e8df830b468da57ce",
              "IPY_MODEL_f023b4b2bf0d4ebd8bb71f582787701b"
            ],
            "layout": "IPY_MODEL_e20fb7733865492da0c055506dbda021"
          }
        },
        "3e7614066af14866ac33c94d15b2b420": {
          "model_module": "@jupyter-widgets/controls",
          "model_name": "VBoxModel",
          "model_module_version": "1.5.0",
          "state": {
            "_dom_classes": [],
            "_model_module": "@jupyter-widgets/controls",
            "_model_module_version": "1.5.0",
            "_model_name": "VBoxModel",
            "_view_count": null,
            "_view_module": "@jupyter-widgets/controls",
            "_view_module_version": "1.5.0",
            "_view_name": "VBoxView",
            "box_style": "",
            "children": [
              "IPY_MODEL_2a592e7553c94d2287ba3b1075e88ee6",
              "IPY_MODEL_36693631abf540c8b696cfdd9156d411"
            ],
            "layout": "IPY_MODEL_1b5ca5b0904e43f98950b827de8a6bdc"
          }
        },
        "b454fd7f8b104d6ea12aa9257f51f66a": {
          "model_module": "@jupyter-widgets/controls",
          "model_name": "ButtonModel",
          "model_module_version": "1.5.0",
          "state": {
            "_dom_classes": [
              "login_button"
            ],
            "_model_module": "@jupyter-widgets/controls",
            "_model_module_version": "1.5.0",
            "_model_name": "ButtonModel",
            "_view_count": null,
            "_view_module": "@jupyter-widgets/controls",
            "_view_module_version": "1.5.0",
            "_view_name": "ButtonView",
            "button_style": "",
            "description": "Login with email",
            "disabled": false,
            "icon": "",
            "layout": "IPY_MODEL_6529a53cb0dd4134b33448e45156da40",
            "style": "IPY_MODEL_349c0638483a4ed39928a52c8cfae976",
            "tooltip": ""
          }
        },
        "d0d38591392a403e8df830b468da57ce": {
          "model_module": "@jupyter-widgets/controls",
          "model_name": "HTMLModel",
          "model_module_version": "1.5.0",
          "state": {
            "_dom_classes": [],
            "_model_module": "@jupyter-widgets/controls",
            "_model_module_version": "1.5.0",
            "_model_name": "HTMLModel",
            "_view_count": null,
            "_view_module": "@jupyter-widgets/controls",
            "_view_module_version": "1.5.0",
            "_view_name": "HTMLView",
            "description": "",
            "description_tooltip": null,
            "layout": "IPY_MODEL_dac272582d144d39aeeb7359b4bd42e4",
            "placeholder": "​",
            "style": "IPY_MODEL_9f027d439b4e4bea8017370aa6b89ee0",
            "value": "<center><big>or</big></center>"
          }
        },
        "f023b4b2bf0d4ebd8bb71f582787701b": {
          "model_module": "@jupyter-widgets/controls",
          "model_name": "ButtonModel",
          "model_module_version": "1.5.0",
          "state": {
            "_dom_classes": [
              "google_button"
            ],
            "_model_module": "@jupyter-widgets/controls",
            "_model_module_version": "1.5.0",
            "_model_name": "ButtonModel",
            "_view_count": null,
            "_view_module": "@jupyter-widgets/controls",
            "_view_module_version": "1.5.0",
            "_view_name": "ButtonView",
            "button_style": "",
            "description": "Login with Google",
            "disabled": false,
            "icon": "",
            "layout": "IPY_MODEL_02cd8a99900e4e299820ac0f2ce705de",
            "style": "IPY_MODEL_b31834d8177c4aaeb5b5979433d7606a",
            "tooltip": ""
          }
        },
        "e20fb7733865492da0c055506dbda021": {
          "model_module": "@jupyter-widgets/base",
          "model_name": "LayoutModel",
          "model_module_version": "1.2.0",
          "state": {
            "_model_module": "@jupyter-widgets/base",
            "_model_module_version": "1.2.0",
            "_model_name": "LayoutModel",
            "_view_count": null,
            "_view_module": "@jupyter-widgets/base",
            "_view_module_version": "1.2.0",
            "_view_name": "LayoutView",
            "align_content": null,
            "align_items": null,
            "align_self": null,
            "border": null,
            "bottom": null,
            "display": null,
            "flex": null,
            "flex_flow": null,
            "grid_area": null,
            "grid_auto_columns": null,
            "grid_auto_flow": null,
            "grid_auto_rows": null,
            "grid_column": null,
            "grid_gap": null,
            "grid_row": null,
            "grid_template_areas": null,
            "grid_template_columns": null,
            "grid_template_rows": null,
            "height": null,
            "justify_content": null,
            "justify_items": null,
            "left": null,
            "margin": null,
            "max_height": null,
            "max_width": null,
            "min_height": null,
            "min_width": null,
            "object_fit": null,
            "object_position": null,
            "order": null,
            "overflow": null,
            "overflow_x": null,
            "overflow_y": null,
            "padding": null,
            "right": null,
            "top": null,
            "visibility": null,
            "width": null
          }
        },
        "2a592e7553c94d2287ba3b1075e88ee6": {
          "model_module": "@jupyter-widgets/controls",
          "model_name": "TextModel",
          "model_module_version": "1.5.0",
          "state": {
            "_dom_classes": [],
            "_model_module": "@jupyter-widgets/controls",
            "_model_module_version": "1.5.0",
            "_model_name": "TextModel",
            "_view_count": null,
            "_view_module": "@jupyter-widgets/controls",
            "_view_module_version": "1.5.0",
            "_view_name": "TextView",
            "continuous_update": true,
            "description": "email",
            "description_tooltip": null,
            "disabled": false,
            "layout": "IPY_MODEL_3f050e6dd60c495b8ca6dc3dab78f2ee",
            "placeholder": "​",
            "style": "IPY_MODEL_5879a25b80a34a62b2957a72f3cd7bdb",
            "value": "jader.caro@udea.edu.co"
          }
        },
        "36693631abf540c8b696cfdd9156d411": {
          "model_module": "@jupyter-widgets/controls",
          "model_name": "PasswordModel",
          "model_module_version": "1.5.0",
          "state": {
            "_dom_classes": [],
            "_model_module": "@jupyter-widgets/controls",
            "_model_module_version": "1.5.0",
            "_model_name": "PasswordModel",
            "_view_count": null,
            "_view_module": "@jupyter-widgets/controls",
            "_view_module_version": "1.5.0",
            "_view_name": "PasswordView",
            "continuous_update": true,
            "description": "password",
            "description_tooltip": null,
            "disabled": false,
            "layout": "IPY_MODEL_9d06ca1674614d9786977ac74e93519d",
            "placeholder": "​",
            "style": "IPY_MODEL_8bce23ab27e14036b48c069c77e4acbe",
            "value": "3Nfoc@d0300618"
          }
        },
        "1b5ca5b0904e43f98950b827de8a6bdc": {
          "model_module": "@jupyter-widgets/base",
          "model_name": "LayoutModel",
          "model_module_version": "1.2.0",
          "state": {
            "_model_module": "@jupyter-widgets/base",
            "_model_module_version": "1.2.0",
            "_model_name": "LayoutModel",
            "_view_count": null,
            "_view_module": "@jupyter-widgets/base",
            "_view_module_version": "1.2.0",
            "_view_name": "LayoutView",
            "align_content": null,
            "align_items": null,
            "align_self": null,
            "border": null,
            "bottom": null,
            "display": null,
            "flex": null,
            "flex_flow": null,
            "grid_area": null,
            "grid_auto_columns": null,
            "grid_auto_flow": null,
            "grid_auto_rows": null,
            "grid_column": null,
            "grid_gap": null,
            "grid_row": null,
            "grid_template_areas": null,
            "grid_template_columns": null,
            "grid_template_rows": null,
            "height": null,
            "justify_content": null,
            "justify_items": null,
            "left": null,
            "margin": null,
            "max_height": null,
            "max_width": null,
            "min_height": null,
            "min_width": null,
            "object_fit": null,
            "object_position": null,
            "order": null,
            "overflow": null,
            "overflow_x": null,
            "overflow_y": null,
            "padding": null,
            "right": null,
            "top": null,
            "visibility": null,
            "width": null
          }
        },
        "6529a53cb0dd4134b33448e45156da40": {
          "model_module": "@jupyter-widgets/base",
          "model_name": "LayoutModel",
          "model_module_version": "1.2.0",
          "state": {
            "_model_module": "@jupyter-widgets/base",
            "_model_module_version": "1.2.0",
            "_model_name": "LayoutModel",
            "_view_count": null,
            "_view_module": "@jupyter-widgets/base",
            "_view_module_version": "1.2.0",
            "_view_name": "LayoutView",
            "align_content": null,
            "align_items": null,
            "align_self": null,
            "border": null,
            "bottom": null,
            "display": null,
            "flex": null,
            "flex_flow": null,
            "grid_area": null,
            "grid_auto_columns": null,
            "grid_auto_flow": null,
            "grid_auto_rows": null,
            "grid_column": null,
            "grid_gap": null,
            "grid_row": null,
            "grid_template_areas": null,
            "grid_template_columns": null,
            "grid_template_rows": null,
            "height": "53px",
            "justify_content": null,
            "justify_items": null,
            "left": null,
            "margin": null,
            "max_height": null,
            "max_width": null,
            "min_height": null,
            "min_width": null,
            "object_fit": null,
            "object_position": null,
            "order": null,
            "overflow": null,
            "overflow_x": null,
            "overflow_y": null,
            "padding": null,
            "right": null,
            "top": null,
            "visibility": null,
            "width": "150px"
          }
        },
        "349c0638483a4ed39928a52c8cfae976": {
          "model_module": "@jupyter-widgets/controls",
          "model_name": "ButtonStyleModel",
          "model_module_version": "1.5.0",
          "state": {
            "_model_module": "@jupyter-widgets/controls",
            "_model_module_version": "1.5.0",
            "_model_name": "ButtonStyleModel",
            "_view_count": null,
            "_view_module": "@jupyter-widgets/base",
            "_view_module_version": "1.2.0",
            "_view_name": "StyleView",
            "button_color": null,
            "font_weight": ""
          }
        },
        "dac272582d144d39aeeb7359b4bd42e4": {
          "model_module": "@jupyter-widgets/base",
          "model_name": "LayoutModel",
          "model_module_version": "1.2.0",
          "state": {
            "_model_module": "@jupyter-widgets/base",
            "_model_module_version": "1.2.0",
            "_model_name": "LayoutModel",
            "_view_count": null,
            "_view_module": "@jupyter-widgets/base",
            "_view_module_version": "1.2.0",
            "_view_name": "LayoutView",
            "align_content": null,
            "align_items": null,
            "align_self": null,
            "border": null,
            "bottom": null,
            "display": null,
            "flex": null,
            "flex_flow": null,
            "grid_area": null,
            "grid_auto_columns": null,
            "grid_auto_flow": null,
            "grid_auto_rows": null,
            "grid_column": null,
            "grid_gap": null,
            "grid_row": null,
            "grid_template_areas": null,
            "grid_template_columns": null,
            "grid_template_rows": null,
            "height": null,
            "justify_content": null,
            "justify_items": null,
            "left": null,
            "margin": null,
            "max_height": null,
            "max_width": null,
            "min_height": null,
            "min_width": null,
            "object_fit": null,
            "object_position": null,
            "order": null,
            "overflow": null,
            "overflow_x": null,
            "overflow_y": null,
            "padding": null,
            "right": null,
            "top": null,
            "visibility": null,
            "width": "100px"
          }
        },
        "9f027d439b4e4bea8017370aa6b89ee0": {
          "model_module": "@jupyter-widgets/controls",
          "model_name": "DescriptionStyleModel",
          "model_module_version": "1.5.0",
          "state": {
            "_model_module": "@jupyter-widgets/controls",
            "_model_module_version": "1.5.0",
            "_model_name": "DescriptionStyleModel",
            "_view_count": null,
            "_view_module": "@jupyter-widgets/base",
            "_view_module_version": "1.2.0",
            "_view_name": "StyleView",
            "description_width": ""
          }
        },
        "02cd8a99900e4e299820ac0f2ce705de": {
          "model_module": "@jupyter-widgets/base",
          "model_name": "LayoutModel",
          "model_module_version": "1.2.0",
          "state": {
            "_model_module": "@jupyter-widgets/base",
            "_model_module_version": "1.2.0",
            "_model_name": "LayoutModel",
            "_view_count": null,
            "_view_module": "@jupyter-widgets/base",
            "_view_module_version": "1.2.0",
            "_view_name": "LayoutView",
            "align_content": null,
            "align_items": null,
            "align_self": null,
            "border": null,
            "bottom": null,
            "display": null,
            "flex": null,
            "flex_flow": null,
            "grid_area": null,
            "grid_auto_columns": null,
            "grid_auto_flow": null,
            "grid_auto_rows": null,
            "grid_column": null,
            "grid_gap": null,
            "grid_row": null,
            "grid_template_areas": null,
            "grid_template_columns": null,
            "grid_template_rows": null,
            "height": "53px",
            "justify_content": null,
            "justify_items": null,
            "left": null,
            "margin": null,
            "max_height": null,
            "max_width": null,
            "min_height": null,
            "min_width": null,
            "object_fit": null,
            "object_position": null,
            "order": null,
            "overflow": null,
            "overflow_x": null,
            "overflow_y": null,
            "padding": null,
            "right": null,
            "top": null,
            "visibility": null,
            "width": "200px"
          }
        },
        "b31834d8177c4aaeb5b5979433d7606a": {
          "model_module": "@jupyter-widgets/controls",
          "model_name": "ButtonStyleModel",
          "model_module_version": "1.5.0",
          "state": {
            "_model_module": "@jupyter-widgets/controls",
            "_model_module_version": "1.5.0",
            "_model_name": "ButtonStyleModel",
            "_view_count": null,
            "_view_module": "@jupyter-widgets/base",
            "_view_module_version": "1.2.0",
            "_view_name": "StyleView",
            "button_color": null,
            "font_weight": ""
          }
        },
        "3f050e6dd60c495b8ca6dc3dab78f2ee": {
          "model_module": "@jupyter-widgets/base",
          "model_name": "LayoutModel",
          "model_module_version": "1.2.0",
          "state": {
            "_model_module": "@jupyter-widgets/base",
            "_model_module_version": "1.2.0",
            "_model_name": "LayoutModel",
            "_view_count": null,
            "_view_module": "@jupyter-widgets/base",
            "_view_module_version": "1.2.0",
            "_view_name": "LayoutView",
            "align_content": null,
            "align_items": null,
            "align_self": null,
            "border": null,
            "bottom": null,
            "display": null,
            "flex": null,
            "flex_flow": null,
            "grid_area": null,
            "grid_auto_columns": null,
            "grid_auto_flow": null,
            "grid_auto_rows": null,
            "grid_column": null,
            "grid_gap": null,
            "grid_row": null,
            "grid_template_areas": null,
            "grid_template_columns": null,
            "grid_template_rows": null,
            "height": "25px",
            "justify_content": null,
            "justify_items": null,
            "left": null,
            "margin": null,
            "max_height": null,
            "max_width": null,
            "min_height": null,
            "min_width": null,
            "object_fit": null,
            "object_position": null,
            "order": null,
            "overflow": null,
            "overflow_x": null,
            "overflow_y": null,
            "padding": null,
            "right": null,
            "top": null,
            "visibility": null,
            "width": "300px"
          }
        },
        "5879a25b80a34a62b2957a72f3cd7bdb": {
          "model_module": "@jupyter-widgets/controls",
          "model_name": "DescriptionStyleModel",
          "model_module_version": "1.5.0",
          "state": {
            "_model_module": "@jupyter-widgets/controls",
            "_model_module_version": "1.5.0",
            "_model_name": "DescriptionStyleModel",
            "_view_count": null,
            "_view_module": "@jupyter-widgets/base",
            "_view_module_version": "1.2.0",
            "_view_name": "StyleView",
            "description_width": ""
          }
        },
        "9d06ca1674614d9786977ac74e93519d": {
          "model_module": "@jupyter-widgets/base",
          "model_name": "LayoutModel",
          "model_module_version": "1.2.0",
          "state": {
            "_model_module": "@jupyter-widgets/base",
            "_model_module_version": "1.2.0",
            "_model_name": "LayoutModel",
            "_view_count": null,
            "_view_module": "@jupyter-widgets/base",
            "_view_module_version": "1.2.0",
            "_view_name": "LayoutView",
            "align_content": null,
            "align_items": null,
            "align_self": null,
            "border": null,
            "bottom": null,
            "display": null,
            "flex": null,
            "flex_flow": null,
            "grid_area": null,
            "grid_auto_columns": null,
            "grid_auto_flow": null,
            "grid_auto_rows": null,
            "grid_column": null,
            "grid_gap": null,
            "grid_row": null,
            "grid_template_areas": null,
            "grid_template_columns": null,
            "grid_template_rows": null,
            "height": "24px",
            "justify_content": null,
            "justify_items": null,
            "left": null,
            "margin": null,
            "max_height": null,
            "max_width": null,
            "min_height": null,
            "min_width": null,
            "object_fit": null,
            "object_position": null,
            "order": null,
            "overflow": null,
            "overflow_x": null,
            "overflow_y": null,
            "padding": null,
            "right": null,
            "top": null,
            "visibility": null,
            "width": "300px"
          }
        },
        "8bce23ab27e14036b48c069c77e4acbe": {
          "model_module": "@jupyter-widgets/controls",
          "model_name": "DescriptionStyleModel",
          "model_module_version": "1.5.0",
          "state": {
            "_model_module": "@jupyter-widgets/controls",
            "_model_module_version": "1.5.0",
            "_model_name": "DescriptionStyleModel",
            "_view_count": null,
            "_view_module": "@jupyter-widgets/base",
            "_view_module_version": "1.2.0",
            "_view_name": "StyleView",
            "description_width": ""
          }
        }
      }
    }
  },
  "nbformat": 4,
  "nbformat_minor": 0
}