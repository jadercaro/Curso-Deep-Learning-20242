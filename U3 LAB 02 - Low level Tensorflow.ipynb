{
  "cells": [
    {
      "cell_type": "markdown",
      "metadata": {
        "id": "ry_r1OseQTQA"
      },
      "source": [
        "# LAB 3.2 - Low level `tensorflow`"
      ]
    },
    {
      "cell_type": "code",
      "source": [
        "!pip install tensorflow==2.15"
      ],
      "metadata": {
        "id": "aa820xhax71m",
        "outputId": "1e2841c3-27f9-4fb7-cf9e-91ec44f63882",
        "colab": {
          "base_uri": "https://localhost:8080/"
        }
      },
      "execution_count": 2,
      "outputs": [
        {
          "output_type": "stream",
          "name": "stdout",
          "text": [
            "Collecting tensorflow==2.15\n",
            "  Downloading tensorflow-2.15.0-cp310-cp310-manylinux_2_17_x86_64.manylinux2014_x86_64.whl.metadata (4.4 kB)\n",
            "Requirement already satisfied: absl-py>=1.0.0 in /usr/local/lib/python3.10/dist-packages (from tensorflow==2.15) (1.4.0)\n",
            "Requirement already satisfied: astunparse>=1.6.0 in /usr/local/lib/python3.10/dist-packages (from tensorflow==2.15) (1.6.3)\n",
            "Requirement already satisfied: flatbuffers>=23.5.26 in /usr/local/lib/python3.10/dist-packages (from tensorflow==2.15) (24.3.25)\n",
            "Requirement already satisfied: gast!=0.5.0,!=0.5.1,!=0.5.2,>=0.2.1 in /usr/local/lib/python3.10/dist-packages (from tensorflow==2.15) (0.6.0)\n",
            "Requirement already satisfied: google-pasta>=0.1.1 in /usr/local/lib/python3.10/dist-packages (from tensorflow==2.15) (0.2.0)\n",
            "Requirement already satisfied: h5py>=2.9.0 in /usr/local/lib/python3.10/dist-packages (from tensorflow==2.15) (3.11.0)\n",
            "Requirement already satisfied: libclang>=13.0.0 in /usr/local/lib/python3.10/dist-packages (from tensorflow==2.15) (18.1.1)\n",
            "Collecting ml-dtypes~=0.2.0 (from tensorflow==2.15)\n",
            "  Downloading ml_dtypes-0.2.0-cp310-cp310-manylinux_2_17_x86_64.manylinux2014_x86_64.whl.metadata (20 kB)\n",
            "Requirement already satisfied: numpy<2.0.0,>=1.23.5 in /usr/local/lib/python3.10/dist-packages (from tensorflow==2.15) (1.26.4)\n",
            "Requirement already satisfied: opt-einsum>=2.3.2 in /usr/local/lib/python3.10/dist-packages (from tensorflow==2.15) (3.3.0)\n",
            "Requirement already satisfied: packaging in /usr/local/lib/python3.10/dist-packages (from tensorflow==2.15) (24.1)\n",
            "Requirement already satisfied: protobuf!=4.21.0,!=4.21.1,!=4.21.2,!=4.21.3,!=4.21.4,!=4.21.5,<5.0.0dev,>=3.20.3 in /usr/local/lib/python3.10/dist-packages (from tensorflow==2.15) (3.20.3)\n",
            "Requirement already satisfied: setuptools in /usr/local/lib/python3.10/dist-packages (from tensorflow==2.15) (71.0.4)\n",
            "Requirement already satisfied: six>=1.12.0 in /usr/local/lib/python3.10/dist-packages (from tensorflow==2.15) (1.16.0)\n",
            "Requirement already satisfied: termcolor>=1.1.0 in /usr/local/lib/python3.10/dist-packages (from tensorflow==2.15) (2.4.0)\n",
            "Requirement already satisfied: typing-extensions>=3.6.6 in /usr/local/lib/python3.10/dist-packages (from tensorflow==2.15) (4.12.2)\n",
            "Collecting wrapt<1.15,>=1.11.0 (from tensorflow==2.15)\n",
            "  Downloading wrapt-1.14.1-cp310-cp310-manylinux_2_5_x86_64.manylinux1_x86_64.manylinux_2_17_x86_64.manylinux2014_x86_64.whl.metadata (6.7 kB)\n",
            "Requirement already satisfied: tensorflow-io-gcs-filesystem>=0.23.1 in /usr/local/lib/python3.10/dist-packages (from tensorflow==2.15) (0.37.1)\n",
            "Requirement already satisfied: grpcio<2.0,>=1.24.3 in /usr/local/lib/python3.10/dist-packages (from tensorflow==2.15) (1.64.1)\n",
            "Collecting tensorboard<2.16,>=2.15 (from tensorflow==2.15)\n",
            "  Downloading tensorboard-2.15.2-py3-none-any.whl.metadata (1.7 kB)\n",
            "Collecting tensorflow-estimator<2.16,>=2.15.0 (from tensorflow==2.15)\n",
            "  Downloading tensorflow_estimator-2.15.0-py2.py3-none-any.whl.metadata (1.3 kB)\n",
            "Collecting keras<2.16,>=2.15.0 (from tensorflow==2.15)\n",
            "  Downloading keras-2.15.0-py3-none-any.whl.metadata (2.4 kB)\n",
            "Requirement already satisfied: wheel<1.0,>=0.23.0 in /usr/local/lib/python3.10/dist-packages (from astunparse>=1.6.0->tensorflow==2.15) (0.44.0)\n",
            "Requirement already satisfied: google-auth<3,>=1.6.3 in /usr/local/lib/python3.10/dist-packages (from tensorboard<2.16,>=2.15->tensorflow==2.15) (2.27.0)\n",
            "Requirement already satisfied: google-auth-oauthlib<2,>=0.5 in /usr/local/lib/python3.10/dist-packages (from tensorboard<2.16,>=2.15->tensorflow==2.15) (1.2.1)\n",
            "Requirement already satisfied: markdown>=2.6.8 in /usr/local/lib/python3.10/dist-packages (from tensorboard<2.16,>=2.15->tensorflow==2.15) (3.7)\n",
            "Requirement already satisfied: requests<3,>=2.21.0 in /usr/local/lib/python3.10/dist-packages (from tensorboard<2.16,>=2.15->tensorflow==2.15) (2.32.3)\n",
            "Requirement already satisfied: tensorboard-data-server<0.8.0,>=0.7.0 in /usr/local/lib/python3.10/dist-packages (from tensorboard<2.16,>=2.15->tensorflow==2.15) (0.7.2)\n",
            "Requirement already satisfied: werkzeug>=1.0.1 in /usr/local/lib/python3.10/dist-packages (from tensorboard<2.16,>=2.15->tensorflow==2.15) (3.0.4)\n",
            "Requirement already satisfied: cachetools<6.0,>=2.0.0 in /usr/local/lib/python3.10/dist-packages (from google-auth<3,>=1.6.3->tensorboard<2.16,>=2.15->tensorflow==2.15) (5.5.0)\n",
            "Requirement already satisfied: pyasn1-modules>=0.2.1 in /usr/local/lib/python3.10/dist-packages (from google-auth<3,>=1.6.3->tensorboard<2.16,>=2.15->tensorflow==2.15) (0.4.1)\n",
            "Requirement already satisfied: rsa<5,>=3.1.4 in /usr/local/lib/python3.10/dist-packages (from google-auth<3,>=1.6.3->tensorboard<2.16,>=2.15->tensorflow==2.15) (4.9)\n",
            "Requirement already satisfied: requests-oauthlib>=0.7.0 in /usr/local/lib/python3.10/dist-packages (from google-auth-oauthlib<2,>=0.5->tensorboard<2.16,>=2.15->tensorflow==2.15) (1.3.1)\n",
            "Requirement already satisfied: charset-normalizer<4,>=2 in /usr/local/lib/python3.10/dist-packages (from requests<3,>=2.21.0->tensorboard<2.16,>=2.15->tensorflow==2.15) (3.3.2)\n",
            "Requirement already satisfied: idna<4,>=2.5 in /usr/local/lib/python3.10/dist-packages (from requests<3,>=2.21.0->tensorboard<2.16,>=2.15->tensorflow==2.15) (3.8)\n",
            "Requirement already satisfied: urllib3<3,>=1.21.1 in /usr/local/lib/python3.10/dist-packages (from requests<3,>=2.21.0->tensorboard<2.16,>=2.15->tensorflow==2.15) (2.0.7)\n",
            "Requirement already satisfied: certifi>=2017.4.17 in /usr/local/lib/python3.10/dist-packages (from requests<3,>=2.21.0->tensorboard<2.16,>=2.15->tensorflow==2.15) (2024.8.30)\n",
            "Requirement already satisfied: MarkupSafe>=2.1.1 in /usr/local/lib/python3.10/dist-packages (from werkzeug>=1.0.1->tensorboard<2.16,>=2.15->tensorflow==2.15) (2.1.5)\n",
            "Requirement already satisfied: pyasn1<0.7.0,>=0.4.6 in /usr/local/lib/python3.10/dist-packages (from pyasn1-modules>=0.2.1->google-auth<3,>=1.6.3->tensorboard<2.16,>=2.15->tensorflow==2.15) (0.6.1)\n",
            "Requirement already satisfied: oauthlib>=3.0.0 in /usr/local/lib/python3.10/dist-packages (from requests-oauthlib>=0.7.0->google-auth-oauthlib<2,>=0.5->tensorboard<2.16,>=2.15->tensorflow==2.15) (3.2.2)\n",
            "Downloading tensorflow-2.15.0-cp310-cp310-manylinux_2_17_x86_64.manylinux2014_x86_64.whl (475.2 MB)\n",
            "\u001b[2K   \u001b[90m━━━━━━━━━━━━━━━━━━━━━━━━━━━━━━━━━━━━━━━━\u001b[0m \u001b[32m475.2/475.2 MB\u001b[0m \u001b[31m1.2 MB/s\u001b[0m eta \u001b[36m0:00:00\u001b[0m\n",
            "\u001b[?25hDownloading keras-2.15.0-py3-none-any.whl (1.7 MB)\n",
            "\u001b[2K   \u001b[90m━━━━━━━━━━━━━━━━━━━━━━━━━━━━━━━━━━━━━━━━\u001b[0m \u001b[32m1.7/1.7 MB\u001b[0m \u001b[31m59.0 MB/s\u001b[0m eta \u001b[36m0:00:00\u001b[0m\n",
            "\u001b[?25hDownloading ml_dtypes-0.2.0-cp310-cp310-manylinux_2_17_x86_64.manylinux2014_x86_64.whl (1.0 MB)\n",
            "\u001b[2K   \u001b[90m━━━━━━━━━━━━━━━━━━━━━━━━━━━━━━━━━━━━━━━━\u001b[0m \u001b[32m1.0/1.0 MB\u001b[0m \u001b[31m51.9 MB/s\u001b[0m eta \u001b[36m0:00:00\u001b[0m\n",
            "\u001b[?25hDownloading tensorboard-2.15.2-py3-none-any.whl (5.5 MB)\n",
            "\u001b[2K   \u001b[90m━━━━━━━━━━━━━━━━━━━━━━━━━━━━━━━━━━━━━━━━\u001b[0m \u001b[32m5.5/5.5 MB\u001b[0m \u001b[31m71.1 MB/s\u001b[0m eta \u001b[36m0:00:00\u001b[0m\n",
            "\u001b[?25hDownloading tensorflow_estimator-2.15.0-py2.py3-none-any.whl (441 kB)\n",
            "\u001b[2K   \u001b[90m━━━━━━━━━━━━━━━━━━━━━━━━━━━━━━━━━━━━━━━━\u001b[0m \u001b[32m442.0/442.0 kB\u001b[0m \u001b[31m31.5 MB/s\u001b[0m eta \u001b[36m0:00:00\u001b[0m\n",
            "\u001b[?25hDownloading wrapt-1.14.1-cp310-cp310-manylinux_2_5_x86_64.manylinux1_x86_64.manylinux_2_17_x86_64.manylinux2014_x86_64.whl (77 kB)\n",
            "\u001b[2K   \u001b[90m━━━━━━━━━━━━━━━━━━━━━━━━━━━━━━━━━━━━━━━━\u001b[0m \u001b[32m77.9/77.9 kB\u001b[0m \u001b[31m7.3 MB/s\u001b[0m eta \u001b[36m0:00:00\u001b[0m\n",
            "\u001b[?25hInstalling collected packages: wrapt, tensorflow-estimator, ml-dtypes, keras, tensorboard, tensorflow\n",
            "  Attempting uninstall: wrapt\n",
            "    Found existing installation: wrapt 1.16.0\n",
            "    Uninstalling wrapt-1.16.0:\n",
            "      Successfully uninstalled wrapt-1.16.0\n",
            "  Attempting uninstall: ml-dtypes\n",
            "    Found existing installation: ml-dtypes 0.4.0\n",
            "    Uninstalling ml-dtypes-0.4.0:\n",
            "      Successfully uninstalled ml-dtypes-0.4.0\n",
            "  Attempting uninstall: keras\n",
            "    Found existing installation: keras 3.4.1\n",
            "    Uninstalling keras-3.4.1:\n",
            "      Successfully uninstalled keras-3.4.1\n",
            "  Attempting uninstall: tensorboard\n",
            "    Found existing installation: tensorboard 2.17.0\n",
            "    Uninstalling tensorboard-2.17.0:\n",
            "      Successfully uninstalled tensorboard-2.17.0\n",
            "  Attempting uninstall: tensorflow\n",
            "    Found existing installation: tensorflow 2.17.0\n",
            "    Uninstalling tensorflow-2.17.0:\n",
            "      Successfully uninstalled tensorflow-2.17.0\n",
            "\u001b[31mERROR: pip's dependency resolver does not currently take into account all the packages that are installed. This behaviour is the source of the following dependency conflicts.\n",
            "tensorstore 0.1.65 requires ml-dtypes>=0.3.1, but you have ml-dtypes 0.2.0 which is incompatible.\n",
            "tf-keras 2.17.0 requires tensorflow<2.18,>=2.17, but you have tensorflow 2.15.0 which is incompatible.\u001b[0m\u001b[31m\n",
            "\u001b[0mSuccessfully installed keras-2.15.0 ml-dtypes-0.2.0 tensorboard-2.15.2 tensorflow-2.15.0 tensorflow-estimator-2.15.0 wrapt-1.14.1\n"
          ]
        }
      ]
    },
    {
      "cell_type": "code",
      "execution_count": 1,
      "metadata": {
        "id": "pIQB95UbQTQD",
        "outputId": "2d5da916-6dbc-4fae-d740-f9bb68979de0",
        "colab": {
          "base_uri": "https://localhost:8080/",
          "height": 34
        }
      },
      "outputs": [
        {
          "output_type": "display_data",
          "data": {
            "text/plain": [
              "<IPython.core.display.HTML object>"
            ],
            "text/html": [
              "\n",
              "<meta name=\"google-signin-client_id\"\n",
              "      content=\"461673936472-kdjosv61up3ac1ajeuq6qqu72upilmls.apps.googleusercontent.com\"/>\n",
              "<script src=\"https://apis.google.com/js/client:platform.js?onload=google_button_start\"></script>\n",
              "    "
            ]
          },
          "metadata": {}
        },
        {
          "output_type": "stream",
          "name": "stdout",
          "text": [
            "replicating local resources\n"
          ]
        }
      ],
      "source": [
        "!wget -nc --no-cache -O init.py -q https://raw.githubusercontent.com/rramosp/2021.deeplearning/main/content/init.py\n",
        "import init; init.init(force_download=False);"
      ]
    },
    {
      "cell_type": "code",
      "execution_count": 30,
      "metadata": {
        "scrolled": true,
        "id": "nY9PMD5VQTQF",
        "outputId": "61451858-f67a-4cdb-dcc7-d3b6c87fe6f2",
        "colab": {
          "base_uri": "https://localhost:8080/",
          "height": 74,
          "referenced_widgets": [
            "1282641657404a4e834f5c82f91bd77f",
            "8838d7016fef4d89ae94c8eeb7268640",
            "9a230f3bfd4743ee978a64aa7685da08",
            "5c9f6ec8a1ee41c18258b070159a596f",
            "3a9fa8fd7dec4c13a2ef783af61006b4",
            "7d6c6fdb75bd45679fede9b310ea7cfe",
            "ca1b14945fbf464fb4825c1b92192011",
            "4fddf946148b4eae9ae097ccb3db2025",
            "ae1099e9e8a74b908ed53627dcd95921",
            "0c230699f48e49e199335ea954a750c0",
            "81d8e16bc201489294693144847bd137",
            "0e0ffa0981eb4628a1b37a56b60ab56e",
            "b79c266f9e2b4621a238f039de3e635a",
            "3e746a4713cc4a9abc05703fdfde2d25",
            "31ba659a13234961b13ea6b813e3c7a1",
            "7613c019d05348ed8e8f9c56ce25c83c",
            "289dd72118794e1fb801770f1248e900",
            "c92c8154ab4749c08d6b64e248929d25",
            "1be37848ba194675956d0fee3a0b1816"
          ]
        }
      },
      "outputs": [
        {
          "output_type": "stream",
          "name": "stdout",
          "text": [
            "logging in as jader.caro@udea.edu.co ... please wait\n",
            "\n",
            "-------------\n",
            "using course session 2021.deeplearning::udea.20242\n",
            "success!! you are logged in\n",
            "-------------\n"
          ]
        }
      ],
      "source": [
        "from local.lib.rlxmoocapi import submit, session\n",
        "import inspect\n",
        "session.LoginSequence(endpoint=init.endpoint, course_id=init.course_id, lab_id=\"L03.02\", varname=\"student\");"
      ]
    },
    {
      "cell_type": "code",
      "execution_count": 4,
      "metadata": {
        "id": "X9xZ2duvQTQF",
        "outputId": "b506aeb6-3967-4bb2-cba1-040844abd99d",
        "colab": {
          "base_uri": "https://localhost:8080/",
          "height": 35
        }
      },
      "outputs": [
        {
          "output_type": "execute_result",
          "data": {
            "text/plain": [
              "'2.15.0'"
            ],
            "application/vnd.google.colaboratory.intrinsic+json": {
              "type": "string"
            }
          },
          "metadata": {},
          "execution_count": 4
        }
      ],
      "source": [
        "import numpy as np\n",
        "import os\n",
        "import tensorflow as tf\n",
        "from tensorflow.keras.models import Model, Sequential\n",
        "from tensorflow.keras.layers import Dense, BatchNormalization\n",
        "\n",
        "tf.__version__"
      ]
    },
    {
      "cell_type": "markdown",
      "metadata": {
        "id": "qjYGxf9YQTQG"
      },
      "source": [
        "## TASK 1: Obtain layer output\n"
      ]
    },
    {
      "cell_type": "markdown",
      "metadata": {
        "id": "NM-nmlrRQTQG"
      },
      "source": [
        "**COMPLETE** the following function so that, when given a TF `model` and input  `X` returns the output of the model at layer `layer_name` when feeding `X` to the model.\n",
        "\n",
        "\n",
        "You **MUST RETURN** a `numpy` array, **NOT** a tensor.\n",
        "\n",
        "**HINT**: Use the [`tf.keras.Model`](https://www.tensorflow.org/api_docs/python/tf/keras/Model) class like in the functional API with `outputs` from the desired layer.\n",
        "\n",
        "**CHALLENGE**: Solve it with a single line of code (not counting the `import`)"
      ]
    },
    {
      "cell_type": "code",
      "source": [
        "def output_at_layer(X, model, layer_name):\n",
        "    from tensorflow.keras.models import Model\n",
        "    r = (Model(inputs=model.inputs, outputs=model.get_layer(layer_name).output)(X))\n",
        "\n",
        "    return r.numpy()"
      ],
      "metadata": {
        "id": "aZlr5bG7yW0T"
      },
      "execution_count": 20,
      "outputs": []
    },
    {
      "cell_type": "markdown",
      "metadata": {
        "id": "RUk6lrriQTQH"
      },
      "source": [
        "check your answer manually. With the following model and weights below you should get this answer:\n",
        "\n",
        "\n",
        "        >> output_at_layer(X, model, \"layer_A\")\n",
        "        array([[0.91274303, 0.69886017, 0.8832942 ],\n",
        "               [0.9311633 , 0.7634138 , 0.8924969 ],\n",
        "               [0.85661894, 0.5696809 , 0.8091405 ],\n",
        "               [0.8952345 , 0.6803274 , 0.8326857 ]], dtype=float32)\n",
        "\n",
        "        >> output_at_layer(X, model, \"layer_B\")\n",
        "        array([[0.87063193, 0.8240411 ],\n",
        "               [0.8774254 , 0.83376545],\n",
        "               [0.84875023, 0.7963983 ],\n",
        "               [0.86286545, 0.81590414]], dtype=float32)\n",
        "\n",
        "        >> output_at_layer(X, model, \"layer_C\")\n",
        "        array([[0.8959839 , 0.65980244],\n",
        "               [0.9032545 , 0.66435313],\n",
        "               [0.8733646 , 0.646801  ],\n",
        "               [0.8883195 , 0.6559416 ]], dtype=float32)"
      ]
    },
    {
      "cell_type": "code",
      "execution_count": 21,
      "metadata": {
        "id": "neouX_TBQTQH"
      },
      "outputs": [],
      "source": [
        "def get_model(n1,n2,n3):\n",
        "    model = Sequential()\n",
        "    model.add(Dense(n1, name=\"layer_A\", activation=\"tanh\", input_dim=2))\n",
        "    model.add(Dense(n2, name=\"layer_B\", activation=\"sigmoid\"))\n",
        "    model.add(Dense(n3, name=\"layer_C\", activation=\"linear\"))\n",
        "    return model\n",
        "\n",
        "\n",
        "w = [np.array([[0.3336241 , 0.26024526, 0.37238857],\n",
        "               [0.6344426 , 0.67660165, 0.31070882]], dtype=np.float32),\n",
        "     np.array([0.97280777, 0.3447949 , 0.91722184], dtype=np.float32),\n",
        "\n",
        "     np.array([[0.12999585, 0.31851983],\n",
        "               [0.7763866 , 0.8777575 ],\n",
        "               [0.99977154, 0.65771514]], dtype=np.float32),\n",
        "     np.array([0.36222705, 0.05885772], dtype=np.float32),\n",
        "\n",
        "     np.array([[0.75918376, 0.02541249],\n",
        "               [0.21730722, 0.45021895]], dtype=np.float32),\n",
        "     np.array([0.05594416, 0.26667854], dtype=np.float32)]\n",
        "\n",
        "\n",
        "X = np.array([[0.9269997 , 0.41239464],\n",
        "              [0.8461177 , 0.64935404],\n",
        "              [0.27092433, 0.34251866],\n",
        "              [0.22509325, 0.6301328 ]], dtype=np.float32)\n",
        "\n",
        "\n",
        "model=get_model(3,2,2)\n",
        "model.set_weights(w)"
      ]
    },
    {
      "cell_type": "code",
      "execution_count": 22,
      "metadata": {
        "id": "3z2YArqUQTQI",
        "outputId": "d0bf1026-6961-4893-f3cb-143d44b4d3c2",
        "colab": {
          "base_uri": "https://localhost:8080/"
        }
      },
      "outputs": [
        {
          "output_type": "execute_result",
          "data": {
            "text/plain": [
              "array([[0.91274303, 0.69886017, 0.8832942 ],\n",
              "       [0.9311633 , 0.7634138 , 0.8924969 ],\n",
              "       [0.85661894, 0.5696809 , 0.8091405 ],\n",
              "       [0.8952345 , 0.6803274 , 0.8326857 ]], dtype=float32)"
            ]
          },
          "metadata": {},
          "execution_count": 22
        }
      ],
      "source": [
        "output_at_layer(X, model, \"layer_A\")"
      ]
    },
    {
      "cell_type": "code",
      "execution_count": 23,
      "metadata": {
        "id": "Ddjt_LusQTQI",
        "outputId": "414a29e9-66ef-48b9-c210-5b029dfebc47",
        "colab": {
          "base_uri": "https://localhost:8080/"
        }
      },
      "outputs": [
        {
          "output_type": "execute_result",
          "data": {
            "text/plain": [
              "array([[0.912743  , 0.69886017, 0.8832942 ],\n",
              "       [0.9311633 , 0.7634138 , 0.89249694],\n",
              "       [0.8566189 , 0.5696809 , 0.8091404 ],\n",
              "       [0.89523464, 0.6803274 , 0.8326857 ]], dtype=float32)"
            ]
          },
          "metadata": {},
          "execution_count": 23
        }
      ],
      "source": [
        "# which corresponds to a tanh activation from the input data\n",
        "np.tanh(X.dot(w[0])+w[1])"
      ]
    },
    {
      "cell_type": "code",
      "execution_count": 24,
      "metadata": {
        "id": "lp8S3bcFQTQI",
        "outputId": "15fc0be0-a034-4bda-b46c-8304f1e86c68",
        "colab": {
          "base_uri": "https://localhost:8080/"
        }
      },
      "outputs": [
        {
          "output_type": "execute_result",
          "data": {
            "text/plain": [
              "array([[0.87063193, 0.8240411 ],\n",
              "       [0.8774253 , 0.83376545],\n",
              "       [0.84875023, 0.7963982 ],\n",
              "       [0.8628655 , 0.81590414]], dtype=float32)"
            ]
          },
          "metadata": {},
          "execution_count": 24
        }
      ],
      "source": [
        "output_at_layer(X, model, \"layer_B\")"
      ]
    },
    {
      "cell_type": "code",
      "execution_count": 25,
      "metadata": {
        "id": "SCGOP5iqQTQJ",
        "outputId": "301522fb-a1d5-4ca4-8748-6bb1cd674cd9",
        "colab": {
          "base_uri": "https://localhost:8080/"
        }
      },
      "outputs": [
        {
          "output_type": "execute_result",
          "data": {
            "text/plain": [
              "array([[0.870632  , 0.8240412 ],\n",
              "       [0.8774254 , 0.8337655 ],\n",
              "       [0.8487503 , 0.7963983 ],\n",
              "       [0.86286545, 0.81590414]], dtype=float32)"
            ]
          },
          "metadata": {},
          "execution_count": 25
        }
      ],
      "source": [
        "# which corresponds to a sigmoid activation from the output of layer A\n",
        "sigm = lambda x: 1/(1+np.exp(-x))\n",
        "sigm(output_at_layer(X, model, \"layer_A\").dot(w[2])+w[3])\n"
      ]
    },
    {
      "cell_type": "code",
      "execution_count": 26,
      "metadata": {
        "id": "1TgsoBt6QTQJ",
        "outputId": "5c449f7c-7e67-4cb2-b816-da0b993a685d",
        "colab": {
          "base_uri": "https://localhost:8080/"
        }
      },
      "outputs": [
        {
          "output_type": "execute_result",
          "data": {
            "text/plain": [
              "array([[0.8959839 , 0.6598024 ],\n",
              "       [0.90325445, 0.66435313],\n",
              "       [0.8733646 , 0.646801  ],\n",
              "       [0.8883195 , 0.6559416 ]], dtype=float32)"
            ]
          },
          "metadata": {},
          "execution_count": 26
        }
      ],
      "source": [
        "output_at_layer(X, model, \"layer_C\")"
      ]
    },
    {
      "cell_type": "code",
      "execution_count": 27,
      "metadata": {
        "id": "yZ8VZIFdQTQJ",
        "outputId": "dcb4ab30-52b3-4da0-a25a-b1f4ee6f1152",
        "colab": {
          "base_uri": "https://localhost:8080/"
        }
      },
      "outputs": [
        {
          "output_type": "execute_result",
          "data": {
            "text/plain": [
              "array([[0.8959839 , 0.65980244],\n",
              "       [0.90325445, 0.66435313],\n",
              "       [0.8733646 , 0.646801  ],\n",
              "       [0.8883195 , 0.6559416 ]], dtype=float32)"
            ]
          },
          "metadata": {},
          "execution_count": 27
        }
      ],
      "source": [
        "# which corresponds to a linear activation from the output of layer B\n",
        "output_at_layer(X, model, \"layer_B\").dot(w[-2])+w[-1]"
      ]
    },
    {
      "cell_type": "markdown",
      "metadata": {
        "id": "0CvVUafCQTQJ"
      },
      "source": [
        "**Registra tu solución en linea**"
      ]
    },
    {
      "cell_type": "code",
      "execution_count": 28,
      "metadata": {
        "id": "4daO8yiKQTQJ",
        "outputId": "76891025-8bf1-434b-fa30-37814b8e3d0f",
        "colab": {
          "base_uri": "https://localhost:8080/",
          "height": 161
        }
      },
      "outputs": [
        {
          "output_type": "display_data",
          "data": {
            "text/plain": [
              "<IPython.core.display.HTML object>"
            ],
            "text/html": [
              "\n",
              "                    <b>T1 submitted.</b> <b><font color=\"blue\">your grade is 5</font></b> \n",
              "                    <p/><pre>----- grader message -------</pre>testing your code with 100 random calls<br/><b>correct</b><pre>----------------------------</pre>\n",
              "                    <p/><p/>\n",
              "                    <div style=\"font-size:10px\"><b>SUBMISSION CODE</b> apcScAOY726EvvIEDxNM1vio2z+SVZrGVHeDz6zYUbKE8qt/qwuQkgVNSjZhJ7Q4VhHT5ESpa5Q4oXTtLTiyWXf+ssGuBwp9i04k2UQR+KC2IvaFZ1RoKYDLpYUXG49mD0t6IosiMCFBpPpaippdi/e94lX3RTtLLhVZRwsKjS0=</div>\n",
              "                    "
            ]
          },
          "metadata": {}
        }
      ],
      "source": [
        "student.submit_task(namespace=globals(), task_id='T1');"
      ]
    },
    {
      "cell_type": "code",
      "execution_count": null,
      "metadata": {
        "id": "EE8QNX59QTQJ"
      },
      "outputs": [],
      "source": []
    },
    {
      "cell_type": "markdown",
      "metadata": {
        "id": "rmLpMNu2QTQK"
      },
      "source": [
        "## TASK 2: Implement batch normalization\n",
        "\n",
        "Observe how we create a **ONE LAYER** model with **TANH** activation and batch normalization"
      ]
    },
    {
      "cell_type": "code",
      "execution_count": 29,
      "metadata": {
        "id": "zOz1W0UGQTQK"
      },
      "outputs": [],
      "source": [
        "def get_model(input_dim, n):\n",
        "    model = Sequential()\n",
        "    model.add(Dense(n, name=\"layer_A\", activation=\"tanh\", input_dim=input_dim))\n",
        "    model.add(BatchNormalization())\n",
        "    return model"
      ]
    },
    {
      "cell_type": "markdown",
      "metadata": {
        "id": "4OfMNm8FQTQK"
      },
      "source": [
        "we manually initialize it with random weights and apply it to some random input"
      ]
    },
    {
      "cell_type": "code",
      "execution_count": 31,
      "metadata": {
        "id": "8_ObyvIOQTQK",
        "outputId": "e2216859-83cb-4560-ec6d-b3d2b8c7ec77",
        "colab": {
          "base_uri": "https://localhost:8080/"
        }
      },
      "outputs": [
        {
          "output_type": "stream",
          "name": "stdout",
          "text": [
            "input_dim 4 , n 9\n"
          ]
        }
      ],
      "source": [
        "\n",
        "input_dim = np.random.randint(3)+2\n",
        "n = np.random.randint(5)+5\n",
        "X = np.random.random((6,input_dim)).astype(np.float32)\n",
        "print (\"input_dim\", input_dim, \", n\", n)\n"
      ]
    },
    {
      "cell_type": "code",
      "execution_count": 32,
      "metadata": {
        "id": "n9F0171NQTQK",
        "outputId": "eadf4452-17b1-4c75-caa1-de25e099a29f",
        "colab": {
          "base_uri": "https://localhost:8080/"
        }
      },
      "outputs": [
        {
          "output_type": "execute_result",
          "data": {
            "text/plain": [
              "array([[1.5382261 , 1.3265887 , 0.2111901 , 0.36914372, 2.0840259 ,\n",
              "        1.140213  , 0.24507023, 1.0803568 , 0.82778794],\n",
              "       [1.452389  , 1.3293067 , 0.11735171, 0.35539216, 1.9975845 ,\n",
              "        1.0746243 , 0.24266517, 1.1120584 , 0.80703455],\n",
              "       [1.5988474 , 1.4587266 , 0.33320588, 0.3850316 , 2.4470866 ,\n",
              "        1.2495728 , 0.25779265, 1.2041446 , 0.85085356],\n",
              "       [1.5210712 , 1.3932866 , 0.25162673, 0.37837717, 2.269963  ,\n",
              "        1.1518137 , 0.24739791, 1.1540163 , 0.832158  ],\n",
              "       [1.5248473 , 1.442284  , 0.25165474, 0.38240117, 2.3853796 ,\n",
              "        1.2128164 , 0.25478444, 1.2000061 , 0.8357644 ],\n",
              "       [1.5056195 , 1.3900074 , 0.22945589, 0.38303113, 2.318078  ,\n",
              "        1.1686976 , 0.24893695, 1.1732727 , 0.8222252 ]], dtype=float32)"
            ]
          },
          "metadata": {},
          "execution_count": 32
        }
      ],
      "source": [
        "\n",
        "model = get_model(input_dim=input_dim, n=n)\n",
        "model.set_weights([np.random.random(i.shape) for i in model.get_weights()])\n",
        "model(X).numpy()\n"
      ]
    },
    {
      "cell_type": "markdown",
      "metadata": {
        "id": "G7Xh0IsDQTQL"
      },
      "source": [
        "and we can extract the weights of the dense layer and the batch normalization layer"
      ]
    },
    {
      "cell_type": "code",
      "execution_count": 33,
      "metadata": {
        "id": "byw7xoQXQTQL",
        "outputId": "c68664f4-6d5e-4759-b38f-2db47477cfd0",
        "colab": {
          "base_uri": "https://localhost:8080/"
        }
      },
      "outputs": [
        {
          "output_type": "execute_result",
          "data": {
            "text/plain": [
              "((4, 9), (9,), (9,), (9,), (9,))"
            ]
          },
          "metadata": {},
          "execution_count": 33
        }
      ],
      "source": [
        "\n",
        "W, b, gamma, beta, moving_mean, moving_var = model.get_weights()\n",
        "W.shape, b.shape, beta.shape, moving_mean.shape, moving_var.shape\n"
      ]
    },
    {
      "cell_type": "markdown",
      "metadata": {
        "id": "rl6_NJYiQTQL"
      },
      "source": [
        "**COMPLETE** the following function **WITHOUT USING TENSORFLOW** such that you get the same output as the model above, given the input and the weights.\n",
        "\n",
        "In specific, the Dense layer output must be\n",
        "\n",
        "$$A = \\text{tanh}(XW+b)$$\n",
        "\n",
        "And the batch normalization layer after that output is\n",
        "\n",
        "$$\\frac{A-m_\\mu}{\\sqrt{m_\\sigma+\\varepsilon}}\\gamma + \\beta$$\n",
        "\n",
        "You **MUST RETURN** a `numpy` array, **NOT** a tensor.\n",
        "\n",
        "**CHALLENGE**: Solve it with one single line of Python code."
      ]
    },
    {
      "cell_type": "code",
      "source": [
        "def apply_model(X, W, b, gamma, beta, moving_mean, moving_var, epsilon=1e-3):\n",
        "    A = np.tanh(X.dot(W)+b)\n",
        "    return (A-moving_mean)/(np.sqrt(moving_var+epsilon)) * gamma + beta"
      ],
      "metadata": {
        "id": "YBMjsqoL5OUa"
      },
      "execution_count": 34,
      "outputs": []
    },
    {
      "cell_type": "markdown",
      "metadata": {
        "id": "kQlUfuGaQTQL"
      },
      "source": [
        "check manually your code, the output should be the same as above."
      ]
    },
    {
      "cell_type": "code",
      "execution_count": 35,
      "metadata": {
        "id": "MheAYS1NQTQL",
        "outputId": "d6a8bb3e-82f8-48ec-b45a-1ed53fa26677",
        "colab": {
          "base_uri": "https://localhost:8080/"
        }
      },
      "outputs": [
        {
          "output_type": "execute_result",
          "data": {
            "text/plain": [
              "array([[1.5382259 , 1.3265886 , 0.21119009, 0.36914372, 2.0840263 ,\n",
              "        1.140213  , 0.24507023, 1.0803568 , 0.82778794],\n",
              "       [1.452389  , 1.3293066 , 0.11735165, 0.35539216, 1.9975845 ,\n",
              "        1.0746243 , 0.24266516, 1.1120584 , 0.8070346 ],\n",
              "       [1.5988472 , 1.4587265 , 0.333206  , 0.38503158, 2.447087  ,\n",
              "        1.2495726 , 0.25779265, 1.2041447 , 0.8508534 ],\n",
              "       [1.521071  , 1.3932866 , 0.25162667, 0.37837717, 2.2699633 ,\n",
              "        1.1518139 , 0.2473979 , 1.1540163 , 0.8321579 ],\n",
              "       [1.5248469 , 1.4422841 , 0.2516547 , 0.38240123, 2.38538   ,\n",
              "        1.2128165 , 0.25478444, 1.2000062 , 0.83576435],\n",
              "       [1.5056194 , 1.3900073 , 0.22945595, 0.38303113, 2.3180785 ,\n",
              "        1.1686977 , 0.24893695, 1.1732728 , 0.8222251 ]], dtype=float32)"
            ]
          },
          "metadata": {},
          "execution_count": 35
        }
      ],
      "source": [
        "apply_model(X, W, b, gamma, beta, moving_mean, moving_var)"
      ]
    },
    {
      "cell_type": "markdown",
      "metadata": {
        "id": "R8f5Pm01QTQL"
      },
      "source": [
        "**Registra tu solución en linea**"
      ]
    },
    {
      "cell_type": "code",
      "execution_count": 36,
      "metadata": {
        "id": "fELXwS0vQTQL",
        "outputId": "b80584b6-9285-4cfb-9ed6-ee8ca62c8896",
        "colab": {
          "base_uri": "https://localhost:8080/",
          "height": 161
        }
      },
      "outputs": [
        {
          "output_type": "display_data",
          "data": {
            "text/plain": [
              "<IPython.core.display.HTML object>"
            ],
            "text/html": [
              "\n",
              "                    <b>T2 submitted.</b> <b><font color=\"blue\">your grade is 5</font></b> \n",
              "                    <p/><pre>----- grader message -------</pre>testing your code with 100 random calls<br/><b>correct</b><pre>----------------------------</pre>\n",
              "                    <p/><p/>\n",
              "                    <div style=\"font-size:10px\"><b>SUBMISSION CODE</b> VNsX8ERgBRpajjFt/vHQLzOhfLP8Zm+aBoMJWa6JOl/TIBitsvbitAG5Iv+IKn/vzwHjXtyyOF05ogYdXKAFymZiV8BVvVdX+FILKcv6MM0EwOoS3Q23I9gweaxg1OLf1T2VfGDnUXBHxJQQcXxOiOpqDlRb4V5jmx+9cYChBlc=</div>\n",
              "                    "
            ]
          },
          "metadata": {}
        }
      ],
      "source": [
        "student.submit_task(namespace=globals(), task_id='T2');"
      ]
    },
    {
      "cell_type": "code",
      "execution_count": null,
      "metadata": {
        "id": "atScGVwiQTQM"
      },
      "outputs": [],
      "source": []
    },
    {
      "cell_type": "code",
      "execution_count": null,
      "metadata": {
        "id": "hNn0cFFeQTQM"
      },
      "outputs": [],
      "source": []
    },
    {
      "cell_type": "markdown",
      "metadata": {
        "id": "qwiXE0qZQTQM"
      },
      "source": [
        "## TASK 3: Compute the Hessian\n",
        "\n",
        "Complete the function below so that computes the Hessian of a function with respect to a set of variables. Remember that the Hessian is the matrix with all combinations of double partial derivatives. See [https://en.wikipedia.org/wiki/Hessian_matrix](https://en.wikipedia.org/wiki/Hessian_matrix)\n",
        "\n",
        "\n",
        "The arguments for your code below:\n",
        "\n",
        "- `expression_fn`: is a Python function that, when executed, will return a Tensor depending on the variables in `svars`.\n",
        "- `svars`: a list of $n$ `tf.Variable`s against which  the derivatives are to be taken.\n",
        "\n",
        "The result:\n",
        "\n",
        "- a `numpy` array of dimension $n\\times n$, containing in each position the value of the corresponding double derivative evaluated with the value attached to each variable in `svars`.\n",
        "\n",
        "See the example call below to understand what you have to produce.\n",
        "\n",
        "**NOTE**: Observe that `expression_fn` is a function that you **must call** inside some `GradientTape` to obtain the expresion. This needs to be done this way because `GradientTape` needs to _watch_ how expressions are built to be able to access the computational graph and compute the gradient. This is a technique which is very often used in Tensorflow.\n",
        "\n",
        "\n",
        "\n",
        "**WARN**: You cannot use `tf.hessian` or `GradientTape.jacobian` or `sympy`. Do not use the name `hessian` to name any variable within your code.\n",
        "\n",
        "**HINT 1**: use a `GradientTape` inside another `GradientTape`.\n",
        "\n",
        "**HINT 2**: use `unconnected_gradients=tf.UnconnectedGradients.ZERO` as argument to `GradientTape.gradient` to have the variables not participating in an expresion result in gradient zero. For instance with $f=xy$, we have $\\frac{\\partial f}{\\partial y\\partial y}=0$, since $\\frac{\\partial f}{\\partial y}=1$. Or if we have $f=x$ we have $\\frac{\\partial f}{\\partial y\\partial x}=0$, since $\\frac{\\partial f}{\\partial y}=0$. If you do not include this argument, Tensorflow will return these values as `None` and you would have to fix them later."
      ]
    },
    {
      "cell_type": "code",
      "execution_count": null,
      "metadata": {
        "id": "gfD51BZQQTQM"
      },
      "outputs": [],
      "source": [
        "def get_double_derivatives(expression_fn,svars):\n",
        "    import tensorflow as tf\n",
        "\n",
        "    result = ...\n",
        "\n",
        "    return result\n",
        ""
      ]
    },
    {
      "cell_type": "code",
      "source": [
        "def get_double_derivatives(expression_fn,svars):\n",
        "    import tensorflow as tf\n",
        "    import numpy as np\n",
        "\n",
        "    with tf.GradientTape(persistent=True) as tape1:\n",
        "        tape1.watch(svars)\n",
        "        with tf.GradientTape() as tape2:\n",
        "            tape2.watch(svars)\n",
        "            result = expression_fn()\n",
        "        grads = tape2.gradient(result, svars, unconnected_gradients=tf.UnconnectedGradients.ZERO)\n",
        "    hs = []\n",
        "    for grad in grads:\n",
        "        hs.append(tape1.gradient(grad, svars, unconnected_gradients=tf.UnconnectedGradients.ZERO))\n",
        "    del tape1\n",
        "    return np.array([[h.numpy() for h in hs_row] for hs_row in hs])"
      ],
      "metadata": {
        "id": "1_DKfhe15ZEB"
      },
      "execution_count": 75,
      "outputs": []
    },
    {
      "cell_type": "markdown",
      "metadata": {
        "id": "gl-tCg6SQTQM"
      },
      "source": [
        "check your code. The following expression\n",
        "\n",
        "$$f = 2xy^2 + 3x\\cos{y}$$\n",
        "\n",
        "has as first derivatives:\n",
        "\n",
        "- $\\frac{\\partial f }{\\partial x} = 2y^2 +3\\cos{y}$\n",
        "- $\\frac{\\partial f }{\\partial y} = 4xy - 3x\\sin{y}$\n",
        "\n",
        "and as second derivatives:\n",
        "\n",
        "- $\\frac{\\partial f }{\\partial x \\partial x} = 0$\n",
        "- $\\frac{\\partial f }{\\partial x \\partial y} = 4y - 3\\sin{y}$\n",
        "- $\\frac{\\partial f }{\\partial y \\partial x} = 4y - 3\\sin{y}$\n",
        "- $\\frac{\\partial f }{\\partial y \\partial y} = 4x - 3x\\cos{y}$\n",
        "\n",
        "which, when evaluated at $x=2$ and $y=-3$ yields\n",
        "\n",
        "    [[  0     ,  -11.58],\n",
        "     [ -11.58 ,   13.94]]"
      ]
    },
    {
      "cell_type": "code",
      "execution_count": 76,
      "metadata": {
        "id": "FDWH5FbCQTQM",
        "outputId": "f83c9acc-e643-4ad4-8175-c7468e767c1e",
        "colab": {
          "base_uri": "https://localhost:8080/"
        }
      },
      "outputs": [
        {
          "output_type": "execute_result",
          "data": {
            "text/plain": [
              "array([[  0.      , -11.57664 ],\n",
              "       [-11.57664 ,  13.939955]], dtype=float32)"
            ]
          },
          "metadata": {},
          "execution_count": 76
        }
      ],
      "source": [
        "x = tf.Variable(2, dtype=tf.float32)\n",
        "y = tf.Variable(-3, dtype=tf.float32)\n",
        "expr = lambda: 2*x*y**2 + 3*x*tf.cos(y)\n",
        "\n",
        "get_double_derivatives(expr, [x,y])"
      ]
    },
    {
      "cell_type": "code",
      "execution_count": null,
      "metadata": {
        "id": "hnhId64WQTQM"
      },
      "outputs": [],
      "source": []
    },
    {
      "cell_type": "markdown",
      "metadata": {
        "id": "i7oe-gvdQTQM"
      },
      "source": [
        "**Registra tu solución en linea**"
      ]
    },
    {
      "cell_type": "code",
      "execution_count": 77,
      "metadata": {
        "id": "c20NVu9hQTQQ",
        "outputId": "ca07a4a6-ce39-48e5-fd07-8068c01a3411",
        "colab": {
          "base_uri": "https://localhost:8080/",
          "height": 161
        }
      },
      "outputs": [
        {
          "output_type": "display_data",
          "data": {
            "text/plain": [
              "<IPython.core.display.HTML object>"
            ],
            "text/html": [
              "\n",
              "                    <b>T3 submitted.</b> <b><font color=\"blue\">your grade is 5</font></b> \n",
              "                    <p/><pre>----- grader message -------</pre>testing your code with 100 random calls<br/><b>correct</b><pre>----------------------------</pre>\n",
              "                    <p/><p/>\n",
              "                    <div style=\"font-size:10px\"><b>SUBMISSION CODE</b> MOHREzVAIZXZegKNFxNRluawfUmlRKuGOdpapkJFm6oLUDNQo/qCfP4yVtjstEIpouFSICHAimevtbTOm0fgwBi5I+Z2pqYw2P/GF/y//VpQDHB9GH/kcggwnSgatIYnrJXlAS8nqJmXxPVd/PMQ1qLIGGcZh1LhT4gFn/5rw/g=</div>\n",
              "                    "
            ]
          },
          "metadata": {}
        }
      ],
      "source": [
        "student.submit_task(namespace=globals(), task_id='T3');"
      ]
    },
    {
      "cell_type": "code",
      "execution_count": null,
      "metadata": {
        "id": "b38ag7Y3QTQQ"
      },
      "outputs": [],
      "source": []
    },
    {
      "cell_type": "code",
      "execution_count": null,
      "metadata": {
        "id": "3kqBHeiGQTQQ"
      },
      "outputs": [],
      "source": []
    }
  ],
  "metadata": {
    "kernelspec": {
      "display_name": "p38",
      "language": "python",
      "name": "p38"
    },
    "language_info": {
      "codemirror_mode": {
        "name": "ipython",
        "version": 3
      },
      "file_extension": ".py",
      "mimetype": "text/x-python",
      "name": "python",
      "nbconvert_exporter": "python",
      "pygments_lexer": "ipython3",
      "version": "3.8.5"
    },
    "colab": {
      "provenance": []
    },
    "widgets": {
      "application/vnd.jupyter.widget-state+json": {
        "1282641657404a4e834f5c82f91bd77f": {
          "model_module": "@jupyter-widgets/controls",
          "model_name": "HBoxModel",
          "model_module_version": "1.5.0",
          "state": {
            "_dom_classes": [],
            "_model_module": "@jupyter-widgets/controls",
            "_model_module_version": "1.5.0",
            "_model_name": "HBoxModel",
            "_view_count": null,
            "_view_module": "@jupyter-widgets/controls",
            "_view_module_version": "1.5.0",
            "_view_name": "HBoxView",
            "box_style": "",
            "children": [
              "IPY_MODEL_8838d7016fef4d89ae94c8eeb7268640",
              "IPY_MODEL_9a230f3bfd4743ee978a64aa7685da08",
              "IPY_MODEL_5c9f6ec8a1ee41c18258b070159a596f",
              "IPY_MODEL_3a9fa8fd7dec4c13a2ef783af61006b4"
            ],
            "layout": "IPY_MODEL_7d6c6fdb75bd45679fede9b310ea7cfe"
          }
        },
        "8838d7016fef4d89ae94c8eeb7268640": {
          "model_module": "@jupyter-widgets/controls",
          "model_name": "VBoxModel",
          "model_module_version": "1.5.0",
          "state": {
            "_dom_classes": [],
            "_model_module": "@jupyter-widgets/controls",
            "_model_module_version": "1.5.0",
            "_model_name": "VBoxModel",
            "_view_count": null,
            "_view_module": "@jupyter-widgets/controls",
            "_view_module_version": "1.5.0",
            "_view_name": "VBoxView",
            "box_style": "",
            "children": [
              "IPY_MODEL_ca1b14945fbf464fb4825c1b92192011",
              "IPY_MODEL_4fddf946148b4eae9ae097ccb3db2025"
            ],
            "layout": "IPY_MODEL_ae1099e9e8a74b908ed53627dcd95921"
          }
        },
        "9a230f3bfd4743ee978a64aa7685da08": {
          "model_module": "@jupyter-widgets/controls",
          "model_name": "ButtonModel",
          "model_module_version": "1.5.0",
          "state": {
            "_dom_classes": [
              "login_button"
            ],
            "_model_module": "@jupyter-widgets/controls",
            "_model_module_version": "1.5.0",
            "_model_name": "ButtonModel",
            "_view_count": null,
            "_view_module": "@jupyter-widgets/controls",
            "_view_module_version": "1.5.0",
            "_view_name": "ButtonView",
            "button_style": "",
            "description": "Login with email",
            "disabled": false,
            "icon": "",
            "layout": "IPY_MODEL_0c230699f48e49e199335ea954a750c0",
            "style": "IPY_MODEL_81d8e16bc201489294693144847bd137",
            "tooltip": ""
          }
        },
        "5c9f6ec8a1ee41c18258b070159a596f": {
          "model_module": "@jupyter-widgets/controls",
          "model_name": "HTMLModel",
          "model_module_version": "1.5.0",
          "state": {
            "_dom_classes": [],
            "_model_module": "@jupyter-widgets/controls",
            "_model_module_version": "1.5.0",
            "_model_name": "HTMLModel",
            "_view_count": null,
            "_view_module": "@jupyter-widgets/controls",
            "_view_module_version": "1.5.0",
            "_view_name": "HTMLView",
            "description": "",
            "description_tooltip": null,
            "layout": "IPY_MODEL_0e0ffa0981eb4628a1b37a56b60ab56e",
            "placeholder": "​",
            "style": "IPY_MODEL_b79c266f9e2b4621a238f039de3e635a",
            "value": "<center><big>or</big></center>"
          }
        },
        "3a9fa8fd7dec4c13a2ef783af61006b4": {
          "model_module": "@jupyter-widgets/controls",
          "model_name": "ButtonModel",
          "model_module_version": "1.5.0",
          "state": {
            "_dom_classes": [
              "google_button"
            ],
            "_model_module": "@jupyter-widgets/controls",
            "_model_module_version": "1.5.0",
            "_model_name": "ButtonModel",
            "_view_count": null,
            "_view_module": "@jupyter-widgets/controls",
            "_view_module_version": "1.5.0",
            "_view_name": "ButtonView",
            "button_style": "",
            "description": "Login with Google",
            "disabled": false,
            "icon": "",
            "layout": "IPY_MODEL_3e746a4713cc4a9abc05703fdfde2d25",
            "style": "IPY_MODEL_31ba659a13234961b13ea6b813e3c7a1",
            "tooltip": ""
          }
        },
        "7d6c6fdb75bd45679fede9b310ea7cfe": {
          "model_module": "@jupyter-widgets/base",
          "model_name": "LayoutModel",
          "model_module_version": "1.2.0",
          "state": {
            "_model_module": "@jupyter-widgets/base",
            "_model_module_version": "1.2.0",
            "_model_name": "LayoutModel",
            "_view_count": null,
            "_view_module": "@jupyter-widgets/base",
            "_view_module_version": "1.2.0",
            "_view_name": "LayoutView",
            "align_content": null,
            "align_items": null,
            "align_self": null,
            "border": null,
            "bottom": null,
            "display": null,
            "flex": null,
            "flex_flow": null,
            "grid_area": null,
            "grid_auto_columns": null,
            "grid_auto_flow": null,
            "grid_auto_rows": null,
            "grid_column": null,
            "grid_gap": null,
            "grid_row": null,
            "grid_template_areas": null,
            "grid_template_columns": null,
            "grid_template_rows": null,
            "height": null,
            "justify_content": null,
            "justify_items": null,
            "left": null,
            "margin": null,
            "max_height": null,
            "max_width": null,
            "min_height": null,
            "min_width": null,
            "object_fit": null,
            "object_position": null,
            "order": null,
            "overflow": null,
            "overflow_x": null,
            "overflow_y": null,
            "padding": null,
            "right": null,
            "top": null,
            "visibility": null,
            "width": null
          }
        },
        "ca1b14945fbf464fb4825c1b92192011": {
          "model_module": "@jupyter-widgets/controls",
          "model_name": "TextModel",
          "model_module_version": "1.5.0",
          "state": {
            "_dom_classes": [],
            "_model_module": "@jupyter-widgets/controls",
            "_model_module_version": "1.5.0",
            "_model_name": "TextModel",
            "_view_count": null,
            "_view_module": "@jupyter-widgets/controls",
            "_view_module_version": "1.5.0",
            "_view_name": "TextView",
            "continuous_update": true,
            "description": "email",
            "description_tooltip": null,
            "disabled": false,
            "layout": "IPY_MODEL_7613c019d05348ed8e8f9c56ce25c83c",
            "placeholder": "​",
            "style": "IPY_MODEL_289dd72118794e1fb801770f1248e900",
            "value": "jader.caro@udea.edu.co"
          }
        },
        "4fddf946148b4eae9ae097ccb3db2025": {
          "model_module": "@jupyter-widgets/controls",
          "model_name": "PasswordModel",
          "model_module_version": "1.5.0",
          "state": {
            "_dom_classes": [],
            "_model_module": "@jupyter-widgets/controls",
            "_model_module_version": "1.5.0",
            "_model_name": "PasswordModel",
            "_view_count": null,
            "_view_module": "@jupyter-widgets/controls",
            "_view_module_version": "1.5.0",
            "_view_name": "PasswordView",
            "continuous_update": true,
            "description": "password",
            "description_tooltip": null,
            "disabled": false,
            "layout": "IPY_MODEL_c92c8154ab4749c08d6b64e248929d25",
            "placeholder": "​",
            "style": "IPY_MODEL_1be37848ba194675956d0fee3a0b1816",
            "value": "3Nfoc@d0300618"
          }
        },
        "ae1099e9e8a74b908ed53627dcd95921": {
          "model_module": "@jupyter-widgets/base",
          "model_name": "LayoutModel",
          "model_module_version": "1.2.0",
          "state": {
            "_model_module": "@jupyter-widgets/base",
            "_model_module_version": "1.2.0",
            "_model_name": "LayoutModel",
            "_view_count": null,
            "_view_module": "@jupyter-widgets/base",
            "_view_module_version": "1.2.0",
            "_view_name": "LayoutView",
            "align_content": null,
            "align_items": null,
            "align_self": null,
            "border": null,
            "bottom": null,
            "display": null,
            "flex": null,
            "flex_flow": null,
            "grid_area": null,
            "grid_auto_columns": null,
            "grid_auto_flow": null,
            "grid_auto_rows": null,
            "grid_column": null,
            "grid_gap": null,
            "grid_row": null,
            "grid_template_areas": null,
            "grid_template_columns": null,
            "grid_template_rows": null,
            "height": null,
            "justify_content": null,
            "justify_items": null,
            "left": null,
            "margin": null,
            "max_height": null,
            "max_width": null,
            "min_height": null,
            "min_width": null,
            "object_fit": null,
            "object_position": null,
            "order": null,
            "overflow": null,
            "overflow_x": null,
            "overflow_y": null,
            "padding": null,
            "right": null,
            "top": null,
            "visibility": null,
            "width": null
          }
        },
        "0c230699f48e49e199335ea954a750c0": {
          "model_module": "@jupyter-widgets/base",
          "model_name": "LayoutModel",
          "model_module_version": "1.2.0",
          "state": {
            "_model_module": "@jupyter-widgets/base",
            "_model_module_version": "1.2.0",
            "_model_name": "LayoutModel",
            "_view_count": null,
            "_view_module": "@jupyter-widgets/base",
            "_view_module_version": "1.2.0",
            "_view_name": "LayoutView",
            "align_content": null,
            "align_items": null,
            "align_self": null,
            "border": null,
            "bottom": null,
            "display": null,
            "flex": null,
            "flex_flow": null,
            "grid_area": null,
            "grid_auto_columns": null,
            "grid_auto_flow": null,
            "grid_auto_rows": null,
            "grid_column": null,
            "grid_gap": null,
            "grid_row": null,
            "grid_template_areas": null,
            "grid_template_columns": null,
            "grid_template_rows": null,
            "height": "53px",
            "justify_content": null,
            "justify_items": null,
            "left": null,
            "margin": null,
            "max_height": null,
            "max_width": null,
            "min_height": null,
            "min_width": null,
            "object_fit": null,
            "object_position": null,
            "order": null,
            "overflow": null,
            "overflow_x": null,
            "overflow_y": null,
            "padding": null,
            "right": null,
            "top": null,
            "visibility": null,
            "width": "150px"
          }
        },
        "81d8e16bc201489294693144847bd137": {
          "model_module": "@jupyter-widgets/controls",
          "model_name": "ButtonStyleModel",
          "model_module_version": "1.5.0",
          "state": {
            "_model_module": "@jupyter-widgets/controls",
            "_model_module_version": "1.5.0",
            "_model_name": "ButtonStyleModel",
            "_view_count": null,
            "_view_module": "@jupyter-widgets/base",
            "_view_module_version": "1.2.0",
            "_view_name": "StyleView",
            "button_color": null,
            "font_weight": ""
          }
        },
        "0e0ffa0981eb4628a1b37a56b60ab56e": {
          "model_module": "@jupyter-widgets/base",
          "model_name": "LayoutModel",
          "model_module_version": "1.2.0",
          "state": {
            "_model_module": "@jupyter-widgets/base",
            "_model_module_version": "1.2.0",
            "_model_name": "LayoutModel",
            "_view_count": null,
            "_view_module": "@jupyter-widgets/base",
            "_view_module_version": "1.2.0",
            "_view_name": "LayoutView",
            "align_content": null,
            "align_items": null,
            "align_self": null,
            "border": null,
            "bottom": null,
            "display": null,
            "flex": null,
            "flex_flow": null,
            "grid_area": null,
            "grid_auto_columns": null,
            "grid_auto_flow": null,
            "grid_auto_rows": null,
            "grid_column": null,
            "grid_gap": null,
            "grid_row": null,
            "grid_template_areas": null,
            "grid_template_columns": null,
            "grid_template_rows": null,
            "height": null,
            "justify_content": null,
            "justify_items": null,
            "left": null,
            "margin": null,
            "max_height": null,
            "max_width": null,
            "min_height": null,
            "min_width": null,
            "object_fit": null,
            "object_position": null,
            "order": null,
            "overflow": null,
            "overflow_x": null,
            "overflow_y": null,
            "padding": null,
            "right": null,
            "top": null,
            "visibility": null,
            "width": "100px"
          }
        },
        "b79c266f9e2b4621a238f039de3e635a": {
          "model_module": "@jupyter-widgets/controls",
          "model_name": "DescriptionStyleModel",
          "model_module_version": "1.5.0",
          "state": {
            "_model_module": "@jupyter-widgets/controls",
            "_model_module_version": "1.5.0",
            "_model_name": "DescriptionStyleModel",
            "_view_count": null,
            "_view_module": "@jupyter-widgets/base",
            "_view_module_version": "1.2.0",
            "_view_name": "StyleView",
            "description_width": ""
          }
        },
        "3e746a4713cc4a9abc05703fdfde2d25": {
          "model_module": "@jupyter-widgets/base",
          "model_name": "LayoutModel",
          "model_module_version": "1.2.0",
          "state": {
            "_model_module": "@jupyter-widgets/base",
            "_model_module_version": "1.2.0",
            "_model_name": "LayoutModel",
            "_view_count": null,
            "_view_module": "@jupyter-widgets/base",
            "_view_module_version": "1.2.0",
            "_view_name": "LayoutView",
            "align_content": null,
            "align_items": null,
            "align_self": null,
            "border": null,
            "bottom": null,
            "display": null,
            "flex": null,
            "flex_flow": null,
            "grid_area": null,
            "grid_auto_columns": null,
            "grid_auto_flow": null,
            "grid_auto_rows": null,
            "grid_column": null,
            "grid_gap": null,
            "grid_row": null,
            "grid_template_areas": null,
            "grid_template_columns": null,
            "grid_template_rows": null,
            "height": "53px",
            "justify_content": null,
            "justify_items": null,
            "left": null,
            "margin": null,
            "max_height": null,
            "max_width": null,
            "min_height": null,
            "min_width": null,
            "object_fit": null,
            "object_position": null,
            "order": null,
            "overflow": null,
            "overflow_x": null,
            "overflow_y": null,
            "padding": null,
            "right": null,
            "top": null,
            "visibility": null,
            "width": "200px"
          }
        },
        "31ba659a13234961b13ea6b813e3c7a1": {
          "model_module": "@jupyter-widgets/controls",
          "model_name": "ButtonStyleModel",
          "model_module_version": "1.5.0",
          "state": {
            "_model_module": "@jupyter-widgets/controls",
            "_model_module_version": "1.5.0",
            "_model_name": "ButtonStyleModel",
            "_view_count": null,
            "_view_module": "@jupyter-widgets/base",
            "_view_module_version": "1.2.0",
            "_view_name": "StyleView",
            "button_color": null,
            "font_weight": ""
          }
        },
        "7613c019d05348ed8e8f9c56ce25c83c": {
          "model_module": "@jupyter-widgets/base",
          "model_name": "LayoutModel",
          "model_module_version": "1.2.0",
          "state": {
            "_model_module": "@jupyter-widgets/base",
            "_model_module_version": "1.2.0",
            "_model_name": "LayoutModel",
            "_view_count": null,
            "_view_module": "@jupyter-widgets/base",
            "_view_module_version": "1.2.0",
            "_view_name": "LayoutView",
            "align_content": null,
            "align_items": null,
            "align_self": null,
            "border": null,
            "bottom": null,
            "display": null,
            "flex": null,
            "flex_flow": null,
            "grid_area": null,
            "grid_auto_columns": null,
            "grid_auto_flow": null,
            "grid_auto_rows": null,
            "grid_column": null,
            "grid_gap": null,
            "grid_row": null,
            "grid_template_areas": null,
            "grid_template_columns": null,
            "grid_template_rows": null,
            "height": "25px",
            "justify_content": null,
            "justify_items": null,
            "left": null,
            "margin": null,
            "max_height": null,
            "max_width": null,
            "min_height": null,
            "min_width": null,
            "object_fit": null,
            "object_position": null,
            "order": null,
            "overflow": null,
            "overflow_x": null,
            "overflow_y": null,
            "padding": null,
            "right": null,
            "top": null,
            "visibility": null,
            "width": "300px"
          }
        },
        "289dd72118794e1fb801770f1248e900": {
          "model_module": "@jupyter-widgets/controls",
          "model_name": "DescriptionStyleModel",
          "model_module_version": "1.5.0",
          "state": {
            "_model_module": "@jupyter-widgets/controls",
            "_model_module_version": "1.5.0",
            "_model_name": "DescriptionStyleModel",
            "_view_count": null,
            "_view_module": "@jupyter-widgets/base",
            "_view_module_version": "1.2.0",
            "_view_name": "StyleView",
            "description_width": ""
          }
        },
        "c92c8154ab4749c08d6b64e248929d25": {
          "model_module": "@jupyter-widgets/base",
          "model_name": "LayoutModel",
          "model_module_version": "1.2.0",
          "state": {
            "_model_module": "@jupyter-widgets/base",
            "_model_module_version": "1.2.0",
            "_model_name": "LayoutModel",
            "_view_count": null,
            "_view_module": "@jupyter-widgets/base",
            "_view_module_version": "1.2.0",
            "_view_name": "LayoutView",
            "align_content": null,
            "align_items": null,
            "align_self": null,
            "border": null,
            "bottom": null,
            "display": null,
            "flex": null,
            "flex_flow": null,
            "grid_area": null,
            "grid_auto_columns": null,
            "grid_auto_flow": null,
            "grid_auto_rows": null,
            "grid_column": null,
            "grid_gap": null,
            "grid_row": null,
            "grid_template_areas": null,
            "grid_template_columns": null,
            "grid_template_rows": null,
            "height": "24px",
            "justify_content": null,
            "justify_items": null,
            "left": null,
            "margin": null,
            "max_height": null,
            "max_width": null,
            "min_height": null,
            "min_width": null,
            "object_fit": null,
            "object_position": null,
            "order": null,
            "overflow": null,
            "overflow_x": null,
            "overflow_y": null,
            "padding": null,
            "right": null,
            "top": null,
            "visibility": null,
            "width": "300px"
          }
        },
        "1be37848ba194675956d0fee3a0b1816": {
          "model_module": "@jupyter-widgets/controls",
          "model_name": "DescriptionStyleModel",
          "model_module_version": "1.5.0",
          "state": {
            "_model_module": "@jupyter-widgets/controls",
            "_model_module_version": "1.5.0",
            "_model_name": "DescriptionStyleModel",
            "_view_count": null,
            "_view_module": "@jupyter-widgets/base",
            "_view_module_version": "1.2.0",
            "_view_name": "StyleView",
            "description_width": ""
          }
        }
      }
    }
  },
  "nbformat": 4,
  "nbformat_minor": 0
}