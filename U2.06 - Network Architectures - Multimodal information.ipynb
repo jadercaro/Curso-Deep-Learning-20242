{
  "cells": [
    {
      "cell_type": "markdown",
      "metadata": {
        "id": "OTXy7nV27YvR"
      },
      "source": [
        "# 2.6 - Multimodal architectures"
      ]
    },
    {
      "cell_type": "code",
      "source": [
        "!pip install tensorflow==2.15"
      ],
      "metadata": {
        "id": "KX6ndwZG-PJV",
        "outputId": "14606792-cfaa-4bc8-d76a-22a02c12dbdc",
        "colab": {
          "base_uri": "https://localhost:8080/"
        }
      },
      "execution_count": 1,
      "outputs": [
        {
          "output_type": "stream",
          "name": "stdout",
          "text": [
            "Collecting tensorflow==2.15\n",
            "  Downloading tensorflow-2.15.0-cp310-cp310-manylinux_2_17_x86_64.manylinux2014_x86_64.whl.metadata (4.4 kB)\n",
            "Requirement already satisfied: absl-py>=1.0.0 in /usr/local/lib/python3.10/dist-packages (from tensorflow==2.15) (1.4.0)\n",
            "Requirement already satisfied: astunparse>=1.6.0 in /usr/local/lib/python3.10/dist-packages (from tensorflow==2.15) (1.6.3)\n",
            "Requirement already satisfied: flatbuffers>=23.5.26 in /usr/local/lib/python3.10/dist-packages (from tensorflow==2.15) (24.3.25)\n",
            "Requirement already satisfied: gast!=0.5.0,!=0.5.1,!=0.5.2,>=0.2.1 in /usr/local/lib/python3.10/dist-packages (from tensorflow==2.15) (0.6.0)\n",
            "Requirement already satisfied: google-pasta>=0.1.1 in /usr/local/lib/python3.10/dist-packages (from tensorflow==2.15) (0.2.0)\n",
            "Requirement already satisfied: h5py>=2.9.0 in /usr/local/lib/python3.10/dist-packages (from tensorflow==2.15) (3.11.0)\n",
            "Requirement already satisfied: libclang>=13.0.0 in /usr/local/lib/python3.10/dist-packages (from tensorflow==2.15) (18.1.1)\n",
            "Collecting ml-dtypes~=0.2.0 (from tensorflow==2.15)\n",
            "  Downloading ml_dtypes-0.2.0-cp310-cp310-manylinux_2_17_x86_64.manylinux2014_x86_64.whl.metadata (20 kB)\n",
            "Requirement already satisfied: numpy<2.0.0,>=1.23.5 in /usr/local/lib/python3.10/dist-packages (from tensorflow==2.15) (1.26.4)\n",
            "Requirement already satisfied: opt-einsum>=2.3.2 in /usr/local/lib/python3.10/dist-packages (from tensorflow==2.15) (3.3.0)\n",
            "Requirement already satisfied: packaging in /usr/local/lib/python3.10/dist-packages (from tensorflow==2.15) (24.1)\n",
            "Requirement already satisfied: protobuf!=4.21.0,!=4.21.1,!=4.21.2,!=4.21.3,!=4.21.4,!=4.21.5,<5.0.0dev,>=3.20.3 in /usr/local/lib/python3.10/dist-packages (from tensorflow==2.15) (3.20.3)\n",
            "Requirement already satisfied: setuptools in /usr/local/lib/python3.10/dist-packages (from tensorflow==2.15) (71.0.4)\n",
            "Requirement already satisfied: six>=1.12.0 in /usr/local/lib/python3.10/dist-packages (from tensorflow==2.15) (1.16.0)\n",
            "Requirement already satisfied: termcolor>=1.1.0 in /usr/local/lib/python3.10/dist-packages (from tensorflow==2.15) (2.4.0)\n",
            "Requirement already satisfied: typing-extensions>=3.6.6 in /usr/local/lib/python3.10/dist-packages (from tensorflow==2.15) (4.12.2)\n",
            "Collecting wrapt<1.15,>=1.11.0 (from tensorflow==2.15)\n",
            "  Downloading wrapt-1.14.1-cp310-cp310-manylinux_2_5_x86_64.manylinux1_x86_64.manylinux_2_17_x86_64.manylinux2014_x86_64.whl.metadata (6.7 kB)\n",
            "Requirement already satisfied: tensorflow-io-gcs-filesystem>=0.23.1 in /usr/local/lib/python3.10/dist-packages (from tensorflow==2.15) (0.37.1)\n",
            "Requirement already satisfied: grpcio<2.0,>=1.24.3 in /usr/local/lib/python3.10/dist-packages (from tensorflow==2.15) (1.64.1)\n",
            "Collecting tensorboard<2.16,>=2.15 (from tensorflow==2.15)\n",
            "  Downloading tensorboard-2.15.2-py3-none-any.whl.metadata (1.7 kB)\n",
            "Collecting tensorflow-estimator<2.16,>=2.15.0 (from tensorflow==2.15)\n",
            "  Downloading tensorflow_estimator-2.15.0-py2.py3-none-any.whl.metadata (1.3 kB)\n",
            "Collecting keras<2.16,>=2.15.0 (from tensorflow==2.15)\n",
            "  Downloading keras-2.15.0-py3-none-any.whl.metadata (2.4 kB)\n",
            "Requirement already satisfied: wheel<1.0,>=0.23.0 in /usr/local/lib/python3.10/dist-packages (from astunparse>=1.6.0->tensorflow==2.15) (0.44.0)\n",
            "Requirement already satisfied: google-auth<3,>=1.6.3 in /usr/local/lib/python3.10/dist-packages (from tensorboard<2.16,>=2.15->tensorflow==2.15) (2.27.0)\n",
            "Requirement already satisfied: google-auth-oauthlib<2,>=0.5 in /usr/local/lib/python3.10/dist-packages (from tensorboard<2.16,>=2.15->tensorflow==2.15) (1.2.1)\n",
            "Requirement already satisfied: markdown>=2.6.8 in /usr/local/lib/python3.10/dist-packages (from tensorboard<2.16,>=2.15->tensorflow==2.15) (3.7)\n",
            "Requirement already satisfied: requests<3,>=2.21.0 in /usr/local/lib/python3.10/dist-packages (from tensorboard<2.16,>=2.15->tensorflow==2.15) (2.32.3)\n",
            "Requirement already satisfied: tensorboard-data-server<0.8.0,>=0.7.0 in /usr/local/lib/python3.10/dist-packages (from tensorboard<2.16,>=2.15->tensorflow==2.15) (0.7.2)\n",
            "Requirement already satisfied: werkzeug>=1.0.1 in /usr/local/lib/python3.10/dist-packages (from tensorboard<2.16,>=2.15->tensorflow==2.15) (3.0.4)\n",
            "Requirement already satisfied: cachetools<6.0,>=2.0.0 in /usr/local/lib/python3.10/dist-packages (from google-auth<3,>=1.6.3->tensorboard<2.16,>=2.15->tensorflow==2.15) (5.5.0)\n",
            "Requirement already satisfied: pyasn1-modules>=0.2.1 in /usr/local/lib/python3.10/dist-packages (from google-auth<3,>=1.6.3->tensorboard<2.16,>=2.15->tensorflow==2.15) (0.4.0)\n",
            "Requirement already satisfied: rsa<5,>=3.1.4 in /usr/local/lib/python3.10/dist-packages (from google-auth<3,>=1.6.3->tensorboard<2.16,>=2.15->tensorflow==2.15) (4.9)\n",
            "Requirement already satisfied: requests-oauthlib>=0.7.0 in /usr/local/lib/python3.10/dist-packages (from google-auth-oauthlib<2,>=0.5->tensorboard<2.16,>=2.15->tensorflow==2.15) (1.3.1)\n",
            "Requirement already satisfied: charset-normalizer<4,>=2 in /usr/local/lib/python3.10/dist-packages (from requests<3,>=2.21.0->tensorboard<2.16,>=2.15->tensorflow==2.15) (3.3.2)\n",
            "Requirement already satisfied: idna<4,>=2.5 in /usr/local/lib/python3.10/dist-packages (from requests<3,>=2.21.0->tensorboard<2.16,>=2.15->tensorflow==2.15) (3.8)\n",
            "Requirement already satisfied: urllib3<3,>=1.21.1 in /usr/local/lib/python3.10/dist-packages (from requests<3,>=2.21.0->tensorboard<2.16,>=2.15->tensorflow==2.15) (2.0.7)\n",
            "Requirement already satisfied: certifi>=2017.4.17 in /usr/local/lib/python3.10/dist-packages (from requests<3,>=2.21.0->tensorboard<2.16,>=2.15->tensorflow==2.15) (2024.7.4)\n",
            "Requirement already satisfied: MarkupSafe>=2.1.1 in /usr/local/lib/python3.10/dist-packages (from werkzeug>=1.0.1->tensorboard<2.16,>=2.15->tensorflow==2.15) (2.1.5)\n",
            "Requirement already satisfied: pyasn1<0.7.0,>=0.4.6 in /usr/local/lib/python3.10/dist-packages (from pyasn1-modules>=0.2.1->google-auth<3,>=1.6.3->tensorboard<2.16,>=2.15->tensorflow==2.15) (0.6.0)\n",
            "Requirement already satisfied: oauthlib>=3.0.0 in /usr/local/lib/python3.10/dist-packages (from requests-oauthlib>=0.7.0->google-auth-oauthlib<2,>=0.5->tensorboard<2.16,>=2.15->tensorflow==2.15) (3.2.2)\n",
            "Downloading tensorflow-2.15.0-cp310-cp310-manylinux_2_17_x86_64.manylinux2014_x86_64.whl (475.2 MB)\n",
            "\u001b[2K   \u001b[90m━━━━━━━━━━━━━━━━━━━━━━━━━━━━━━━━━━━━━━━━\u001b[0m \u001b[32m475.2/475.2 MB\u001b[0m \u001b[31m3.3 MB/s\u001b[0m eta \u001b[36m0:00:00\u001b[0m\n",
            "\u001b[?25hDownloading keras-2.15.0-py3-none-any.whl (1.7 MB)\n",
            "\u001b[2K   \u001b[90m━━━━━━━━━━━━━━━━━━━━━━━━━━━━━━━━━━━━━━━━\u001b[0m \u001b[32m1.7/1.7 MB\u001b[0m \u001b[31m36.1 MB/s\u001b[0m eta \u001b[36m0:00:00\u001b[0m\n",
            "\u001b[?25hDownloading ml_dtypes-0.2.0-cp310-cp310-manylinux_2_17_x86_64.manylinux2014_x86_64.whl (1.0 MB)\n",
            "\u001b[2K   \u001b[90m━━━━━━━━━━━━━━━━━━━━━━━━━━━━━━━━━━━━━━━━\u001b[0m \u001b[32m1.0/1.0 MB\u001b[0m \u001b[31m37.6 MB/s\u001b[0m eta \u001b[36m0:00:00\u001b[0m\n",
            "\u001b[?25hDownloading tensorboard-2.15.2-py3-none-any.whl (5.5 MB)\n",
            "\u001b[2K   \u001b[90m━━━━━━━━━━━━━━━━━━━━━━━━━━━━━━━━━━━━━━━━\u001b[0m \u001b[32m5.5/5.5 MB\u001b[0m \u001b[31m55.6 MB/s\u001b[0m eta \u001b[36m0:00:00\u001b[0m\n",
            "\u001b[?25hDownloading tensorflow_estimator-2.15.0-py2.py3-none-any.whl (441 kB)\n",
            "\u001b[2K   \u001b[90m━━━━━━━━━━━━━━━━━━━━━━━━━━━━━━━━━━━━━━━━\u001b[0m \u001b[32m442.0/442.0 kB\u001b[0m \u001b[31m21.6 MB/s\u001b[0m eta \u001b[36m0:00:00\u001b[0m\n",
            "\u001b[?25hDownloading wrapt-1.14.1-cp310-cp310-manylinux_2_5_x86_64.manylinux1_x86_64.manylinux_2_17_x86_64.manylinux2014_x86_64.whl (77 kB)\n",
            "\u001b[2K   \u001b[90m━━━━━━━━━━━━━━━━━━━━━━━━━━━━━━━━━━━━━━━━\u001b[0m \u001b[32m77.9/77.9 kB\u001b[0m \u001b[31m5.9 MB/s\u001b[0m eta \u001b[36m0:00:00\u001b[0m\n",
            "\u001b[?25hInstalling collected packages: wrapt, tensorflow-estimator, ml-dtypes, keras, tensorboard, tensorflow\n",
            "  Attempting uninstall: wrapt\n",
            "    Found existing installation: wrapt 1.16.0\n",
            "    Uninstalling wrapt-1.16.0:\n",
            "      Successfully uninstalled wrapt-1.16.0\n",
            "  Attempting uninstall: ml-dtypes\n",
            "    Found existing installation: ml-dtypes 0.4.0\n",
            "    Uninstalling ml-dtypes-0.4.0:\n",
            "      Successfully uninstalled ml-dtypes-0.4.0\n",
            "  Attempting uninstall: keras\n",
            "    Found existing installation: keras 3.4.1\n",
            "    Uninstalling keras-3.4.1:\n",
            "      Successfully uninstalled keras-3.4.1\n",
            "  Attempting uninstall: tensorboard\n",
            "    Found existing installation: tensorboard 2.17.0\n",
            "    Uninstalling tensorboard-2.17.0:\n",
            "      Successfully uninstalled tensorboard-2.17.0\n",
            "  Attempting uninstall: tensorflow\n",
            "    Found existing installation: tensorflow 2.17.0\n",
            "    Uninstalling tensorflow-2.17.0:\n",
            "      Successfully uninstalled tensorflow-2.17.0\n",
            "\u001b[31mERROR: pip's dependency resolver does not currently take into account all the packages that are installed. This behaviour is the source of the following dependency conflicts.\n",
            "tensorstore 0.1.64 requires ml-dtypes>=0.3.1, but you have ml-dtypes 0.2.0 which is incompatible.\n",
            "tf-keras 2.17.0 requires tensorflow<2.18,>=2.17, but you have tensorflow 2.15.0 which is incompatible.\u001b[0m\u001b[31m\n",
            "\u001b[0mSuccessfully installed keras-2.15.0 ml-dtypes-0.2.0 tensorboard-2.15.2 tensorflow-2.15.0 tensorflow-estimator-2.15.0 wrapt-1.14.1\n"
          ]
        }
      ]
    },
    {
      "cell_type": "code",
      "execution_count": 2,
      "metadata": {
        "id": "ujjRGldx7YvW",
        "outputId": "c7c6b41c-8f07-4607-8d76-e917a5848835",
        "colab": {
          "base_uri": "https://localhost:8080/",
          "height": 34
        }
      },
      "outputs": [
        {
          "output_type": "display_data",
          "data": {
            "text/plain": [
              "<IPython.core.display.HTML object>"
            ],
            "text/html": [
              "\n",
              "<meta name=\"google-signin-client_id\"\n",
              "      content=\"461673936472-kdjosv61up3ac1ajeuq6qqu72upilmls.apps.googleusercontent.com\"/>\n",
              "<script src=\"https://apis.google.com/js/client:platform.js?onload=google_button_start\"></script>\n",
              "    "
            ]
          },
          "metadata": {}
        },
        {
          "output_type": "stream",
          "name": "stdout",
          "text": [
            "replicating local resources\n"
          ]
        }
      ],
      "source": [
        "!wget -nc --no-cache -O init.py -q https://raw.githubusercontent.com/rramosp/2021.deeplearning/main/content/init.py\n",
        "import init; init.init(force_download=False);"
      ]
    },
    {
      "cell_type": "code",
      "execution_count": 3,
      "metadata": {
        "id": "WfffQo227YvY",
        "outputId": "d737b68d-908a-444f-9408-01c56c490d92",
        "colab": {
          "base_uri": "https://localhost:8080/",
          "height": 35
        }
      },
      "outputs": [
        {
          "output_type": "execute_result",
          "data": {
            "text/plain": [
              "'2.15.0'"
            ],
            "application/vnd.google.colaboratory.intrinsic+json": {
              "type": "string"
            }
          },
          "metadata": {},
          "execution_count": 3
        }
      ],
      "source": [
        "import numpy as np\n",
        "import matplotlib.pyplot as plt\n",
        "import pandas as pd\n",
        "from IPython.display import Image\n",
        "%matplotlib inline\n",
        "import tensorflow as tf\n",
        "tf.__version__"
      ]
    },
    {
      "cell_type": "code",
      "execution_count": 4,
      "metadata": {
        "id": "eovwrNCN7YvZ",
        "outputId": "d60e1b82-c188-4ab1-ed84-e8eb5352a87d",
        "colab": {
          "base_uri": "https://localhost:8080/"
        }
      },
      "outputs": [
        {
          "output_type": "stream",
          "name": "stdout",
          "text": [
            "dimension de las imagenes y las clases (1500, 784) (1500,)\n"
          ]
        }
      ],
      "source": [
        "mnist = pd.read_csv(\"local/data/mnist1.5k.csv.gz\", compression=\"gzip\", header=None).values\n",
        "X=mnist[:,1:785]/255.\n",
        "y=mnist[:,0]\n",
        "print(\"dimension de las imagenes y las clases\", X.shape, y.shape)"
      ]
    },
    {
      "cell_type": "code",
      "execution_count": 5,
      "metadata": {
        "id": "gGx1Co8x7Yva",
        "outputId": "a78f9ad1-3849-4b42-8ed3-85a56c4f8058",
        "colab": {
          "base_uri": "https://localhost:8080/",
          "height": 512
        }
      },
      "outputs": [
        {
          "output_type": "display_data",
          "data": {
            "text/plain": [
              "<Figure size 1000x600 with 50 Axes>"
            ],
            "image/png": "[encoded data removed]"
          },
          "metadata": {}
        }
      ],
      "source": [
        "perm = np.random.permutation(list(range(X.shape[0])))[0:50]\n",
        "random_imgs   = X[perm]\n",
        "random_labels = y[perm]\n",
        "fig = plt.figure(figsize=(10,6))\n",
        "for i in range(random_imgs.shape[0]):\n",
        "    ax=fig.add_subplot(5,10,i+1)\n",
        "    plt.imshow(random_imgs[i].reshape(28,28), interpolation=\"nearest\", cmap = plt.cm.Greys_r)\n",
        "    ax.set_title(int(random_labels[i]))\n",
        "    ax.set_xticklabels([])\n",
        "    ax.set_yticklabels([])"
      ]
    },
    {
      "cell_type": "markdown",
      "metadata": {
        "id": "N93olQLV7Yvb"
      },
      "source": [
        "## A regular neural network for classification"
      ]
    },
    {
      "cell_type": "code",
      "execution_count": null,
      "metadata": {
        "id": "eOVfxU8j7Yvb",
        "outputId": "66fd21dc-37da-4ab8-9a9f-41081e0c5fef"
      },
      "outputs": [
        {
          "data": {
            "image/png": "[encoded data removed]",
            "text/plain": [
              "<IPython.core.display.Image object>"
            ]
          },
          "execution_count": 5,
          "metadata": {},
          "output_type": "execute_result"
        }
      ],
      "source": [
        "Image(filename='local/imgs/ann1.png')"
      ]
    },
    {
      "cell_type": "markdown",
      "metadata": {
        "id": "C2ia-NhN7Yvc"
      },
      "source": [
        "Number of connections:\n",
        "\n",
        "    INPUT to LAYER 1:    784*50 + 50 (bias) = 39250\n",
        "    LAYER 1 to LAYER 2:   50*30 + 30 (bias) = 1530\n",
        "    LAYER 2 to LAYER 3:   30*20 + 20 (bias) = 620\n",
        "    LAYER 3 to OUTPUT:    20*10 + 10 (bias) = 210\n",
        "    \n",
        "                                         TOTAL 41610"
      ]
    },
    {
      "cell_type": "markdown",
      "metadata": {
        "id": "0mFUyK7f7Yvc"
      },
      "source": [
        "observe we convert `y` to a one_hot encoding"
      ]
    },
    {
      "cell_type": "code",
      "execution_count": 6,
      "metadata": {
        "id": "0jOrIyCd7Yvc"
      },
      "outputs": [],
      "source": [
        "yoh = np.eye(10)[y]"
      ]
    },
    {
      "cell_type": "code",
      "execution_count": 7,
      "metadata": {
        "id": "pAHP4FKE7Yvd",
        "outputId": "78fc2d30-cf83-437f-db52-a666e60d913e",
        "colab": {
          "base_uri": "https://localhost:8080/"
        }
      },
      "outputs": [
        {
          "output_type": "execute_result",
          "data": {
            "text/plain": [
              "(1, array([0., 1., 0., 0., 0., 0., 0., 0., 0., 0.]))"
            ]
          },
          "metadata": {},
          "execution_count": 7
        }
      ],
      "source": [
        "i = np.random.randint(len(y))\n",
        "y[i], yoh[i]"
      ]
    },
    {
      "cell_type": "code",
      "execution_count": 8,
      "metadata": {
        "id": "4jzIiGbw7Yvd",
        "outputId": "5bdf6c89-a0d5-46b7-d306-89a487d525e6",
        "colab": {
          "base_uri": "https://localhost:8080/"
        }
      },
      "outputs": [
        {
          "output_type": "stream",
          "name": "stdout",
          "text": [
            "(300, 784) (300, 10)\n"
          ]
        }
      ],
      "source": [
        "from sklearn.model_selection import train_test_split\n",
        "X_train, X_test, y_train, y_test = train_test_split(X, y, test_size=.8)\n",
        "\n",
        "X_train, X_test, y_train, y_test = X[:300], X[300:], y[:300], y[300:]\n",
        "y_train_oh = np.eye(10)[y_train]\n",
        "y_test_oh  = np.eye(10)[y_test]\n",
        "print(X_train.shape, y_train_oh.shape)"
      ]
    },
    {
      "cell_type": "markdown",
      "metadata": {
        "id": "dLINTDBj7Yvd"
      },
      "source": [
        "### create the model"
      ]
    },
    {
      "cell_type": "code",
      "execution_count": 9,
      "metadata": {
        "id": "l_hpelle7Yve"
      },
      "outputs": [],
      "source": [
        "from tensorflow.keras import Sequential, Model\n",
        "from tensorflow.keras.layers import Dense, Dropout, Flatten, concatenate, Input\n",
        "from tensorflow.keras.backend import clear_session"
      ]
    },
    {
      "cell_type": "code",
      "execution_count": 10,
      "metadata": {
        "id": "43cMvsq37Yve"
      },
      "outputs": [],
      "source": [
        "def get_model_A(input_dim, s1, s2, s3, s3_activation=\"relu\"):\n",
        "    print(input_dim*s1 + s1*s2 + s2*s3 + s3*10 + s1+s2+s3+10)\n",
        "    clear_session()\n",
        "    model = Sequential()\n",
        "    model.add(Dense(s1, activation='relu', input_dim=input_dim))\n",
        "    model.add(Dense(s2, activation='relu'))\n",
        "    model.add(Dense(s3, activation=s3_activation))\n",
        "    model.add(Dense(10, activation='softmax'))\n",
        "\n",
        "    model.compile(optimizer='adam', loss='categorical_crossentropy')\n",
        "    model.reset_states()\n",
        "    return model"
      ]
    },
    {
      "cell_type": "code",
      "execution_count": 11,
      "metadata": {
        "id": "Q7PCr4ys7Yve",
        "outputId": "18124dfe-bd67-415b-d72b-3cc7cd56b8a5",
        "colab": {
          "base_uri": "https://localhost:8080/"
        }
      },
      "outputs": [
        {
          "output_type": "stream",
          "name": "stdout",
          "text": [
            "41610\n",
            "Model: \"sequential\"\n",
            "_________________________________________________________________\n",
            " Layer (type)                Output Shape              Param #   \n",
            "=================================================================\n",
            " dense (Dense)               (None, 50)                39250     \n",
            "                                                                 \n",
            " dense_1 (Dense)             (None, 30)                1530      \n",
            "                                                                 \n",
            " dense_2 (Dense)             (None, 20)                620       \n",
            "                                                                 \n",
            " dense_3 (Dense)             (None, 10)                210       \n",
            "                                                                 \n",
            "=================================================================\n",
            "Total params: 41610 (162.54 KB)\n",
            "Trainable params: 41610 (162.54 KB)\n",
            "Non-trainable params: 0 (0.00 Byte)\n",
            "_________________________________________________________________\n"
          ]
        }
      ],
      "source": [
        "model = get_model_A(input_dim=X.shape[1], s1=50, s2=30, s3=20)\n",
        "model.summary()"
      ]
    },
    {
      "cell_type": "code",
      "execution_count": null,
      "metadata": {
        "id": "cEU0p8zr7Yve"
      },
      "outputs": [],
      "source": []
    },
    {
      "cell_type": "markdown",
      "metadata": {
        "id": "YUp-BrQf7Yvf"
      },
      "source": [
        "### fit and display losses"
      ]
    },
    {
      "cell_type": "code",
      "execution_count": 12,
      "metadata": {
        "scrolled": true,
        "id": "f4kG6VTn7Yvf",
        "outputId": "ba7ba4d3-6c4a-4b52-c34a-b913ca5ff029",
        "colab": {
          "base_uri": "https://localhost:8080/"
        }
      },
      "outputs": [
        {
          "output_type": "stream",
          "name": "stdout",
          "text": [
            "Epoch 1/100\n",
            "10/10 [==============================] - 1s 34ms/step - loss: 2.2716 - val_loss: 2.2109\n",
            "Epoch 2/100\n",
            "10/10 [==============================] - 0s 11ms/step - loss: 2.0882 - val_loss: 2.0751\n",
            "Epoch 3/100\n",
            "10/10 [==============================] - 0s 11ms/step - loss: 1.8556 - val_loss: 1.8761\n",
            "Epoch 4/100\n",
            "10/10 [==============================] - 0s 10ms/step - loss: 1.5816 - val_loss: 1.6435\n",
            "Epoch 5/100\n",
            "10/10 [==============================] - 0s 10ms/step - loss: 1.3152 - val_loss: 1.4306\n",
            "Epoch 6/100\n",
            "10/10 [==============================] - 0s 11ms/step - loss: 1.0814 - val_loss: 1.2625\n",
            "Epoch 7/100\n",
            "10/10 [==============================] - 0s 11ms/step - loss: 0.8772 - val_loss: 1.1062\n",
            "Epoch 8/100\n",
            "10/10 [==============================] - 0s 12ms/step - loss: 0.7174 - val_loss: 0.9957\n",
            "Epoch 9/100\n",
            "10/10 [==============================] - 0s 22ms/step - loss: 0.5797 - val_loss: 0.9217\n",
            "Epoch 10/100\n",
            "10/10 [==============================] - 0s 11ms/step - loss: 0.4637 - val_loss: 0.8687\n",
            "Epoch 11/100\n",
            "10/10 [==============================] - 0s 12ms/step - loss: 0.3829 - val_loss: 0.8329\n",
            "Epoch 12/100\n",
            "10/10 [==============================] - 0s 10ms/step - loss: 0.3117 - val_loss: 0.8044\n",
            "Epoch 13/100\n",
            "10/10 [==============================] - 0s 12ms/step - loss: 0.2614 - val_loss: 0.7662\n",
            "Epoch 14/100\n",
            "10/10 [==============================] - 0s 11ms/step - loss: 0.2088 - val_loss: 0.7899\n",
            "Epoch 15/100\n",
            "10/10 [==============================] - 0s 12ms/step - loss: 0.1755 - val_loss: 0.7523\n",
            "Epoch 16/100\n",
            "10/10 [==============================] - 0s 10ms/step - loss: 0.1421 - val_loss: 0.7510\n",
            "Epoch 17/100\n",
            "10/10 [==============================] - 0s 22ms/step - loss: 0.1130 - val_loss: 0.7684\n",
            "Epoch 18/100\n",
            "10/10 [==============================] - 0s 12ms/step - loss: 0.0964 - val_loss: 0.7590\n",
            "Epoch 19/100\n",
            "10/10 [==============================] - 0s 12ms/step - loss: 0.0808 - val_loss: 0.7548\n",
            "Epoch 20/100\n",
            "10/10 [==============================] - 0s 12ms/step - loss: 0.0691 - val_loss: 0.7656\n",
            "Epoch 21/100\n",
            "10/10 [==============================] - 0s 12ms/step - loss: 0.0597 - val_loss: 0.7688\n",
            "Epoch 22/100\n",
            "10/10 [==============================] - 0s 11ms/step - loss: 0.0515 - val_loss: 0.7860\n",
            "Epoch 23/100\n",
            "10/10 [==============================] - 0s 10ms/step - loss: 0.0450 - val_loss: 0.7744\n",
            "Epoch 24/100\n",
            "10/10 [==============================] - 0s 11ms/step - loss: 0.0397 - val_loss: 0.8001\n",
            "Epoch 25/100\n",
            "10/10 [==============================] - 0s 22ms/step - loss: 0.0348 - val_loss: 0.7951\n",
            "Epoch 26/100\n",
            "10/10 [==============================] - 0s 12ms/step - loss: 0.0326 - val_loss: 0.7997\n",
            "Epoch 27/100\n",
            "10/10 [==============================] - 0s 10ms/step - loss: 0.0283 - val_loss: 0.8067\n",
            "Epoch 28/100\n",
            "10/10 [==============================] - 0s 12ms/step - loss: 0.0250 - val_loss: 0.8120\n",
            "Epoch 29/100\n",
            "10/10 [==============================] - 0s 10ms/step - loss: 0.0230 - val_loss: 0.8197\n",
            "Epoch 30/100\n",
            "10/10 [==============================] - 0s 10ms/step - loss: 0.0205 - val_loss: 0.8297\n",
            "Epoch 31/100\n",
            "10/10 [==============================] - 0s 11ms/step - loss: 0.0189 - val_loss: 0.8192\n",
            "Epoch 32/100\n",
            "10/10 [==============================] - 1s 74ms/step - loss: 0.0173 - val_loss: 0.8454\n",
            "Epoch 33/100\n",
            "10/10 [==============================] - 0s 12ms/step - loss: 0.0158 - val_loss: 0.8425\n",
            "Epoch 34/100\n",
            "10/10 [==============================] - 0s 11ms/step - loss: 0.0145 - val_loss: 0.8483\n",
            "Epoch 35/100\n",
            "10/10 [==============================] - 0s 10ms/step - loss: 0.0136 - val_loss: 0.8572\n",
            "Epoch 36/100\n",
            "10/10 [==============================] - 0s 11ms/step - loss: 0.0127 - val_loss: 0.8647\n",
            "Epoch 37/100\n",
            "10/10 [==============================] - 0s 12ms/step - loss: 0.0121 - val_loss: 0.8756\n",
            "Epoch 38/100\n",
            "10/10 [==============================] - 0s 13ms/step - loss: 0.0111 - val_loss: 0.8659\n",
            "Epoch 39/100\n",
            "10/10 [==============================] - 0s 10ms/step - loss: 0.0105 - val_loss: 0.8707\n",
            "Epoch 40/100\n",
            "10/10 [==============================] - 0s 11ms/step - loss: 0.0097 - val_loss: 0.8914\n",
            "Epoch 41/100\n",
            "10/10 [==============================] - 0s 12ms/step - loss: 0.0092 - val_loss: 0.8903\n",
            "Epoch 42/100\n",
            "10/10 [==============================] - 0s 12ms/step - loss: 0.0086 - val_loss: 0.8909\n",
            "Epoch 43/100\n",
            "10/10 [==============================] - 0s 12ms/step - loss: 0.0080 - val_loss: 0.8977\n",
            "Epoch 44/100\n",
            "10/10 [==============================] - 0s 10ms/step - loss: 0.0076 - val_loss: 0.8977\n",
            "Epoch 45/100\n",
            "10/10 [==============================] - 0s 11ms/step - loss: 0.0072 - val_loss: 0.9073\n",
            "Epoch 46/100\n",
            "10/10 [==============================] - 0s 13ms/step - loss: 0.0069 - val_loss: 0.9042\n",
            "Epoch 47/100\n",
            "10/10 [==============================] - 0s 13ms/step - loss: 0.0065 - val_loss: 0.9092\n",
            "Epoch 48/100\n",
            "10/10 [==============================] - 0s 12ms/step - loss: 0.0062 - val_loss: 0.9176\n",
            "Epoch 49/100\n",
            "10/10 [==============================] - 0s 12ms/step - loss: 0.0059 - val_loss: 0.9186\n",
            "Epoch 50/100\n",
            "10/10 [==============================] - 0s 11ms/step - loss: 0.0056 - val_loss: 0.9242\n",
            "Epoch 51/100\n",
            "10/10 [==============================] - 0s 11ms/step - loss: 0.0054 - val_loss: 0.9273\n",
            "Epoch 52/100\n",
            "10/10 [==============================] - 0s 10ms/step - loss: 0.0051 - val_loss: 0.9285\n",
            "Epoch 53/100\n",
            "10/10 [==============================] - 0s 10ms/step - loss: 0.0049 - val_loss: 0.9349\n",
            "Epoch 54/100\n",
            "10/10 [==============================] - 0s 10ms/step - loss: 0.0047 - val_loss: 0.9426\n",
            "Epoch 55/100\n",
            "10/10 [==============================] - 0s 12ms/step - loss: 0.0045 - val_loss: 0.9499\n",
            "Epoch 56/100\n",
            "10/10 [==============================] - 0s 12ms/step - loss: 0.0043 - val_loss: 0.9448\n",
            "Epoch 57/100\n",
            "10/10 [==============================] - 0s 12ms/step - loss: 0.0041 - val_loss: 0.9464\n",
            "Epoch 58/100\n",
            "10/10 [==============================] - 0s 20ms/step - loss: 0.0040 - val_loss: 0.9561\n",
            "Epoch 59/100\n",
            "10/10 [==============================] - 0s 24ms/step - loss: 0.0038 - val_loss: 0.9563\n",
            "Epoch 60/100\n",
            "10/10 [==============================] - 0s 23ms/step - loss: 0.0037 - val_loss: 0.9581\n",
            "Epoch 61/100\n",
            "10/10 [==============================] - 0s 26ms/step - loss: 0.0035 - val_loss: 0.9642\n",
            "Epoch 62/100\n",
            "10/10 [==============================] - 0s 15ms/step - loss: 0.0034 - val_loss: 0.9646\n",
            "Epoch 63/100\n",
            "10/10 [==============================] - 0s 15ms/step - loss: 0.0033 - val_loss: 0.9727\n",
            "Epoch 64/100\n",
            "10/10 [==============================] - 0s 18ms/step - loss: 0.0032 - val_loss: 0.9805\n",
            "Epoch 65/100\n",
            "10/10 [==============================] - 0s 24ms/step - loss: 0.0031 - val_loss: 0.9838\n",
            "Epoch 66/100\n",
            "10/10 [==============================] - 0s 19ms/step - loss: 0.0030 - val_loss: 0.9727\n",
            "Epoch 67/100\n",
            "10/10 [==============================] - 0s 25ms/step - loss: 0.0029 - val_loss: 0.9803\n",
            "Epoch 68/100\n",
            "10/10 [==============================] - 0s 24ms/step - loss: 0.0028 - val_loss: 0.9891\n",
            "Epoch 69/100\n",
            "10/10 [==============================] - 0s 23ms/step - loss: 0.0027 - val_loss: 0.9893\n",
            "Epoch 70/100\n",
            "10/10 [==============================] - 0s 23ms/step - loss: 0.0026 - val_loss: 0.9930\n",
            "Epoch 71/100\n",
            "10/10 [==============================] - 0s 25ms/step - loss: 0.0025 - val_loss: 0.9982\n",
            "Epoch 72/100\n",
            "10/10 [==============================] - 0s 13ms/step - loss: 0.0024 - val_loss: 0.9969\n",
            "Epoch 73/100\n",
            "10/10 [==============================] - 0s 10ms/step - loss: 0.0023 - val_loss: 0.9988\n",
            "Epoch 74/100\n",
            "10/10 [==============================] - 0s 12ms/step - loss: 0.0023 - val_loss: 1.0018\n",
            "Epoch 75/100\n",
            "10/10 [==============================] - 0s 10ms/step - loss: 0.0022 - val_loss: 1.0076\n",
            "Epoch 76/100\n",
            "10/10 [==============================] - 0s 12ms/step - loss: 0.0022 - val_loss: 1.0055\n",
            "Epoch 77/100\n",
            "10/10 [==============================] - 0s 10ms/step - loss: 0.0021 - val_loss: 1.0119\n",
            "Epoch 78/100\n",
            "10/10 [==============================] - 0s 10ms/step - loss: 0.0020 - val_loss: 1.0173\n",
            "Epoch 79/100\n",
            "10/10 [==============================] - 0s 12ms/step - loss: 0.0020 - val_loss: 1.0151\n",
            "Epoch 80/100\n",
            "10/10 [==============================] - 0s 13ms/step - loss: 0.0019 - val_loss: 1.0184\n",
            "Epoch 81/100\n",
            "10/10 [==============================] - 0s 12ms/step - loss: 0.0019 - val_loss: 1.0218\n",
            "Epoch 82/100\n",
            "10/10 [==============================] - 0s 12ms/step - loss: 0.0018 - val_loss: 1.0257\n",
            "Epoch 83/100\n",
            "10/10 [==============================] - 0s 10ms/step - loss: 0.0018 - val_loss: 1.0296\n",
            "Epoch 84/100\n",
            "10/10 [==============================] - 0s 10ms/step - loss: 0.0017 - val_loss: 1.0278\n",
            "Epoch 85/100\n",
            "10/10 [==============================] - 0s 12ms/step - loss: 0.0017 - val_loss: 1.0287\n",
            "Epoch 86/100\n",
            "10/10 [==============================] - 0s 13ms/step - loss: 0.0016 - val_loss: 1.0305\n",
            "Epoch 87/100\n",
            "10/10 [==============================] - 0s 10ms/step - loss: 0.0016 - val_loss: 1.0376\n",
            "Epoch 88/100\n",
            "10/10 [==============================] - 0s 22ms/step - loss: 0.0015 - val_loss: 1.0392\n",
            "Epoch 89/100\n",
            "10/10 [==============================] - 0s 10ms/step - loss: 0.0015 - val_loss: 1.0394\n",
            "Epoch 90/100\n",
            "10/10 [==============================] - 0s 12ms/step - loss: 0.0015 - val_loss: 1.0431\n",
            "Epoch 91/100\n",
            "10/10 [==============================] - 0s 12ms/step - loss: 0.0014 - val_loss: 1.0452\n",
            "Epoch 92/100\n",
            "10/10 [==============================] - 0s 12ms/step - loss: 0.0014 - val_loss: 1.0472\n",
            "Epoch 93/100\n",
            "10/10 [==============================] - 0s 11ms/step - loss: 0.0014 - val_loss: 1.0502\n",
            "Epoch 94/100\n",
            "10/10 [==============================] - 0s 11ms/step - loss: 0.0013 - val_loss: 1.0555\n",
            "Epoch 95/100\n",
            "10/10 [==============================] - 0s 12ms/step - loss: 0.0013 - val_loss: 1.0590\n",
            "Epoch 96/100\n",
            "10/10 [==============================] - 0s 14ms/step - loss: 0.0013 - val_loss: 1.0591\n",
            "Epoch 97/100\n",
            "10/10 [==============================] - 0s 12ms/step - loss: 0.0012 - val_loss: 1.0605\n",
            "Epoch 98/100\n",
            "10/10 [==============================] - 0s 10ms/step - loss: 0.0012 - val_loss: 1.0614\n",
            "Epoch 99/100\n",
            "10/10 [==============================] - 0s 10ms/step - loss: 0.0012 - val_loss: 1.0627\n",
            "Epoch 100/100\n",
            "10/10 [==============================] - 0s 12ms/step - loss: 0.0012 - val_loss: 1.0673\n"
          ]
        },
        {
          "output_type": "execute_result",
          "data": {
            "text/plain": [
              "<keras.src.callbacks.History at 0x7a7770314a30>"
            ]
          },
          "metadata": {},
          "execution_count": 12
        }
      ],
      "source": [
        "model.fit(X_train, y_train_oh, epochs=100, batch_size=32, validation_data=(X_test, y_test_oh))"
      ]
    },
    {
      "cell_type": "code",
      "execution_count": 13,
      "metadata": {
        "id": "Ar1qlw5c7Yvf",
        "outputId": "31efef45-d493-481b-c786-10ce4ef59683",
        "colab": {
          "base_uri": "https://localhost:8080/",
          "height": 220
        }
      },
      "outputs": [
        {
          "output_type": "display_data",
          "data": {
            "text/plain": [
              "<Figure size 2000x300 with 1 Axes>"
            ],
            "image/png": "[encoded data removed]"
          },
          "metadata": {}
        }
      ],
      "source": [
        "plt.figure(figsize=(20,3))\n",
        "loss  = model.history.history[\"loss\"]\n",
        "vloss = model.history.history[\"val_loss\"]\n",
        "plt.plot(loss, lw=4, alpha=.5, label=\"loss\")\n",
        "plt.plot(vloss, lw=4, alpha=.5, label=\"val loss\")\n",
        "plt.grid();\n",
        "plt.legend();"
      ]
    },
    {
      "cell_type": "markdown",
      "metadata": {
        "id": "IVVn_DVS7Yvf"
      },
      "source": [
        "### measure accuracies\n",
        "\n",
        "- why are we using argmax below?"
      ]
    },
    {
      "cell_type": "code",
      "execution_count": 14,
      "metadata": {
        "id": "LlNRrbJt7Yvf",
        "outputId": "961e4863-859c-4157-f70f-123a3c596080",
        "colab": {
          "base_uri": "https://localhost:8080/"
        }
      },
      "outputs": [
        {
          "output_type": "stream",
          "name": "stdout",
          "text": [
            "10/10 [==============================] - 0s 2ms/step\n",
            "38/38 [==============================] - 0s 2ms/step\n",
            "accuracy train 1.000\n",
            "accuracy test  0.798\n"
          ]
        }
      ],
      "source": [
        "preds_train = model.predict(X_train).argmax(axis=1)\n",
        "preds_test = model.predict(X_test).argmax(axis=1)\n",
        "\n",
        "print(\"accuracy train %.3f\"%(np.mean(preds_train==y_train)))\n",
        "print(\"accuracy test  %.3f\"%(np.mean(preds_test==y_test)))"
      ]
    },
    {
      "cell_type": "markdown",
      "metadata": {
        "id": "UZgWApTD7Yvg"
      },
      "source": [
        "## Multimodal network\n",
        "\n",
        "We will simulate we have information about our data from an additional source. This can be the case when we have, for instance, medical images and associated clinical data. In this situation we have **multimodal data** (images and numeric).\n",
        "\n",
        "We would like to have an arquitecture in which we can inject both image and numeric data.\n",
        "\n",
        "In this case, we assume we have an additional information source, telling us with a size 2 vector whether each image contains an odd or even number (with vaues `[1 0]`  or `[0 1]`)\n",
        "\n",
        "This new info **is injected at LAYER 3** simply concatenating the neurons"
      ]
    },
    {
      "cell_type": "code",
      "execution_count": null,
      "metadata": {
        "id": "cogVtIpR7Yvg",
        "outputId": "f5010ead-b399-470f-83d0-f7bef7394f9d"
      },
      "outputs": [
        {
          "data": {
            "image/png": "[encoded data removed]",
            "text/plain": [
              "<IPython.core.display.Image object>"
            ]
          },
          "execution_count": 17,
          "metadata": {},
          "output_type": "execute_result"
        }
      ],
      "source": [
        "Image(filename='local/imgs/ann2.png')"
      ]
    },
    {
      "cell_type": "markdown",
      "metadata": {
        "id": "E29f_MFZ7Yvg"
      },
      "source": [
        "Number of connections:\n",
        "\n",
        "\n",
        "    INPUT 1 to LAYER 1:              784*50 + 50 (bias) = 39250\n",
        "    LAYER 1 to LAYER 2:               50*30 + 30 (bias) = 1530\n",
        "    LAYER 2 to LAYER 3:               30*20 + 20 (bias) = 620\n",
        "    LAYER 3 + INPUT 2 to OUTPUT:  (20+2)*10 + 10 (bias) = 230\n",
        "    \n",
        "                                                    TOTAL 41630\n",
        "\n",
        "observe how this new architecture is built, and how the two kinds of information are handled both when building the network or when fitting or predicting"
      ]
    },
    {
      "cell_type": "code",
      "execution_count": 15,
      "metadata": {
        "id": "yJXwRqs17Yvg"
      },
      "outputs": [],
      "source": [
        "def get_model_B(input_dim, extra_info_dim,  s1, s2, s3, s3_activation=\"relu\"):\n",
        "    clear_session()\n",
        "    inp1 = Input(shape=(input_dim,), name=\"input_img\")\n",
        "    l11 = Dense(s1, activation=\"relu\", name=\"dense1\")(inp1)\n",
        "    l12 = Dense(s2, activation=\"relu\", name=\"dense2\")(l11)\n",
        "    l13 = Dense(s3, activation=s3_activation, name=\"dense3\")(l12)\n",
        "\n",
        "    inp2 = Input(shape=(extra_info_dim,), name=\"input_extra\")\n",
        "    cc1 = tf.concat([l13, inp2],axis=1) # Merge row, same column\n",
        "    output = Dense(10, activation='softmax', name=\"output\")(cc1)\n",
        "    model = Model(inputs=[inp1, inp2], outputs=output)\n",
        "\n",
        "    model.compile(optimizer='adam', loss='categorical_crossentropy')\n",
        "    model.reset_states()\n",
        "    return model"
      ]
    },
    {
      "cell_type": "markdown",
      "metadata": {
        "id": "ht7Rt7He7Yvg"
      },
      "source": [
        "We simulate extra information, we could actually have several choices to encode this information, for instance\n",
        "\n",
        "- `[ 1, 0] [ 0, 1]` or\n",
        "- `[ 1,-1] [-1, 1]` or\n",
        "- `[10, 0] [ 0,10]` among others\n",
        "\n",
        "Observe how **k0**, **k1** control how the data is represented. Try:\n",
        "    \n",
        "- k0=0, k1=1\n",
        "- k0=-0.5, k1=2\n",
        "- k0=0, k2=10\n",
        "- k0=-0.5, k1=20\n",
        "\n",
        "to understand how this coding affects the representation"
      ]
    },
    {
      "cell_type": "code",
      "execution_count": 16,
      "metadata": {
        "id": "F8Z6oIGf7Yvg",
        "outputId": "2dd092be-d800-437f-b733-fe810fdf2215",
        "colab": {
          "base_uri": "https://localhost:8080/"
        }
      },
      "outputs": [
        {
          "output_type": "execute_result",
          "data": {
            "text/plain": [
              "array([[-1.,  1.],\n",
              "       [ 1., -1.],\n",
              "       [-1.,  1.],\n",
              "       [ 1., -1.],\n",
              "       [ 1., -1.],\n",
              "       [ 1., -1.],\n",
              "       [-1.,  1.],\n",
              "       [-1.,  1.],\n",
              "       [-1.,  1.],\n",
              "       [-1.,  1.]])"
            ]
          },
          "metadata": {},
          "execution_count": 16
        }
      ],
      "source": [
        "def get_X_extra(y_train, y_test, k0, k1):\n",
        "    X_train_extra = (np.eye(2)[y_train%2]+k0)*k1\n",
        "    X_test_extra  = (np.eye(2)[y_test%2]+k0)*k1\n",
        "    return X_train_extra, X_test_extra\n",
        "\n",
        "X_train_extra, X_test_extra = get_X_extra(y_train, y_test, k0=-.5, k1=2)\n",
        "X_train_extra[:10]"
      ]
    },
    {
      "cell_type": "code",
      "execution_count": 17,
      "metadata": {
        "id": "U2nHDMQs7Yvh",
        "outputId": "4e5dbcb9-b405-4a22-d7d4-5f509cea12b5",
        "colab": {
          "base_uri": "https://localhost:8080/"
        }
      },
      "outputs": [
        {
          "output_type": "stream",
          "name": "stdout",
          "text": [
            "Model: \"model\"\n",
            "__________________________________________________________________________________________________\n",
            " Layer (type)                Output Shape                 Param #   Connected to                  \n",
            "==================================================================================================\n",
            " input_img (InputLayer)      [(None, 784)]                0         []                            \n",
            "                                                                                                  \n",
            " dense1 (Dense)              (None, 50)                   39250     ['input_img[0][0]']           \n",
            "                                                                                                  \n",
            " dense2 (Dense)              (None, 30)                   1530      ['dense1[0][0]']              \n",
            "                                                                                                  \n",
            " dense3 (Dense)              (None, 20)                   620       ['dense2[0][0]']              \n",
            "                                                                                                  \n",
            " input_extra (InputLayer)    [(None, 2)]                  0         []                            \n",
            "                                                                                                  \n",
            " tf.concat (TFOpLambda)      (None, 22)                   0         ['dense3[0][0]',              \n",
            "                                                                     'input_extra[0][0]']         \n",
            "                                                                                                  \n",
            " output (Dense)              (None, 10)                   230       ['tf.concat[0][0]']           \n",
            "                                                                                                  \n",
            "==================================================================================================\n",
            "Total params: 41630 (162.62 KB)\n",
            "Trainable params: 41630 (162.62 KB)\n",
            "Non-trainable params: 0 (0.00 Byte)\n",
            "__________________________________________________________________________________________________\n"
          ]
        }
      ],
      "source": [
        "model = get_model_B(input_dim=X.shape[1], extra_info_dim=X_train_extra.shape[1], s1=50, s2=30, s3=20,\n",
        "                   s3_activation=\"tanh\")\n",
        "model.summary()"
      ]
    },
    {
      "cell_type": "code",
      "execution_count": 18,
      "metadata": {
        "scrolled": true,
        "id": "7SWGAh5N7Yvh",
        "outputId": "e59c0db7-c8a1-447d-efd0-2525c8562210",
        "colab": {
          "base_uri": "https://localhost:8080/"
        }
      },
      "outputs": [
        {
          "output_type": "stream",
          "name": "stdout",
          "text": [
            "Epoch 1/100\n",
            "10/10 [==============================] - 1s 31ms/step - loss: 2.1703 - val_loss: 2.0889\n",
            "Epoch 2/100\n",
            "10/10 [==============================] - 0s 12ms/step - loss: 1.8970 - val_loss: 1.8928\n",
            "Epoch 3/100\n",
            "10/10 [==============================] - 0s 11ms/step - loss: 1.6626 - val_loss: 1.7244\n",
            "Epoch 4/100\n",
            "10/10 [==============================] - 0s 13ms/step - loss: 1.4661 - val_loss: 1.5671\n",
            "Epoch 5/100\n",
            "10/10 [==============================] - 0s 10ms/step - loss: 1.2895 - val_loss: 1.4277\n",
            "Epoch 6/100\n",
            "10/10 [==============================] - 0s 11ms/step - loss: 1.1382 - val_loss: 1.3057\n",
            "Epoch 7/100\n",
            "10/10 [==============================] - 0s 11ms/step - loss: 0.9981 - val_loss: 1.1799\n",
            "Epoch 8/100\n",
            "10/10 [==============================] - 0s 12ms/step - loss: 0.8729 - val_loss: 1.0814\n",
            "Epoch 9/100\n",
            "10/10 [==============================] - 0s 11ms/step - loss: 0.7631 - val_loss: 0.9946\n",
            "Epoch 10/100\n",
            "10/10 [==============================] - 0s 22ms/step - loss: 0.6561 - val_loss: 0.9321\n",
            "Epoch 11/100\n",
            "10/10 [==============================] - 0s 11ms/step - loss: 0.5828 - val_loss: 0.8688\n",
            "Epoch 12/100\n",
            "10/10 [==============================] - 0s 21ms/step - loss: 0.4962 - val_loss: 0.8214\n",
            "Epoch 13/100\n",
            "10/10 [==============================] - 0s 11ms/step - loss: 0.4246 - val_loss: 0.7935\n",
            "Epoch 14/100\n",
            "10/10 [==============================] - 0s 11ms/step - loss: 0.3715 - val_loss: 0.7502\n",
            "Epoch 15/100\n",
            "10/10 [==============================] - 0s 12ms/step - loss: 0.3239 - val_loss: 0.7272\n",
            "Epoch 16/100\n",
            "10/10 [==============================] - 0s 12ms/step - loss: 0.2885 - val_loss: 0.7121\n",
            "Epoch 17/100\n",
            "10/10 [==============================] - 0s 21ms/step - loss: 0.2587 - val_loss: 0.6942\n",
            "Epoch 18/100\n",
            "10/10 [==============================] - 0s 12ms/step - loss: 0.2254 - val_loss: 0.6752\n",
            "Epoch 19/100\n",
            "10/10 [==============================] - 0s 12ms/step - loss: 0.1994 - val_loss: 0.6696\n",
            "Epoch 20/100\n",
            "10/10 [==============================] - 0s 13ms/step - loss: 0.1782 - val_loss: 0.6655\n",
            "Epoch 21/100\n",
            "10/10 [==============================] - 0s 10ms/step - loss: 0.1597 - val_loss: 0.6539\n",
            "Epoch 22/100\n",
            "10/10 [==============================] - 0s 11ms/step - loss: 0.1449 - val_loss: 0.6476\n",
            "Epoch 23/100\n",
            "10/10 [==============================] - 0s 10ms/step - loss: 0.1326 - val_loss: 0.6365\n",
            "Epoch 24/100\n",
            "10/10 [==============================] - 0s 11ms/step - loss: 0.1216 - val_loss: 0.6454\n",
            "Epoch 25/100\n",
            "10/10 [==============================] - 0s 12ms/step - loss: 0.1114 - val_loss: 0.6343\n",
            "Epoch 26/100\n",
            "10/10 [==============================] - 0s 12ms/step - loss: 0.1024 - val_loss: 0.6317\n",
            "Epoch 27/100\n",
            "10/10 [==============================] - 0s 11ms/step - loss: 0.0951 - val_loss: 0.6270\n",
            "Epoch 28/100\n",
            "10/10 [==============================] - 0s 11ms/step - loss: 0.0876 - val_loss: 0.6263\n",
            "Epoch 29/100\n",
            "10/10 [==============================] - 0s 13ms/step - loss: 0.0816 - val_loss: 0.6252\n",
            "Epoch 30/100\n",
            "10/10 [==============================] - 0s 10ms/step - loss: 0.0763 - val_loss: 0.6217\n",
            "Epoch 31/100\n",
            "10/10 [==============================] - 0s 12ms/step - loss: 0.0708 - val_loss: 0.6226\n",
            "Epoch 32/100\n",
            "10/10 [==============================] - 0s 11ms/step - loss: 0.0664 - val_loss: 0.6202\n",
            "Epoch 33/100\n",
            "10/10 [==============================] - 0s 12ms/step - loss: 0.0621 - val_loss: 0.6200\n",
            "Epoch 34/100\n",
            "10/10 [==============================] - 0s 14ms/step - loss: 0.0588 - val_loss: 0.6203\n",
            "Epoch 35/100\n",
            "10/10 [==============================] - 0s 11ms/step - loss: 0.0552 - val_loss: 0.6189\n",
            "Epoch 36/100\n",
            "10/10 [==============================] - 0s 11ms/step - loss: 0.0521 - val_loss: 0.6210\n",
            "Epoch 37/100\n",
            "10/10 [==============================] - 0s 11ms/step - loss: 0.0494 - val_loss: 0.6235\n",
            "Epoch 38/100\n",
            "10/10 [==============================] - 0s 13ms/step - loss: 0.0467 - val_loss: 0.6203\n",
            "Epoch 39/100\n",
            "10/10 [==============================] - 0s 12ms/step - loss: 0.0445 - val_loss: 0.6200\n",
            "Epoch 40/100\n",
            "10/10 [==============================] - 0s 11ms/step - loss: 0.0425 - val_loss: 0.6202\n",
            "Epoch 41/100\n",
            "10/10 [==============================] - 0s 12ms/step - loss: 0.0404 - val_loss: 0.6285\n",
            "Epoch 42/100\n",
            "10/10 [==============================] - 0s 12ms/step - loss: 0.0388 - val_loss: 0.6249\n",
            "Epoch 43/100\n",
            "10/10 [==============================] - 0s 14ms/step - loss: 0.0370 - val_loss: 0.6268\n",
            "Epoch 44/100\n",
            "10/10 [==============================] - 0s 12ms/step - loss: 0.0354 - val_loss: 0.6254\n",
            "Epoch 45/100\n",
            "10/10 [==============================] - 0s 11ms/step - loss: 0.0340 - val_loss: 0.6270\n",
            "Epoch 46/100\n",
            "10/10 [==============================] - 0s 12ms/step - loss: 0.0327 - val_loss: 0.6275\n",
            "Epoch 47/100\n",
            "10/10 [==============================] - 0s 12ms/step - loss: 0.0315 - val_loss: 0.6283\n",
            "Epoch 48/100\n",
            "10/10 [==============================] - 0s 12ms/step - loss: 0.0304 - val_loss: 0.6259\n",
            "Epoch 49/100\n",
            "10/10 [==============================] - 0s 11ms/step - loss: 0.0292 - val_loss: 0.6306\n",
            "Epoch 50/100\n",
            "10/10 [==============================] - 0s 12ms/step - loss: 0.0282 - val_loss: 0.6297\n",
            "Epoch 51/100\n",
            "10/10 [==============================] - 0s 15ms/step - loss: 0.0272 - val_loss: 0.6319\n",
            "Epoch 52/100\n",
            "10/10 [==============================] - 0s 11ms/step - loss: 0.0263 - val_loss: 0.6346\n",
            "Epoch 53/100\n",
            "10/10 [==============================] - 0s 11ms/step - loss: 0.0254 - val_loss: 0.6316\n",
            "Epoch 54/100\n",
            "10/10 [==============================] - 0s 11ms/step - loss: 0.0246 - val_loss: 0.6333\n",
            "Epoch 55/100\n",
            "10/10 [==============================] - 0s 12ms/step - loss: 0.0239 - val_loss: 0.6388\n",
            "Epoch 56/100\n",
            "10/10 [==============================] - 0s 11ms/step - loss: 0.0231 - val_loss: 0.6352\n",
            "Epoch 57/100\n",
            "10/10 [==============================] - 0s 12ms/step - loss: 0.0224 - val_loss: 0.6329\n",
            "Epoch 58/100\n",
            "10/10 [==============================] - 0s 12ms/step - loss: 0.0217 - val_loss: 0.6385\n",
            "Epoch 59/100\n",
            "10/10 [==============================] - 0s 12ms/step - loss: 0.0211 - val_loss: 0.6399\n",
            "Epoch 60/100\n",
            "10/10 [==============================] - 0s 13ms/step - loss: 0.0204 - val_loss: 0.6378\n",
            "Epoch 61/100\n",
            "10/10 [==============================] - 0s 11ms/step - loss: 0.0198 - val_loss: 0.6379\n",
            "Epoch 62/100\n",
            "10/10 [==============================] - 0s 11ms/step - loss: 0.0193 - val_loss: 0.6401\n",
            "Epoch 63/100\n",
            "10/10 [==============================] - 0s 11ms/step - loss: 0.0188 - val_loss: 0.6403\n",
            "Epoch 64/100\n",
            "10/10 [==============================] - 0s 11ms/step - loss: 0.0183 - val_loss: 0.6427\n",
            "Epoch 65/100\n",
            "10/10 [==============================] - 0s 10ms/step - loss: 0.0178 - val_loss: 0.6422\n",
            "Epoch 66/100\n",
            "10/10 [==============================] - 0s 23ms/step - loss: 0.0173 - val_loss: 0.6448\n",
            "Epoch 67/100\n",
            "10/10 [==============================] - 0s 24ms/step - loss: 0.0169 - val_loss: 0.6456\n",
            "Epoch 68/100\n",
            "10/10 [==============================] - 0s 17ms/step - loss: 0.0164 - val_loss: 0.6470\n",
            "Epoch 69/100\n",
            "10/10 [==============================] - 0s 16ms/step - loss: 0.0160 - val_loss: 0.6477\n",
            "Epoch 70/100\n",
            "10/10 [==============================] - 0s 15ms/step - loss: 0.0156 - val_loss: 0.6475\n",
            "Epoch 71/100\n",
            "10/10 [==============================] - 0s 24ms/step - loss: 0.0153 - val_loss: 0.6481\n",
            "Epoch 72/100\n",
            "10/10 [==============================] - 0s 15ms/step - loss: 0.0149 - val_loss: 0.6504\n",
            "Epoch 73/100\n",
            "10/10 [==============================] - 0s 52ms/step - loss: 0.0146 - val_loss: 0.6507\n",
            "Epoch 74/100\n",
            "10/10 [==============================] - 0s 47ms/step - loss: 0.0142 - val_loss: 0.6510\n",
            "Epoch 75/100\n",
            "10/10 [==============================] - 0s 16ms/step - loss: 0.0139 - val_loss: 0.6512\n",
            "Epoch 76/100\n",
            "10/10 [==============================] - 0s 16ms/step - loss: 0.0136 - val_loss: 0.6539\n",
            "Epoch 77/100\n",
            "10/10 [==============================] - 1s 78ms/step - loss: 0.0133 - val_loss: 0.6525\n",
            "Epoch 78/100\n",
            "10/10 [==============================] - 0s 47ms/step - loss: 0.0130 - val_loss: 0.6536\n",
            "Epoch 79/100\n",
            "10/10 [==============================] - 0s 18ms/step - loss: 0.0127 - val_loss: 0.6558\n",
            "Epoch 80/100\n",
            "10/10 [==============================] - 0s 13ms/step - loss: 0.0124 - val_loss: 0.6571\n",
            "Epoch 81/100\n",
            "10/10 [==============================] - 1s 77ms/step - loss: 0.0121 - val_loss: 0.6568\n",
            "Epoch 82/100\n",
            "10/10 [==============================] - 0s 12ms/step - loss: 0.0119 - val_loss: 0.6584\n",
            "Epoch 83/100\n",
            "10/10 [==============================] - 0s 12ms/step - loss: 0.0116 - val_loss: 0.6586\n",
            "Epoch 84/100\n",
            "10/10 [==============================] - 0s 11ms/step - loss: 0.0114 - val_loss: 0.6582\n",
            "Epoch 85/100\n",
            "10/10 [==============================] - 0s 21ms/step - loss: 0.0112 - val_loss: 0.6603\n",
            "Epoch 86/100\n",
            "10/10 [==============================] - 0s 12ms/step - loss: 0.0109 - val_loss: 0.6605\n",
            "Epoch 87/100\n",
            "10/10 [==============================] - 0s 11ms/step - loss: 0.0107 - val_loss: 0.6608\n",
            "Epoch 88/100\n",
            "10/10 [==============================] - 0s 13ms/step - loss: 0.0105 - val_loss: 0.6623\n",
            "Epoch 89/100\n",
            "10/10 [==============================] - 0s 10ms/step - loss: 0.0103 - val_loss: 0.6626\n",
            "Epoch 90/100\n",
            "10/10 [==============================] - 0s 11ms/step - loss: 0.0101 - val_loss: 0.6635\n",
            "Epoch 91/100\n",
            "10/10 [==============================] - 0s 12ms/step - loss: 0.0099 - val_loss: 0.6656\n",
            "Epoch 92/100\n",
            "10/10 [==============================] - 0s 11ms/step - loss: 0.0097 - val_loss: 0.6668\n",
            "Epoch 93/100\n",
            "10/10 [==============================] - 0s 11ms/step - loss: 0.0095 - val_loss: 0.6684\n",
            "Epoch 94/100\n",
            "10/10 [==============================] - 0s 12ms/step - loss: 0.0093 - val_loss: 0.6681\n",
            "Epoch 95/100\n",
            "10/10 [==============================] - 0s 21ms/step - loss: 0.0092 - val_loss: 0.6695\n",
            "Epoch 96/100\n",
            "10/10 [==============================] - 0s 10ms/step - loss: 0.0090 - val_loss: 0.6690\n",
            "Epoch 97/100\n",
            "10/10 [==============================] - 0s 12ms/step - loss: 0.0088 - val_loss: 0.6704\n",
            "Epoch 98/100\n",
            "10/10 [==============================] - 0s 11ms/step - loss: 0.0087 - val_loss: 0.6721\n",
            "Epoch 99/100\n",
            "10/10 [==============================] - 0s 12ms/step - loss: 0.0085 - val_loss: 0.6728\n",
            "Epoch 100/100\n",
            "10/10 [==============================] - 0s 11ms/step - loss: 0.0084 - val_loss: 0.6738\n"
          ]
        },
        {
          "output_type": "execute_result",
          "data": {
            "text/plain": [
              "<keras.src.callbacks.History at 0x7a77701e7b20>"
            ]
          },
          "metadata": {},
          "execution_count": 18
        }
      ],
      "source": [
        "model.fit([X_train, X_train_extra], y_train_oh, epochs=100, batch_size=32,\n",
        "          validation_data=([X_test, X_test_extra], y_test_oh))"
      ]
    },
    {
      "cell_type": "code",
      "execution_count": 19,
      "metadata": {
        "id": "bkir63mE7Yvh",
        "outputId": "7716702b-9b28-457a-f048-ae610291fd45",
        "colab": {
          "base_uri": "https://localhost:8080/",
          "height": 220
        }
      },
      "outputs": [
        {
          "output_type": "display_data",
          "data": {
            "text/plain": [
              "<Figure size 2000x300 with 1 Axes>"
            ],
            "image/png": "[encoded data removed]"
          },
          "metadata": {}
        }
      ],
      "source": [
        "plt.figure(figsize=(20,3))\n",
        "loss  = model.history.history[\"loss\"]\n",
        "vloss = model.history.history[\"val_loss\"]\n",
        "plt.plot(loss, lw=4, alpha=.5, label=\"loss\")\n",
        "plt.plot(vloss, lw=4, alpha=.5, label=\"val loss\")\n",
        "plt.grid();\n",
        "plt.legend();"
      ]
    },
    {
      "cell_type": "code",
      "execution_count": 20,
      "metadata": {
        "id": "d31kcAVo7Yvh",
        "outputId": "bf360e2a-4f46-40b5-ec17-c74a27cebdb7",
        "colab": {
          "base_uri": "https://localhost:8080/"
        }
      },
      "outputs": [
        {
          "output_type": "stream",
          "name": "stdout",
          "text": [
            "10/10 [==============================] - 0s 2ms/step\n",
            "38/38 [==============================] - 0s 1ms/step\n",
            "accuracy train 1.000\n",
            "accuracy test  0.818\n"
          ]
        }
      ],
      "source": [
        "preds_train = model.predict([X_train, X_train_extra]).argmax(axis=1)\n",
        "preds_test = model.predict([X_test, X_test_extra]).argmax(axis=1)\n",
        "\n",
        "print(\"accuracy train %.3f\"%(np.mean(preds_train==y_train)))\n",
        "print(\"accuracy test  %.3f\"%(np.mean(preds_test==y_test)))"
      ]
    },
    {
      "cell_type": "code",
      "execution_count": null,
      "metadata": {
        "id": "e4AK4y_W7Yvh"
      },
      "outputs": [],
      "source": []
    }
  ],
  "metadata": {
    "kernelspec": {
      "display_name": "Python 3",
      "language": "python",
      "name": "python3"
    },
    "language_info": {
      "codemirror_mode": {
        "name": "ipython",
        "version": 3
      },
      "file_extension": ".py",
      "mimetype": "text/x-python",
      "name": "python",
      "nbconvert_exporter": "python",
      "pygments_lexer": "ipython3",
      "version": "3.7.3"
    },
    "colab": {
      "provenance": []
    }
  },
  "nbformat": 4,
  "nbformat_minor": 0
}