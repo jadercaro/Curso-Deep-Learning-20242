{
  "cells": [
    {
      "cell_type": "markdown",
      "metadata": {
        "id": "view-in-github",
        "colab_type": "text"
      },
      "source": [
        "<a href=\"https://colab.research.google.com/github/jadercaro/Curso-Deep-Learning-20242/blob/main/U4_LAB_01_Convolutions.ipynb\" target=\"_parent\"><img src=\"https://colab.research.google.com/assets/colab-badge.svg\" alt=\"Open In Colab\"/></a>"
      ]
    },
    {
      "cell_type": "markdown",
      "metadata": {
        "id": "ypYm-0S2Z_Xz"
      },
      "source": [
        "# LAB 4.1 - Convolutions"
      ]
    },
    {
      "cell_type": "code",
      "source": [
        "!pip install tensorflow==2.15"
      ],
      "metadata": {
        "colab": {
          "base_uri": "https://localhost:8080/"
        },
        "collapsed": true,
        "id": "QVMwKTzJgnwV",
        "outputId": "c446d6d5-150c-43c4-e1e1-e1ec02fe11a9"
      },
      "execution_count": 2,
      "outputs": [
        {
          "output_type": "stream",
          "name": "stdout",
          "text": [
            "Collecting tensorflow==2.15\n",
            "  Downloading tensorflow-2.15.0-cp310-cp310-manylinux_2_17_x86_64.manylinux2014_x86_64.whl.metadata (4.4 kB)\n",
            "Requirement already satisfied: absl-py>=1.0.0 in /usr/local/lib/python3.10/dist-packages (from tensorflow==2.15) (1.4.0)\n",
            "Requirement already satisfied: astunparse>=1.6.0 in /usr/local/lib/python3.10/dist-packages (from tensorflow==2.15) (1.6.3)\n",
            "Requirement already satisfied: flatbuffers>=23.5.26 in /usr/local/lib/python3.10/dist-packages (from tensorflow==2.15) (24.3.25)\n",
            "Requirement already satisfied: gast!=0.5.0,!=0.5.1,!=0.5.2,>=0.2.1 in /usr/local/lib/python3.10/dist-packages (from tensorflow==2.15) (0.6.0)\n",
            "Requirement already satisfied: google-pasta>=0.1.1 in /usr/local/lib/python3.10/dist-packages (from tensorflow==2.15) (0.2.0)\n",
            "Requirement already satisfied: h5py>=2.9.0 in /usr/local/lib/python3.10/dist-packages (from tensorflow==2.15) (3.11.0)\n",
            "Requirement already satisfied: libclang>=13.0.0 in /usr/local/lib/python3.10/dist-packages (from tensorflow==2.15) (18.1.1)\n",
            "Collecting ml-dtypes~=0.2.0 (from tensorflow==2.15)\n",
            "  Downloading ml_dtypes-0.2.0-cp310-cp310-manylinux_2_17_x86_64.manylinux2014_x86_64.whl.metadata (20 kB)\n",
            "Requirement already satisfied: numpy<2.0.0,>=1.23.5 in /usr/local/lib/python3.10/dist-packages (from tensorflow==2.15) (1.26.4)\n",
            "Requirement already satisfied: opt-einsum>=2.3.2 in /usr/local/lib/python3.10/dist-packages (from tensorflow==2.15) (3.4.0)\n",
            "Requirement already satisfied: packaging in /usr/local/lib/python3.10/dist-packages (from tensorflow==2.15) (24.1)\n",
            "Requirement already satisfied: protobuf!=4.21.0,!=4.21.1,!=4.21.2,!=4.21.3,!=4.21.4,!=4.21.5,<5.0.0dev,>=3.20.3 in /usr/local/lib/python3.10/dist-packages (from tensorflow==2.15) (3.20.3)\n",
            "Requirement already satisfied: setuptools in /usr/local/lib/python3.10/dist-packages (from tensorflow==2.15) (71.0.4)\n",
            "Requirement already satisfied: six>=1.12.0 in /usr/local/lib/python3.10/dist-packages (from tensorflow==2.15) (1.16.0)\n",
            "Requirement already satisfied: termcolor>=1.1.0 in /usr/local/lib/python3.10/dist-packages (from tensorflow==2.15) (2.4.0)\n",
            "Requirement already satisfied: typing-extensions>=3.6.6 in /usr/local/lib/python3.10/dist-packages (from tensorflow==2.15) (4.12.2)\n",
            "Collecting wrapt<1.15,>=1.11.0 (from tensorflow==2.15)\n",
            "  Downloading wrapt-1.14.1-cp310-cp310-manylinux_2_5_x86_64.manylinux1_x86_64.manylinux_2_17_x86_64.manylinux2014_x86_64.whl.metadata (6.7 kB)\n",
            "Requirement already satisfied: tensorflow-io-gcs-filesystem>=0.23.1 in /usr/local/lib/python3.10/dist-packages (from tensorflow==2.15) (0.37.1)\n",
            "Requirement already satisfied: grpcio<2.0,>=1.24.3 in /usr/local/lib/python3.10/dist-packages (from tensorflow==2.15) (1.64.1)\n",
            "Collecting tensorboard<2.16,>=2.15 (from tensorflow==2.15)\n",
            "  Downloading tensorboard-2.15.2-py3-none-any.whl.metadata (1.7 kB)\n",
            "Collecting tensorflow-estimator<2.16,>=2.15.0 (from tensorflow==2.15)\n",
            "  Downloading tensorflow_estimator-2.15.0-py2.py3-none-any.whl.metadata (1.3 kB)\n",
            "Collecting keras<2.16,>=2.15.0 (from tensorflow==2.15)\n",
            "  Downloading keras-2.15.0-py3-none-any.whl.metadata (2.4 kB)\n",
            "Requirement already satisfied: wheel<1.0,>=0.23.0 in /usr/local/lib/python3.10/dist-packages (from astunparse>=1.6.0->tensorflow==2.15) (0.44.0)\n",
            "Requirement already satisfied: google-auth<3,>=1.6.3 in /usr/local/lib/python3.10/dist-packages (from tensorboard<2.16,>=2.15->tensorflow==2.15) (2.27.0)\n",
            "Requirement already satisfied: google-auth-oauthlib<2,>=0.5 in /usr/local/lib/python3.10/dist-packages (from tensorboard<2.16,>=2.15->tensorflow==2.15) (1.2.1)\n",
            "Requirement already satisfied: markdown>=2.6.8 in /usr/local/lib/python3.10/dist-packages (from tensorboard<2.16,>=2.15->tensorflow==2.15) (3.7)\n",
            "Requirement already satisfied: requests<3,>=2.21.0 in /usr/local/lib/python3.10/dist-packages (from tensorboard<2.16,>=2.15->tensorflow==2.15) (2.32.3)\n",
            "Requirement already satisfied: tensorboard-data-server<0.8.0,>=0.7.0 in /usr/local/lib/python3.10/dist-packages (from tensorboard<2.16,>=2.15->tensorflow==2.15) (0.7.2)\n",
            "Requirement already satisfied: werkzeug>=1.0.1 in /usr/local/lib/python3.10/dist-packages (from tensorboard<2.16,>=2.15->tensorflow==2.15) (3.0.4)\n",
            "Requirement already satisfied: cachetools<6.0,>=2.0.0 in /usr/local/lib/python3.10/dist-packages (from google-auth<3,>=1.6.3->tensorboard<2.16,>=2.15->tensorflow==2.15) (5.5.0)\n",
            "Requirement already satisfied: pyasn1-modules>=0.2.1 in /usr/local/lib/python3.10/dist-packages (from google-auth<3,>=1.6.3->tensorboard<2.16,>=2.15->tensorflow==2.15) (0.4.1)\n",
            "Requirement already satisfied: rsa<5,>=3.1.4 in /usr/local/lib/python3.10/dist-packages (from google-auth<3,>=1.6.3->tensorboard<2.16,>=2.15->tensorflow==2.15) (4.9)\n",
            "Requirement already satisfied: requests-oauthlib>=0.7.0 in /usr/local/lib/python3.10/dist-packages (from google-auth-oauthlib<2,>=0.5->tensorboard<2.16,>=2.15->tensorflow==2.15) (1.3.1)\n",
            "Requirement already satisfied: charset-normalizer<4,>=2 in /usr/local/lib/python3.10/dist-packages (from requests<3,>=2.21.0->tensorboard<2.16,>=2.15->tensorflow==2.15) (3.3.2)\n",
            "Requirement already satisfied: idna<4,>=2.5 in /usr/local/lib/python3.10/dist-packages (from requests<3,>=2.21.0->tensorboard<2.16,>=2.15->tensorflow==2.15) (3.10)\n",
            "Requirement already satisfied: urllib3<3,>=1.21.1 in /usr/local/lib/python3.10/dist-packages (from requests<3,>=2.21.0->tensorboard<2.16,>=2.15->tensorflow==2.15) (2.2.3)\n",
            "Requirement already satisfied: certifi>=2017.4.17 in /usr/local/lib/python3.10/dist-packages (from requests<3,>=2.21.0->tensorboard<2.16,>=2.15->tensorflow==2.15) (2024.8.30)\n",
            "Requirement already satisfied: MarkupSafe>=2.1.1 in /usr/local/lib/python3.10/dist-packages (from werkzeug>=1.0.1->tensorboard<2.16,>=2.15->tensorflow==2.15) (2.1.5)\n",
            "Requirement already satisfied: pyasn1<0.7.0,>=0.4.6 in /usr/local/lib/python3.10/dist-packages (from pyasn1-modules>=0.2.1->google-auth<3,>=1.6.3->tensorboard<2.16,>=2.15->tensorflow==2.15) (0.6.1)\n",
            "Requirement already satisfied: oauthlib>=3.0.0 in /usr/local/lib/python3.10/dist-packages (from requests-oauthlib>=0.7.0->google-auth-oauthlib<2,>=0.5->tensorboard<2.16,>=2.15->tensorflow==2.15) (3.2.2)\n",
            "Downloading tensorflow-2.15.0-cp310-cp310-manylinux_2_17_x86_64.manylinux2014_x86_64.whl (475.2 MB)\n",
            "\u001b[2K   \u001b[90m━━━━━━━━━━━━━━━━━━━━━━━━━━━━━━━━━━━━━━━━\u001b[0m \u001b[32m475.2/475.2 MB\u001b[0m \u001b[31m3.8 MB/s\u001b[0m eta \u001b[36m0:00:00\u001b[0m\n",
            "\u001b[?25hDownloading keras-2.15.0-py3-none-any.whl (1.7 MB)\n",
            "\u001b[2K   \u001b[90m━━━━━━━━━━━━━━━━━━━━━━━━━━━━━━━━━━━━━━━━\u001b[0m \u001b[32m1.7/1.7 MB\u001b[0m \u001b[31m59.0 MB/s\u001b[0m eta \u001b[36m0:00:00\u001b[0m\n",
            "\u001b[?25hDownloading ml_dtypes-0.2.0-cp310-cp310-manylinux_2_17_x86_64.manylinux2014_x86_64.whl (1.0 MB)\n",
            "\u001b[2K   \u001b[90m━━━━━━━━━━━━━━━━━━━━━━━━━━━━━━━━━━━━━━━━\u001b[0m \u001b[32m1.0/1.0 MB\u001b[0m \u001b[31m50.6 MB/s\u001b[0m eta \u001b[36m0:00:00\u001b[0m\n",
            "\u001b[?25hDownloading tensorboard-2.15.2-py3-none-any.whl (5.5 MB)\n",
            "\u001b[2K   \u001b[90m━━━━━━━━━━━━━━━━━━━━━━━━━━━━━━━━━━━━━━━━\u001b[0m \u001b[32m5.5/5.5 MB\u001b[0m \u001b[31m92.8 MB/s\u001b[0m eta \u001b[36m0:00:00\u001b[0m\n",
            "\u001b[?25hDownloading tensorflow_estimator-2.15.0-py2.py3-none-any.whl (441 kB)\n",
            "\u001b[2K   \u001b[90m━━━━━━━━━━━━━━━━━━━━━━━━━━━━━━━━━━━━━━━━\u001b[0m \u001b[32m442.0/442.0 kB\u001b[0m \u001b[31m22.4 MB/s\u001b[0m eta \u001b[36m0:00:00\u001b[0m\n",
            "\u001b[?25hDownloading wrapt-1.14.1-cp310-cp310-manylinux_2_5_x86_64.manylinux1_x86_64.manylinux_2_17_x86_64.manylinux2014_x86_64.whl (77 kB)\n",
            "\u001b[2K   \u001b[90m━━━━━━━━━━━━━━━━━━━━━━━━━━━━━━━━━━━━━━━━\u001b[0m \u001b[32m77.9/77.9 kB\u001b[0m \u001b[31m6.1 MB/s\u001b[0m eta \u001b[36m0:00:00\u001b[0m\n",
            "\u001b[?25hInstalling collected packages: wrapt, tensorflow-estimator, ml-dtypes, keras, tensorboard, tensorflow\n",
            "  Attempting uninstall: wrapt\n",
            "    Found existing installation: wrapt 1.16.0\n",
            "    Uninstalling wrapt-1.16.0:\n",
            "      Successfully uninstalled wrapt-1.16.0\n",
            "  Attempting uninstall: ml-dtypes\n",
            "    Found existing installation: ml-dtypes 0.4.1\n",
            "    Uninstalling ml-dtypes-0.4.1:\n",
            "      Successfully uninstalled ml-dtypes-0.4.1\n",
            "  Attempting uninstall: keras\n",
            "    Found existing installation: keras 3.4.1\n",
            "    Uninstalling keras-3.4.1:\n",
            "      Successfully uninstalled keras-3.4.1\n",
            "  Attempting uninstall: tensorboard\n",
            "    Found existing installation: tensorboard 2.17.0\n",
            "    Uninstalling tensorboard-2.17.0:\n",
            "      Successfully uninstalled tensorboard-2.17.0\n",
            "  Attempting uninstall: tensorflow\n",
            "    Found existing installation: tensorflow 2.17.0\n",
            "    Uninstalling tensorflow-2.17.0:\n",
            "      Successfully uninstalled tensorflow-2.17.0\n",
            "\u001b[31mERROR: pip's dependency resolver does not currently take into account all the packages that are installed. This behaviour is the source of the following dependency conflicts.\n",
            "tensorstore 0.1.66 requires ml-dtypes>=0.3.1, but you have ml-dtypes 0.2.0 which is incompatible.\n",
            "tf-keras 2.17.0 requires tensorflow<2.18,>=2.17, but you have tensorflow 2.15.0 which is incompatible.\u001b[0m\u001b[31m\n",
            "\u001b[0mSuccessfully installed keras-2.15.0 ml-dtypes-0.2.0 tensorboard-2.15.2 tensorflow-2.15.0 tensorflow-estimator-2.15.0 wrapt-1.14.1\n"
          ]
        }
      ]
    },
    {
      "cell_type": "code",
      "source": [],
      "metadata": {
        "id": "7-FWDrpggns7"
      },
      "execution_count": null,
      "outputs": []
    },
    {
      "cell_type": "code",
      "execution_count": 3,
      "metadata": {
        "id": "kPeULF6SZ_X2",
        "outputId": "153d1f06-f678-4f9a-8bda-142e59100120",
        "colab": {
          "base_uri": "https://localhost:8080/",
          "height": 35
        }
      },
      "outputs": [
        {
          "output_type": "display_data",
          "data": {
            "text/plain": [
              "<IPython.core.display.HTML object>"
            ],
            "text/html": [
              "\n",
              "<meta name=\"google-signin-client_id\"\n",
              "      content=\"461673936472-kdjosv61up3ac1ajeuq6qqu72upilmls.apps.googleusercontent.com\"/>\n",
              "<script src=\"https://apis.google.com/js/client:platform.js?onload=google_button_start\"></script>\n",
              "    "
            ]
          },
          "metadata": {}
        },
        {
          "output_type": "stream",
          "name": "stdout",
          "text": [
            "replicating local resources\n"
          ]
        }
      ],
      "source": [
        "!wget -nc --no-cache -O init.py -q https://raw.githubusercontent.com/rramosp/2021.deeplearning/main/content/init.py\n",
        "import init; init.init(force_download=False);"
      ]
    },
    {
      "cell_type": "code",
      "execution_count": 4,
      "metadata": {
        "scrolled": true,
        "id": "UGpAN4XaZ_X3",
        "colab": {
          "base_uri": "https://localhost:8080/",
          "height": 74,
          "referenced_widgets": [
            "ee387e9ffe034be8956dcf50f8907002",
            "0c1899b2d3a4430a8ce98aaca61692a6",
            "1944e2b2b9c14aeb93a05d19413f6243",
            "f78e7897993d410184ae94cdd61d1959",
            "2af6f94707a04c3994a0a973d659e1e0",
            "e625c697047b4a068d868659d816ab9a",
            "2d9080fe79524bb999c540f6063dc8a6",
            "24f28666338544e79d51b8a03a2a3f67",
            "4d0ce73d297f4d48842b5138ab639614",
            "051734f365af47a6a98397d86646af9a",
            "6c24eec1b446491a8d5ab37703af0ee4",
            "2e5a8b8524c54692a0ec38b3cb059e92",
            "e977c7529b5446c0b1a3dd73581b1b68",
            "9a9637a1be85485889e73ff1782c4409",
            "dfda77bdef924921abb6f72563a2370e",
            "d4bae649a6324cf6943e7b42edf3b513",
            "74baeeff4d804b3693a1412082c6c20d",
            "cc8f39e3464f4355bee219efc72b80c0",
            "fbf03a692bd747f599f9b7cc00dec185"
          ]
        },
        "outputId": "5dc08016-ff9b-448a-e484-bb5dcfbd1716"
      },
      "outputs": [
        {
          "output_type": "stream",
          "name": "stdout",
          "text": [
            "logging in as jader.caro@udea.edu.co ... please wait\n",
            "\n",
            "-------------\n",
            "using course session 2021.deeplearning::udea.20242\n",
            "success!! you are logged in\n",
            "-------------\n"
          ]
        }
      ],
      "source": [
        "from local.lib.rlxmoocapi import submit, session\n",
        "session.LoginSequence(endpoint=init.endpoint, course_id=init.course_id, lab_id=\"L04.01\", varname=\"student\");"
      ]
    },
    {
      "cell_type": "code",
      "execution_count": 5,
      "metadata": {
        "id": "FlXfQwsBZ_X4",
        "colab": {
          "base_uri": "https://localhost:8080/",
          "height": 36
        },
        "outputId": "f79e2cf1-3216-47f1-e87c-0fbbf60e6f4e"
      },
      "outputs": [
        {
          "output_type": "execute_result",
          "data": {
            "text/plain": [
              "'2.15.0'"
            ],
            "application/vnd.google.colaboratory.intrinsic+json": {
              "type": "string"
            }
          },
          "metadata": {},
          "execution_count": 5
        }
      ],
      "source": [
        "import numpy as np\n",
        "import os\n",
        "import tensorflow as tf\n",
        "import matplotlib.pyplot as plt\n",
        "%matplotlib inline\n",
        "tf.__version__"
      ]
    },
    {
      "cell_type": "markdown",
      "metadata": {
        "id": "o7W_rLtSZ_X4"
      },
      "source": [
        "## TASK 1: Implement convolutions\n",
        "\n",
        "Complete the following function so that it implements a convolution in a set of `for` loops. **YOU CANNOT USE TENSORFLOW**\n",
        "\n",
        "The parameters of the function are as follow:\n",
        "\n",
        "- `img`: the images, an array of size [1,y,x,k], where:\n",
        "    - `1`: you will be receiving only one image\n",
        "    - `x`, `y`: the size of the image\n",
        "    - `k` : the number of channels\n",
        "    \n",
        "- `f`: the filters, an array of size [fy,fx,k,n], where:\n",
        "    - `fx`, `fy`: the size of the filters\n",
        "    - `k` : the number of channels (**must be the same as in images**)\n",
        "    - `n`: the number of filters\n",
        "- `activation`: the activation function to use (such as `sigmoid` or `linear` as shown below)\n",
        "\n",
        "\n",
        "the resulting activation map must be of shape `[1, x-fx+1, y-fy+1, n]` which is equivalent to a `Conv2D`  Keras layer with `padding='VALID'`"
      ]
    },
    {
      "cell_type": "code",
      "source": [
        "sigmoid = lambda x: 1/(1+np.exp(-x))\n",
        "linear  = lambda x: x\n",
        "\n",
        "def convolution_byhand(img, f, activation=sigmoid):\n",
        "  assert f.shape[2]==img.shape[3]\n",
        "  fy = f.shape[0]\n",
        "  fx = f.shape[1]\n",
        "  r = np.zeros( (1, img.shape[1]-fy+1, img.shape[2]-fx+1, f.shape[3] ))\n",
        "  for filter_nb in range(f.shape[3]):\n",
        "    for y in range(img.shape[1]-fy+1):\n",
        "      for x in range(img.shape[2]-fx+1):\n",
        "        r[0,y,x,filter_nb] = np.sum(img[0,y:y+fy,x:x+fx,:]*f[:,:,:,filter_nb])\n",
        "        r[0,y,x,filter_nb] = activation(r[0,y,x,filter_nb])\n",
        "  return r"
      ],
      "metadata": {
        "id": "vRa_cOXKcMzr"
      },
      "execution_count": 6,
      "outputs": []
    },
    {
      "cell_type": "markdown",
      "metadata": {
        "id": "L3hpp0X1Z_X5"
      },
      "source": [
        "with the following 5x5x1 image and 2 filters of size 3x3x1 you should get this result\n",
        "\n",
        "        >> convolution_byhand(img, f, activation=sigmoid)\n",
        "        array([[[[0.7109495 , 0.37754067],\n",
        "                 [0.40131234, 0.35434369],\n",
        "                 [0.40131234, 0.40131234]],\n",
        "\n",
        "                [[0.450166  , 0.5       ],\n",
        "                 [0.59868766, 0.40131234],\n",
        "                 [0.2890505 , 0.42555748]],\n",
        "\n",
        "                [[0.19781611, 0.64565631],\n",
        "                 [0.81757448, 0.75026011],\n",
        "                 [0.2890505 , 0.66818777]]]])"
      ]
    },
    {
      "cell_type": "code",
      "execution_count": 7,
      "metadata": {
        "id": "vlTsr8e0Z_X5",
        "colab": {
          "base_uri": "https://localhost:8080/"
        },
        "outputId": "2ad6efdc-95fd-4d80-be85-f8419edf2ce2"
      },
      "outputs": [
        {
          "output_type": "execute_result",
          "data": {
            "text/plain": [
              "array([[[[0.7109495 , 0.37754067],\n",
              "         [0.40131234, 0.35434369],\n",
              "         [0.40131234, 0.40131234]],\n",
              "\n",
              "        [[0.450166  , 0.5       ],\n",
              "         [0.59868766, 0.40131234],\n",
              "         [0.2890505 , 0.42555748]],\n",
              "\n",
              "        [[0.19781611, 0.64565631],\n",
              "         [0.81757448, 0.75026011],\n",
              "         [0.2890505 , 0.66818777]]]])"
            ]
          },
          "metadata": {},
          "execution_count": 7
        }
      ],
      "source": [
        "img = np.r_[[[0, 8, 5, 9, 7],\n",
        "             [0, 6, 4, 6, 9],\n",
        "             [6, 3, 8, 4, 5],\n",
        "             [8, 7, 7, 4, 5],\n",
        "             [7, 2, 5, 0, 2]]].reshape((1,5,5,1))/10 - 0.5\n",
        "f = np.r_[[-1., -1.,  1., -1., -1., -1., -1.,  1.,  1.],\n",
        "          [ 1., -1.,  1., -1., -1.,  1., -1., -1., -1.]].reshape(3,3,1,2)\n",
        "\n",
        "convolution_byhand(img, f, activation=sigmoid)"
      ]
    },
    {
      "cell_type": "markdown",
      "metadata": {
        "id": "WDLhfVTTZ_X6"
      },
      "source": [
        "which should yield the same result as simply applying a keras `Conv2D` layer"
      ]
    },
    {
      "cell_type": "code",
      "execution_count": 8,
      "metadata": {
        "id": "VwyHTgprZ_X6",
        "colab": {
          "base_uri": "https://localhost:8080/"
        },
        "outputId": "3c68d50c-70f7-4385-b5f7-7cbe6bf347bb"
      },
      "outputs": [
        {
          "output_type": "execute_result",
          "data": {
            "text/plain": [
              "array([[[[0.7109495 , 0.37754067],\n",
              "         [0.40131234, 0.35434369],\n",
              "         [0.40131234, 0.40131234]],\n",
              "\n",
              "        [[0.450166  , 0.5       ],\n",
              "         [0.59868766, 0.40131234],\n",
              "         [0.2890505 , 0.42555748]],\n",
              "\n",
              "        [[0.19781611, 0.64565631],\n",
              "         [0.81757448, 0.75026011],\n",
              "         [0.2890505 , 0.66818777]]]])"
            ]
          },
          "metadata": {},
          "execution_count": 8
        }
      ],
      "source": [
        "c = tf.keras.layers.Conv2D(filters=f.shape[-1], kernel_size=f.shape[:2], activation=\"sigmoid\", padding='VALID', dtype=tf.float64)\n",
        "c.build(input_shape=(1,7,7,f.shape[2]))   # any shape would do here, just initializing weights\n",
        "c.set_weights([f, np.zeros(2)])\n",
        "c(img).numpy()"
      ]
    },
    {
      "cell_type": "markdown",
      "metadata": {
        "id": "_nnwqHsiZ_X7"
      },
      "source": [
        "you can also check the effect of the filters in a sample image"
      ]
    },
    {
      "cell_type": "code",
      "execution_count": 9,
      "metadata": {
        "id": "5rozXquSZ_X7",
        "outputId": "1d2ec062-ffd6-4f00-ce10-468157a669f3",
        "colab": {
          "base_uri": "https://localhost:8080/",
          "height": 521
        }
      },
      "outputs": [
        {
          "output_type": "display_data",
          "data": {
            "text/plain": [
              "<Figure size 1000x600 with 5 Axes>"
            ],
            "image/png": "[encoded data removed]"
          },
          "metadata": {}
        }
      ],
      "source": [
        "\n",
        "from skimage import io\n",
        "img = io.imread(\"local/imgs/sample_img.png\")\n",
        "img = img.reshape(1,*img.shape, 1)\n",
        "img = (img-np.min(img))/(np.max(img)-np.min(img))\n",
        "\n",
        "a1 = convolution_byhand(img, f)\n",
        "a2 = c(img).numpy()\n",
        "\n",
        "plt.figure(figsize=(10,6))\n",
        "plt.subplot(231); plt.imshow(img[0,:,:,0], cmap=plt.cm.Greys_r); plt.axis(\"off\"); plt.title(\"original\")\n",
        "plt.subplot(232); plt.imshow(a1[0,:,:,0], cmap=plt.cm.Greys_r); plt.axis(\"off\"); plt.title(\"your conv filter 0\")\n",
        "plt.subplot(233); plt.imshow(a2[0,:,:,0], cmap=plt.cm.Greys_r); plt.axis(\"off\"); plt.title(\"keras conv2D filter 0\")\n",
        "plt.subplot(235); plt.imshow(a1[0,:,:,1], cmap=plt.cm.Greys_r); plt.axis(\"off\"); plt.title(\"your conv filter 1\")\n",
        "plt.subplot(236); plt.imshow(a2[0,:,:,1], cmap=plt.cm.Greys_r); plt.axis(\"off\"); plt.title(\"keras conv2D filter 1\");\n"
      ]
    },
    {
      "cell_type": "markdown",
      "metadata": {
        "id": "i7T9_P17Z_X8"
      },
      "source": [
        "**Registra tu solución en linea**"
      ]
    },
    {
      "cell_type": "code",
      "execution_count": 9,
      "metadata": {
        "scrolled": false,
        "id": "TWIKxAVDZ_X8",
        "colab": {
          "base_uri": "https://localhost:8080/",
          "height": 128
        },
        "outputId": "61157b4c-408e-46d4-c0f1-d3d5ca3980c4"
      },
      "outputs": [
        {
          "output_type": "display_data",
          "data": {
            "text/plain": [
              "<IPython.core.display.HTML object>"
            ],
            "text/html": [
              "\n",
              "                    <b>T1 submitted.</b> <b><font color=\"blue\">your grade is 5</font></b> \n",
              "                    <p/><pre>----- grader message -------</pre>testing your code with 100 random calls<br/><b>correct</b><pre>----------------------------</pre>\n",
              "                    <p/><p/>\n",
              "                    <div style=\"font-size:10px\"><b>SUBMISSION CODE</b> uALJc3BUl4SaBZbv2HHN59YgHCmxr23Ii9jRfOkR+DYKW77fHm2cFrwnj7jAIcQLvu+ClTpoGnY2TVzuAUGPF92dGlZlt5UZoKFKL+gtoTKIyKdUxmgjo0O3N83KQyk9GPGkHpD2Q23zBjtTEwomwQrj+KDJRaTfvdxK7X83ByY=</div>\n",
              "                    "
            ]
          },
          "metadata": {}
        }
      ],
      "source": [
        "student.submit_task(namespace=globals(), task_id='T1');"
      ]
    },
    {
      "cell_type": "code",
      "execution_count": null,
      "metadata": {
        "id": "xpna0os3Z_X8"
      },
      "outputs": [],
      "source": []
    },
    {
      "cell_type": "code",
      "execution_count": null,
      "metadata": {
        "id": "87WLZzIUZ_X8"
      },
      "outputs": [],
      "source": []
    },
    {
      "cell_type": "code",
      "execution_count": 10,
      "metadata": {
        "id": "tVFjSkyxZ_X9",
        "colab": {
          "base_uri": "https://localhost:8080/"
        },
        "outputId": "85ad3503-eb3a-476e-c7ac-a564942466c5"
      },
      "outputs": [
        {
          "output_type": "stream",
          "name": "stdout",
          "text": [
            "images (1, 8, 6, 1)\n",
            "[[9 4 9 6 7 1]\n",
            " [2 2 8 0 8 6]\n",
            " [8 6 5 5 1 4]\n",
            " [3 4 4 4 3 6]\n",
            " [5 1 7 9 1 4]\n",
            " [0 3 1 4 3 5]\n",
            " [1 5 5 4 9 6]\n",
            " [3 2 8 9 0 6]]\n",
            "--\n",
            "filters (2, 3, 1, 2)\n",
            "[[6 8 2]\n",
            " [6 9 9]]\n",
            "[[7 5 9]\n",
            " [4 7 7]]\n"
          ]
        }
      ],
      "source": [
        "img = np.r_[[9, 4, 9, 6, 7, 1, 2, 2, 8, 0, 8, 6, 8, 6, 5, 5, 1, 4, 3, 4, 4, 4,\n",
        "             3, 6, 5, 1, 7, 9, 1, 4, 0, 3, 1, 4, 3, 5, 1, 5, 5, 4, 9, 6, 3, 2,\n",
        "             8, 9, 0, 6]].reshape(1,8,6,1)\n",
        "f = np.r_[[6, 7, 8, 5, 2, 9, 6, 4, 9, 7, 9, 7]].reshape(2,3,1,2)\n",
        "print (\"images\", img.shape)\n",
        "print (img[0,:,:,0])\n",
        "print (\"--\")\n",
        "print (\"filters\", f.shape)\n",
        "print (f[:,:,0,0])\n",
        "print (f[:,:,0,1])"
      ]
    },
    {
      "cell_type": "markdown",
      "metadata": {
        "id": "HnwhRK-yZ_X9"
      },
      "source": [
        "observe that if we repeat and rearrange `img` in the following way"
      ]
    },
    {
      "cell_type": "code",
      "execution_count": 11,
      "metadata": {
        "id": "CCQh_Jl6Z_X9"
      },
      "outputs": [],
      "source": [
        "pimg = np.array([[[[9., 4., 9., 2., 2., 8.],\n",
        "         [4., 9., 6., 2., 8., 0.],\n",
        "         [9., 6., 7., 8., 0., 8.],\n",
        "         [6., 7., 1., 0., 8., 6.]],\n",
        "\n",
        "        [[2., 2., 8., 8., 6., 5.],\n",
        "         [2., 8., 0., 6., 5., 5.],\n",
        "         [8., 0., 8., 5., 5., 1.],\n",
        "         [0., 8., 6., 5., 1., 4.]],\n",
        "\n",
        "        [[8., 6., 5., 3., 4., 4.],\n",
        "         [6., 5., 5., 4., 4., 4.],\n",
        "         [5., 5., 1., 4., 4., 3.],\n",
        "         [5., 1., 4., 4., 3., 6.]],\n",
        "\n",
        "        [[3., 4., 4., 5., 1., 7.],\n",
        "         [4., 4., 4., 1., 7., 9.],\n",
        "         [4., 4., 3., 7., 9., 1.],\n",
        "         [4., 3., 6., 9., 1., 4.]],\n",
        "\n",
        "        [[5., 1., 7., 0., 3., 1.],\n",
        "         [1., 7., 9., 3., 1., 4.],\n",
        "         [7., 9., 1., 1., 4., 3.],\n",
        "         [9., 1., 4., 4., 3., 5.]],\n",
        "\n",
        "        [[0., 3., 1., 1., 5., 5.],\n",
        "         [3., 1., 4., 5., 5., 4.],\n",
        "         [1., 4., 3., 5., 4., 9.],\n",
        "         [4., 3., 5., 4., 9., 6.]],\n",
        "\n",
        "        [[1., 5., 5., 3., 2., 8.],\n",
        "         [5., 5., 4., 2., 8., 9.],\n",
        "         [5., 4., 9., 8., 9., 0.],\n",
        "         [4., 9., 6., 9., 0., 6.]]]])\n"
      ]
    },
    {
      "cell_type": "markdown",
      "metadata": {
        "id": "XfUagryiZ_X-"
      },
      "source": [
        "we only need one `dot` operation to obtain the convolution"
      ]
    },
    {
      "cell_type": "code",
      "execution_count": 12,
      "metadata": {
        "id": "pYtNxpsDZ_X-",
        "outputId": "55482dc9-4e22-4b27-d289-7846654ad572",
        "colab": {
          "base_uri": "https://localhost:8080/"
        }
      },
      "outputs": [
        {
          "output_type": "execute_result",
          "data": {
            "text/plain": [
              "array([[206., 192., 236., 220.],\n",
              "       [191., 202., 148., 151.],\n",
              "       [196., 182., 159., 151.],\n",
              "       [160., 214., 194., 159.],\n",
              "       [ 88., 143., 185., 166.],\n",
              "       [122., 145., 191., 217.],\n",
              "       [164., 243., 209., 216.]])"
            ]
          },
          "metadata": {},
          "execution_count": 12
        }
      ],
      "source": [
        "\n",
        "pimg[0].dot(f[:,:,:,0].flatten())\n"
      ]
    },
    {
      "cell_type": "markdown",
      "metadata": {
        "id": "xi23ElIyZ_X-"
      },
      "source": [
        "which we can compare with your previous function"
      ]
    },
    {
      "cell_type": "code",
      "execution_count": 13,
      "metadata": {
        "id": "4k7IHG9CZ_X-",
        "outputId": "8f94ed3f-606c-4bce-dec8-ef6f5141a89a",
        "colab": {
          "base_uri": "https://localhost:8080/"
        }
      },
      "outputs": [
        {
          "output_type": "execute_result",
          "data": {
            "text/plain": [
              "array([[206., 192., 236., 220.],\n",
              "       [191., 202., 148., 151.],\n",
              "       [196., 182., 159., 151.],\n",
              "       [160., 214., 194., 159.],\n",
              "       [ 88., 143., 185., 166.],\n",
              "       [122., 145., 191., 217.],\n",
              "       [164., 243., 209., 216.]])"
            ]
          },
          "metadata": {},
          "execution_count": 13
        }
      ],
      "source": [
        "\n",
        "convolution_byhand(img, f, activation=linear)[0,:,:,0]\n"
      ]
    },
    {
      "cell_type": "markdown",
      "metadata": {
        "id": "My8yh7WPZ_X-"
      },
      "source": [
        "observe that:\n",
        "\n",
        "- resulting images in this example after convolution with any filter will have size 7x4\n",
        "- the resulting structure `pimg` has at each pixel (in the 7x4 grid) a vector of six elements associated with it.\n",
        "- this vector is the flattened contents of 2x3x1 image fragment located at that pixel that would by multiplied element by element by any filter located at that pixel during the convolution.\n",
        "- the first row in `pimg` corresponds to the flattened 2x3 fragment located at the top left corner of `img`\n",
        "- the second row contains the 2x3 fragment after shifting one pixel to the right.\n",
        "- we use the [`np.flatten`](https://docs.scipy.org/doc/numpy/reference/generated/numpy.ndarray.flatten.html) operation.\n",
        "\n",
        "\n",
        "**COMPLETE** the following function such that it prepares an image in this way, so that the convolution with a filter is just a `dot` operation. Where:\n",
        "\n",
        "- `img` is the images array (assume we only have one image)\n",
        "- `fy` and `fx` are the filter dimensions (2,3 in the example just above)\n"
      ]
    },
    {
      "cell_type": "code",
      "execution_count": 14,
      "metadata": {
        "id": "9q6MR9mwZ_X-"
      },
      "outputs": [],
      "source": [
        "def prepare_img(img, fy, fx):\n",
        "    r = np.zeros( (1, img.shape[1]-fy+1, img.shape[2]-fx+1, fy*fx*img.shape[3] ))\n",
        "    for y in range(img.shape[1]-fy+1):\n",
        "        for x in range(img.shape[2]-fx+1):\n",
        "            r[0,y,x,:] = img[0,y:y+fy,x:x+fx,:].flatten()\n",
        "    return r"
      ]
    },
    {
      "cell_type": "markdown",
      "metadata": {
        "id": "s3zgLIstZ_X_"
      },
      "source": [
        "test your code manually"
      ]
    },
    {
      "cell_type": "code",
      "execution_count": 15,
      "metadata": {
        "scrolled": false,
        "id": "0WjrmydQZ_X_",
        "colab": {
          "base_uri": "https://localhost:8080/"
        },
        "outputId": "829e5555-55f1-4ab4-9d4f-9793ba1fe131"
      },
      "outputs": [
        {
          "output_type": "stream",
          "name": "stdout",
          "text": [
            "(1, 7, 4, 6)\n"
          ]
        },
        {
          "output_type": "execute_result",
          "data": {
            "text/plain": [
              "array([[[[9., 4., 9., 2., 2., 8.],\n",
              "         [4., 9., 6., 2., 8., 0.],\n",
              "         [9., 6., 7., 8., 0., 8.],\n",
              "         [6., 7., 1., 0., 8., 6.]],\n",
              "\n",
              "        [[2., 2., 8., 8., 6., 5.],\n",
              "         [2., 8., 0., 6., 5., 5.],\n",
              "         [8., 0., 8., 5., 5., 1.],\n",
              "         [0., 8., 6., 5., 1., 4.]],\n",
              "\n",
              "        [[8., 6., 5., 3., 4., 4.],\n",
              "         [6., 5., 5., 4., 4., 4.],\n",
              "         [5., 5., 1., 4., 4., 3.],\n",
              "         [5., 1., 4., 4., 3., 6.]],\n",
              "\n",
              "        [[3., 4., 4., 5., 1., 7.],\n",
              "         [4., 4., 4., 1., 7., 9.],\n",
              "         [4., 4., 3., 7., 9., 1.],\n",
              "         [4., 3., 6., 9., 1., 4.]],\n",
              "\n",
              "        [[5., 1., 7., 0., 3., 1.],\n",
              "         [1., 7., 9., 3., 1., 4.],\n",
              "         [7., 9., 1., 1., 4., 3.],\n",
              "         [9., 1., 4., 4., 3., 5.]],\n",
              "\n",
              "        [[0., 3., 1., 1., 5., 5.],\n",
              "         [3., 1., 4., 5., 5., 4.],\n",
              "         [1., 4., 3., 5., 4., 9.],\n",
              "         [4., 3., 5., 4., 9., 6.]],\n",
              "\n",
              "        [[1., 5., 5., 3., 2., 8.],\n",
              "         [5., 5., 4., 2., 8., 9.],\n",
              "         [5., 4., 9., 8., 9., 0.],\n",
              "         [4., 9., 6., 9., 0., 6.]]]])"
            ]
          },
          "metadata": {},
          "execution_count": 15
        }
      ],
      "source": [
        "pimg = prepare_img(img, *f.shape[:2])\n",
        "print (pimg.shape)\n",
        "pimg"
      ]
    },
    {
      "cell_type": "code",
      "execution_count": null,
      "metadata": {
        "id": "f34zxyd4Z_X_"
      },
      "outputs": [],
      "source": []
    },
    {
      "cell_type": "markdown",
      "metadata": {
        "id": "B4WNr4YgZ_X_"
      },
      "source": [
        "**Registra tu solución en linea**"
      ]
    },
    {
      "cell_type": "code",
      "execution_count": 16,
      "metadata": {
        "scrolled": false,
        "id": "_6ScDN3EZ_X_",
        "colab": {
          "base_uri": "https://localhost:8080/",
          "height": 128
        },
        "outputId": "b35cac3e-33e0-4634-8da9-a3b73ffb028d"
      },
      "outputs": [
        {
          "output_type": "display_data",
          "data": {
            "text/plain": [
              "<IPython.core.display.HTML object>"
            ],
            "text/html": [
              "\n",
              "                    <b>T2 submitted.</b> <b><font color=\"blue\">your grade is 5</font></b> \n",
              "                    <p/><pre>----- grader message -------</pre>testing your code with 100 random calls<br/><b>correct</b><pre>----------------------------</pre>\n",
              "                    <p/><p/>\n",
              "                    <div style=\"font-size:10px\"><b>SUBMISSION CODE</b> dRv5aodADJo5mrJG6RxCfOSVCz+LOPPsUMVLYM9aCLoIOxhJ94zLLm8GE4opjrQ2CI0abMmhiM7PDAVgpEIYfXCi34XBF+jfrKKWGk0c2p62hFeM5gdGpisxfqc1TlJB+kSgTGBYoKoOinfdI44qL/jBF5JzC7vTQpVcsGNrKI4=</div>\n",
              "                    "
            ]
          },
          "metadata": {}
        }
      ],
      "source": [
        "student.submit_task(namespace=globals(), task_id='T2');"
      ]
    },
    {
      "cell_type": "code",
      "execution_count": null,
      "metadata": {
        "id": "KOQM8CnCZ_X_"
      },
      "outputs": [],
      "source": []
    },
    {
      "cell_type": "code",
      "execution_count": null,
      "metadata": {
        "id": "Jw6XgEM7Z_X_"
      },
      "outputs": [],
      "source": []
    },
    {
      "cell_type": "markdown",
      "metadata": {
        "id": "6BQQDbcUZ_X_"
      },
      "source": [
        "## TASK 3: Compute number of weights\n",
        "\n",
        "Complete the following function so that it computes the number of weights of a convolutional architecture as specified in the arguments.\n",
        "\n",
        "- `input_shape`:  the shape of the input image\n",
        "- `filters`: a list of dictionaries, with one dictionary per convolutional layer specifying the number and size of the filters of the layer.\n",
        "- `dense_shapes`: a list of integers, with one integer per dense layer specifying the number of neurons of the layer.\n",
        "\n",
        "see the example below. **YOU CANNOT USE TENSORFLOW** in your implementation. Use the function `tf_build_model` below to understand the function arguments and check your implementation.\n",
        "\n",
        "use `VALID` padding for the convolutional layers."
      ]
    },
    {
      "cell_type": "code",
      "execution_count": null,
      "metadata": {
        "id": "5C4KBaQOZ_YA"
      },
      "outputs": [],
      "source": []
    },
    {
      "cell_type": "code",
      "source": [
        "def compute_nb_weights(input_shape, filters, dense_shapes):\n",
        "  r = np.prod(input_shape)\n",
        "  for f in filters:\n",
        "    r += f['n_filters']*f['size']*f['size']*input_shape[2]\n",
        "  for n in dense_shapes:\n",
        "    r += n*np.prod(input_shape[:2])\n",
        "  r += np.sum(dense_shapes)\n",
        "  return r"
      ],
      "metadata": {
        "id": "FvGZyvJ5eNOI"
      },
      "execution_count": 26,
      "outputs": []
    },
    {
      "cell_type": "code",
      "source": [
        "def compute_nb_weights(input_shape, filters, dense_shapes):\n",
        "\n",
        "  r = np.prod(input_shape)\n",
        "  for f in filters:\n",
        "    r += f['n_filters']*f['size']*input_shape[2]\n",
        "  for n in dense_shapes:\n",
        "    r += n*np.prod(input_shape[:2])\n",
        "  return r"
      ],
      "metadata": {
        "id": "nbKPeeVgeNKX"
      },
      "execution_count": 40,
      "outputs": []
    },
    {
      "cell_type": "code",
      "source": [
        "def compute_nb_weights(input_shape, filters, dense_shapes):\n",
        "    nb_weights = 0\n",
        "    current_shape = input_shape\n",
        "\n",
        "    for layer in filters:\n",
        "        nb_filters = layer['n_filters']\n",
        "        filter_size = layer['size']\n",
        "        input_channels = current_shape[2]\n",
        "\n",
        "\n",
        "        weights_for_layer = (nb_filters * (filter_size * filter_size * input_channels)) + nb_filters\n",
        "        nb_weights += weights_for_layer\n",
        "\n",
        "        current_shape = (current_shape[0] - filter_size + 1,\n",
        "                         current_shape[1] - filter_size + 1,\n",
        "                         nb_filters)\n",
        "\n",
        "\n",
        "    for dense_layer_size in dense_shapes:\n",
        "        input_units = np.prod(current_shape)\n",
        "        weights_for_dense_layer = (dense_layer_size * input_units) + dense_layer_size\n",
        "        nb_weights += weights_for_dense_layer\n",
        "\n",
        "        current_shape = (1, dense_layer_size)\n",
        "\n",
        "    return nb_weights\n"
      ],
      "metadata": {
        "id": "hwii38MZlVSH"
      },
      "execution_count": 52,
      "outputs": []
    },
    {
      "cell_type": "code",
      "execution_count": 53,
      "metadata": {
        "id": "CaubaIXZZ_YA"
      },
      "outputs": [],
      "source": [
        "fs = [ {'n_filters': 90, 'size': 5}, {'n_filters': 15, 'size': 4}]\n",
        "ds = [100,20,3]\n",
        "input_shape = (100,100,3)"
      ]
    },
    {
      "cell_type": "code",
      "execution_count": 54,
      "metadata": {
        "id": "WcXYjNviZ_YA"
      },
      "outputs": [],
      "source": [
        "from tensorflow.keras.models import Sequential\n",
        "from tensorflow.keras.layers import Dense, Conv2D, Input, Flatten\n",
        "\n",
        "def tf_build_model(input_shape, filters, dense_shapes):\n",
        "\n",
        "    model = Sequential()\n",
        "    model.add(Input(shape=input_shape))  # 250x250 RGB images\n",
        "    for f in filters:\n",
        "        model.add(Conv2D(f['n_filters'], f['size'], strides=1, padding='VALID', activation=\"relu\"))\n",
        "    model.add(Flatten())\n",
        "    for n in dense_shapes:\n",
        "        model.add(Dense(n))\n",
        "\n",
        "    return model"
      ]
    },
    {
      "cell_type": "code",
      "execution_count": null,
      "metadata": {
        "id": "VL8jqTXSZ_YE"
      },
      "outputs": [],
      "source": []
    },
    {
      "cell_type": "code",
      "execution_count": 55,
      "metadata": {
        "scrolled": true,
        "id": "Hgl9gxmuZ_YE",
        "colab": {
          "base_uri": "https://localhost:8080/"
        },
        "outputId": "9af02eba-80b4-45fe-99b3-30450f54f7c6"
      },
      "outputs": [
        {
          "output_type": "stream",
          "name": "stdout",
          "text": [
            "Model: \"sequential_7\"\n",
            "_________________________________________________________________\n",
            " Layer (type)                Output Shape              Param #   \n",
            "=================================================================\n",
            " conv2d_15 (Conv2D)          (None, 96, 96, 90)        6840      \n",
            "                                                                 \n",
            " conv2d_16 (Conv2D)          (None, 93, 93, 15)        21615     \n",
            "                                                                 \n",
            " flatten_7 (Flatten)         (None, 129735)            0         \n",
            "                                                                 \n",
            " dense_21 (Dense)            (None, 100)               12973600  \n",
            "                                                                 \n",
            " dense_22 (Dense)            (None, 20)                2020      \n",
            "                                                                 \n",
            " dense_23 (Dense)            (None, 3)                 63        \n",
            "                                                                 \n",
            "=================================================================\n",
            "Total params: 13004138 (49.61 MB)\n",
            "Trainable params: 13004138 (49.61 MB)\n",
            "Non-trainable params: 0 (0.00 Byte)\n",
            "_________________________________________________________________\n"
          ]
        }
      ],
      "source": [
        "m = tf_build_model(input_shape, fs, ds)\n",
        "m.summary()"
      ]
    },
    {
      "cell_type": "markdown",
      "metadata": {
        "id": "fh7E0D47Z_YF"
      },
      "source": [
        "**Registra tu solución en linea**"
      ]
    },
    {
      "cell_type": "code",
      "execution_count": 56,
      "metadata": {
        "scrolled": false,
        "id": "fCb5jJt7Z_YF",
        "colab": {
          "base_uri": "https://localhost:8080/",
          "height": 128
        },
        "outputId": "945110cc-28ce-4880-da67-fa3d580125a9"
      },
      "outputs": [
        {
          "output_type": "display_data",
          "data": {
            "text/plain": [
              "<IPython.core.display.HTML object>"
            ],
            "text/html": [
              "\n",
              "                    <b>T3 submitted.</b> <b><font color=\"blue\">your grade is 5</font></b> \n",
              "                    <p/><pre>----- grader message -------</pre>testing your code with 100 random calls<br/><b>correct</b><pre>----------------------------</pre>\n",
              "                    <p/><p/>\n",
              "                    <div style=\"font-size:10px\"><b>SUBMISSION CODE</b> xZwqG78hp1EFOOroejDXs689gkPn64o8ONrCSVf9CQ+GoqGRtZaL/0jHA/u9cKOJAsrt49I6a/h5FPXbTVuRLteI2bCAyMv4iFb8OpIqYbevtENJCFtn88/7Z92j1OtRGCRZJf/vidfRqcKpS2tZzj2CUQwGMiSNWZuoI5qk88Q=</div>\n",
              "                    "
            ]
          },
          "metadata": {}
        }
      ],
      "source": [
        "student.submit_task(namespace=globals(), task_id='T3');"
      ]
    },
    {
      "cell_type": "code",
      "execution_count": null,
      "metadata": {
        "id": "sWQ2uVjgZ_YF"
      },
      "outputs": [],
      "source": []
    }
  ],
  "metadata": {
    "kernelspec": {
      "display_name": "Python 3",
      "language": "python",
      "name": "python3"
    },
    "language_info": {
      "codemirror_mode": {
        "name": "ipython",
        "version": 3
      },
      "file_extension": ".py",
      "mimetype": "text/x-python",
      "name": "python",
      "nbconvert_exporter": "python",
      "pygments_lexer": "ipython3",
      "version": "3.7.6"
    },
    "varInspector": {
      "cols": {
        "lenName": 16,
        "lenType": 16,
        "lenVar": 40
      },
      "kernels_config": {
        "python": {
          "delete_cmd_postfix": "",
          "delete_cmd_prefix": "del ",
          "library": "var_list.py",
          "varRefreshCmd": "print(var_dic_list())"
        },
        "r": {
          "delete_cmd_postfix": ") ",
          "delete_cmd_prefix": "rm(",
          "library": "var_list.r",
          "varRefreshCmd": "cat(var_dic_list()) "
        }
      },
      "types_to_exclude": [
        "module",
        "function",
        "builtin_function_or_method",
        "instance",
        "_Feature"
      ],
      "window_display": false
    },
    "colab": {
      "provenance": [],
      "include_colab_link": true
    },
    "widgets": {
      "application/vnd.jupyter.widget-state+json": {
        "ee387e9ffe034be8956dcf50f8907002": {
          "model_module": "@jupyter-widgets/controls",
          "model_name": "HBoxModel",
          "model_module_version": "1.5.0",
          "state": {
            "_dom_classes": [],
            "_model_module": "@jupyter-widgets/controls",
            "_model_module_version": "1.5.0",
            "_model_name": "HBoxModel",
            "_view_count": null,
            "_view_module": "@jupyter-widgets/controls",
            "_view_module_version": "1.5.0",
            "_view_name": "HBoxView",
            "box_style": "",
            "children": [
              "IPY_MODEL_0c1899b2d3a4430a8ce98aaca61692a6",
              "IPY_MODEL_1944e2b2b9c14aeb93a05d19413f6243",
              "IPY_MODEL_f78e7897993d410184ae94cdd61d1959",
              "IPY_MODEL_2af6f94707a04c3994a0a973d659e1e0"
            ],
            "layout": "IPY_MODEL_e625c697047b4a068d868659d816ab9a"
          }
        },
        "0c1899b2d3a4430a8ce98aaca61692a6": {
          "model_module": "@jupyter-widgets/controls",
          "model_name": "VBoxModel",
          "model_module_version": "1.5.0",
          "state": {
            "_dom_classes": [],
            "_model_module": "@jupyter-widgets/controls",
            "_model_module_version": "1.5.0",
            "_model_name": "VBoxModel",
            "_view_count": null,
            "_view_module": "@jupyter-widgets/controls",
            "_view_module_version": "1.5.0",
            "_view_name": "VBoxView",
            "box_style": "",
            "children": [
              "IPY_MODEL_2d9080fe79524bb999c540f6063dc8a6",
              "IPY_MODEL_24f28666338544e79d51b8a03a2a3f67"
            ],
            "layout": "IPY_MODEL_4d0ce73d297f4d48842b5138ab639614"
          }
        },
        "1944e2b2b9c14aeb93a05d19413f6243": {
          "model_module": "@jupyter-widgets/controls",
          "model_name": "ButtonModel",
          "model_module_version": "1.5.0",
          "state": {
            "_dom_classes": [
              "login_button"
            ],
            "_model_module": "@jupyter-widgets/controls",
            "_model_module_version": "1.5.0",
            "_model_name": "ButtonModel",
            "_view_count": null,
            "_view_module": "@jupyter-widgets/controls",
            "_view_module_version": "1.5.0",
            "_view_name": "ButtonView",
            "button_style": "",
            "description": "Login with email",
            "disabled": false,
            "icon": "",
            "layout": "IPY_MODEL_051734f365af47a6a98397d86646af9a",
            "style": "IPY_MODEL_6c24eec1b446491a8d5ab37703af0ee4",
            "tooltip": ""
          }
        },
        "f78e7897993d410184ae94cdd61d1959": {
          "model_module": "@jupyter-widgets/controls",
          "model_name": "HTMLModel",
          "model_module_version": "1.5.0",
          "state": {
            "_dom_classes": [],
            "_model_module": "@jupyter-widgets/controls",
            "_model_module_version": "1.5.0",
            "_model_name": "HTMLModel",
            "_view_count": null,
            "_view_module": "@jupyter-widgets/controls",
            "_view_module_version": "1.5.0",
            "_view_name": "HTMLView",
            "description": "",
            "description_tooltip": null,
            "layout": "IPY_MODEL_2e5a8b8524c54692a0ec38b3cb059e92",
            "placeholder": "​",
            "style": "IPY_MODEL_e977c7529b5446c0b1a3dd73581b1b68",
            "value": "<center><big>or</big></center>"
          }
        },
        "2af6f94707a04c3994a0a973d659e1e0": {
          "model_module": "@jupyter-widgets/controls",
          "model_name": "ButtonModel",
          "model_module_version": "1.5.0",
          "state": {
            "_dom_classes": [
              "google_button"
            ],
            "_model_module": "@jupyter-widgets/controls",
            "_model_module_version": "1.5.0",
            "_model_name": "ButtonModel",
            "_view_count": null,
            "_view_module": "@jupyter-widgets/controls",
            "_view_module_version": "1.5.0",
            "_view_name": "ButtonView",
            "button_style": "",
            "description": "Login with Google",
            "disabled": false,
            "icon": "",
            "layout": "IPY_MODEL_9a9637a1be85485889e73ff1782c4409",
            "style": "IPY_MODEL_dfda77bdef924921abb6f72563a2370e",
            "tooltip": ""
          }
        },
        "e625c697047b4a068d868659d816ab9a": {
          "model_module": "@jupyter-widgets/base",
          "model_name": "LayoutModel",
          "model_module_version": "1.2.0",
          "state": {
            "_model_module": "@jupyter-widgets/base",
            "_model_module_version": "1.2.0",
            "_model_name": "LayoutModel",
            "_view_count": null,
            "_view_module": "@jupyter-widgets/base",
            "_view_module_version": "1.2.0",
            "_view_name": "LayoutView",
            "align_content": null,
            "align_items": null,
            "align_self": null,
            "border": null,
            "bottom": null,
            "display": null,
            "flex": null,
            "flex_flow": null,
            "grid_area": null,
            "grid_auto_columns": null,
            "grid_auto_flow": null,
            "grid_auto_rows": null,
            "grid_column": null,
            "grid_gap": null,
            "grid_row": null,
            "grid_template_areas": null,
            "grid_template_columns": null,
            "grid_template_rows": null,
            "height": null,
            "justify_content": null,
            "justify_items": null,
            "left": null,
            "margin": null,
            "max_height": null,
            "max_width": null,
            "min_height": null,
            "min_width": null,
            "object_fit": null,
            "object_position": null,
            "order": null,
            "overflow": null,
            "overflow_x": null,
            "overflow_y": null,
            "padding": null,
            "right": null,
            "top": null,
            "visibility": null,
            "width": null
          }
        },
        "2d9080fe79524bb999c540f6063dc8a6": {
          "model_module": "@jupyter-widgets/controls",
          "model_name": "TextModel",
          "model_module_version": "1.5.0",
          "state": {
            "_dom_classes": [],
            "_model_module": "@jupyter-widgets/controls",
            "_model_module_version": "1.5.0",
            "_model_name": "TextModel",
            "_view_count": null,
            "_view_module": "@jupyter-widgets/controls",
            "_view_module_version": "1.5.0",
            "_view_name": "TextView",
            "continuous_update": true,
            "description": "email",
            "description_tooltip": null,
            "disabled": false,
            "layout": "IPY_MODEL_d4bae649a6324cf6943e7b42edf3b513",
            "placeholder": "​",
            "style": "IPY_MODEL_74baeeff4d804b3693a1412082c6c20d",
            "value": "jader.caro@udea.edu.co"
          }
        },
        "24f28666338544e79d51b8a03a2a3f67": {
          "model_module": "@jupyter-widgets/controls",
          "model_name": "PasswordModel",
          "model_module_version": "1.5.0",
          "state": {
            "_dom_classes": [],
            "_model_module": "@jupyter-widgets/controls",
            "_model_module_version": "1.5.0",
            "_model_name": "PasswordModel",
            "_view_count": null,
            "_view_module": "@jupyter-widgets/controls",
            "_view_module_version": "1.5.0",
            "_view_name": "PasswordView",
            "continuous_update": true,
            "description": "password",
            "description_tooltip": null,
            "disabled": false,
            "layout": "IPY_MODEL_cc8f39e3464f4355bee219efc72b80c0",
            "placeholder": "​",
            "style": "IPY_MODEL_fbf03a692bd747f599f9b7cc00dec185",
            "value": "3Nfoc@d0300618"
          }
        },
        "4d0ce73d297f4d48842b5138ab639614": {
          "model_module": "@jupyter-widgets/base",
          "model_name": "LayoutModel",
          "model_module_version": "1.2.0",
          "state": {
            "_model_module": "@jupyter-widgets/base",
            "_model_module_version": "1.2.0",
            "_model_name": "LayoutModel",
            "_view_count": null,
            "_view_module": "@jupyter-widgets/base",
            "_view_module_version": "1.2.0",
            "_view_name": "LayoutView",
            "align_content": null,
            "align_items": null,
            "align_self": null,
            "border": null,
            "bottom": null,
            "display": null,
            "flex": null,
            "flex_flow": null,
            "grid_area": null,
            "grid_auto_columns": null,
            "grid_auto_flow": null,
            "grid_auto_rows": null,
            "grid_column": null,
            "grid_gap": null,
            "grid_row": null,
            "grid_template_areas": null,
            "grid_template_columns": null,
            "grid_template_rows": null,
            "height": null,
            "justify_content": null,
            "justify_items": null,
            "left": null,
            "margin": null,
            "max_height": null,
            "max_width": null,
            "min_height": null,
            "min_width": null,
            "object_fit": null,
            "object_position": null,
            "order": null,
            "overflow": null,
            "overflow_x": null,
            "overflow_y": null,
            "padding": null,
            "right": null,
            "top": null,
            "visibility": null,
            "width": null
          }
        },
        "051734f365af47a6a98397d86646af9a": {
          "model_module": "@jupyter-widgets/base",
          "model_name": "LayoutModel",
          "model_module_version": "1.2.0",
          "state": {
            "_model_module": "@jupyter-widgets/base",
            "_model_module_version": "1.2.0",
            "_model_name": "LayoutModel",
            "_view_count": null,
            "_view_module": "@jupyter-widgets/base",
            "_view_module_version": "1.2.0",
            "_view_name": "LayoutView",
            "align_content": null,
            "align_items": null,
            "align_self": null,
            "border": null,
            "bottom": null,
            "display": null,
            "flex": null,
            "flex_flow": null,
            "grid_area": null,
            "grid_auto_columns": null,
            "grid_auto_flow": null,
            "grid_auto_rows": null,
            "grid_column": null,
            "grid_gap": null,
            "grid_row": null,
            "grid_template_areas": null,
            "grid_template_columns": null,
            "grid_template_rows": null,
            "height": "53px",
            "justify_content": null,
            "justify_items": null,
            "left": null,
            "margin": null,
            "max_height": null,
            "max_width": null,
            "min_height": null,
            "min_width": null,
            "object_fit": null,
            "object_position": null,
            "order": null,
            "overflow": null,
            "overflow_x": null,
            "overflow_y": null,
            "padding": null,
            "right": null,
            "top": null,
            "visibility": null,
            "width": "150px"
          }
        },
        "6c24eec1b446491a8d5ab37703af0ee4": {
          "model_module": "@jupyter-widgets/controls",
          "model_name": "ButtonStyleModel",
          "model_module_version": "1.5.0",
          "state": {
            "_model_module": "@jupyter-widgets/controls",
            "_model_module_version": "1.5.0",
            "_model_name": "ButtonStyleModel",
            "_view_count": null,
            "_view_module": "@jupyter-widgets/base",
            "_view_module_version": "1.2.0",
            "_view_name": "StyleView",
            "button_color": null,
            "font_weight": ""
          }
        },
        "2e5a8b8524c54692a0ec38b3cb059e92": {
          "model_module": "@jupyter-widgets/base",
          "model_name": "LayoutModel",
          "model_module_version": "1.2.0",
          "state": {
            "_model_module": "@jupyter-widgets/base",
            "_model_module_version": "1.2.0",
            "_model_name": "LayoutModel",
            "_view_count": null,
            "_view_module": "@jupyter-widgets/base",
            "_view_module_version": "1.2.0",
            "_view_name": "LayoutView",
            "align_content": null,
            "align_items": null,
            "align_self": null,
            "border": null,
            "bottom": null,
            "display": null,
            "flex": null,
            "flex_flow": null,
            "grid_area": null,
            "grid_auto_columns": null,
            "grid_auto_flow": null,
            "grid_auto_rows": null,
            "grid_column": null,
            "grid_gap": null,
            "grid_row": null,
            "grid_template_areas": null,
            "grid_template_columns": null,
            "grid_template_rows": null,
            "height": null,
            "justify_content": null,
            "justify_items": null,
            "left": null,
            "margin": null,
            "max_height": null,
            "max_width": null,
            "min_height": null,
            "min_width": null,
            "object_fit": null,
            "object_position": null,
            "order": null,
            "overflow": null,
            "overflow_x": null,
            "overflow_y": null,
            "padding": null,
            "right": null,
            "top": null,
            "visibility": null,
            "width": "100px"
          }
        },
        "e977c7529b5446c0b1a3dd73581b1b68": {
          "model_module": "@jupyter-widgets/controls",
          "model_name": "DescriptionStyleModel",
          "model_module_version": "1.5.0",
          "state": {
            "_model_module": "@jupyter-widgets/controls",
            "_model_module_version": "1.5.0",
            "_model_name": "DescriptionStyleModel",
            "_view_count": null,
            "_view_module": "@jupyter-widgets/base",
            "_view_module_version": "1.2.0",
            "_view_name": "StyleView",
            "description_width": ""
          }
        },
        "9a9637a1be85485889e73ff1782c4409": {
          "model_module": "@jupyter-widgets/base",
          "model_name": "LayoutModel",
          "model_module_version": "1.2.0",
          "state": {
            "_model_module": "@jupyter-widgets/base",
            "_model_module_version": "1.2.0",
            "_model_name": "LayoutModel",
            "_view_count": null,
            "_view_module": "@jupyter-widgets/base",
            "_view_module_version": "1.2.0",
            "_view_name": "LayoutView",
            "align_content": null,
            "align_items": null,
            "align_self": null,
            "border": null,
            "bottom": null,
            "display": null,
            "flex": null,
            "flex_flow": null,
            "grid_area": null,
            "grid_auto_columns": null,
            "grid_auto_flow": null,
            "grid_auto_rows": null,
            "grid_column": null,
            "grid_gap": null,
            "grid_row": null,
            "grid_template_areas": null,
            "grid_template_columns": null,
            "grid_template_rows": null,
            "height": "53px",
            "justify_content": null,
            "justify_items": null,
            "left": null,
            "margin": null,
            "max_height": null,
            "max_width": null,
            "min_height": null,
            "min_width": null,
            "object_fit": null,
            "object_position": null,
            "order": null,
            "overflow": null,
            "overflow_x": null,
            "overflow_y": null,
            "padding": null,
            "right": null,
            "top": null,
            "visibility": null,
            "width": "200px"
          }
        },
        "dfda77bdef924921abb6f72563a2370e": {
          "model_module": "@jupyter-widgets/controls",
          "model_name": "ButtonStyleModel",
          "model_module_version": "1.5.0",
          "state": {
            "_model_module": "@jupyter-widgets/controls",
            "_model_module_version": "1.5.0",
            "_model_name": "ButtonStyleModel",
            "_view_count": null,
            "_view_module": "@jupyter-widgets/base",
            "_view_module_version": "1.2.0",
            "_view_name": "StyleView",
            "button_color": null,
            "font_weight": ""
          }
        },
        "d4bae649a6324cf6943e7b42edf3b513": {
          "model_module": "@jupyter-widgets/base",
          "model_name": "LayoutModel",
          "model_module_version": "1.2.0",
          "state": {
            "_model_module": "@jupyter-widgets/base",
            "_model_module_version": "1.2.0",
            "_model_name": "LayoutModel",
            "_view_count": null,
            "_view_module": "@jupyter-widgets/base",
            "_view_module_version": "1.2.0",
            "_view_name": "LayoutView",
            "align_content": null,
            "align_items": null,
            "align_self": null,
            "border": null,
            "bottom": null,
            "display": null,
            "flex": null,
            "flex_flow": null,
            "grid_area": null,
            "grid_auto_columns": null,
            "grid_auto_flow": null,
            "grid_auto_rows": null,
            "grid_column": null,
            "grid_gap": null,
            "grid_row": null,
            "grid_template_areas": null,
            "grid_template_columns": null,
            "grid_template_rows": null,
            "height": "25px",
            "justify_content": null,
            "justify_items": null,
            "left": null,
            "margin": null,
            "max_height": null,
            "max_width": null,
            "min_height": null,
            "min_width": null,
            "object_fit": null,
            "object_position": null,
            "order": null,
            "overflow": null,
            "overflow_x": null,
            "overflow_y": null,
            "padding": null,
            "right": null,
            "top": null,
            "visibility": null,
            "width": "300px"
          }
        },
        "74baeeff4d804b3693a1412082c6c20d": {
          "model_module": "@jupyter-widgets/controls",
          "model_name": "DescriptionStyleModel",
          "model_module_version": "1.5.0",
          "state": {
            "_model_module": "@jupyter-widgets/controls",
            "_model_module_version": "1.5.0",
            "_model_name": "DescriptionStyleModel",
            "_view_count": null,
            "_view_module": "@jupyter-widgets/base",
            "_view_module_version": "1.2.0",
            "_view_name": "StyleView",
            "description_width": ""
          }
        },
        "cc8f39e3464f4355bee219efc72b80c0": {
          "model_module": "@jupyter-widgets/base",
          "model_name": "LayoutModel",
          "model_module_version": "1.2.0",
          "state": {
            "_model_module": "@jupyter-widgets/base",
            "_model_module_version": "1.2.0",
            "_model_name": "LayoutModel",
            "_view_count": null,
            "_view_module": "@jupyter-widgets/base",
            "_view_module_version": "1.2.0",
            "_view_name": "LayoutView",
            "align_content": null,
            "align_items": null,
            "align_self": null,
            "border": null,
            "bottom": null,
            "display": null,
            "flex": null,
            "flex_flow": null,
            "grid_area": null,
            "grid_auto_columns": null,
            "grid_auto_flow": null,
            "grid_auto_rows": null,
            "grid_column": null,
            "grid_gap": null,
            "grid_row": null,
            "grid_template_areas": null,
            "grid_template_columns": null,
            "grid_template_rows": null,
            "height": "24px",
            "justify_content": null,
            "justify_items": null,
            "left": null,
            "margin": null,
            "max_height": null,
            "max_width": null,
            "min_height": null,
            "min_width": null,
            "object_fit": null,
            "object_position": null,
            "order": null,
            "overflow": null,
            "overflow_x": null,
            "overflow_y": null,
            "padding": null,
            "right": null,
            "top": null,
            "visibility": null,
            "width": "300px"
          }
        },
        "fbf03a692bd747f599f9b7cc00dec185": {
          "model_module": "@jupyter-widgets/controls",
          "model_name": "DescriptionStyleModel",
          "model_module_version": "1.5.0",
          "state": {
            "_model_module": "@jupyter-widgets/controls",
            "_model_module_version": "1.5.0",
            "_model_name": "DescriptionStyleModel",
            "_view_count": null,
            "_view_module": "@jupyter-widgets/base",
            "_view_module_version": "1.2.0",
            "_view_name": "StyleView",
            "description_width": ""
          }
        }
      }
    }
  },
  "nbformat": 4,
  "nbformat_minor": 0
}