{
  "cells": [
    {
      "cell_type": "markdown",
      "metadata": {
        "id": "view-in-github",
        "colab_type": "text"
      },
      "source": [
        "<a href=\"https://colab.research.google.com/github/jadercaro/Curso-Deep-Learning-20242/blob/main/U4_LAB_03_Object_Detection.ipynb\" target=\"_parent\"><img src=\"https://colab.research.google.com/assets/colab-badge.svg\" alt=\"Open In Colab\"/></a>"
      ]
    },
    {
      "cell_type": "markdown",
      "metadata": {
        "id": "BsNU0Uove1Y1"
      },
      "source": [
        "# LAB 4.3 - Object detection"
      ]
    },
    {
      "cell_type": "code",
      "execution_count": 1,
      "metadata": {
        "id": "XhQ1_tVBe5n1",
        "colab": {
          "base_uri": "https://localhost:8080/",
          "height": 35
        },
        "outputId": "4b915633-c758-4c7d-9117-4161f9cdf0d5"
      },
      "outputs": [
        {
          "output_type": "display_data",
          "data": {
            "text/plain": [
              "<IPython.core.display.HTML object>"
            ],
            "text/html": [
              "\n",
              "<meta name=\"google-signin-client_id\"\n",
              "      content=\"461673936472-kdjosv61up3ac1ajeuq6qqu72upilmls.apps.googleusercontent.com\"/>\n",
              "<script src=\"https://apis.google.com/js/client:platform.js?onload=google_button_start\"></script>\n",
              "    "
            ]
          },
          "metadata": {}
        },
        {
          "output_type": "stream",
          "name": "stdout",
          "text": [
            "replicating local resources\n"
          ]
        }
      ],
      "source": [
        "!wget -nc --no-cache -O init.py -q https://raw.githubusercontent.com/rramosp/2021.deeplearning/main/content/init.py\n",
        "import init; init.init(force_download=False);"
      ]
    },
    {
      "cell_type": "code",
      "execution_count": 102,
      "metadata": {
        "id": "xtw8kwPpe5ln",
        "colab": {
          "base_uri": "https://localhost:8080/",
          "height": 74,
          "referenced_widgets": [
            "6727f12fecec44f6b134625d4d87d955",
            "e25e0b681b9343ce92d1ede6ffe5a53d",
            "843aac7229a54881a66d8d5459a9cb97",
            "2d00d9513551481daffdfa42d9f822a4",
            "cce3d37b0b9e43e99cfad7a048948bf4",
            "6039df4290ea41f4a9dc7df990a8dab0",
            "31a63b149d674078b61d5289f1f1b87a",
            "e7380dc364c845acb21b62ff01c7da81",
            "68940d3c2831439f9b7aa26388243452",
            "ce83e9e51ae64a2bbed44379f5d02cf2",
            "ed51e1c11aea430095062ade9b324eca",
            "88343088565548b19328b96d2d67178a",
            "6daa13bd79814c519ee6054aadd54b45",
            "a48bee1aef8e4e89abb1f0ce874a9642",
            "e6a184bc939f4f96aa00ca33f47d15d1",
            "d25fc3d1710f489bbd9640aadfa0ff75",
            "94586579e3604325865f0d34fb1b6035",
            "77d462a07e5a4b7692e45afc07bc734e",
            "6d3bf68e197a4b8ba439ec69d26e18e0"
          ]
        },
        "outputId": "237539d3-ab4f-4434-be18-c6d5cccedab8"
      },
      "outputs": [
        {
          "output_type": "stream",
          "name": "stdout",
          "text": [
            "logging in as jader.caro@udea.edu.co ... please wait\n",
            "\n",
            "-------------\n",
            "using course session 2021.deeplearning::udea.20242\n",
            "success!! you are logged in\n",
            "-------------\n"
          ]
        }
      ],
      "source": [
        "from local.lib.rlxmoocapi import submit, session\n",
        "session.LoginSequence(endpoint=init.endpoint, course_id=init.course_id, lab_id=\"L04.03\", varname=\"student\");"
      ]
    },
    {
      "cell_type": "code",
      "execution_count": 3,
      "metadata": {
        "id": "YtBWqHRwTIju"
      },
      "outputs": [],
      "source": [
        "import pandas as pd\n",
        "import matplotlib.pyplot as plt\n",
        "from skimage import io\n",
        "import numpy as np\n",
        "%matplotlib inline\n",
        "from IPython.display import Image"
      ]
    },
    {
      "cell_type": "code",
      "execution_count": null,
      "metadata": {
        "id": "H4py9yAjWrgZ"
      },
      "outputs": [],
      "source": []
    },
    {
      "cell_type": "markdown",
      "metadata": {
        "id": "e9kX08I3WsVl"
      },
      "source": [
        "## TASK 1: Create anchor boxes\n",
        "\n",
        "observe how we download and extract the first 20K bounding-box annotations from the Open Images V6 dataset, out of the total 14M available. We are interested in the width and height of each box, which we must obtain by substracting the box coordinates, according to the description [here](https://storage.googleapis.com/openimages/web/download.html). Recall that the coordinates are $\\in [0,1]$ as they are relative to the image size"
      ]
    },
    {
      "cell_type": "code",
      "execution_count": 4,
      "metadata": {
        "id": "IrL_3cN1TJl0",
        "colab": {
          "base_uri": "https://localhost:8080/"
        },
        "outputId": "e8db1bcb-ae75-48cb-ea3e-ab9c2fb91d3f"
      },
      "outputs": [
        {
          "output_type": "stream",
          "name": "stdout",
          "text": [
            "--2024-10-13 18:42:39--  https://storage.googleapis.com/openimages/v6/oidv6-train-annotations-bbox.csv\n",
            "Resolving storage.googleapis.com (storage.googleapis.com)... 142.250.145.207, 74.125.128.207, 74.125.143.207, ...\n",
            "Connecting to storage.googleapis.com (storage.googleapis.com)|142.250.145.207|:443... connected.\n",
            "HTTP request sent, awaiting response... 200 OK\n",
            "Length: 2258447590 (2.1G) [text/csv]\n",
            "Saving to: ‘oidv6-train-annotations-bbox.csv’\n",
            "\n",
            "oidv6-train-annotat 100%[===================>]   2.10G  39.7MB/s    in 56s     \n",
            "\n",
            "2024-10-13 18:43:36 (38.4 MB/s) - ‘oidv6-train-annotations-bbox.csv’ saved [2258447590/2258447590]\n",
            "\n"
          ]
        }
      ],
      "source": [
        "!wget -nc https://storage.googleapis.com/openimages/v6/oidv6-train-annotations-bbox.csv"
      ]
    },
    {
      "cell_type": "code",
      "execution_count": 5,
      "metadata": {
        "id": "Hmlwo2W3TRXo",
        "colab": {
          "base_uri": "https://localhost:8080/"
        },
        "outputId": "47acc040-48a7-4ae2-9db7-71b2597f1263"
      },
      "outputs": [
        {
          "output_type": "stream",
          "name": "stdout",
          "text": [
            "  14610230   14610230 2258447590 oidv6-train-annotations-bbox.csv\n",
            "ImageID,Source,LabelName,Confidence,XMin,XMax,YMin,YMax,IsOccluded,IsTruncated,IsGroupOf,IsDepiction,IsInside,XClick1X,XClick2X,XClick3X,XClick4X,XClick1Y,XClick2Y,XClick3Y,XClick4Y\n",
            "000002b66c9c498e,xclick,/m/01g317,1,0.012500,0.195312,0.148438,0.587500,0,1,0,0,0,0.148438,0.012500,0.059375,0.195312,0.148438,0.357812,0.587500,0.325000\n",
            "000002b66c9c498e,xclick,/m/01g317,1,0.025000,0.276563,0.714063,0.948438,0,1,0,0,0,0.025000,0.248438,0.276563,0.214062,0.914062,0.714063,0.782813,0.948438\n",
            "000002b66c9c498e,xclick,/m/01g317,1,0.151562,0.310937,0.198437,0.590625,1,0,0,0,0,0.243750,0.151562,0.310937,0.262500,0.198437,0.434375,0.507812,0.590625\n",
            "000002b66c9c498e,xclick,/m/01g317,1,0.256250,0.429688,0.651563,0.925000,1,0,0,0,0,0.315625,0.429688,0.256250,0.423438,0.651563,0.921875,0.826562,0.925000\n"
          ]
        }
      ],
      "source": [
        "!wc oidv6-train-annotations-bbox.csv\n",
        "!head -5 oidv6-train-annotations-bbox.csv"
      ]
    },
    {
      "cell_type": "code",
      "execution_count": null,
      "metadata": {
        "id": "9eP2RRKXXvtw"
      },
      "outputs": [],
      "source": []
    },
    {
      "cell_type": "markdown",
      "metadata": {
        "id": "hiWFB0IWXwss"
      },
      "source": [
        "The `X` numpy array now contains the width and height of bounding boxes"
      ]
    },
    {
      "cell_type": "code",
      "execution_count": 6,
      "metadata": {
        "id": "mhuXgRP_Tbzp",
        "colab": {
          "base_uri": "https://localhost:8080/"
        },
        "outputId": "3d30a9b6-8d02-47af-f69f-5a600eedec31"
      },
      "outputs": [
        {
          "output_type": "execute_result",
          "data": {
            "text/plain": [
              "array([[0.182812, 0.439062],\n",
              "       [0.251563, 0.234375],\n",
              "       [0.159375, 0.392188],\n",
              "       [0.173438, 0.273437],\n",
              "       [0.089063, 0.15    ],\n",
              "       [0.048438, 0.067187]])"
            ]
          },
          "metadata": {},
          "execution_count": 6
        }
      ],
      "source": [
        "!head -20001 oidv6-train-annotations-bbox.csv > oidv6-train-annotations-bbox-20k.csv\n",
        "d = pd.read_csv('oidv6-train-annotations-bbox-20k.csv')\n",
        "w = (d.XMax-d.XMin).values\n",
        "h = (d.YMax-d.YMin).values\n",
        "X = np.r_[[w,h]].T\n",
        "X[:6]"
      ]
    },
    {
      "cell_type": "markdown",
      "metadata": {
        "id": "Yaujzb6QYQd3"
      },
      "source": [
        "we can paint a sample of them"
      ]
    },
    {
      "cell_type": "code",
      "execution_count": 7,
      "metadata": {
        "colab": {
          "base_uri": "https://localhost:8080/",
          "height": 451
        },
        "id": "ie8OGZz1YQM4",
        "outputId": "0d19fc2a-9ffa-44d1-b408-239bcd610634"
      },
      "outputs": [
        {
          "output_type": "display_data",
          "data": {
            "text/plain": [
              "<Figure size 500x500 with 1 Axes>"
            ],
            "image/png": "[encoded data removed]"
          },
          "metadata": {}
        }
      ],
      "source": [
        "\n",
        "from matplotlib.patches import Rectangle\n",
        "plt.figure(figsize=(5,5));\n",
        "ax = plt.subplot(111)\n",
        "\n",
        "for w,h in np.random.permutation(X)[:25]:\n",
        "    ax.add_patch(Rectangle((0.5-w/2,0.5-h/2),w,h, linewidth=2,edgecolor='r',facecolor='none'))\n"
      ]
    },
    {
      "cell_type": "markdown",
      "metadata": {
        "id": "7IV-p952a0Tt"
      },
      "source": [
        "Complete the following function such that it creates `n` anchor boxes from the bounding boxes in `X` using [sklearn.cluster.KMeans](https://scikit-learn.org/stable/modules/generated/sklearn.cluster.KMeans.html) with `n_clusters` set to the number of anchor boxes desired. After fitting KMeans, return  cluster centers. Use the `random_state` passed as argument in KMeans."
      ]
    },
    {
      "cell_type": "code",
      "execution_count": 8,
      "metadata": {
        "id": "Vs1NqPtIfBfx"
      },
      "outputs": [],
      "source": [
        "def get_anchor_boxes(X, n, random_state=0):\n",
        "    from sklearn.cluster import KMeans\n",
        "    kmeans = KMeans(n_clusters=n, random_state=random_state)\n",
        "    kmeans.fit(X)\n",
        "    km = kmeans.cluster_centers_\n",
        "    return km"
      ]
    },
    {
      "cell_type": "markdown",
      "metadata": {
        "id": "yEKmWZ0neBBf"
      },
      "source": [
        "you can visualize your anchor boxes. You should get something similar to this"
      ]
    },
    {
      "cell_type": "code",
      "execution_count": 9,
      "metadata": {
        "colab": {
          "base_uri": "https://localhost:8080/",
          "height": 301
        },
        "id": "dtdQIpoFehEa",
        "outputId": "4df3ff27-7e2a-45bf-dd87-541f95778c70"
      },
      "outputs": [
        {
          "output_type": "execute_result",
          "data": {
            "image/png": "[encoded data removed]",
            "text/plain": [
              "<IPython.core.display.Image object>"
            ]
          },
          "metadata": {
            "image/png": {
              "width": 300
            }
          },
          "execution_count": 9
        }
      ],
      "source": [
        "Image(\"local/imgs/anchor_boxes.png\", width=300)"
      ]
    },
    {
      "cell_type": "code",
      "execution_count": 10,
      "metadata": {
        "id": "nehgh0IdbNfa",
        "colab": {
          "base_uri": "https://localhost:8080/",
          "height": 451
        },
        "outputId": "cb04829c-0800-4342-a4fb-46cf13889f6b"
      },
      "outputs": [
        {
          "output_type": "display_data",
          "data": {
            "text/plain": [
              "<Figure size 500x500 with 1 Axes>"
            ],
            "image/png": "[encoded data removed]"
          },
          "metadata": {}
        }
      ],
      "source": [
        "from matplotlib.patches import Rectangle\n",
        "anchors = get_anchor_boxes(X, n=10, random_state=0)\n",
        "plt.figure(figsize=(5,5));\n",
        "ax = plt.subplot(111)\n",
        "\n",
        "for w,h in anchors:\n",
        "    ax.add_patch(Rectangle((0.5-w/2,0.5-h/2),w,h, linewidth=2,edgecolor='r',facecolor='none'))"
      ]
    },
    {
      "cell_type": "markdown",
      "metadata": {
        "id": "4Xn5Xjqi_bd8"
      },
      "source": [
        "**Registra tu solución en linea**"
      ]
    },
    {
      "cell_type": "code",
      "execution_count": 11,
      "metadata": {
        "id": "8IhGJuMPh5wZ",
        "colab": {
          "base_uri": "https://localhost:8080/",
          "height": 111
        },
        "outputId": "aea5e848-8e30-4843-a4af-2d7b74a1f063"
      },
      "outputs": [
        {
          "output_type": "display_data",
          "data": {
            "text/plain": [
              "<IPython.core.display.HTML object>"
            ],
            "text/html": [
              "\n",
              "                    <b>T1 submitted.</b> <b><font color=\"blue\">your grade is 5</font></b> \n",
              "                    <p/><pre>----- grader message -------</pre>correct<pre>----------------------------</pre>\n",
              "                    <p/><p/>\n",
              "                    <div style=\"font-size:10px\"><b>SUBMISSION CODE</b> OuAQev7kxw7pFYUGkgxVvLf+frh1ZnjGc+nObQprUSBj6oKBYRVPfGJdGz7gc5XC2WmEATxLWAFGHvZYr6oPLEUctWJywSjufeE79D4QzZ+CCBvtJeh9p+62SkVfgGiO5ePIyVl9fiOT7LOS7dijmH5wdqbhY3R25grUdVEEUxk=</div>\n",
              "                    "
            ]
          },
          "metadata": {}
        }
      ],
      "source": [
        "student.submit_task(namespace=globals(), task_id='T1');"
      ]
    },
    {
      "cell_type": "markdown",
      "metadata": {
        "id": "TZKDfhUqjdBq"
      },
      "source": [
        "## TASK 2: Get closest anchor\n",
        "\n",
        "assume we have these anchor boxes, sorted by size"
      ]
    },
    {
      "cell_type": "code",
      "execution_count": 12,
      "metadata": {
        "id": "V0keIbeSjo_e",
        "colab": {
          "base_uri": "https://localhost:8080/",
          "height": 363
        },
        "outputId": "b80a58e5-1eed-44fc-b400-050b6f0a7046"
      },
      "outputs": [
        {
          "output_type": "execute_result",
          "data": {
            "text/plain": [
              "          w         h\n",
              "0  0.036126  0.050255\n",
              "1  0.098289  0.139243\n",
              "2  0.119130  0.285778\n",
              "3  0.329452  0.238468\n",
              "4  0.188743  0.489144\n",
              "5  0.253478  0.775008\n",
              "6  0.455068  0.515898\n",
              "7  0.831683  0.398024\n",
              "8  0.553954  0.868241\n",
              "9  0.935531  0.895611"
            ],
            "text/html": [
              "\n",
              "  <div id=\"df-f1058545-5a20-41dc-a517-7a1c9531b45d\" class=\"colab-df-container\">\n",
              "    <div>\n",
              "<style scoped>\n",
              "    .dataframe tbody tr th:only-of-type {\n",
              "        vertical-align: middle;\n",
              "    }\n",
              "\n",
              "    .dataframe tbody tr th {\n",
              "        vertical-align: top;\n",
              "    }\n",
              "\n",
              "    .dataframe thead th {\n",
              "        text-align: right;\n",
              "    }\n",
              "</style>\n",
              "<table border=\"1\" class=\"dataframe\">\n",
              "  <thead>\n",
              "    <tr style=\"text-align: right;\">\n",
              "      <th></th>\n",
              "      <th>w</th>\n",
              "      <th>h</th>\n",
              "    </tr>\n",
              "  </thead>\n",
              "  <tbody>\n",
              "    <tr>\n",
              "      <th>0</th>\n",
              "      <td>0.036126</td>\n",
              "      <td>0.050255</td>\n",
              "    </tr>\n",
              "    <tr>\n",
              "      <th>1</th>\n",
              "      <td>0.098289</td>\n",
              "      <td>0.139243</td>\n",
              "    </tr>\n",
              "    <tr>\n",
              "      <th>2</th>\n",
              "      <td>0.119130</td>\n",
              "      <td>0.285778</td>\n",
              "    </tr>\n",
              "    <tr>\n",
              "      <th>3</th>\n",
              "      <td>0.329452</td>\n",
              "      <td>0.238468</td>\n",
              "    </tr>\n",
              "    <tr>\n",
              "      <th>4</th>\n",
              "      <td>0.188743</td>\n",
              "      <td>0.489144</td>\n",
              "    </tr>\n",
              "    <tr>\n",
              "      <th>5</th>\n",
              "      <td>0.253478</td>\n",
              "      <td>0.775008</td>\n",
              "    </tr>\n",
              "    <tr>\n",
              "      <th>6</th>\n",
              "      <td>0.455068</td>\n",
              "      <td>0.515898</td>\n",
              "    </tr>\n",
              "    <tr>\n",
              "      <th>7</th>\n",
              "      <td>0.831683</td>\n",
              "      <td>0.398024</td>\n",
              "    </tr>\n",
              "    <tr>\n",
              "      <th>8</th>\n",
              "      <td>0.553954</td>\n",
              "      <td>0.868241</td>\n",
              "    </tr>\n",
              "    <tr>\n",
              "      <th>9</th>\n",
              "      <td>0.935531</td>\n",
              "      <td>0.895611</td>\n",
              "    </tr>\n",
              "  </tbody>\n",
              "</table>\n",
              "</div>\n",
              "    <div class=\"colab-df-buttons\">\n",
              "\n",
              "  <div class=\"colab-df-container\">\n",
              "    <button class=\"colab-df-convert\" onclick=\"convertToInteractive('df-f1058545-5a20-41dc-a517-7a1c9531b45d')\"\n",
              "            title=\"Convert this dataframe to an interactive table.\"\n",
              "            style=\"display:none;\">\n",
              "\n",
              "  <svg xmlns=\"http://www.w3.org/2000/svg\" height=\"24px\" viewBox=\"0 -960 960 960\">\n",
              "    <path d=\"M120-120v-720h720v720H120Zm60-500h600v-160H180v160Zm220 220h160v-160H400v160Zm0 220h160v-160H400v160ZM180-400h160v-160H180v160Zm440 0h160v-160H620v160ZM180-180h160v-160H180v160Zm440 0h160v-160H620v160Z\"/>\n",
              "  </svg>\n",
              "    </button>\n",
              "\n",
              "  <style>\n",
              "    .colab-df-container {\n",
              "      display:flex;\n",
              "      gap: 12px;\n",
              "    }\n",
              "\n",
              "    .colab-df-convert {\n",
              "      background-color: #E8F0FE;\n",
              "      border: none;\n",
              "      border-radius: 50%;\n",
              "      cursor: pointer;\n",
              "      display: none;\n",
              "      fill: #1967D2;\n",
              "      height: 32px;\n",
              "      padding: 0 0 0 0;\n",
              "      width: 32px;\n",
              "    }\n",
              "\n",
              "    .colab-df-convert:hover {\n",
              "      background-color: #E2EBFA;\n",
              "      box-shadow: 0px 1px 2px rgba(60, 64, 67, 0.3), 0px 1px 3px 1px rgba(60, 64, 67, 0.15);\n",
              "      fill: #174EA6;\n",
              "    }\n",
              "\n",
              "    .colab-df-buttons div {\n",
              "      margin-bottom: 4px;\n",
              "    }\n",
              "\n",
              "    [theme=dark] .colab-df-convert {\n",
              "      background-color: #3B4455;\n",
              "      fill: #D2E3FC;\n",
              "    }\n",
              "\n",
              "    [theme=dark] .colab-df-convert:hover {\n",
              "      background-color: #434B5C;\n",
              "      box-shadow: 0px 1px 3px 1px rgba(0, 0, 0, 0.15);\n",
              "      filter: drop-shadow(0px 1px 2px rgba(0, 0, 0, 0.3));\n",
              "      fill: #FFFFFF;\n",
              "    }\n",
              "  </style>\n",
              "\n",
              "    <script>\n",
              "      const buttonEl =\n",
              "        document.querySelector('#df-f1058545-5a20-41dc-a517-7a1c9531b45d button.colab-df-convert');\n",
              "      buttonEl.style.display =\n",
              "        google.colab.kernel.accessAllowed ? 'block' : 'none';\n",
              "\n",
              "      async function convertToInteractive(key) {\n",
              "        const element = document.querySelector('#df-f1058545-5a20-41dc-a517-7a1c9531b45d');\n",
              "        const dataTable =\n",
              "          await google.colab.kernel.invokeFunction('convertToInteractive',\n",
              "                                                    [key], {});\n",
              "        if (!dataTable) return;\n",
              "\n",
              "        const docLinkHtml = 'Like what you see? Visit the ' +\n",
              "          '<a target=\"_blank\" href=https://colab.research.google.com/notebooks/data_table.ipynb>data table notebook</a>'\n",
              "          + ' to learn more about interactive tables.';\n",
              "        element.innerHTML = '';\n",
              "        dataTable['output_type'] = 'display_data';\n",
              "        await google.colab.output.renderOutput(dataTable, element);\n",
              "        const docLink = document.createElement('div');\n",
              "        docLink.innerHTML = docLinkHtml;\n",
              "        element.appendChild(docLink);\n",
              "      }\n",
              "    </script>\n",
              "  </div>\n",
              "\n",
              "\n",
              "<div id=\"df-33efb9ed-8f97-4d99-857d-da6837521cd7\">\n",
              "  <button class=\"colab-df-quickchart\" onclick=\"quickchart('df-33efb9ed-8f97-4d99-857d-da6837521cd7')\"\n",
              "            title=\"Suggest charts\"\n",
              "            style=\"display:none;\">\n",
              "\n",
              "<svg xmlns=\"http://www.w3.org/2000/svg\" height=\"24px\"viewBox=\"0 0 24 24\"\n",
              "     width=\"24px\">\n",
              "    <g>\n",
              "        <path d=\"M19 3H5c-1.1 0-2 .9-2 2v14c0 1.1.9 2 2 2h14c1.1 0 2-.9 2-2V5c0-1.1-.9-2-2-2zM9 17H7v-7h2v7zm4 0h-2V7h2v10zm4 0h-2v-4h2v4z\"/>\n",
              "    </g>\n",
              "</svg>\n",
              "  </button>\n",
              "\n",
              "<style>\n",
              "  .colab-df-quickchart {\n",
              "      --bg-color: #E8F0FE;\n",
              "      --fill-color: #1967D2;\n",
              "      --hover-bg-color: #E2EBFA;\n",
              "      --hover-fill-color: #174EA6;\n",
              "      --disabled-fill-color: #AAA;\n",
              "      --disabled-bg-color: #DDD;\n",
              "  }\n",
              "\n",
              "  [theme=dark] .colab-df-quickchart {\n",
              "      --bg-color: #3B4455;\n",
              "      --fill-color: #D2E3FC;\n",
              "      --hover-bg-color: #434B5C;\n",
              "      --hover-fill-color: #FFFFFF;\n",
              "      --disabled-bg-color: #3B4455;\n",
              "      --disabled-fill-color: #666;\n",
              "  }\n",
              "\n",
              "  .colab-df-quickchart {\n",
              "    background-color: var(--bg-color);\n",
              "    border: none;\n",
              "    border-radius: 50%;\n",
              "    cursor: pointer;\n",
              "    display: none;\n",
              "    fill: var(--fill-color);\n",
              "    height: 32px;\n",
              "    padding: 0;\n",
              "    width: 32px;\n",
              "  }\n",
              "\n",
              "  .colab-df-quickchart:hover {\n",
              "    background-color: var(--hover-bg-color);\n",
              "    box-shadow: 0 1px 2px rgba(60, 64, 67, 0.3), 0 1px 3px 1px rgba(60, 64, 67, 0.15);\n",
              "    fill: var(--button-hover-fill-color);\n",
              "  }\n",
              "\n",
              "  .colab-df-quickchart-complete:disabled,\n",
              "  .colab-df-quickchart-complete:disabled:hover {\n",
              "    background-color: var(--disabled-bg-color);\n",
              "    fill: var(--disabled-fill-color);\n",
              "    box-shadow: none;\n",
              "  }\n",
              "\n",
              "  .colab-df-spinner {\n",
              "    border: 2px solid var(--fill-color);\n",
              "    border-color: transparent;\n",
              "    border-bottom-color: var(--fill-color);\n",
              "    animation:\n",
              "      spin 1s steps(1) infinite;\n",
              "  }\n",
              "\n",
              "  @keyframes spin {\n",
              "    0% {\n",
              "      border-color: transparent;\n",
              "      border-bottom-color: var(--fill-color);\n",
              "      border-left-color: var(--fill-color);\n",
              "    }\n",
              "    20% {\n",
              "      border-color: transparent;\n",
              "      border-left-color: var(--fill-color);\n",
              "      border-top-color: var(--fill-color);\n",
              "    }\n",
              "    30% {\n",
              "      border-color: transparent;\n",
              "      border-left-color: var(--fill-color);\n",
              "      border-top-color: var(--fill-color);\n",
              "      border-right-color: var(--fill-color);\n",
              "    }\n",
              "    40% {\n",
              "      border-color: transparent;\n",
              "      border-right-color: var(--fill-color);\n",
              "      border-top-color: var(--fill-color);\n",
              "    }\n",
              "    60% {\n",
              "      border-color: transparent;\n",
              "      border-right-color: var(--fill-color);\n",
              "    }\n",
              "    80% {\n",
              "      border-color: transparent;\n",
              "      border-right-color: var(--fill-color);\n",
              "      border-bottom-color: var(--fill-color);\n",
              "    }\n",
              "    90% {\n",
              "      border-color: transparent;\n",
              "      border-bottom-color: var(--fill-color);\n",
              "    }\n",
              "  }\n",
              "</style>\n",
              "\n",
              "  <script>\n",
              "    async function quickchart(key) {\n",
              "      const quickchartButtonEl =\n",
              "        document.querySelector('#' + key + ' button');\n",
              "      quickchartButtonEl.disabled = true;  // To prevent multiple clicks.\n",
              "      quickchartButtonEl.classList.add('colab-df-spinner');\n",
              "      try {\n",
              "        const charts = await google.colab.kernel.invokeFunction(\n",
              "            'suggestCharts', [key], {});\n",
              "      } catch (error) {\n",
              "        console.error('Error during call to suggestCharts:', error);\n",
              "      }\n",
              "      quickchartButtonEl.classList.remove('colab-df-spinner');\n",
              "      quickchartButtonEl.classList.add('colab-df-quickchart-complete');\n",
              "    }\n",
              "    (() => {\n",
              "      let quickchartButtonEl =\n",
              "        document.querySelector('#df-33efb9ed-8f97-4d99-857d-da6837521cd7 button');\n",
              "      quickchartButtonEl.style.display =\n",
              "        google.colab.kernel.accessAllowed ? 'block' : 'none';\n",
              "    })();\n",
              "  </script>\n",
              "</div>\n",
              "\n",
              "  <div id=\"id_f1d625e6-729c-4f7b-9035-0e23a66509de\">\n",
              "    <style>\n",
              "      .colab-df-generate {\n",
              "        background-color: #E8F0FE;\n",
              "        border: none;\n",
              "        border-radius: 50%;\n",
              "        cursor: pointer;\n",
              "        display: none;\n",
              "        fill: #1967D2;\n",
              "        height: 32px;\n",
              "        padding: 0 0 0 0;\n",
              "        width: 32px;\n",
              "      }\n",
              "\n",
              "      .colab-df-generate:hover {\n",
              "        background-color: #E2EBFA;\n",
              "        box-shadow: 0px 1px 2px rgba(60, 64, 67, 0.3), 0px 1px 3px 1px rgba(60, 64, 67, 0.15);\n",
              "        fill: #174EA6;\n",
              "      }\n",
              "\n",
              "      [theme=dark] .colab-df-generate {\n",
              "        background-color: #3B4455;\n",
              "        fill: #D2E3FC;\n",
              "      }\n",
              "\n",
              "      [theme=dark] .colab-df-generate:hover {\n",
              "        background-color: #434B5C;\n",
              "        box-shadow: 0px 1px 3px 1px rgba(0, 0, 0, 0.15);\n",
              "        filter: drop-shadow(0px 1px 2px rgba(0, 0, 0, 0.3));\n",
              "        fill: #FFFFFF;\n",
              "      }\n",
              "    </style>\n",
              "    <button class=\"colab-df-generate\" onclick=\"generateWithVariable('anchors')\"\n",
              "            title=\"Generate code using this dataframe.\"\n",
              "            style=\"display:none;\">\n",
              "\n",
              "  <svg xmlns=\"http://www.w3.org/2000/svg\" height=\"24px\"viewBox=\"0 0 24 24\"\n",
              "       width=\"24px\">\n",
              "    <path d=\"M7,19H8.4L18.45,9,17,7.55,7,17.6ZM5,21V16.75L18.45,3.32a2,2,0,0,1,2.83,0l1.4,1.43a1.91,1.91,0,0,1,.58,1.4,1.91,1.91,0,0,1-.58,1.4L9.25,21ZM18.45,9,17,7.55Zm-12,3A5.31,5.31,0,0,0,4.9,8.1,5.31,5.31,0,0,0,1,6.5,5.31,5.31,0,0,0,4.9,4.9,5.31,5.31,0,0,0,6.5,1,5.31,5.31,0,0,0,8.1,4.9,5.31,5.31,0,0,0,12,6.5,5.46,5.46,0,0,0,6.5,12Z\"/>\n",
              "  </svg>\n",
              "    </button>\n",
              "    <script>\n",
              "      (() => {\n",
              "      const buttonEl =\n",
              "        document.querySelector('#id_f1d625e6-729c-4f7b-9035-0e23a66509de button.colab-df-generate');\n",
              "      buttonEl.style.display =\n",
              "        google.colab.kernel.accessAllowed ? 'block' : 'none';\n",
              "\n",
              "      buttonEl.onclick = () => {\n",
              "        google.colab.notebook.generateWithVariable('anchors');\n",
              "      }\n",
              "      })();\n",
              "    </script>\n",
              "  </div>\n",
              "\n",
              "    </div>\n",
              "  </div>\n"
            ],
            "application/vnd.google.colaboratory.intrinsic+json": {
              "type": "dataframe",
              "variable_name": "anchors",
              "summary": "{\n  \"name\": \"anchors\",\n  \"rows\": 10,\n  \"fields\": [\n    {\n      \"column\": \"w\",\n      \"properties\": {\n        \"dtype\": \"number\",\n        \"std\": 0.3107933619085695,\n        \"min\": 0.03612632,\n        \"max\": 0.93553054,\n        \"num_unique_values\": 10,\n        \"samples\": [\n          0.5539543,\n          0.0982887,\n          0.25347843\n        ],\n        \"semantic_type\": \"\",\n        \"description\": \"\"\n      }\n    },\n    {\n      \"column\": \"h\",\n      \"properties\": {\n        \"dtype\": \"number\",\n        \"std\": 0.30062118432413015,\n        \"min\": 0.05025544,\n        \"max\": 0.89561131,\n        \"num_unique_values\": 10,\n        \"samples\": [\n          0.86824085,\n          0.1392435,\n          0.77500826\n        ],\n        \"semantic_type\": \"\",\n        \"description\": \"\"\n      }\n    }\n  ]\n}"
            }
          },
          "metadata": {},
          "execution_count": 12
        }
      ],
      "source": [
        "kc = np.array([0.03612632, 0.05025544, 0.0982887 , 0.1392435 , 0.11913009,\n",
        "       0.28577818, 0.32945173, 0.23846835, 0.18874274, 0.48914381,\n",
        "       0.25347843, 0.77500826, 0.45506799, 0.51589807, 0.83168319,\n",
        "       0.39802428, 0.5539543 , 0.86824085, 0.93553054, 0.89561131]).reshape(10,2)\n",
        "kc = kc[np.argsort(np.product(kc, axis=1))]\n",
        "anchors = pd.DataFrame(kc, columns=['w', 'h'])\n",
        "anchors"
      ]
    },
    {
      "cell_type": "markdown",
      "metadata": {
        "id": "0q5D7n8InLlf"
      },
      "source": [
        "Complete the following function so that, given a bounding box `XMin, XMax, YMin, YMax` and a dataframe with anchors such as `kc` above\n",
        "returns the index of the most similar anchor to the bouding box.\n",
        "\n",
        "Recall that all values $\\in [0,1]$\n",
        "\n",
        "Given two boxes (bounding box and anchor) with widths and heights $w_0, h_0$ and $w_1, h_1$, we define their similarity measure as:\n",
        "\n",
        "$$|w_0-w_1| + |h_0-h_1|$$\n",
        "\n",
        "Your return value must be an integer between 0 and 9"
      ]
    },
    {
      "cell_type": "code",
      "source": [
        "def get_closest_anchor_box(XMin, XMax, YMin, YMax, anchors):\n",
        "    w = XMax - XMin\n",
        "    h = YMax - YMin\n",
        "    return np.argmin(np.abs(anchors.w - w) + np.abs(anchors.h - h))"
      ],
      "metadata": {
        "id": "MOiEAt5fNAWL"
      },
      "execution_count": 13,
      "outputs": []
    },
    {
      "cell_type": "code",
      "execution_count": null,
      "metadata": {
        "id": "ArMqnGKW_5Vq"
      },
      "outputs": [],
      "source": []
    },
    {
      "cell_type": "markdown",
      "metadata": {
        "id": "gRGoyCi_pAix"
      },
      "source": [
        "you can visualize random annotations and their corresponding anchor boxes according to your function below. Your should see things like this one"
      ]
    },
    {
      "cell_type": "code",
      "execution_count": 14,
      "metadata": {
        "colab": {
          "base_uri": "https://localhost:8080/",
          "height": 229
        },
        "id": "KimRYPg_pP0t",
        "outputId": "98decf59-9287-4482-d178-1e605cebab6c"
      },
      "outputs": [
        {
          "output_type": "execute_result",
          "data": {
            "image/png": "[encoded data removed]",
            "text/plain": [
              "<IPython.core.display.Image object>"
            ]
          },
          "metadata": {
            "image/png": {
              "width": 600
            }
          },
          "execution_count": 14
        }
      ],
      "source": [
        "Image(\"local/imgs/annotations-anchors.png\", width=600)"
      ]
    },
    {
      "cell_type": "code",
      "execution_count": 15,
      "metadata": {
        "id": "zuGjoObriymu",
        "colab": {
          "base_uri": "https://localhost:8080/",
          "height": 374
        },
        "outputId": "6f667238-b649-481f-a87f-eaf483258e6a"
      },
      "outputs": [
        {
          "output_type": "display_data",
          "data": {
            "text/plain": [
              "<Figure size 1200x400 with 3 Axes>"
            ],
            "image/png": "[encoded data removed]"
          },
          "metadata": {}
        }
      ],
      "source": [
        "plt.figure(figsize=(12,4));\n",
        "for i in range(3):\n",
        "    b = d.iloc[np.random.randint(len(d))]\n",
        "    bx, by = b.XMin + (b.XMax-b.XMin)/2, b.YMin + (b.YMax-b.YMin)/2\n",
        "    bw, bh = b.XMax - b.XMin, b.YMax - b.YMin\n",
        "    pw, ph = anchors.values[get_closest_anchor_box(b.XMin, b.XMax, b.YMin, b.YMax, anchors)]\n",
        "\n",
        "    ax = plt.subplot(1,3,i+1)\n",
        "    ax.add_patch(Rectangle((bx-bw/2,by-bh/2),bw,bh, linewidth=2,edgecolor='r',facecolor='none', label=\"annotation\"))\n",
        "    ax.add_patch(Rectangle((bx-pw/2,by-ph/2),pw,ph, linewidth=2,edgecolor='b',facecolor='none', label=\"anchor box\"))\n",
        "    plt.scatter(bx, by, color=\"black\", label=\"object center\")\n",
        "    plt.grid(); plt.legend()\n",
        "    plt.xlim(0,1); plt.ylim(0,1);\n",
        ""
      ]
    },
    {
      "cell_type": "markdown",
      "metadata": {
        "id": "xALIyxF8C6yg"
      },
      "source": [
        "**Registra tu solución en linea**"
      ]
    },
    {
      "cell_type": "code",
      "execution_count": 16,
      "metadata": {
        "id": "oOeGXtDsC6yg",
        "colab": {
          "base_uri": "https://localhost:8080/",
          "height": 111
        },
        "outputId": "2179c73f-fa9e-4db6-a589-43f261cd1cad"
      },
      "outputs": [
        {
          "output_type": "display_data",
          "data": {
            "text/plain": [
              "<IPython.core.display.HTML object>"
            ],
            "text/html": [
              "\n",
              "                    <b>T2 submitted.</b> <b><font color=\"blue\">your grade is 5</font></b> \n",
              "                    <p/><pre>----- grader message -------</pre>correct<pre>----------------------------</pre>\n",
              "                    <p/><p/>\n",
              "                    <div style=\"font-size:10px\"><b>SUBMISSION CODE</b> jSTvM7x+SKGYqUTXwO5ca9IBTYnPoWvjEyG7e65o3bcVPHcX7rJKQ+QpzS5U/t9U/xC9Fyg5YJxBI5Nw0HTkOLUj3RohjoEWUDIqlq0IDOHRFRvyWIkiklDxi1KjcRQDcPUiX2ddX/7v6WomUUSNvfsl8zZRQHWEdCp5J8FJnA0=</div>\n",
              "                    "
            ]
          },
          "metadata": {}
        }
      ],
      "source": [
        "student.submit_task(namespace=globals(), task_id='T2');"
      ]
    },
    {
      "cell_type": "markdown",
      "metadata": {
        "id": "1bJrpA4krmKH"
      },
      "source": [
        "## TASK 3: Compute desired model bounding box predictions\n",
        "\n",
        "Understand the schema of YOLO coordinates below\n",
        "\n",
        "- $b_w$, $b_h$ are the width and height of the annotation we want the model to predict\n",
        "- $b_x$, $b_y$ are $x$ and $y$ coordinate of the annotation we want the model to predict\n",
        "- $p_w$, $p_h$ are the width and height of its closest anchor box\n",
        "- $c_x$, $c_y$ are the $x$ and $y$ coordinates of the **TOP LEFT** corner of the image cell responsible for detecting the annotation"
      ]
    },
    {
      "cell_type": "code",
      "execution_count": null,
      "metadata": {
        "colab": {
          "base_uri": "https://localhost:8080/",
          "height": 315
        },
        "id": "KMUz4QTAsuiY",
        "outputId": "7d9c344f-f043-48f4-983d-cf9f3d86dd69"
      },
      "outputs": [
        {
          "data": {
            "image/png": "[encoded data removed]",
            "text/plain": [
              "<IPython.core.display.Image object>"
            ]
          },
          "execution_count": 235,
          "metadata": {
            "image/png": {
              "width": 400
            },
            "tags": []
          },
          "output_type": "execute_result"
        }
      ],
      "source": [
        "Image(\"local/imgs/yolo_predictions.png\", width=400)"
      ]
    },
    {
      "cell_type": "markdown",
      "metadata": {
        "id": "We1clbjw0pob"
      },
      "source": [
        "Complete the following function such that, when given $b_x$, $b_y$, $b_w$, $b_h$, $p_w$, $p_h$, $n_w$, $n_h$ returns:\n",
        "\n",
        "- $n_x \\in \\{0,1,..,n_x-1\\}$, $n_y \\in  \\{0,1,..,n_y-1\\}$: the cell number in which the annotation center ($b_x$, $b_y$) falls in.\n",
        "- $t_x$, $t_y$, $t_w$, $t_h$: the desired model predictions according to the figure above\n",
        "\n",
        "$n_w$ and $n_h$ specify the grid size in terms of number of cells wide and number of cells high.\n",
        "\n",
        "\n"
      ]
    },
    {
      "cell_type": "code",
      "source": [
        "def get_model_target_predictions(bx, by, bw, bh, pw, ph, nw, nh):\n",
        "  nx = np.floor(bx*nw).astype(int)\n",
        "  ny = np.floor(by*nh).astype(int)\n",
        "  tx = np.log(bx * nw - nx)\n",
        "  ty = np.log(by * nh - ny)\n",
        "  tw = np.log(bw/pw)\n",
        "  th = np.log(bh/ph)\n",
        "  return nx, ny, tx, ty, tw, th\n"
      ],
      "metadata": {
        "id": "7yll7jx7NcOY"
      },
      "execution_count": 117,
      "outputs": []
    },
    {
      "cell_type": "code",
      "source": [
        "def get_model_target_predictions(bx, by, bw, bh, pw, ph, nw, nh):\n",
        "  nx = np.floor(bx*nw).astype(int)\n",
        "  ny = np.floor(by*nh).astype(int)\n",
        "  tx = bx * nw - nx\n",
        "  ty = by * nh - ny\n",
        "  tx = np.log(tx)\n",
        "  ty = np.log(ty)\n",
        "  tw = np.log(bw/pw)\n",
        "  th = np.log(bh/ph)\n",
        "  return nx, ny, tx, ty, tw, th"
      ],
      "metadata": {
        "id": "_jpBbIj9a6w7"
      },
      "execution_count": 131,
      "outputs": []
    },
    {
      "cell_type": "code",
      "source": [],
      "metadata": {
        "colab": {
          "base_uri": "https://localhost:8080/"
        },
        "id": "Q4zlv90ddxHD",
        "outputId": "6386550d-d54b-4700-ff53-8bf21a00f3f4"
      },
      "execution_count": 65,
      "outputs": [
        {
          "output_type": "execute_result",
          "data": {
            "text/plain": [
              "2.8699999999999997"
            ]
          },
          "metadata": {},
          "execution_count": 65
        }
      ]
    },
    {
      "cell_type": "code",
      "execution_count": null,
      "metadata": {
        "id": "v36GW-an8m2a"
      },
      "outputs": [],
      "source": []
    },
    {
      "cell_type": "markdown",
      "metadata": {
        "id": "jePe8Rau5FkD"
      },
      "source": [
        "check your code. For the following values, you should get\n",
        "\n",
        "- $n_x$, $n_y$ = `1, 4`\n",
        "- $t_x$, $t_y$ = `-2.63, -3.89`\n",
        "- $t_w$, $t_h$ = `-0.92, 0.14`\n",
        "\n",
        "Make sure the values make sense (why are they positive or negative)"
      ]
    },
    {
      "cell_type": "code",
      "execution_count": 132,
      "metadata": {
        "id": "snMKj7OQ1ogX",
        "colab": {
          "base_uri": "https://localhost:8080/"
        },
        "outputId": "f931b990-5e46-4492-bbee-85be8c3789d2"
      },
      "outputs": [
        {
          "output_type": "execute_result",
          "data": {
            "text/plain": [
              "(1,\n",
              " 4,\n",
              " -0.7550225842780328,\n",
              " -2.3025850929940495,\n",
              " -0.9162907318741551,\n",
              " 0.14310084364067324)"
            ]
          },
          "metadata": {},
          "execution_count": 132
        }
      ],
      "source": [
        "nw, nh = 7, 5\n",
        "bx, by = 0.21, 0.82\n",
        "bw, bh = 0.02, 0.15\n",
        "pw, ph = 0.05, 0.13\n",
        "\n",
        "\n",
        "get_model_target_predictions(bx, by, bw, bh, pw, ph, nw, nh)"
      ]
    },
    {
      "cell_type": "markdown",
      "metadata": {
        "id": "mwutvYmhGKLC"
      },
      "source": [
        "try with other cases generated randomly"
      ]
    },
    {
      "cell_type": "code",
      "execution_count": 100,
      "metadata": {
        "id": "vpEcEHyfDQtG",
        "colab": {
          "base_uri": "https://localhost:8080/"
        },
        "outputId": "440c0c8e-ce17-4b6c-950d-51f62af855b7"
      },
      "outputs": [
        {
          "output_type": "stream",
          "name": "stdout",
          "text": [
            "inputs 6 7 0.485 0.459 0.186 0.239 0.168 0.206\n"
          ]
        },
        {
          "output_type": "execute_result",
          "data": {
            "text/plain": [
              "(2, 3, 29.59, 4.024864077669906, 0.10178269430994218, 0.1485873831419295)"
            ]
          },
          "metadata": {},
          "execution_count": 100
        }
      ],
      "source": [
        "nw, nh = np.random.randint(6, size=2)+5\n",
        "bx, by = np.round(np.random.random(size=2)*.4+.3,3)\n",
        "bw, bh = np.round(np.random.random(size=2)*.25,3)\n",
        "pw, ph = np.round(np.r_[bw, bh] * (1+np.random.random(size=2)*0.3-0.15),3)\n",
        "\n",
        "print (\"inputs\", nw, nh, bx, by, bw, bh, pw, ph)\n",
        "get_model_target_predictions(bx, by, bw, bh, pw, ph, nw, nh)"
      ]
    },
    {
      "cell_type": "markdown",
      "metadata": {
        "id": "zyLy_Pd3DRo6"
      },
      "source": [
        "**Registra tu solución en linea**"
      ]
    },
    {
      "cell_type": "code",
      "execution_count": 127,
      "metadata": {
        "id": "OCO8r9aODRo6",
        "colab": {
          "base_uri": "https://localhost:8080/",
          "height": 166
        },
        "outputId": "92096e4c-a7f6-4a75-ef2b-ea1f3e454cd6"
      },
      "outputs": [
        {
          "output_type": "display_data",
          "data": {
            "text/plain": [
              "<IPython.core.display.HTML object>"
            ],
            "text/html": [
              "\n",
              "                    <b>T3 submitted.</b> <b><font color=\"blue\">your grade is 0</font></b> \n",
              "                    <p/><pre>----- grader message -------</pre><b>ERROR</b><br/>using <tt>nw=8, nh=7, bx=0.579, by=0.315, bw=0.067, bh=0.115, pw=0.063, ph=0.109</tt><br/>expected <tt>(4, 2, -2.456012183788286, -3.5009323474468355, 0.061557892999433365, 0.05358424613410647)</tt><br/>but obtained <tt>(4, 2, 0.5408064559779248, -1.3553321355159236, 0.061557892999433365, 0.05358424613410647)</tt><pre>----------------------------</pre>\n",
              "                    <p/><p/>\n",
              "                    <div style=\"font-size:10px\"><b>SUBMISSION CODE</b> LET8R33eyV1C6erV+FA1XP5DIIna5/rhMMYemeAQwYqo4T0koeV9HHZuzJQIcNHAS22GsLYHreGGMPOYfrQgGX/YtVLU9MR9BAvdoo9idLTf1dF0LVmJe1lpl7iBJn4ABN1ekf2TOuim11XNhqk/IX4+SpkcEcJ6SRL7LeIjAyw=</div>\n",
              "                    "
            ]
          },
          "metadata": {}
        }
      ],
      "source": [
        "student.submit_task(namespace=globals(), task_id='T3');"
      ]
    },
    {
      "cell_type": "code",
      "source": [],
      "metadata": {
        "id": "phZkLrwehu97"
      },
      "execution_count": null,
      "outputs": []
    }
  ],
  "metadata": {
    "colab": {
      "provenance": [],
      "include_colab_link": true
    },
    "kernelspec": {
      "display_name": "Python 3",
      "language": "python",
      "name": "python3"
    },
    "language_info": {
      "codemirror_mode": {
        "name": "ipython",
        "version": 3
      },
      "file_extension": ".py",
      "mimetype": "text/x-python",
      "name": "python",
      "nbconvert_exporter": "python",
      "pygments_lexer": "ipython3",
      "version": "3.7.3"
    },
    "widgets": {
      "application/vnd.jupyter.widget-state+json": {
        "6727f12fecec44f6b134625d4d87d955": {
          "model_module": "@jupyter-widgets/controls",
          "model_name": "HBoxModel",
          "model_module_version": "1.5.0",
          "state": {
            "_dom_classes": [],
            "_model_module": "@jupyter-widgets/controls",
            "_model_module_version": "1.5.0",
            "_model_name": "HBoxModel",
            "_view_count": null,
            "_view_module": "@jupyter-widgets/controls",
            "_view_module_version": "1.5.0",
            "_view_name": "HBoxView",
            "box_style": "",
            "children": [
              "IPY_MODEL_e25e0b681b9343ce92d1ede6ffe5a53d",
              "IPY_MODEL_843aac7229a54881a66d8d5459a9cb97",
              "IPY_MODEL_2d00d9513551481daffdfa42d9f822a4",
              "IPY_MODEL_cce3d37b0b9e43e99cfad7a048948bf4"
            ],
            "layout": "IPY_MODEL_6039df4290ea41f4a9dc7df990a8dab0"
          }
        },
        "e25e0b681b9343ce92d1ede6ffe5a53d": {
          "model_module": "@jupyter-widgets/controls",
          "model_name": "VBoxModel",
          "model_module_version": "1.5.0",
          "state": {
            "_dom_classes": [],
            "_model_module": "@jupyter-widgets/controls",
            "_model_module_version": "1.5.0",
            "_model_name": "VBoxModel",
            "_view_count": null,
            "_view_module": "@jupyter-widgets/controls",
            "_view_module_version": "1.5.0",
            "_view_name": "VBoxView",
            "box_style": "",
            "children": [
              "IPY_MODEL_31a63b149d674078b61d5289f1f1b87a",
              "IPY_MODEL_e7380dc364c845acb21b62ff01c7da81"
            ],
            "layout": "IPY_MODEL_68940d3c2831439f9b7aa26388243452"
          }
        },
        "843aac7229a54881a66d8d5459a9cb97": {
          "model_module": "@jupyter-widgets/controls",
          "model_name": "ButtonModel",
          "model_module_version": "1.5.0",
          "state": {
            "_dom_classes": [
              "login_button"
            ],
            "_model_module": "@jupyter-widgets/controls",
            "_model_module_version": "1.5.0",
            "_model_name": "ButtonModel",
            "_view_count": null,
            "_view_module": "@jupyter-widgets/controls",
            "_view_module_version": "1.5.0",
            "_view_name": "ButtonView",
            "button_style": "",
            "description": "Login with email",
            "disabled": false,
            "icon": "",
            "layout": "IPY_MODEL_ce83e9e51ae64a2bbed44379f5d02cf2",
            "style": "IPY_MODEL_ed51e1c11aea430095062ade9b324eca",
            "tooltip": ""
          }
        },
        "2d00d9513551481daffdfa42d9f822a4": {
          "model_module": "@jupyter-widgets/controls",
          "model_name": "HTMLModel",
          "model_module_version": "1.5.0",
          "state": {
            "_dom_classes": [],
            "_model_module": "@jupyter-widgets/controls",
            "_model_module_version": "1.5.0",
            "_model_name": "HTMLModel",
            "_view_count": null,
            "_view_module": "@jupyter-widgets/controls",
            "_view_module_version": "1.5.0",
            "_view_name": "HTMLView",
            "description": "",
            "description_tooltip": null,
            "layout": "IPY_MODEL_88343088565548b19328b96d2d67178a",
            "placeholder": "​",
            "style": "IPY_MODEL_6daa13bd79814c519ee6054aadd54b45",
            "value": "<center><big>or</big></center>"
          }
        },
        "cce3d37b0b9e43e99cfad7a048948bf4": {
          "model_module": "@jupyter-widgets/controls",
          "model_name": "ButtonModel",
          "model_module_version": "1.5.0",
          "state": {
            "_dom_classes": [
              "google_button"
            ],
            "_model_module": "@jupyter-widgets/controls",
            "_model_module_version": "1.5.0",
            "_model_name": "ButtonModel",
            "_view_count": null,
            "_view_module": "@jupyter-widgets/controls",
            "_view_module_version": "1.5.0",
            "_view_name": "ButtonView",
            "button_style": "",
            "description": "Login with Google",
            "disabled": false,
            "icon": "",
            "layout": "IPY_MODEL_a48bee1aef8e4e89abb1f0ce874a9642",
            "style": "IPY_MODEL_e6a184bc939f4f96aa00ca33f47d15d1",
            "tooltip": ""
          }
        },
        "6039df4290ea41f4a9dc7df990a8dab0": {
          "model_module": "@jupyter-widgets/base",
          "model_name": "LayoutModel",
          "model_module_version": "1.2.0",
          "state": {
            "_model_module": "@jupyter-widgets/base",
            "_model_module_version": "1.2.0",
            "_model_name": "LayoutModel",
            "_view_count": null,
            "_view_module": "@jupyter-widgets/base",
            "_view_module_version": "1.2.0",
            "_view_name": "LayoutView",
            "align_content": null,
            "align_items": null,
            "align_self": null,
            "border": null,
            "bottom": null,
            "display": null,
            "flex": null,
            "flex_flow": null,
            "grid_area": null,
            "grid_auto_columns": null,
            "grid_auto_flow": null,
            "grid_auto_rows": null,
            "grid_column": null,
            "grid_gap": null,
            "grid_row": null,
            "grid_template_areas": null,
            "grid_template_columns": null,
            "grid_template_rows": null,
            "height": null,
            "justify_content": null,
            "justify_items": null,
            "left": null,
            "margin": null,
            "max_height": null,
            "max_width": null,
            "min_height": null,
            "min_width": null,
            "object_fit": null,
            "object_position": null,
            "order": null,
            "overflow": null,
            "overflow_x": null,
            "overflow_y": null,
            "padding": null,
            "right": null,
            "top": null,
            "visibility": null,
            "width": null
          }
        },
        "31a63b149d674078b61d5289f1f1b87a": {
          "model_module": "@jupyter-widgets/controls",
          "model_name": "TextModel",
          "model_module_version": "1.5.0",
          "state": {
            "_dom_classes": [],
            "_model_module": "@jupyter-widgets/controls",
            "_model_module_version": "1.5.0",
            "_model_name": "TextModel",
            "_view_count": null,
            "_view_module": "@jupyter-widgets/controls",
            "_view_module_version": "1.5.0",
            "_view_name": "TextView",
            "continuous_update": true,
            "description": "email",
            "description_tooltip": null,
            "disabled": false,
            "layout": "IPY_MODEL_d25fc3d1710f489bbd9640aadfa0ff75",
            "placeholder": "​",
            "style": "IPY_MODEL_94586579e3604325865f0d34fb1b6035",
            "value": "jader.caro@udea.edu.co"
          }
        },
        "e7380dc364c845acb21b62ff01c7da81": {
          "model_module": "@jupyter-widgets/controls",
          "model_name": "PasswordModel",
          "model_module_version": "1.5.0",
          "state": {
            "_dom_classes": [],
            "_model_module": "@jupyter-widgets/controls",
            "_model_module_version": "1.5.0",
            "_model_name": "PasswordModel",
            "_view_count": null,
            "_view_module": "@jupyter-widgets/controls",
            "_view_module_version": "1.5.0",
            "_view_name": "PasswordView",
            "continuous_update": true,
            "description": "password",
            "description_tooltip": null,
            "disabled": false,
            "layout": "IPY_MODEL_77d462a07e5a4b7692e45afc07bc734e",
            "placeholder": "​",
            "style": "IPY_MODEL_6d3bf68e197a4b8ba439ec69d26e18e0",
            "value": "3Nfoc@d0300618"
          }
        },
        "68940d3c2831439f9b7aa26388243452": {
          "model_module": "@jupyter-widgets/base",
          "model_name": "LayoutModel",
          "model_module_version": "1.2.0",
          "state": {
            "_model_module": "@jupyter-widgets/base",
            "_model_module_version": "1.2.0",
            "_model_name": "LayoutModel",
            "_view_count": null,
            "_view_module": "@jupyter-widgets/base",
            "_view_module_version": "1.2.0",
            "_view_name": "LayoutView",
            "align_content": null,
            "align_items": null,
            "align_self": null,
            "border": null,
            "bottom": null,
            "display": null,
            "flex": null,
            "flex_flow": null,
            "grid_area": null,
            "grid_auto_columns": null,
            "grid_auto_flow": null,
            "grid_auto_rows": null,
            "grid_column": null,
            "grid_gap": null,
            "grid_row": null,
            "grid_template_areas": null,
            "grid_template_columns": null,
            "grid_template_rows": null,
            "height": null,
            "justify_content": null,
            "justify_items": null,
            "left": null,
            "margin": null,
            "max_height": null,
            "max_width": null,
            "min_height": null,
            "min_width": null,
            "object_fit": null,
            "object_position": null,
            "order": null,
            "overflow": null,
            "overflow_x": null,
            "overflow_y": null,
            "padding": null,
            "right": null,
            "top": null,
            "visibility": null,
            "width": null
          }
        },
        "ce83e9e51ae64a2bbed44379f5d02cf2": {
          "model_module": "@jupyter-widgets/base",
          "model_name": "LayoutModel",
          "model_module_version": "1.2.0",
          "state": {
            "_model_module": "@jupyter-widgets/base",
            "_model_module_version": "1.2.0",
            "_model_name": "LayoutModel",
            "_view_count": null,
            "_view_module": "@jupyter-widgets/base",
            "_view_module_version": "1.2.0",
            "_view_name": "LayoutView",
            "align_content": null,
            "align_items": null,
            "align_self": null,
            "border": null,
            "bottom": null,
            "display": null,
            "flex": null,
            "flex_flow": null,
            "grid_area": null,
            "grid_auto_columns": null,
            "grid_auto_flow": null,
            "grid_auto_rows": null,
            "grid_column": null,
            "grid_gap": null,
            "grid_row": null,
            "grid_template_areas": null,
            "grid_template_columns": null,
            "grid_template_rows": null,
            "height": "53px",
            "justify_content": null,
            "justify_items": null,
            "left": null,
            "margin": null,
            "max_height": null,
            "max_width": null,
            "min_height": null,
            "min_width": null,
            "object_fit": null,
            "object_position": null,
            "order": null,
            "overflow": null,
            "overflow_x": null,
            "overflow_y": null,
            "padding": null,
            "right": null,
            "top": null,
            "visibility": null,
            "width": "150px"
          }
        },
        "ed51e1c11aea430095062ade9b324eca": {
          "model_module": "@jupyter-widgets/controls",
          "model_name": "ButtonStyleModel",
          "model_module_version": "1.5.0",
          "state": {
            "_model_module": "@jupyter-widgets/controls",
            "_model_module_version": "1.5.0",
            "_model_name": "ButtonStyleModel",
            "_view_count": null,
            "_view_module": "@jupyter-widgets/base",
            "_view_module_version": "1.2.0",
            "_view_name": "StyleView",
            "button_color": null,
            "font_weight": ""
          }
        },
        "88343088565548b19328b96d2d67178a": {
          "model_module": "@jupyter-widgets/base",
          "model_name": "LayoutModel",
          "model_module_version": "1.2.0",
          "state": {
            "_model_module": "@jupyter-widgets/base",
            "_model_module_version": "1.2.0",
            "_model_name": "LayoutModel",
            "_view_count": null,
            "_view_module": "@jupyter-widgets/base",
            "_view_module_version": "1.2.0",
            "_view_name": "LayoutView",
            "align_content": null,
            "align_items": null,
            "align_self": null,
            "border": null,
            "bottom": null,
            "display": null,
            "flex": null,
            "flex_flow": null,
            "grid_area": null,
            "grid_auto_columns": null,
            "grid_auto_flow": null,
            "grid_auto_rows": null,
            "grid_column": null,
            "grid_gap": null,
            "grid_row": null,
            "grid_template_areas": null,
            "grid_template_columns": null,
            "grid_template_rows": null,
            "height": null,
            "justify_content": null,
            "justify_items": null,
            "left": null,
            "margin": null,
            "max_height": null,
            "max_width": null,
            "min_height": null,
            "min_width": null,
            "object_fit": null,
            "object_position": null,
            "order": null,
            "overflow": null,
            "overflow_x": null,
            "overflow_y": null,
            "padding": null,
            "right": null,
            "top": null,
            "visibility": null,
            "width": "100px"
          }
        },
        "6daa13bd79814c519ee6054aadd54b45": {
          "model_module": "@jupyter-widgets/controls",
          "model_name": "DescriptionStyleModel",
          "model_module_version": "1.5.0",
          "state": {
            "_model_module": "@jupyter-widgets/controls",
            "_model_module_version": "1.5.0",
            "_model_name": "DescriptionStyleModel",
            "_view_count": null,
            "_view_module": "@jupyter-widgets/base",
            "_view_module_version": "1.2.0",
            "_view_name": "StyleView",
            "description_width": ""
          }
        },
        "a48bee1aef8e4e89abb1f0ce874a9642": {
          "model_module": "@jupyter-widgets/base",
          "model_name": "LayoutModel",
          "model_module_version": "1.2.0",
          "state": {
            "_model_module": "@jupyter-widgets/base",
            "_model_module_version": "1.2.0",
            "_model_name": "LayoutModel",
            "_view_count": null,
            "_view_module": "@jupyter-widgets/base",
            "_view_module_version": "1.2.0",
            "_view_name": "LayoutView",
            "align_content": null,
            "align_items": null,
            "align_self": null,
            "border": null,
            "bottom": null,
            "display": null,
            "flex": null,
            "flex_flow": null,
            "grid_area": null,
            "grid_auto_columns": null,
            "grid_auto_flow": null,
            "grid_auto_rows": null,
            "grid_column": null,
            "grid_gap": null,
            "grid_row": null,
            "grid_template_areas": null,
            "grid_template_columns": null,
            "grid_template_rows": null,
            "height": "53px",
            "justify_content": null,
            "justify_items": null,
            "left": null,
            "margin": null,
            "max_height": null,
            "max_width": null,
            "min_height": null,
            "min_width": null,
            "object_fit": null,
            "object_position": null,
            "order": null,
            "overflow": null,
            "overflow_x": null,
            "overflow_y": null,
            "padding": null,
            "right": null,
            "top": null,
            "visibility": null,
            "width": "200px"
          }
        },
        "e6a184bc939f4f96aa00ca33f47d15d1": {
          "model_module": "@jupyter-widgets/controls",
          "model_name": "ButtonStyleModel",
          "model_module_version": "1.5.0",
          "state": {
            "_model_module": "@jupyter-widgets/controls",
            "_model_module_version": "1.5.0",
            "_model_name": "ButtonStyleModel",
            "_view_count": null,
            "_view_module": "@jupyter-widgets/base",
            "_view_module_version": "1.2.0",
            "_view_name": "StyleView",
            "button_color": null,
            "font_weight": ""
          }
        },
        "d25fc3d1710f489bbd9640aadfa0ff75": {
          "model_module": "@jupyter-widgets/base",
          "model_name": "LayoutModel",
          "model_module_version": "1.2.0",
          "state": {
            "_model_module": "@jupyter-widgets/base",
            "_model_module_version": "1.2.0",
            "_model_name": "LayoutModel",
            "_view_count": null,
            "_view_module": "@jupyter-widgets/base",
            "_view_module_version": "1.2.0",
            "_view_name": "LayoutView",
            "align_content": null,
            "align_items": null,
            "align_self": null,
            "border": null,
            "bottom": null,
            "display": null,
            "flex": null,
            "flex_flow": null,
            "grid_area": null,
            "grid_auto_columns": null,
            "grid_auto_flow": null,
            "grid_auto_rows": null,
            "grid_column": null,
            "grid_gap": null,
            "grid_row": null,
            "grid_template_areas": null,
            "grid_template_columns": null,
            "grid_template_rows": null,
            "height": "25px",
            "justify_content": null,
            "justify_items": null,
            "left": null,
            "margin": null,
            "max_height": null,
            "max_width": null,
            "min_height": null,
            "min_width": null,
            "object_fit": null,
            "object_position": null,
            "order": null,
            "overflow": null,
            "overflow_x": null,
            "overflow_y": null,
            "padding": null,
            "right": null,
            "top": null,
            "visibility": null,
            "width": "300px"
          }
        },
        "94586579e3604325865f0d34fb1b6035": {
          "model_module": "@jupyter-widgets/controls",
          "model_name": "DescriptionStyleModel",
          "model_module_version": "1.5.0",
          "state": {
            "_model_module": "@jupyter-widgets/controls",
            "_model_module_version": "1.5.0",
            "_model_name": "DescriptionStyleModel",
            "_view_count": null,
            "_view_module": "@jupyter-widgets/base",
            "_view_module_version": "1.2.0",
            "_view_name": "StyleView",
            "description_width": ""
          }
        },
        "77d462a07e5a4b7692e45afc07bc734e": {
          "model_module": "@jupyter-widgets/base",
          "model_name": "LayoutModel",
          "model_module_version": "1.2.0",
          "state": {
            "_model_module": "@jupyter-widgets/base",
            "_model_module_version": "1.2.0",
            "_model_name": "LayoutModel",
            "_view_count": null,
            "_view_module": "@jupyter-widgets/base",
            "_view_module_version": "1.2.0",
            "_view_name": "LayoutView",
            "align_content": null,
            "align_items": null,
            "align_self": null,
            "border": null,
            "bottom": null,
            "display": null,
            "flex": null,
            "flex_flow": null,
            "grid_area": null,
            "grid_auto_columns": null,
            "grid_auto_flow": null,
            "grid_auto_rows": null,
            "grid_column": null,
            "grid_gap": null,
            "grid_row": null,
            "grid_template_areas": null,
            "grid_template_columns": null,
            "grid_template_rows": null,
            "height": "24px",
            "justify_content": null,
            "justify_items": null,
            "left": null,
            "margin": null,
            "max_height": null,
            "max_width": null,
            "min_height": null,
            "min_width": null,
            "object_fit": null,
            "object_position": null,
            "order": null,
            "overflow": null,
            "overflow_x": null,
            "overflow_y": null,
            "padding": null,
            "right": null,
            "top": null,
            "visibility": null,
            "width": "300px"
          }
        },
        "6d3bf68e197a4b8ba439ec69d26e18e0": {
          "model_module": "@jupyter-widgets/controls",
          "model_name": "DescriptionStyleModel",
          "model_module_version": "1.5.0",
          "state": {
            "_model_module": "@jupyter-widgets/controls",
            "_model_module_version": "1.5.0",
            "_model_name": "DescriptionStyleModel",
            "_view_count": null,
            "_view_module": "@jupyter-widgets/base",
            "_view_module_version": "1.2.0",
            "_view_name": "StyleView",
            "description_width": ""
          }
        }
      }
    }
  },
  "nbformat": 4,
  "nbformat_minor": 0
}