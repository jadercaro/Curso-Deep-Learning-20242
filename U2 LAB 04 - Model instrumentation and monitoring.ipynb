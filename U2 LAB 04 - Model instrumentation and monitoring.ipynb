{
  "cells": [
    {
      "cell_type": "markdown",
      "metadata": {
        "id": "wl4ke416yxMK"
      },
      "source": [
        "# LAB 2.4 - Model instrumentation"
      ]
    },
    {
      "cell_type": "code",
      "source": [
        "!pip install tensorflow==2.8.0"
      ],
      "metadata": {
        "id": "JrI-guqvyx1x",
        "outputId": "cf420f2b-947b-48d9-9f51-216d35d00964",
        "colab": {
          "base_uri": "https://localhost:8080/"
        }
      },
      "execution_count": 1,
      "outputs": [
        {
          "output_type": "stream",
          "name": "stdout",
          "text": [
            "Requirement already satisfied: tensorflow==2.8.0 in /usr/local/lib/python3.10/dist-packages (2.8.0)\n",
            "Requirement already satisfied: absl-py>=0.4.0 in /usr/local/lib/python3.10/dist-packages (from tensorflow==2.8.0) (1.4.0)\n",
            "Requirement already satisfied: astunparse>=1.6.0 in /usr/local/lib/python3.10/dist-packages (from tensorflow==2.8.0) (1.6.3)\n",
            "Requirement already satisfied: flatbuffers>=1.12 in /usr/local/lib/python3.10/dist-packages (from tensorflow==2.8.0) (24.3.25)\n",
            "Requirement already satisfied: gast>=0.2.1 in /usr/local/lib/python3.10/dist-packages (from tensorflow==2.8.0) (0.6.0)\n",
            "Requirement already satisfied: google-pasta>=0.1.1 in /usr/local/lib/python3.10/dist-packages (from tensorflow==2.8.0) (0.2.0)\n",
            "Requirement already satisfied: h5py>=2.9.0 in /usr/local/lib/python3.10/dist-packages (from tensorflow==2.8.0) (3.11.0)\n",
            "Requirement already satisfied: keras-preprocessing>=1.1.1 in /usr/local/lib/python3.10/dist-packages (from tensorflow==2.8.0) (1.1.2)\n",
            "Requirement already satisfied: libclang>=9.0.1 in /usr/local/lib/python3.10/dist-packages (from tensorflow==2.8.0) (18.1.1)\n",
            "Requirement already satisfied: numpy>=1.20 in /usr/local/lib/python3.10/dist-packages (from tensorflow==2.8.0) (1.26.4)\n",
            "Requirement already satisfied: opt-einsum>=2.3.2 in /usr/local/lib/python3.10/dist-packages (from tensorflow==2.8.0) (3.3.0)\n",
            "Requirement already satisfied: protobuf>=3.9.2 in /usr/local/lib/python3.10/dist-packages (from tensorflow==2.8.0) (3.20.3)\n",
            "Requirement already satisfied: setuptools in /usr/local/lib/python3.10/dist-packages (from tensorflow==2.8.0) (71.0.4)\n",
            "Requirement already satisfied: six>=1.12.0 in /usr/local/lib/python3.10/dist-packages (from tensorflow==2.8.0) (1.16.0)\n",
            "Requirement already satisfied: termcolor>=1.1.0 in /usr/local/lib/python3.10/dist-packages (from tensorflow==2.8.0) (2.4.0)\n",
            "Requirement already satisfied: typing-extensions>=3.6.6 in /usr/local/lib/python3.10/dist-packages (from tensorflow==2.8.0) (4.12.2)\n",
            "Requirement already satisfied: wrapt>=1.11.0 in /usr/local/lib/python3.10/dist-packages (from tensorflow==2.8.0) (1.14.1)\n",
            "Requirement already satisfied: tensorboard<2.9,>=2.8 in /usr/local/lib/python3.10/dist-packages (from tensorflow==2.8.0) (2.8.0)\n",
            "Requirement already satisfied: tf-estimator-nightly==2.8.0.dev2021122109 in /usr/local/lib/python3.10/dist-packages (from tensorflow==2.8.0) (2.8.0.dev2021122109)\n",
            "Requirement already satisfied: keras<2.9,>=2.8.0rc0 in /usr/local/lib/python3.10/dist-packages (from tensorflow==2.8.0) (2.8.0)\n",
            "Requirement already satisfied: tensorflow-io-gcs-filesystem>=0.23.1 in /usr/local/lib/python3.10/dist-packages (from tensorflow==2.8.0) (0.37.1)\n",
            "Requirement already satisfied: grpcio<2.0,>=1.24.3 in /usr/local/lib/python3.10/dist-packages (from tensorflow==2.8.0) (1.64.1)\n",
            "Requirement already satisfied: wheel<1.0,>=0.23.0 in /usr/local/lib/python3.10/dist-packages (from astunparse>=1.6.0->tensorflow==2.8.0) (0.44.0)\n",
            "Requirement already satisfied: google-auth<3,>=1.6.3 in /usr/local/lib/python3.10/dist-packages (from tensorboard<2.9,>=2.8->tensorflow==2.8.0) (2.27.0)\n",
            "Requirement already satisfied: google-auth-oauthlib<0.5,>=0.4.1 in /usr/local/lib/python3.10/dist-packages (from tensorboard<2.9,>=2.8->tensorflow==2.8.0) (0.4.6)\n",
            "Requirement already satisfied: markdown>=2.6.8 in /usr/local/lib/python3.10/dist-packages (from tensorboard<2.9,>=2.8->tensorflow==2.8.0) (3.7)\n",
            "Requirement already satisfied: requests<3,>=2.21.0 in /usr/local/lib/python3.10/dist-packages (from tensorboard<2.9,>=2.8->tensorflow==2.8.0) (2.32.3)\n",
            "Requirement already satisfied: tensorboard-data-server<0.7.0,>=0.6.0 in /usr/local/lib/python3.10/dist-packages (from tensorboard<2.9,>=2.8->tensorflow==2.8.0) (0.6.1)\n",
            "Requirement already satisfied: tensorboard-plugin-wit>=1.6.0 in /usr/local/lib/python3.10/dist-packages (from tensorboard<2.9,>=2.8->tensorflow==2.8.0) (1.8.1)\n",
            "Requirement already satisfied: werkzeug>=0.11.15 in /usr/local/lib/python3.10/dist-packages (from tensorboard<2.9,>=2.8->tensorflow==2.8.0) (3.0.4)\n",
            "Requirement already satisfied: cachetools<6.0,>=2.0.0 in /usr/local/lib/python3.10/dist-packages (from google-auth<3,>=1.6.3->tensorboard<2.9,>=2.8->tensorflow==2.8.0) (5.5.0)\n",
            "Requirement already satisfied: pyasn1-modules>=0.2.1 in /usr/local/lib/python3.10/dist-packages (from google-auth<3,>=1.6.3->tensorboard<2.9,>=2.8->tensorflow==2.8.0) (0.4.0)\n",
            "Requirement already satisfied: rsa<5,>=3.1.4 in /usr/local/lib/python3.10/dist-packages (from google-auth<3,>=1.6.3->tensorboard<2.9,>=2.8->tensorflow==2.8.0) (4.9)\n",
            "Requirement already satisfied: requests-oauthlib>=0.7.0 in /usr/local/lib/python3.10/dist-packages (from google-auth-oauthlib<0.5,>=0.4.1->tensorboard<2.9,>=2.8->tensorflow==2.8.0) (1.3.1)\n",
            "Requirement already satisfied: charset-normalizer<4,>=2 in /usr/local/lib/python3.10/dist-packages (from requests<3,>=2.21.0->tensorboard<2.9,>=2.8->tensorflow==2.8.0) (3.3.2)\n",
            "Requirement already satisfied: idna<4,>=2.5 in /usr/local/lib/python3.10/dist-packages (from requests<3,>=2.21.0->tensorboard<2.9,>=2.8->tensorflow==2.8.0) (3.8)\n",
            "Requirement already satisfied: urllib3<3,>=1.21.1 in /usr/local/lib/python3.10/dist-packages (from requests<3,>=2.21.0->tensorboard<2.9,>=2.8->tensorflow==2.8.0) (2.0.7)\n",
            "Requirement already satisfied: certifi>=2017.4.17 in /usr/local/lib/python3.10/dist-packages (from requests<3,>=2.21.0->tensorboard<2.9,>=2.8->tensorflow==2.8.0) (2024.8.30)\n",
            "Requirement already satisfied: MarkupSafe>=2.1.1 in /usr/local/lib/python3.10/dist-packages (from werkzeug>=0.11.15->tensorboard<2.9,>=2.8->tensorflow==2.8.0) (2.1.5)\n",
            "Requirement already satisfied: pyasn1<0.7.0,>=0.4.6 in /usr/local/lib/python3.10/dist-packages (from pyasn1-modules>=0.2.1->google-auth<3,>=1.6.3->tensorboard<2.9,>=2.8->tensorflow==2.8.0) (0.6.0)\n",
            "Requirement already satisfied: oauthlib>=3.0.0 in /usr/local/lib/python3.10/dist-packages (from requests-oauthlib>=0.7.0->google-auth-oauthlib<0.5,>=0.4.1->tensorboard<2.9,>=2.8->tensorflow==2.8.0) (3.2.2)\n"
          ]
        }
      ]
    },
    {
      "cell_type": "code",
      "execution_count": 2,
      "metadata": {
        "id": "s1IpGZacyxMM",
        "outputId": "36f98c39-2efc-4d66-d762-737afdb96b7b",
        "colab": {
          "base_uri": "https://localhost:8080/",
          "height": 58
        }
      },
      "outputs": [
        {
          "output_type": "display_data",
          "data": {
            "text/plain": [
              "<IPython.core.display.HTML object>"
            ],
            "text/html": [
              "\n",
              "<meta name=\"google-signin-client_id\"\n",
              "      content=\"461673936472-kdjosv61up3ac1ajeuq6qqu72upilmls.apps.googleusercontent.com\"/>\n",
              "<script src=\"https://apis.google.com/js/client:platform.js?onload=google_button_start\"></script>\n",
              "    "
            ]
          },
          "metadata": {}
        },
        {
          "output_type": "execute_result",
          "data": {
            "text/plain": [
              "<IPython.core.display.HTML object>"
            ],
            "text/html": [
              "<h3>See <a href='https://m5knaekxo6.execute-api.us-west-2.amazonaws.com/dev-v0001/rlxmooc/web/login' target='_blank'>my courses and progress</a></h2>"
            ]
          },
          "metadata": {},
          "execution_count": 2
        }
      ],
      "source": [
        "!wget -nc --no-cache -O init.py -q https://raw.githubusercontent.com/rramosp/2021.deeplearning/main/content/init.py\n",
        "import init; init.init(force_download=False); init.get_weblink()"
      ]
    },
    {
      "cell_type": "code",
      "execution_count": 3,
      "metadata": {
        "id": "7KjB3aVfyxMM",
        "outputId": "6b03cbd5-e642-4766-a68b-c63299b56c31",
        "colab": {
          "base_uri": "https://localhost:8080/",
          "height": 74,
          "referenced_widgets": [
            "44500495a1034748afcb383048c99476",
            "5177b6d40a20498796c942d786da3976",
            "217131f440f44df1bb07152e89478aa7",
            "0c9b9c1873ea40e190be5bc30f52cf92",
            "426ab3f06fcb459bb9fe577153cb4913",
            "07b787a4b66949c48515c23cc7632b5f",
            "164a8cee26d74c55a14e03a0527fd75b",
            "14594708940042f2810bd763d3dc9325",
            "dbf66a7a92dc40deb2ab7e33204f0c41",
            "0454a0058a8e4a4fb015aaee9f08dd14",
            "1eaa3cca38e246da9046058108e28c12",
            "69d48b0a88254599bafde8bd706e2b1e",
            "130a61e1aedb46128e77a2819693aa86",
            "943bf13fa7af4a48bca4e309deb325a5",
            "2706d2dae9b6467088bbc85d94cdaacf",
            "b693a66e5bb04984b3957a713f5cd1dc",
            "1d039458848845ce8c12b677b684ab21",
            "1c07c60d2e924f95bf936a4a41d71b73",
            "90fe3cc467ab440e8dba43a13e63ec34"
          ]
        }
      },
      "outputs": [
        {
          "output_type": "stream",
          "name": "stdout",
          "text": [
            "logging in as jader.caro@udea.edu.co ... please wait\n",
            "\n",
            "-------------\n",
            "using course session 2021.deeplearning::udea.20242\n",
            "success!! you are logged in\n",
            "-------------\n"
          ]
        }
      ],
      "source": [
        "from local.lib.rlxmoocapi import submit, session\n",
        "import inspect\n",
        "session.LoginSequence(endpoint=init.endpoint, course_id=init.course_id, lab_id=\"L02.04\", varname=\"student\");"
      ]
    },
    {
      "cell_type": "code",
      "execution_count": null,
      "metadata": {
        "id": "ITi5xf9QyxMN"
      },
      "outputs": [],
      "source": []
    },
    {
      "cell_type": "code",
      "execution_count": 4,
      "metadata": {
        "id": "M5k6ixLUyxMN"
      },
      "outputs": [],
      "source": [
        "import numpy as np\n",
        "import matplotlib.pyplot as plt\n",
        "import pandas as pd\n",
        "from tensorflow import keras\n",
        "from IPython.display import Image\n",
        "import pandas as pd\n",
        "\n",
        "%matplotlib inline"
      ]
    },
    {
      "cell_type": "code",
      "execution_count": null,
      "metadata": {
        "id": "t5bNMchnyxMN"
      },
      "outputs": [],
      "source": []
    },
    {
      "cell_type": "markdown",
      "metadata": {
        "id": "cO5EcNXSUH-B"
      },
      "source": [
        "### LAB SUMMARY\n",
        "\n",
        "\n",
        "In this lab you will be implementing Tensorflow Callbacks that will be invoked at different stages when a model gets trained.\n",
        "\n",
        "Read carefully the following tutorial: [https://www.tensorflow.org/guide/keras/custom_callback](https://www.tensorflow.org/guide/keras/custom_callback)\n",
        "\n",
        "\n",
        "### load sample MNIST data as customary"
      ]
    },
    {
      "cell_type": "code",
      "execution_count": 5,
      "metadata": {
        "colab": {
          "base_uri": "https://localhost:8080/"
        },
        "id": "SW5RDD8qUH-C",
        "outputId": "dbc68e72-944e-47f6-aace-861213d3d6bc"
      },
      "outputs": [
        {
          "output_type": "stream",
          "name": "stdout",
          "text": [
            "dimension de las imagenes y las clases (1500, 784) (1500,)\n"
          ]
        }
      ],
      "source": [
        "mnist = pd.read_csv(\"local/data/mnist1.5k.csv.gz\", compression=\"gzip\", header=None).values\n",
        "X=mnist[:,1:785]/255.\n",
        "y=mnist[:,0]\n",
        "print(\"dimension de las imagenes y las clases\", X.shape, y.shape)"
      ]
    },
    {
      "cell_type": "code",
      "execution_count": 6,
      "metadata": {
        "colab": {
          "base_uri": "https://localhost:8080/"
        },
        "id": "2iXzcb0jUH-E",
        "outputId": "a1506316-89aa-4afc-8574-02017aeece14"
      },
      "outputs": [
        {
          "output_type": "stream",
          "name": "stdout",
          "text": [
            "(1200, 784) (1200, 10)\n"
          ]
        }
      ],
      "source": [
        "from sklearn.model_selection import train_test_split\n",
        "X_train, X_test, y_train, y_test = train_test_split(X, y, test_size=.2)\n",
        "X_train = X_train.astype(np.float32)\n",
        "X_test  = X_test.astype(np.float32)\n",
        "y_train_oh = np.eye(10)[y_train]\n",
        "y_test_oh  = np.eye(10)[y_test]\n",
        "print(X_train.shape, y_train_oh.shape)"
      ]
    },
    {
      "cell_type": "code",
      "execution_count": 7,
      "metadata": {
        "id": "HmoxgIGkUH-G"
      },
      "outputs": [],
      "source": [
        "from tensorflow.keras import Sequential, Model\n",
        "from tensorflow.keras.layers import Dense, Input\n",
        "from tensorflow.keras.callbacks import Callback"
      ]
    },
    {
      "cell_type": "markdown",
      "metadata": {
        "id": "xTl-dXJ9UH-J"
      },
      "source": [
        "### A basic multi layered dense model\n",
        "\n",
        "observe that the function allows us to parametrize the number of hidden layers and their activation function\n"
      ]
    },
    {
      "cell_type": "code",
      "execution_count": 8,
      "metadata": {
        "id": "y5wi-OteUH-K"
      },
      "outputs": [],
      "source": [
        "def get_model(input_dim=784, output_dim=10, num_hidden_layers=6, hidden_size=10, activation=\"relu\"):\n",
        "\n",
        "    model = Sequential()\n",
        "    model.add(Dense(hidden_size, activation=activation, input_dim=input_dim, name=\"Layer_%02d_Input\"%(0)))\n",
        "\n",
        "    for i in range(num_hidden_layers):\n",
        "        model.add(Dense(hidden_size, activation=activation, name=\"Layer_%02d_Hidden\"%(i+1)))\n",
        "\n",
        "    model.add(Dense(output_dim, activation=\"softmax\", name=\"Layer_%02d_Output\"%(num_hidden_layers+1)))\n",
        "    model.compile(optimizer='adam', loss='categorical_crossentropy', metrics=['accuracy'])\n",
        "\n",
        "    return model"
      ]
    },
    {
      "cell_type": "markdown",
      "metadata": {
        "id": "CdjyzRhkUH-N"
      },
      "source": [
        "## TASK 1: Weights monitoring callback\n",
        "\n",
        "Create a callback that:\n",
        "\n",
        "- when each epoch ends, retrieves the weights of the layer with name `self.layer_name`.\n",
        "- gets is kernels weights.\n",
        "- computes the mean and standard deviation of those weights.\n",
        "- appends them to `self.mean_per_epoch` and `self.std_per_epoch`\n",
        "\n",
        "When used with a model, at the end of any training it will contain a list of weights means and another list of weights stds, both with one element per each epoch. With this we can monitor how the weights in a specific layer progress over the training process. Tensorboard offers a similar functionality, but the goal with this task is to get acquainted with the callback mechanism."
      ]
    },
    {
      "cell_type": "code",
      "execution_count": 9,
      "metadata": {
        "id": "7sKulOpoyxMO"
      },
      "outputs": [],
      "source": [
        "def LayerWeightsCallback(layer_name):\n",
        "    class LayerWeightsCallback_class(Callback):\n",
        "\n",
        "        def __init__(self, layer_name):\n",
        "            super().__init__()\n",
        "            self.mean_per_epoch = []\n",
        "            self.std_per_epoch = []\n",
        "            self.layer_name = layer_name\n",
        "\n",
        "        def on_epoch_end(self, epoch, logs=None):\n",
        "           w = self.model.get_layer(self.layer_name).get_weights()[0]\n",
        "           mean = w.mean()\n",
        "           std = w.std()\n",
        "           self.mean_per_epoch.append(mean)\n",
        "           self.std_per_epoch.append(std)\n",
        "\n",
        "    return LayerWeightsCallback_class(layer_name)"
      ]
    },
    {
      "cell_type": "markdown",
      "metadata": {
        "id": "NB5bRiWEyxMO"
      },
      "source": [
        "manually test your code with the following cell. Your callback should report the weights mean and std doubling at every epoch, just with the same values as they are being computed within the for loop. The loop simulates training epochs."
      ]
    },
    {
      "cell_type": "code",
      "execution_count": 10,
      "metadata": {
        "id": "FXumgiSCyxMP",
        "outputId": "06c7232a-e32c-4179-c43e-9cad6b7eea17",
        "colab": {
          "base_uri": "https://localhost:8080/"
        }
      },
      "outputs": [
        {
          "output_type": "stream",
          "name": "stdout",
          "text": [
            "epoch 0 weights mean/std 0.3392737 0.27155662\n",
            "epoch 1 weights mean/std 0.6785474 0.54311323\n",
            "epoch 2 weights mean/std 1.3570948 1.0862265\n",
            "\n",
            "weight mean at each epoch [0.3392737, 0.6785474, 1.3570948]\n",
            "weight std  at each epoch [0.27155662, 0.54311323, 1.0862265]\n"
          ]
        }
      ],
      "source": [
        "model = get_model(input_dim=2, output_dim=3, num_hidden_layers=1, hidden_size=2, activation=\"sigmoid\")\n",
        "layer_names = [i.name for i in model.layers if not \"Input\" in i.name]\n",
        "layer = model.get_layer(np.random.choice(layer_names))\n",
        "\n",
        "cb = LayerWeightsCallback(layer.name)\n",
        "cb.model = model\n",
        "\n",
        "m, s, wh = [], [], []\n",
        "for epoch in range(3):\n",
        "    w = layer.get_weights()[0]\n",
        "    wh.append(w)\n",
        "    print (\"epoch\", epoch, \"weights mean/std\", np.mean(w),np.std(w))\n",
        "    cb.on_epoch_end(epoch)\n",
        "    layer.set_weights([i*2 for i in layer.get_weights()])\n",
        "\n",
        "print (\"\\nweight mean at each epoch\", cb.mean_per_epoch)\n",
        "print (\"weight std  at each epoch\", cb.std_per_epoch)"
      ]
    },
    {
      "cell_type": "markdown",
      "metadata": {
        "id": "I4pL_PHUyxMP"
      },
      "source": [
        "Now you can use your class to keep track of weights while training. We choose to keep track of weights with your callback for all the layers.\n",
        "\n",
        "Observe how we plot the weights progress with the data gathered by your callback. What interpretation can you give to the plots?"
      ]
    },
    {
      "cell_type": "code",
      "execution_count": 12,
      "metadata": {
        "colab": {
          "base_uri": "https://localhost:8080/"
        },
        "id": "IRua6cxAUH-N",
        "outputId": "b68694cc-480b-4c13-c4a7-92567257d9fb",
        "scrolled": true
      },
      "outputs": [
        {
          "output_type": "stream",
          "name": "stdout",
          "text": [
            "Epoch 1/100\n",
            "150/150 [==============================] - 3s 10ms/step - loss: 2.3579 - accuracy: 0.1242 - val_loss: 2.3156 - val_accuracy: 0.1233\n",
            "Epoch 2/100\n",
            "150/150 [==============================] - 1s 4ms/step - loss: 2.3037 - accuracy: 0.1242 - val_loss: 2.2924 - val_accuracy: 0.1233\n",
            "Epoch 3/100\n",
            "150/150 [==============================] - 1s 5ms/step - loss: 2.2872 - accuracy: 0.1242 - val_loss: 2.2760 - val_accuracy: 0.1233\n",
            "Epoch 4/100\n",
            "150/150 [==============================] - 1s 5ms/step - loss: 2.2664 - accuracy: 0.1242 - val_loss: 2.2487 - val_accuracy: 0.1233\n",
            "Epoch 5/100\n",
            "150/150 [==============================] - 1s 5ms/step - loss: 2.2241 - accuracy: 0.1258 - val_loss: 2.1949 - val_accuracy: 0.1767\n",
            "Epoch 6/100\n",
            "150/150 [==============================] - 1s 4ms/step - loss: 2.1497 - accuracy: 0.1817 - val_loss: 2.1083 - val_accuracy: 0.2733\n",
            "Epoch 7/100\n",
            "150/150 [==============================] - 1s 5ms/step - loss: 2.0465 - accuracy: 0.2283 - val_loss: 2.0164 - val_accuracy: 0.2633\n",
            "Epoch 8/100\n",
            "150/150 [==============================] - 1s 5ms/step - loss: 1.9491 - accuracy: 0.2258 - val_loss: 1.9447 - val_accuracy: 0.2367\n",
            "Epoch 9/100\n",
            "150/150 [==============================] - 1s 5ms/step - loss: 1.8794 - accuracy: 0.2475 - val_loss: 1.9108 - val_accuracy: 0.2600\n",
            "Epoch 10/100\n",
            "150/150 [==============================] - 1s 5ms/step - loss: 1.8331 - accuracy: 0.2742 - val_loss: 1.8709 - val_accuracy: 0.2667\n",
            "Epoch 11/100\n",
            "150/150 [==============================] - 1s 5ms/step - loss: 1.7978 - accuracy: 0.2892 - val_loss: 1.8607 - val_accuracy: 0.2733\n",
            "Epoch 12/100\n",
            "150/150 [==============================] - 1s 5ms/step - loss: 1.7723 - accuracy: 0.2842 - val_loss: 1.8493 - val_accuracy: 0.2800\n",
            "Epoch 13/100\n",
            "150/150 [==============================] - 1s 4ms/step - loss: 1.7499 - accuracy: 0.3000 - val_loss: 1.8209 - val_accuracy: 0.2933\n",
            "Epoch 14/100\n",
            "150/150 [==============================] - 1s 5ms/step - loss: 1.7231 - accuracy: 0.3067 - val_loss: 1.7964 - val_accuracy: 0.2933\n",
            "Epoch 15/100\n",
            "150/150 [==============================] - 1s 4ms/step - loss: 1.6948 - accuracy: 0.3117 - val_loss: 1.7809 - val_accuracy: 0.3467\n",
            "Epoch 16/100\n",
            "150/150 [==============================] - 1s 7ms/step - loss: 1.6657 - accuracy: 0.3042 - val_loss: 1.7559 - val_accuracy: 0.3300\n",
            "Epoch 17/100\n",
            "150/150 [==============================] - 1s 7ms/step - loss: 1.6409 - accuracy: 0.3442 - val_loss: 1.7335 - val_accuracy: 0.3100\n",
            "Epoch 18/100\n",
            "150/150 [==============================] - 1s 8ms/step - loss: 1.6125 - accuracy: 0.3283 - val_loss: 1.7107 - val_accuracy: 0.3367\n",
            "Epoch 19/100\n",
            "150/150 [==============================] - 1s 7ms/step - loss: 1.5862 - accuracy: 0.3800 - val_loss: 1.6961 - val_accuracy: 0.3233\n",
            "Epoch 20/100\n",
            "150/150 [==============================] - 1s 5ms/step - loss: 1.5614 - accuracy: 0.3383 - val_loss: 1.6862 - val_accuracy: 0.3467\n",
            "Epoch 21/100\n",
            "150/150 [==============================] - 1s 4ms/step - loss: 1.5385 - accuracy: 0.3542 - val_loss: 1.6736 - val_accuracy: 0.3100\n",
            "Epoch 22/100\n",
            "150/150 [==============================] - 1s 5ms/step - loss: 1.5148 - accuracy: 0.3442 - val_loss: 1.6540 - val_accuracy: 0.3933\n",
            "Epoch 23/100\n",
            "150/150 [==============================] - 1s 4ms/step - loss: 1.4930 - accuracy: 0.3725 - val_loss: 1.6359 - val_accuracy: 0.4333\n",
            "Epoch 24/100\n",
            "150/150 [==============================] - 1s 4ms/step - loss: 1.4718 - accuracy: 0.3708 - val_loss: 1.6239 - val_accuracy: 0.3667\n",
            "Epoch 25/100\n",
            "150/150 [==============================] - 1s 4ms/step - loss: 1.4470 - accuracy: 0.3842 - val_loss: 1.6055 - val_accuracy: 0.4333\n",
            "Epoch 26/100\n",
            "150/150 [==============================] - 1s 5ms/step - loss: 1.4254 - accuracy: 0.4475 - val_loss: 1.5945 - val_accuracy: 0.4500\n",
            "Epoch 27/100\n",
            "150/150 [==============================] - 1s 4ms/step - loss: 1.4041 - accuracy: 0.4275 - val_loss: 1.5798 - val_accuracy: 0.4833\n",
            "Epoch 28/100\n",
            "150/150 [==============================] - 1s 4ms/step - loss: 1.3836 - accuracy: 0.4650 - val_loss: 1.5694 - val_accuracy: 0.4900\n",
            "Epoch 29/100\n",
            "150/150 [==============================] - 1s 4ms/step - loss: 1.3650 - accuracy: 0.4842 - val_loss: 1.5606 - val_accuracy: 0.5133\n",
            "Epoch 30/100\n",
            "150/150 [==============================] - 1s 3ms/step - loss: 1.3435 - accuracy: 0.5142 - val_loss: 1.5303 - val_accuracy: 0.5067\n",
            "Epoch 31/100\n",
            "150/150 [==============================] - 1s 4ms/step - loss: 1.3227 - accuracy: 0.5450 - val_loss: 1.5199 - val_accuracy: 0.4800\n",
            "Epoch 32/100\n",
            "150/150 [==============================] - 1s 4ms/step - loss: 1.3022 - accuracy: 0.5358 - val_loss: 1.4983 - val_accuracy: 0.5067\n",
            "Epoch 33/100\n",
            "150/150 [==============================] - 1s 3ms/step - loss: 1.2744 - accuracy: 0.5200 - val_loss: 1.4770 - val_accuracy: 0.5367\n",
            "Epoch 34/100\n",
            "150/150 [==============================] - 1s 4ms/step - loss: 1.2449 - accuracy: 0.5542 - val_loss: 1.4632 - val_accuracy: 0.5400\n",
            "Epoch 35/100\n",
            "150/150 [==============================] - 1s 3ms/step - loss: 1.2138 - accuracy: 0.5400 - val_loss: 1.4414 - val_accuracy: 0.5400\n",
            "Epoch 36/100\n",
            "150/150 [==============================] - 1s 7ms/step - loss: 1.1864 - accuracy: 0.5700 - val_loss: 1.4203 - val_accuracy: 0.5533\n",
            "Epoch 37/100\n",
            "150/150 [==============================] - 1s 7ms/step - loss: 1.1613 - accuracy: 0.5525 - val_loss: 1.4056 - val_accuracy: 0.5500\n",
            "Epoch 38/100\n",
            "150/150 [==============================] - 1s 7ms/step - loss: 1.1318 - accuracy: 0.5858 - val_loss: 1.3825 - val_accuracy: 0.5567\n",
            "Epoch 39/100\n",
            "150/150 [==============================] - 1s 9ms/step - loss: 1.1028 - accuracy: 0.5942 - val_loss: 1.3743 - val_accuracy: 0.5600\n",
            "Epoch 40/100\n",
            "150/150 [==============================] - 1s 4ms/step - loss: 1.0777 - accuracy: 0.5942 - val_loss: 1.3738 - val_accuracy: 0.5700\n",
            "Epoch 41/100\n",
            "150/150 [==============================] - 1s 4ms/step - loss: 1.0538 - accuracy: 0.6017 - val_loss: 1.3438 - val_accuracy: 0.5667\n",
            "Epoch 42/100\n",
            "150/150 [==============================] - 1s 5ms/step - loss: 1.0303 - accuracy: 0.6050 - val_loss: 1.3411 - val_accuracy: 0.5800\n",
            "Epoch 43/100\n",
            "150/150 [==============================] - 1s 4ms/step - loss: 1.0024 - accuracy: 0.6400 - val_loss: 1.3220 - val_accuracy: 0.6133\n",
            "Epoch 44/100\n",
            "150/150 [==============================] - 1s 4ms/step - loss: 0.9742 - accuracy: 0.6733 - val_loss: 1.2809 - val_accuracy: 0.6367\n",
            "Epoch 45/100\n",
            "150/150 [==============================] - 1s 4ms/step - loss: 0.9452 - accuracy: 0.6792 - val_loss: 1.2724 - val_accuracy: 0.6400\n",
            "Epoch 46/100\n",
            "150/150 [==============================] - 1s 4ms/step - loss: 0.9106 - accuracy: 0.6883 - val_loss: 1.2319 - val_accuracy: 0.6500\n",
            "Epoch 47/100\n",
            "150/150 [==============================] - 1s 4ms/step - loss: 0.8782 - accuracy: 0.6958 - val_loss: 1.1945 - val_accuracy: 0.6600\n",
            "Epoch 48/100\n",
            "150/150 [==============================] - 1s 4ms/step - loss: 0.8407 - accuracy: 0.6817 - val_loss: 1.1741 - val_accuracy: 0.6533\n",
            "Epoch 49/100\n",
            "150/150 [==============================] - 1s 4ms/step - loss: 0.8108 - accuracy: 0.7017 - val_loss: 1.1490 - val_accuracy: 0.6567\n",
            "Epoch 50/100\n",
            "150/150 [==============================] - 1s 4ms/step - loss: 0.7801 - accuracy: 0.6958 - val_loss: 1.1155 - val_accuracy: 0.6500\n",
            "Epoch 51/100\n",
            "150/150 [==============================] - 1s 4ms/step - loss: 0.7503 - accuracy: 0.7033 - val_loss: 1.1061 - val_accuracy: 0.6467\n",
            "Epoch 52/100\n",
            "150/150 [==============================] - 1s 4ms/step - loss: 0.7280 - accuracy: 0.7075 - val_loss: 1.0954 - val_accuracy: 0.6567\n",
            "Epoch 53/100\n",
            "150/150 [==============================] - 1s 4ms/step - loss: 0.7046 - accuracy: 0.7208 - val_loss: 1.0820 - val_accuracy: 0.6533\n",
            "Epoch 54/100\n",
            "150/150 [==============================] - 1s 4ms/step - loss: 0.6840 - accuracy: 0.7308 - val_loss: 1.0730 - val_accuracy: 0.6533\n",
            "Epoch 55/100\n",
            "150/150 [==============================] - 1s 4ms/step - loss: 0.6671 - accuracy: 0.7367 - val_loss: 1.0537 - val_accuracy: 0.6533\n",
            "Epoch 56/100\n",
            "150/150 [==============================] - 1s 5ms/step - loss: 0.6460 - accuracy: 0.7450 - val_loss: 1.0389 - val_accuracy: 0.6567\n",
            "Epoch 57/100\n",
            "150/150 [==============================] - 1s 7ms/step - loss: 0.6322 - accuracy: 0.7575 - val_loss: 1.0334 - val_accuracy: 0.6867\n",
            "Epoch 58/100\n",
            "150/150 [==============================] - 1s 8ms/step - loss: 0.6167 - accuracy: 0.7675 - val_loss: 1.0321 - val_accuracy: 0.6833\n",
            "Epoch 59/100\n",
            "150/150 [==============================] - 1s 7ms/step - loss: 0.6017 - accuracy: 0.7717 - val_loss: 1.0308 - val_accuracy: 0.6933\n",
            "Epoch 60/100\n",
            "150/150 [==============================] - 1s 5ms/step - loss: 0.5886 - accuracy: 0.7808 - val_loss: 1.0117 - val_accuracy: 0.6867\n",
            "Epoch 61/100\n",
            "150/150 [==============================] - 1s 4ms/step - loss: 0.5712 - accuracy: 0.7900 - val_loss: 1.0023 - val_accuracy: 0.6833\n",
            "Epoch 62/100\n",
            "150/150 [==============================] - 1s 4ms/step - loss: 0.5577 - accuracy: 0.7933 - val_loss: 0.9975 - val_accuracy: 0.6967\n",
            "Epoch 63/100\n",
            "150/150 [==============================] - 1s 4ms/step - loss: 0.5449 - accuracy: 0.8017 - val_loss: 0.9844 - val_accuracy: 0.6867\n",
            "Epoch 64/100\n",
            "150/150 [==============================] - 1s 5ms/step - loss: 0.5295 - accuracy: 0.8075 - val_loss: 0.9957 - val_accuracy: 0.6967\n",
            "Epoch 65/100\n",
            "150/150 [==============================] - 1s 5ms/step - loss: 0.5209 - accuracy: 0.8100 - val_loss: 0.9757 - val_accuracy: 0.7133\n",
            "Epoch 66/100\n",
            "150/150 [==============================] - 1s 4ms/step - loss: 0.5075 - accuracy: 0.8125 - val_loss: 0.9849 - val_accuracy: 0.7133\n",
            "Epoch 67/100\n",
            "150/150 [==============================] - 1s 4ms/step - loss: 0.4962 - accuracy: 0.8175 - val_loss: 0.9884 - val_accuracy: 0.7300\n",
            "Epoch 68/100\n",
            "150/150 [==============================] - 1s 4ms/step - loss: 0.4864 - accuracy: 0.8275 - val_loss: 0.9888 - val_accuracy: 0.7133\n",
            "Epoch 69/100\n",
            "150/150 [==============================] - 1s 4ms/step - loss: 0.4805 - accuracy: 0.8250 - val_loss: 0.9730 - val_accuracy: 0.7200\n",
            "Epoch 70/100\n",
            "150/150 [==============================] - 1s 4ms/step - loss: 0.4695 - accuracy: 0.8275 - val_loss: 0.9776 - val_accuracy: 0.7067\n",
            "Epoch 71/100\n",
            "150/150 [==============================] - 1s 4ms/step - loss: 0.4633 - accuracy: 0.8267 - val_loss: 0.9861 - val_accuracy: 0.7233\n",
            "Epoch 72/100\n",
            "150/150 [==============================] - 1s 4ms/step - loss: 0.4523 - accuracy: 0.8392 - val_loss: 0.9767 - val_accuracy: 0.7267\n",
            "Epoch 73/100\n",
            "150/150 [==============================] - 1s 4ms/step - loss: 0.4432 - accuracy: 0.8483 - val_loss: 0.9913 - val_accuracy: 0.7300\n",
            "Epoch 74/100\n",
            "150/150 [==============================] - 1s 4ms/step - loss: 0.4313 - accuracy: 0.8642 - val_loss: 0.9779 - val_accuracy: 0.7267\n",
            "Epoch 75/100\n",
            "150/150 [==============================] - 1s 4ms/step - loss: 0.4246 - accuracy: 0.8558 - val_loss: 0.9750 - val_accuracy: 0.7300\n",
            "Epoch 76/100\n",
            "150/150 [==============================] - 1s 5ms/step - loss: 0.4169 - accuracy: 0.8625 - val_loss: 0.9682 - val_accuracy: 0.7333\n",
            "Epoch 77/100\n",
            "150/150 [==============================] - 1s 6ms/step - loss: 0.4132 - accuracy: 0.8558 - val_loss: 0.9826 - val_accuracy: 0.7500\n",
            "Epoch 78/100\n",
            "150/150 [==============================] - 1s 7ms/step - loss: 0.4058 - accuracy: 0.8725 - val_loss: 0.9818 - val_accuracy: 0.7367\n",
            "Epoch 79/100\n",
            "150/150 [==============================] - 1s 7ms/step - loss: 0.3976 - accuracy: 0.8700 - val_loss: 0.9738 - val_accuracy: 0.7567\n",
            "Epoch 80/100\n",
            "150/150 [==============================] - 1s 6ms/step - loss: 0.3927 - accuracy: 0.8833 - val_loss: 0.9993 - val_accuracy: 0.7467\n",
            "Epoch 81/100\n",
            "150/150 [==============================] - 1s 8ms/step - loss: 0.3828 - accuracy: 0.8825 - val_loss: 0.9929 - val_accuracy: 0.7733\n",
            "Epoch 82/100\n",
            "150/150 [==============================] - 1s 4ms/step - loss: 0.3779 - accuracy: 0.9000 - val_loss: 0.9810 - val_accuracy: 0.7700\n",
            "Epoch 83/100\n",
            "150/150 [==============================] - 1s 4ms/step - loss: 0.3704 - accuracy: 0.9092 - val_loss: 0.9838 - val_accuracy: 0.7800\n",
            "Epoch 84/100\n",
            "150/150 [==============================] - 1s 5ms/step - loss: 0.3618 - accuracy: 0.9100 - val_loss: 1.0073 - val_accuracy: 0.7667\n",
            "Epoch 85/100\n",
            "150/150 [==============================] - 1s 7ms/step - loss: 0.3559 - accuracy: 0.9175 - val_loss: 0.9764 - val_accuracy: 0.7833\n",
            "Epoch 86/100\n",
            "150/150 [==============================] - 1s 7ms/step - loss: 0.3479 - accuracy: 0.9192 - val_loss: 0.9972 - val_accuracy: 0.7800\n",
            "Epoch 87/100\n",
            "150/150 [==============================] - 1s 7ms/step - loss: 0.3410 - accuracy: 0.9267 - val_loss: 0.9772 - val_accuracy: 0.7700\n",
            "Epoch 88/100\n",
            "150/150 [==============================] - 1s 6ms/step - loss: 0.3298 - accuracy: 0.9317 - val_loss: 0.9617 - val_accuracy: 0.7800\n",
            "Epoch 89/100\n",
            "150/150 [==============================] - 1s 4ms/step - loss: 0.3212 - accuracy: 0.9367 - val_loss: 0.9646 - val_accuracy: 0.7867\n",
            "Epoch 90/100\n",
            "150/150 [==============================] - 1s 4ms/step - loss: 0.3184 - accuracy: 0.9317 - val_loss: 0.9632 - val_accuracy: 0.7733\n",
            "Epoch 91/100\n",
            "150/150 [==============================] - 1s 4ms/step - loss: 0.3159 - accuracy: 0.9325 - val_loss: 0.9741 - val_accuracy: 0.7800\n",
            "Epoch 92/100\n",
            "150/150 [==============================] - 1s 6ms/step - loss: 0.3115 - accuracy: 0.9292 - val_loss: 0.9603 - val_accuracy: 0.7833\n",
            "Epoch 93/100\n",
            "150/150 [==============================] - 1s 7ms/step - loss: 0.2898 - accuracy: 0.9442 - val_loss: 0.9555 - val_accuracy: 0.7667\n",
            "Epoch 94/100\n",
            "150/150 [==============================] - 1s 7ms/step - loss: 0.2799 - accuracy: 0.9483 - val_loss: 0.9552 - val_accuracy: 0.7767\n",
            "Epoch 95/100\n",
            "150/150 [==============================] - 1s 7ms/step - loss: 0.2724 - accuracy: 0.9500 - val_loss: 0.9467 - val_accuracy: 0.7833\n",
            "Epoch 96/100\n",
            "150/150 [==============================] - 1s 4ms/step - loss: 0.2654 - accuracy: 0.9533 - val_loss: 0.9486 - val_accuracy: 0.7833\n",
            "Epoch 97/100\n",
            "150/150 [==============================] - 1s 4ms/step - loss: 0.2584 - accuracy: 0.9533 - val_loss: 0.9421 - val_accuracy: 0.7833\n",
            "Epoch 98/100\n",
            "150/150 [==============================] - 1s 4ms/step - loss: 0.2512 - accuracy: 0.9575 - val_loss: 0.9341 - val_accuracy: 0.7833\n",
            "Epoch 99/100\n",
            "150/150 [==============================] - 1s 5ms/step - loss: 0.2443 - accuracy: 0.9567 - val_loss: 0.9394 - val_accuracy: 0.7767\n",
            "Epoch 100/100\n",
            "150/150 [==============================] - 1s 5ms/step - loss: 0.2423 - accuracy: 0.9567 - val_loss: 0.9354 - val_accuracy: 0.7800\n"
          ]
        },
        {
          "output_type": "execute_result",
          "data": {
            "text/plain": [
              "<keras.callbacks.History at 0x7ad0ba0ee830>"
            ]
          },
          "metadata": {},
          "execution_count": 12
        }
      ],
      "source": [
        "model = get_model(num_hidden_layers=3, activation=\"sigmoid\")\n",
        "cbs = [LayerWeightsCallback(i.name) for i in model.layers]\n",
        "model.fit(X_train, y_train_oh, epochs=100, batch_size=8,\n",
        "          validation_data=(X_test, y_test_oh), callbacks=cbs)"
      ]
    },
    {
      "cell_type": "code",
      "execution_count": 13,
      "metadata": {
        "id": "fn_44AuhyxMP",
        "outputId": "d995564e-c884-4aca-810e-6931ef9dbf7e",
        "colab": {
          "base_uri": "https://localhost:8080/",
          "height": 333
        }
      },
      "outputs": [
        {
          "output_type": "display_data",
          "data": {
            "text/plain": [
              "<Figure size 1200x300 with 2 Axes>"
            ],
            "image/png": "[encoded data removed]"
          },
          "metadata": {}
        }
      ],
      "source": [
        "\n",
        "def plot_epochs(cbset, title=\"\"):\n",
        "    cm = plt.cm.Blues\n",
        "    plt.figure(figsize=(12,3))\n",
        "    plt.subplot(121)\n",
        "    for i,cb in enumerate(cbset):\n",
        "        plt.plot(cb.mean_per_epoch, label=cb.layer_name, color=cm(int(255*(i+1)/(len(cbset)))))\n",
        "        plt.xlabel(\"epochs\"); plt.grid(); plt.title(title+\" mean\")\n",
        "    plt.subplot(122)\n",
        "    for i,cb in enumerate(cbset):\n",
        "        plt.plot(cb.std_per_epoch, label=cb.layer_name, color=cm(int(255*(i+1)/(len(cbset)))))\n",
        "        plt.xlabel(\"epochs\"); plt.grid(); plt.title(title+\" std\")\n",
        "    plt.legend(loc='center left', bbox_to_anchor=(1, 0.5))\n",
        "\n",
        "plot_epochs(cbs, \"WEIGHTS\")\n"
      ]
    },
    {
      "cell_type": "markdown",
      "metadata": {
        "id": "hFCMoQ-wyxMQ"
      },
      "source": [
        "**Registra tu solución en linea**"
      ]
    },
    {
      "cell_type": "code",
      "execution_count": 24,
      "metadata": {
        "scrolled": true,
        "id": "NbAFtOQxyxMQ",
        "outputId": "7c2ab50c-8b57-44dc-df1b-dcc59d969a16",
        "colab": {
          "base_uri": "https://localhost:8080/",
          "height": 111
        }
      },
      "outputs": [
        {
          "output_type": "display_data",
          "data": {
            "text/plain": [
              "<IPython.core.display.HTML object>"
            ],
            "text/html": [
              "\n",
              "                    <b>T1 submitted.</b> <b><font color=\"blue\">your grade is 5</font></b> \n",
              "                    <p/><pre>----- grader message -------</pre><b>correct</b><pre>----------------------------</pre>\n",
              "                    <p/><p/>\n",
              "                    <div style=\"font-size:10px\"><b>SUBMISSION CODE</b> iDrv1iTug3W+vD8NlgXWF7v0rcHDVJC/l6LLmEZbTz2LSXu1XsR2DbGAC/YRWbnREXvLu0JQBFPhdLKTOxNuQbxJlQ7E1Y4scsyLlWUnM+3BPXI+LMUHKpQx1jyeJR+SKatDlCDYUR/ScfH/tnM2KalyYxDOWs+9qi8NPmGl7u4=</div>\n",
              "                    "
            ]
          },
          "metadata": {}
        }
      ],
      "source": [
        "student.submit_task(namespace=globals(), task_id='T1');"
      ]
    },
    {
      "cell_type": "markdown",
      "metadata": {
        "id": "pvY7B7AGyxMQ"
      },
      "source": [
        "## TASK 2: Activations monitoring callback\n"
      ]
    },
    {
      "cell_type": "markdown",
      "metadata": {
        "id": "VUcSR8I9yxMQ"
      },
      "source": [
        "observe how, given a model and a certain input, we can get the activations at different layers in a very straight forward manner. If we do this before training (`.fit`) it is also ok, the model will simply use the initial random weights."
      ]
    },
    {
      "cell_type": "code",
      "execution_count": 14,
      "metadata": {
        "id": "cmviRxuByxMQ",
        "outputId": "77a3d89e-30df-4cd7-b105-a3969e71553d",
        "colab": {
          "base_uri": "https://localhost:8080/"
        }
      },
      "outputs": [
        {
          "output_type": "stream",
          "name": "stdout",
          "text": [
            "Model: \"sequential_2\"\n",
            "_________________________________________________________________\n",
            " Layer (type)                Output Shape              Param #   \n",
            "=================================================================\n",
            " Layer_00_Input (Dense)      (None, 10)                7850      \n",
            "                                                                 \n",
            " Layer_01_Hidden (Dense)     (None, 10)                110       \n",
            "                                                                 \n",
            " Layer_02_Hidden (Dense)     (None, 10)                110       \n",
            "                                                                 \n",
            " Layer_03_Hidden (Dense)     (None, 10)                110       \n",
            "                                                                 \n",
            " Layer_04_Output (Dense)     (None, 10)                110       \n",
            "                                                                 \n",
            "=================================================================\n",
            "Total params: 8,290\n",
            "Trainable params: 8,290\n",
            "Non-trainable params: 0\n",
            "_________________________________________________________________\n"
          ]
        }
      ],
      "source": [
        "model = get_model(num_hidden_layers=3, activation=\"sigmoid\")\n",
        "model.summary()"
      ]
    },
    {
      "cell_type": "code",
      "execution_count": 15,
      "metadata": {
        "id": "fsfbSfaUyxMQ",
        "outputId": "bde531c0-74df-46d6-da48-cc6a06388210",
        "colab": {
          "base_uri": "https://localhost:8080/"
        }
      },
      "outputs": [
        {
          "output_type": "execute_result",
          "data": {
            "text/plain": [
              "(TensorShape([1200, 10]), TensorShape([1200, 10]))"
            ]
          },
          "metadata": {},
          "execution_count": 15
        }
      ],
      "source": [
        "activations_layer_0 = model.layers[0](X_train)\n",
        "activations_layer_1 = model.layers[1](activations_layer_0)\n",
        "activations_layer_0.shape, activations_layer_1.shape"
      ]
    },
    {
      "cell_type": "markdown",
      "metadata": {
        "id": "d0cXxdobyxMQ"
      },
      "source": [
        "Create a callback that:\n",
        "\n",
        "- when each epoch ends, feeds `self.X` into the model and retrieves the activations at the output of layer with name `self.layer_name`.\n",
        "- computes the mean and standard deviation of those activations.\n",
        "- appends them to `self.mean_per_epoch` and `self.std_per_epoch`\n",
        "\n",
        "When used with a model, at the end of any training it will contain a list of activations means and another list of activation stds, both with one element per each epoch. With this we can monitor how the activation in a specific layer progress over the training process. Tensorboard offers a similar functionality, but the goal with this task is to get acquainted with the callback mechanism."
      ]
    },
    {
      "cell_type": "code",
      "execution_count": 35,
      "metadata": {
        "id": "wjIHvOYhyxMQ"
      },
      "outputs": [],
      "source": [
        "def TrainValActivationsCallback(layer_name, X):\n",
        "    import tensorflow as tf\n",
        "    class TrainValActivationsCallback_class(Callback):\n",
        "\n",
        "        def __init__(self, layer_name, X):\n",
        "            super().__init__()\n",
        "            self.mean_per_epoch = []\n",
        "            self.std_per_epoch = []\n",
        "            self.layer_name = layer_name\n",
        "            self.X = X\n",
        "\n",
        "        def on_epoch_end(self, epoch, logs=None):\n",
        "          get_layer_output = tf.keras.backend.function(\n",
        "          inputs=[self.model.input],\n",
        "          outputs=[self.model.get_layer(self.layer_name).output])\n",
        "          a = get_layer_output([self.X])[0] # obtain the numerical values of the activations.\n",
        "          mean = a.mean()\n",
        "          std = a.std()\n",
        "          self.mean_per_epoch.append(mean)\n",
        "          self.std_per_epoch.append(std)\n",
        "\n",
        "    return TrainValActivationsCallback_class(layer_name, X)"
      ]
    },
    {
      "cell_type": "markdown",
      "metadata": {
        "id": "q1bprzpuyxMQ"
      },
      "source": [
        "test your code with the following cell. Observe that\n",
        "\n",
        "- we create a small input dataset and model\n",
        "- invoke your callback implementation\n",
        "- your callback must contain two lists: `mean_per_epoch` and `std_per_epoch` with one single value each\n",
        "- you can check that single value with our computation. We do this computation in two different ways (1) by using explicitly the model layers; and (2) by using matrix multiplication with layers weights (`linear activation`== `no activation`)"
      ]
    },
    {
      "cell_type": "code",
      "execution_count": 30,
      "metadata": {
        "id": "_ujsnpqnyxMR",
        "outputId": "093a9484-b2f9-42f2-be87-40f0d1234e57",
        "colab": {
          "base_uri": "https://localhost:8080/"
        }
      },
      "outputs": [
        {
          "output_type": "stream",
          "name": "stdout",
          "text": [
            "input data\n",
            " [[0.95040727 0.13689582]\n",
            " [0.22774231 0.25720546]\n",
            " [0.55593187 0.795253  ]\n",
            " [0.30785182 0.9045546 ]\n",
            " [0.8693744  0.94914985]]\n",
            "\n",
            "activations at Layer_02_Hidden\n",
            "\n",
            "activation mean/std with your callback [<KerasTensor: shape=() dtype=float32 (created by layer 'tf.math.reduce_mean')>] [<KerasTensor: shape=() dtype=float32 (created by layer 'tf.math.reduce_std')>]\n",
            "using model layer functions             0.006070018 0.38316882\n",
            "manual matrix mult linear activation    0.0060700206 0.38316882\n"
          ]
        }
      ],
      "source": [
        "X_in = np.random.random(size=(5,2)).astype(np.float32)\n",
        "print (\"input data\\n\", X_in)\n",
        "model = get_model(input_dim=2, output_dim=3, num_hidden_layers=2, hidden_size=2, activation=\"linear\")\n",
        "layer_name = 'Layer_02_Hidden'\n",
        "layer = model.get_layer(layer_name)\n",
        "\n",
        "cb = TrainValActivationsCallback(layer.name, X_in)\n",
        "cb.model = model\n",
        "cb.on_epoch_end(epoch)\n",
        "\n",
        "print (\"\\nactivations at\", layer_name)\n",
        "print (\"\\nactivation mean/std with your callback\", cb.mean_per_epoch, cb.std_per_epoch)\n",
        "\n",
        "l0,l1,l2,l3 = model.layers\n",
        "a = l2(l1(l0(X_in))).numpy()\n",
        "print (\"using model layer functions            \", a.mean(), a.std())\n",
        "\n",
        "a = X_in.dot(l0.get_weights()[0]).dot(l1.get_weights()[0]).dot(l2.get_weights()[0])\n",
        "print (\"manual matrix mult linear activation   \", a.mean(), a.std())"
      ]
    },
    {
      "cell_type": "code",
      "execution_count": null,
      "metadata": {
        "id": "qlILO3PryxMR"
      },
      "outputs": [],
      "source": []
    },
    {
      "cell_type": "markdown",
      "metadata": {
        "id": "Aw4MabVcyxMR"
      },
      "source": [
        "Now you can use your class to keep track of activations while training. We choose to keep track of activations with your callback for all the layers.\n",
        "\n",
        "Observe how we plot the activations progress with the data gathered by your callback. What interpretation can you give to the plots?\n",
        "\n",
        "In this case, we are creating a callback for each layer for train and for test data. If activations are similar in both train and test it may mean that the train/test splits are being treated similarly by the model."
      ]
    },
    {
      "cell_type": "code",
      "source": [
        "y_train_oh.shape[1]"
      ],
      "metadata": {
        "id": "VCKrxfm54aTb",
        "outputId": "d249589e-f769-45c9-c10b-58cc55558201",
        "colab": {
          "base_uri": "https://localhost:8080/"
        }
      },
      "execution_count": 18,
      "outputs": [
        {
          "output_type": "execute_result",
          "data": {
            "text/plain": [
              "10"
            ]
          },
          "metadata": {},
          "execution_count": 18
        }
      ]
    },
    {
      "cell_type": "code",
      "execution_count": 36,
      "metadata": {
        "id": "RG5AEpjfyxMR",
        "outputId": "ee5d77f5-d122-4281-e1a9-e0451560e130",
        "colab": {
          "base_uri": "https://localhost:8080/"
        }
      },
      "outputs": [
        {
          "output_type": "stream",
          "name": "stdout",
          "text": [
            "Epoch 1/100\n",
            "38/38 [==============================] - 1s 15ms/step - loss: 2.3713 - accuracy: 0.1033 - val_loss: 2.3104 - val_accuracy: 0.1100\n",
            "Epoch 2/100\n",
            "38/38 [==============================] - 0s 12ms/step - loss: 2.3234 - accuracy: 0.1033 - val_loss: 2.2904 - val_accuracy: 0.1100\n",
            "Epoch 3/100\n",
            "38/38 [==============================] - 0s 13ms/step - loss: 2.3044 - accuracy: 0.1033 - val_loss: 2.2819 - val_accuracy: 0.1233\n",
            "Epoch 4/100\n",
            "38/38 [==============================] - 0s 10ms/step - loss: 2.2923 - accuracy: 0.1908 - val_loss: 2.2767 - val_accuracy: 0.2033\n",
            "Epoch 5/100\n",
            "38/38 [==============================] - 0s 12ms/step - loss: 2.2833 - accuracy: 0.2033 - val_loss: 2.2720 - val_accuracy: 0.2033\n",
            "Epoch 6/100\n",
            "38/38 [==============================] - 0s 11ms/step - loss: 2.2746 - accuracy: 0.1933 - val_loss: 2.2647 - val_accuracy: 0.2000\n",
            "Epoch 7/100\n",
            "38/38 [==============================] - 0s 11ms/step - loss: 2.2635 - accuracy: 0.2067 - val_loss: 2.2546 - val_accuracy: 0.2067\n",
            "Epoch 8/100\n",
            "38/38 [==============================] - 1s 14ms/step - loss: 2.2491 - accuracy: 0.2067 - val_loss: 2.2414 - val_accuracy: 0.2100\n",
            "Epoch 9/100\n",
            "38/38 [==============================] - 0s 11ms/step - loss: 2.2300 - accuracy: 0.2075 - val_loss: 2.2236 - val_accuracy: 0.2033\n",
            "Epoch 10/100\n",
            "38/38 [==============================] - 0s 10ms/step - loss: 2.2044 - accuracy: 0.2075 - val_loss: 2.1974 - val_accuracy: 0.2033\n",
            "Epoch 11/100\n",
            "38/38 [==============================] - 0s 7ms/step - loss: 2.1727 - accuracy: 0.2075 - val_loss: 2.1659 - val_accuracy: 0.2100\n",
            "Epoch 12/100\n",
            "38/38 [==============================] - 0s 7ms/step - loss: 2.1353 - accuracy: 0.2108 - val_loss: 2.1343 - val_accuracy: 0.2000\n",
            "Epoch 13/100\n",
            "38/38 [==============================] - 0s 8ms/step - loss: 2.0953 - accuracy: 0.2117 - val_loss: 2.0997 - val_accuracy: 0.2033\n",
            "Epoch 14/100\n",
            "38/38 [==============================] - 0s 7ms/step - loss: 2.0549 - accuracy: 0.2117 - val_loss: 2.0653 - val_accuracy: 0.2133\n",
            "Epoch 15/100\n",
            "38/38 [==============================] - 0s 6ms/step - loss: 2.0174 - accuracy: 0.2133 - val_loss: 2.0371 - val_accuracy: 0.2100\n",
            "Epoch 16/100\n",
            "38/38 [==============================] - 0s 7ms/step - loss: 1.9829 - accuracy: 0.2133 - val_loss: 2.0112 - val_accuracy: 0.2133\n",
            "Epoch 17/100\n",
            "38/38 [==============================] - 0s 8ms/step - loss: 1.9528 - accuracy: 0.2150 - val_loss: 1.9913 - val_accuracy: 0.2100\n",
            "Epoch 18/100\n",
            "38/38 [==============================] - 0s 7ms/step - loss: 1.9245 - accuracy: 0.2175 - val_loss: 1.9769 - val_accuracy: 0.2133\n",
            "Epoch 19/100\n",
            "38/38 [==============================] - 0s 8ms/step - loss: 1.8999 - accuracy: 0.2192 - val_loss: 1.9575 - val_accuracy: 0.2133\n",
            "Epoch 20/100\n",
            "38/38 [==============================] - 0s 7ms/step - loss: 1.8780 - accuracy: 0.2200 - val_loss: 1.9449 - val_accuracy: 0.2133\n",
            "Epoch 21/100\n",
            "38/38 [==============================] - 0s 7ms/step - loss: 1.8573 - accuracy: 0.2275 - val_loss: 1.9328 - val_accuracy: 0.2200\n",
            "Epoch 22/100\n",
            "38/38 [==============================] - 0s 7ms/step - loss: 1.8383 - accuracy: 0.2333 - val_loss: 1.9204 - val_accuracy: 0.2233\n",
            "Epoch 23/100\n",
            "38/38 [==============================] - 0s 8ms/step - loss: 1.8207 - accuracy: 0.2375 - val_loss: 1.9111 - val_accuracy: 0.2367\n",
            "Epoch 24/100\n",
            "38/38 [==============================] - 0s 9ms/step - loss: 1.8045 - accuracy: 0.2408 - val_loss: 1.9029 - val_accuracy: 0.2367\n",
            "Epoch 25/100\n",
            "38/38 [==============================] - 0s 8ms/step - loss: 1.7882 - accuracy: 0.2458 - val_loss: 1.8965 - val_accuracy: 0.2300\n",
            "Epoch 26/100\n",
            "38/38 [==============================] - 0s 7ms/step - loss: 1.7738 - accuracy: 0.2625 - val_loss: 1.8856 - val_accuracy: 0.2400\n",
            "Epoch 27/100\n",
            "38/38 [==============================] - 0s 9ms/step - loss: 1.7584 - accuracy: 0.2683 - val_loss: 1.8785 - val_accuracy: 0.2367\n",
            "Epoch 28/100\n",
            "38/38 [==============================] - 0s 8ms/step - loss: 1.7452 - accuracy: 0.2742 - val_loss: 1.8683 - val_accuracy: 0.2500\n",
            "Epoch 29/100\n",
            "38/38 [==============================] - 0s 10ms/step - loss: 1.7302 - accuracy: 0.2933 - val_loss: 1.8635 - val_accuracy: 0.2333\n",
            "Epoch 30/100\n",
            "38/38 [==============================] - 0s 9ms/step - loss: 1.7157 - accuracy: 0.3275 - val_loss: 1.8613 - val_accuracy: 0.2600\n",
            "Epoch 31/100\n",
            "38/38 [==============================] - 0s 8ms/step - loss: 1.7016 - accuracy: 0.3042 - val_loss: 1.8537 - val_accuracy: 0.2667\n",
            "Epoch 32/100\n",
            "38/38 [==============================] - 0s 9ms/step - loss: 1.6887 - accuracy: 0.3167 - val_loss: 1.8467 - val_accuracy: 0.2700\n",
            "Epoch 33/100\n",
            "38/38 [==============================] - 0s 9ms/step - loss: 1.6760 - accuracy: 0.3283 - val_loss: 1.8407 - val_accuracy: 0.2667\n",
            "Epoch 34/100\n",
            "38/38 [==============================] - 0s 7ms/step - loss: 1.6636 - accuracy: 0.3333 - val_loss: 1.8358 - val_accuracy: 0.2800\n",
            "Epoch 35/100\n",
            "38/38 [==============================] - 0s 7ms/step - loss: 1.6498 - accuracy: 0.3358 - val_loss: 1.8293 - val_accuracy: 0.2700\n",
            "Epoch 36/100\n",
            "38/38 [==============================] - 0s 7ms/step - loss: 1.6371 - accuracy: 0.3792 - val_loss: 1.8226 - val_accuracy: 0.2800\n",
            "Epoch 37/100\n",
            "38/38 [==============================] - 0s 7ms/step - loss: 1.6243 - accuracy: 0.3533 - val_loss: 1.8194 - val_accuracy: 0.2733\n",
            "Epoch 38/100\n",
            "38/38 [==============================] - 0s 7ms/step - loss: 1.6124 - accuracy: 0.3642 - val_loss: 1.8111 - val_accuracy: 0.2833\n",
            "Epoch 39/100\n",
            "38/38 [==============================] - 0s 7ms/step - loss: 1.5993 - accuracy: 0.3808 - val_loss: 1.8039 - val_accuracy: 0.3000\n",
            "Epoch 40/100\n",
            "38/38 [==============================] - 0s 9ms/step - loss: 1.5878 - accuracy: 0.3650 - val_loss: 1.8009 - val_accuracy: 0.2867\n",
            "Epoch 41/100\n",
            "38/38 [==============================] - 0s 7ms/step - loss: 1.5719 - accuracy: 0.4067 - val_loss: 1.7910 - val_accuracy: 0.2900\n",
            "Epoch 42/100\n",
            "38/38 [==============================] - 0s 8ms/step - loss: 1.5596 - accuracy: 0.4083 - val_loss: 1.7846 - val_accuracy: 0.3067\n",
            "Epoch 43/100\n",
            "38/38 [==============================] - 0s 7ms/step - loss: 1.5458 - accuracy: 0.4000 - val_loss: 1.7802 - val_accuracy: 0.3433\n",
            "Epoch 44/100\n",
            "38/38 [==============================] - 0s 12ms/step - loss: 1.5351 - accuracy: 0.4325 - val_loss: 1.7749 - val_accuracy: 0.3400\n",
            "Epoch 45/100\n",
            "38/38 [==============================] - 0s 13ms/step - loss: 1.5204 - accuracy: 0.4500 - val_loss: 1.7653 - val_accuracy: 0.3467\n",
            "Epoch 46/100\n",
            "38/38 [==============================] - 0s 11ms/step - loss: 1.5067 - accuracy: 0.4600 - val_loss: 1.7590 - val_accuracy: 0.3567\n",
            "Epoch 47/100\n",
            "38/38 [==============================] - 0s 12ms/step - loss: 1.4942 - accuracy: 0.4600 - val_loss: 1.7537 - val_accuracy: 0.3533\n",
            "Epoch 48/100\n",
            "38/38 [==============================] - 1s 13ms/step - loss: 1.4804 - accuracy: 0.4625 - val_loss: 1.7474 - val_accuracy: 0.3433\n",
            "Epoch 49/100\n",
            "38/38 [==============================] - 0s 13ms/step - loss: 1.4667 - accuracy: 0.4667 - val_loss: 1.7377 - val_accuracy: 0.3633\n",
            "Epoch 50/100\n",
            "38/38 [==============================] - 1s 13ms/step - loss: 1.4525 - accuracy: 0.4717 - val_loss: 1.7310 - val_accuracy: 0.3733\n",
            "Epoch 51/100\n",
            "38/38 [==============================] - 0s 13ms/step - loss: 1.4387 - accuracy: 0.4667 - val_loss: 1.7220 - val_accuracy: 0.3667\n",
            "Epoch 52/100\n",
            "38/38 [==============================] - 0s 10ms/step - loss: 1.4217 - accuracy: 0.4750 - val_loss: 1.7089 - val_accuracy: 0.3767\n",
            "Epoch 53/100\n",
            "38/38 [==============================] - 0s 7ms/step - loss: 1.4046 - accuracy: 0.4792 - val_loss: 1.6935 - val_accuracy: 0.3700\n",
            "Epoch 54/100\n",
            "38/38 [==============================] - 0s 7ms/step - loss: 1.3860 - accuracy: 0.4742 - val_loss: 1.6787 - val_accuracy: 0.3833\n",
            "Epoch 55/100\n",
            "38/38 [==============================] - 0s 7ms/step - loss: 1.3676 - accuracy: 0.4800 - val_loss: 1.6654 - val_accuracy: 0.3800\n",
            "Epoch 56/100\n",
            "38/38 [==============================] - 0s 7ms/step - loss: 1.3493 - accuracy: 0.4733 - val_loss: 1.6496 - val_accuracy: 0.3833\n",
            "Epoch 57/100\n",
            "38/38 [==============================] - 0s 7ms/step - loss: 1.3295 - accuracy: 0.4800 - val_loss: 1.6381 - val_accuracy: 0.3867\n",
            "Epoch 58/100\n",
            "38/38 [==============================] - 0s 8ms/step - loss: 1.3098 - accuracy: 0.4858 - val_loss: 1.6260 - val_accuracy: 0.3800\n",
            "Epoch 59/100\n",
            "38/38 [==============================] - 0s 8ms/step - loss: 1.2917 - accuracy: 0.4917 - val_loss: 1.6061 - val_accuracy: 0.3900\n",
            "Epoch 60/100\n",
            "38/38 [==============================] - 0s 9ms/step - loss: 1.2727 - accuracy: 0.4942 - val_loss: 1.5931 - val_accuracy: 0.3867\n",
            "Epoch 61/100\n",
            "38/38 [==============================] - 0s 8ms/step - loss: 1.2539 - accuracy: 0.5017 - val_loss: 1.5781 - val_accuracy: 0.3967\n",
            "Epoch 62/100\n",
            "38/38 [==============================] - 0s 7ms/step - loss: 1.2361 - accuracy: 0.5050 - val_loss: 1.5678 - val_accuracy: 0.3967\n",
            "Epoch 63/100\n",
            "38/38 [==============================] - 0s 7ms/step - loss: 1.2187 - accuracy: 0.5092 - val_loss: 1.5515 - val_accuracy: 0.4000\n",
            "Epoch 64/100\n",
            "38/38 [==============================] - 0s 7ms/step - loss: 1.2021 - accuracy: 0.5200 - val_loss: 1.5374 - val_accuracy: 0.4000\n",
            "Epoch 65/100\n",
            "38/38 [==============================] - 0s 8ms/step - loss: 1.1850 - accuracy: 0.5217 - val_loss: 1.5255 - val_accuracy: 0.4100\n",
            "Epoch 66/100\n",
            "38/38 [==============================] - 0s 8ms/step - loss: 1.1683 - accuracy: 0.5350 - val_loss: 1.5194 - val_accuracy: 0.4033\n",
            "Epoch 67/100\n",
            "38/38 [==============================] - 0s 8ms/step - loss: 1.1506 - accuracy: 0.5375 - val_loss: 1.5026 - val_accuracy: 0.4233\n",
            "Epoch 68/100\n",
            "38/38 [==============================] - 0s 10ms/step - loss: 1.1366 - accuracy: 0.5392 - val_loss: 1.4966 - val_accuracy: 0.4333\n",
            "Epoch 69/100\n",
            "38/38 [==============================] - 0s 7ms/step - loss: 1.1184 - accuracy: 0.5458 - val_loss: 1.4810 - val_accuracy: 0.4533\n",
            "Epoch 70/100\n",
            "38/38 [==============================] - 0s 7ms/step - loss: 1.1018 - accuracy: 0.5600 - val_loss: 1.4771 - val_accuracy: 0.4433\n",
            "Epoch 71/100\n",
            "38/38 [==============================] - 0s 8ms/step - loss: 1.0866 - accuracy: 0.5625 - val_loss: 1.4731 - val_accuracy: 0.4400\n",
            "Epoch 72/100\n",
            "38/38 [==============================] - 0s 8ms/step - loss: 1.0726 - accuracy: 0.5825 - val_loss: 1.4670 - val_accuracy: 0.4567\n",
            "Epoch 73/100\n",
            "38/38 [==============================] - 0s 8ms/step - loss: 1.0597 - accuracy: 0.5825 - val_loss: 1.4566 - val_accuracy: 0.4700\n",
            "Epoch 74/100\n",
            "38/38 [==============================] - 0s 8ms/step - loss: 1.0458 - accuracy: 0.5908 - val_loss: 1.4480 - val_accuracy: 0.4800\n",
            "Epoch 75/100\n",
            "38/38 [==============================] - 0s 8ms/step - loss: 1.0327 - accuracy: 0.5975 - val_loss: 1.4415 - val_accuracy: 0.5000\n",
            "Epoch 76/100\n",
            "38/38 [==============================] - 0s 7ms/step - loss: 1.0205 - accuracy: 0.6083 - val_loss: 1.4364 - val_accuracy: 0.5100\n",
            "Epoch 77/100\n",
            "38/38 [==============================] - 0s 8ms/step - loss: 1.0087 - accuracy: 0.6242 - val_loss: 1.4267 - val_accuracy: 0.5200\n",
            "Epoch 78/100\n",
            "38/38 [==============================] - 0s 9ms/step - loss: 0.9962 - accuracy: 0.6325 - val_loss: 1.4242 - val_accuracy: 0.5133\n",
            "Epoch 79/100\n",
            "38/38 [==============================] - 0s 7ms/step - loss: 0.9851 - accuracy: 0.6400 - val_loss: 1.4274 - val_accuracy: 0.5267\n",
            "Epoch 80/100\n",
            "38/38 [==============================] - 0s 8ms/step - loss: 0.9732 - accuracy: 0.6517 - val_loss: 1.4156 - val_accuracy: 0.5367\n",
            "Epoch 81/100\n",
            "38/38 [==============================] - 0s 9ms/step - loss: 0.9608 - accuracy: 0.6558 - val_loss: 1.4136 - val_accuracy: 0.5400\n",
            "Epoch 82/100\n",
            "38/38 [==============================] - 0s 7ms/step - loss: 0.9491 - accuracy: 0.6617 - val_loss: 1.4117 - val_accuracy: 0.5400\n",
            "Epoch 83/100\n",
            "38/38 [==============================] - 0s 7ms/step - loss: 0.9368 - accuracy: 0.6658 - val_loss: 1.3966 - val_accuracy: 0.5567\n",
            "Epoch 84/100\n",
            "38/38 [==============================] - 0s 9ms/step - loss: 0.9266 - accuracy: 0.6808 - val_loss: 1.3921 - val_accuracy: 0.5533\n",
            "Epoch 85/100\n",
            "38/38 [==============================] - 0s 11ms/step - loss: 0.9140 - accuracy: 0.6858 - val_loss: 1.3950 - val_accuracy: 0.5633\n",
            "Epoch 86/100\n",
            "38/38 [==============================] - 0s 12ms/step - loss: 0.9023 - accuracy: 0.7008 - val_loss: 1.3832 - val_accuracy: 0.5633\n",
            "Epoch 87/100\n",
            "38/38 [==============================] - 0s 12ms/step - loss: 0.8896 - accuracy: 0.7075 - val_loss: 1.3799 - val_accuracy: 0.5800\n",
            "Epoch 88/100\n",
            "38/38 [==============================] - 0s 11ms/step - loss: 0.8795 - accuracy: 0.7175 - val_loss: 1.3720 - val_accuracy: 0.5667\n",
            "Epoch 89/100\n",
            "38/38 [==============================] - 0s 13ms/step - loss: 0.8670 - accuracy: 0.7217 - val_loss: 1.3750 - val_accuracy: 0.5733\n",
            "Epoch 90/100\n",
            "38/38 [==============================] - 0s 12ms/step - loss: 0.8545 - accuracy: 0.7283 - val_loss: 1.3664 - val_accuracy: 0.5767\n",
            "Epoch 91/100\n",
            "38/38 [==============================] - 0s 13ms/step - loss: 0.8431 - accuracy: 0.7492 - val_loss: 1.3549 - val_accuracy: 0.5767\n",
            "Epoch 92/100\n",
            "38/38 [==============================] - 0s 12ms/step - loss: 0.8315 - accuracy: 0.7408 - val_loss: 1.3496 - val_accuracy: 0.5767\n",
            "Epoch 93/100\n",
            "38/38 [==============================] - 0s 7ms/step - loss: 0.8197 - accuracy: 0.7483 - val_loss: 1.3472 - val_accuracy: 0.5767\n",
            "Epoch 94/100\n",
            "38/38 [==============================] - 0s 7ms/step - loss: 0.8081 - accuracy: 0.7533 - val_loss: 1.3415 - val_accuracy: 0.5767\n",
            "Epoch 95/100\n",
            "38/38 [==============================] - 0s 8ms/step - loss: 0.7963 - accuracy: 0.7575 - val_loss: 1.3468 - val_accuracy: 0.5900\n",
            "Epoch 96/100\n",
            "38/38 [==============================] - 0s 7ms/step - loss: 0.7851 - accuracy: 0.7600 - val_loss: 1.3421 - val_accuracy: 0.5900\n",
            "Epoch 97/100\n",
            "38/38 [==============================] - 0s 8ms/step - loss: 0.7727 - accuracy: 0.7633 - val_loss: 1.3321 - val_accuracy: 0.5967\n",
            "Epoch 98/100\n",
            "38/38 [==============================] - 0s 8ms/step - loss: 0.7600 - accuracy: 0.7750 - val_loss: 1.3241 - val_accuracy: 0.6000\n",
            "Epoch 99/100\n",
            "38/38 [==============================] - 0s 7ms/step - loss: 0.7472 - accuracy: 0.7817 - val_loss: 1.3218 - val_accuracy: 0.6067\n",
            "Epoch 100/100\n",
            "38/38 [==============================] - 0s 8ms/step - loss: 0.7357 - accuracy: 0.7842 - val_loss: 1.3137 - val_accuracy: 0.5967\n"
          ]
        },
        {
          "output_type": "execute_result",
          "data": {
            "text/plain": [
              "<keras.callbacks.History at 0x7ad0b94d9120>"
            ]
          },
          "metadata": {},
          "execution_count": 36
        }
      ],
      "source": [
        "model = get_model(num_hidden_layers=3, activation=\"sigmoid\", input_dim=X_train.shape[1], output_dim=y_train_oh.shape[1])\n",
        "cbs_train = [TrainValActivationsCallback(i.name, X_train) for i in model.layers]\n",
        "cbs_test  = [TrainValActivationsCallback(i.name, X_test) for i in model.layers]\n",
        "model.fit(X_train, y_train_oh, epochs=100, batch_size=32,\n",
        "          validation_data=(X_test, y_test_oh), callbacks=cbs_train+cbs_test)"
      ]
    },
    {
      "cell_type": "code",
      "execution_count": 37,
      "metadata": {
        "id": "2y-34vsfyxMR",
        "outputId": "feaf4cf4-3448-4ebb-942f-666e3a9d0467",
        "colab": {
          "base_uri": "https://localhost:8080/",
          "height": 333
        }
      },
      "outputs": [
        {
          "output_type": "display_data",
          "data": {
            "text/plain": [
              "<Figure size 1200x300 with 2 Axes>"
            ],
            "image/png": "[encoded data removed]"
          },
          "metadata": {}
        }
      ],
      "source": [
        "\n",
        "plot_epochs(cbs_train, \"ACTIVATIONS TRAIN\")\n"
      ]
    },
    {
      "cell_type": "code",
      "execution_count": 38,
      "metadata": {
        "id": "PgyurFvryxMR",
        "outputId": "bdeb8c59-868a-4699-8109-420f35f780eb",
        "colab": {
          "base_uri": "https://localhost:8080/",
          "height": 333
        }
      },
      "outputs": [
        {
          "output_type": "display_data",
          "data": {
            "text/plain": [
              "<Figure size 1200x300 with 2 Axes>"
            ],
            "image/png": "[encoded data removed]"
          },
          "metadata": {}
        }
      ],
      "source": [
        "\n",
        "plot_epochs(cbs_test, \"ACTIVATIONS TEST\")\n"
      ]
    },
    {
      "cell_type": "markdown",
      "metadata": {
        "id": "K5gU40d8yxMR"
      },
      "source": [
        "**Registra tu solución en linea**"
      ]
    },
    {
      "cell_type": "code",
      "execution_count": 39,
      "metadata": {
        "scrolled": true,
        "id": "L97BmEqOyxMR",
        "outputId": "b49352ba-15f6-461b-eca1-2747360e48be",
        "colab": {
          "base_uri": "https://localhost:8080/",
          "height": 111
        }
      },
      "outputs": [
        {
          "output_type": "display_data",
          "data": {
            "text/plain": [
              "<IPython.core.display.HTML object>"
            ],
            "text/html": [
              "\n",
              "                    <b>T2 submitted.</b> <b><font color=\"blue\">your grade is 5</font></b> \n",
              "                    <p/><pre>----- grader message -------</pre><b>correct</b><pre>----------------------------</pre>\n",
              "                    <p/><p/>\n",
              "                    <div style=\"font-size:10px\"><b>SUBMISSION CODE</b> Yz2rzop9H1CPeH9b46gnmsPDf2vpSpouzn7j9jdm1dUxoYL8UiNyO41Ops8W15HOaLUpml9k57UhtdnKMuM22NaQoZQZzBFRv5BaLMRhEK+On9cf1h6CqrcuAlYWde7tlzcwOfnJoWIKx2YR1fXOD6RUSGkWlCtseLfNVa7F2L8=</div>\n",
              "                    "
            ]
          },
          "metadata": {}
        }
      ],
      "source": [
        "student.submit_task(namespace=globals(), task_id='T2');"
      ]
    },
    {
      "cell_type": "code",
      "execution_count": null,
      "metadata": {
        "id": "TGJ5fgpMyxMS"
      },
      "outputs": [],
      "source": []
    }
  ],
  "metadata": {
    "kernelspec": {
      "display_name": "Python 3",
      "language": "python",
      "name": "python3"
    },
    "language_info": {
      "codemirror_mode": {
        "name": "ipython",
        "version": 3
      },
      "file_extension": ".py",
      "mimetype": "text/x-python",
      "name": "python",
      "nbconvert_exporter": "python",
      "pygments_lexer": "ipython3",
      "version": "3.7.6"
    },
    "varInspector": {
      "cols": {
        "lenName": 16,
        "lenType": 16,
        "lenVar": 40
      },
      "kernels_config": {
        "python": {
          "delete_cmd_postfix": "",
          "delete_cmd_prefix": "del ",
          "library": "var_list.py",
          "varRefreshCmd": "print(var_dic_list())"
        },
        "r": {
          "delete_cmd_postfix": ") ",
          "delete_cmd_prefix": "rm(",
          "library": "var_list.r",
          "varRefreshCmd": "cat(var_dic_list()) "
        }
      },
      "types_to_exclude": [
        "module",
        "function",
        "builtin_function_or_method",
        "instance",
        "_Feature"
      ],
      "window_display": false
    },
    "colab": {
      "provenance": []
    },
    "widgets": {
      "application/vnd.jupyter.widget-state+json": {
        "44500495a1034748afcb383048c99476": {
          "model_module": "@jupyter-widgets/controls",
          "model_name": "HBoxModel",
          "model_module_version": "1.5.0",
          "state": {
            "_dom_classes": [],
            "_model_module": "@jupyter-widgets/controls",
            "_model_module_version": "1.5.0",
            "_model_name": "HBoxModel",
            "_view_count": null,
            "_view_module": "@jupyter-widgets/controls",
            "_view_module_version": "1.5.0",
            "_view_name": "HBoxView",
            "box_style": "",
            "children": [
              "IPY_MODEL_5177b6d40a20498796c942d786da3976",
              "IPY_MODEL_217131f440f44df1bb07152e89478aa7",
              "IPY_MODEL_0c9b9c1873ea40e190be5bc30f52cf92",
              "IPY_MODEL_426ab3f06fcb459bb9fe577153cb4913"
            ],
            "layout": "IPY_MODEL_07b787a4b66949c48515c23cc7632b5f"
          }
        },
        "5177b6d40a20498796c942d786da3976": {
          "model_module": "@jupyter-widgets/controls",
          "model_name": "VBoxModel",
          "model_module_version": "1.5.0",
          "state": {
            "_dom_classes": [],
            "_model_module": "@jupyter-widgets/controls",
            "_model_module_version": "1.5.0",
            "_model_name": "VBoxModel",
            "_view_count": null,
            "_view_module": "@jupyter-widgets/controls",
            "_view_module_version": "1.5.0",
            "_view_name": "VBoxView",
            "box_style": "",
            "children": [
              "IPY_MODEL_164a8cee26d74c55a14e03a0527fd75b",
              "IPY_MODEL_14594708940042f2810bd763d3dc9325"
            ],
            "layout": "IPY_MODEL_dbf66a7a92dc40deb2ab7e33204f0c41"
          }
        },
        "217131f440f44df1bb07152e89478aa7": {
          "model_module": "@jupyter-widgets/controls",
          "model_name": "ButtonModel",
          "model_module_version": "1.5.0",
          "state": {
            "_dom_classes": [
              "login_button"
            ],
            "_model_module": "@jupyter-widgets/controls",
            "_model_module_version": "1.5.0",
            "_model_name": "ButtonModel",
            "_view_count": null,
            "_view_module": "@jupyter-widgets/controls",
            "_view_module_version": "1.5.0",
            "_view_name": "ButtonView",
            "button_style": "",
            "description": "Login with email",
            "disabled": false,
            "icon": "",
            "layout": "IPY_MODEL_0454a0058a8e4a4fb015aaee9f08dd14",
            "style": "IPY_MODEL_1eaa3cca38e246da9046058108e28c12",
            "tooltip": ""
          }
        },
        "0c9b9c1873ea40e190be5bc30f52cf92": {
          "model_module": "@jupyter-widgets/controls",
          "model_name": "HTMLModel",
          "model_module_version": "1.5.0",
          "state": {
            "_dom_classes": [],
            "_model_module": "@jupyter-widgets/controls",
            "_model_module_version": "1.5.0",
            "_model_name": "HTMLModel",
            "_view_count": null,
            "_view_module": "@jupyter-widgets/controls",
            "_view_module_version": "1.5.0",
            "_view_name": "HTMLView",
            "description": "",
            "description_tooltip": null,
            "layout": "IPY_MODEL_69d48b0a88254599bafde8bd706e2b1e",
            "placeholder": "​",
            "style": "IPY_MODEL_130a61e1aedb46128e77a2819693aa86",
            "value": "<center><big>or</big></center>"
          }
        },
        "426ab3f06fcb459bb9fe577153cb4913": {
          "model_module": "@jupyter-widgets/controls",
          "model_name": "ButtonModel",
          "model_module_version": "1.5.0",
          "state": {
            "_dom_classes": [
              "google_button"
            ],
            "_model_module": "@jupyter-widgets/controls",
            "_model_module_version": "1.5.0",
            "_model_name": "ButtonModel",
            "_view_count": null,
            "_view_module": "@jupyter-widgets/controls",
            "_view_module_version": "1.5.0",
            "_view_name": "ButtonView",
            "button_style": "",
            "description": "Login with Google",
            "disabled": false,
            "icon": "",
            "layout": "IPY_MODEL_943bf13fa7af4a48bca4e309deb325a5",
            "style": "IPY_MODEL_2706d2dae9b6467088bbc85d94cdaacf",
            "tooltip": ""
          }
        },
        "07b787a4b66949c48515c23cc7632b5f": {
          "model_module": "@jupyter-widgets/base",
          "model_name": "LayoutModel",
          "model_module_version": "1.2.0",
          "state": {
            "_model_module": "@jupyter-widgets/base",
            "_model_module_version": "1.2.0",
            "_model_name": "LayoutModel",
            "_view_count": null,
            "_view_module": "@jupyter-widgets/base",
            "_view_module_version": "1.2.0",
            "_view_name": "LayoutView",
            "align_content": null,
            "align_items": null,
            "align_self": null,
            "border": null,
            "bottom": null,
            "display": null,
            "flex": null,
            "flex_flow": null,
            "grid_area": null,
            "grid_auto_columns": null,
            "grid_auto_flow": null,
            "grid_auto_rows": null,
            "grid_column": null,
            "grid_gap": null,
            "grid_row": null,
            "grid_template_areas": null,
            "grid_template_columns": null,
            "grid_template_rows": null,
            "height": null,
            "justify_content": null,
            "justify_items": null,
            "left": null,
            "margin": null,
            "max_height": null,
            "max_width": null,
            "min_height": null,
            "min_width": null,
            "object_fit": null,
            "object_position": null,
            "order": null,
            "overflow": null,
            "overflow_x": null,
            "overflow_y": null,
            "padding": null,
            "right": null,
            "top": null,
            "visibility": null,
            "width": null
          }
        },
        "164a8cee26d74c55a14e03a0527fd75b": {
          "model_module": "@jupyter-widgets/controls",
          "model_name": "TextModel",
          "model_module_version": "1.5.0",
          "state": {
            "_dom_classes": [],
            "_model_module": "@jupyter-widgets/controls",
            "_model_module_version": "1.5.0",
            "_model_name": "TextModel",
            "_view_count": null,
            "_view_module": "@jupyter-widgets/controls",
            "_view_module_version": "1.5.0",
            "_view_name": "TextView",
            "continuous_update": true,
            "description": "email",
            "description_tooltip": null,
            "disabled": false,
            "layout": "IPY_MODEL_b693a66e5bb04984b3957a713f5cd1dc",
            "placeholder": "​",
            "style": "IPY_MODEL_1d039458848845ce8c12b677b684ab21",
            "value": "jader.caro@udea.edu.co"
          }
        },
        "14594708940042f2810bd763d3dc9325": {
          "model_module": "@jupyter-widgets/controls",
          "model_name": "PasswordModel",
          "model_module_version": "1.5.0",
          "state": {
            "_dom_classes": [],
            "_model_module": "@jupyter-widgets/controls",
            "_model_module_version": "1.5.0",
            "_model_name": "PasswordModel",
            "_view_count": null,
            "_view_module": "@jupyter-widgets/controls",
            "_view_module_version": "1.5.0",
            "_view_name": "PasswordView",
            "continuous_update": true,
            "description": "password",
            "description_tooltip": null,
            "disabled": false,
            "layout": "IPY_MODEL_1c07c60d2e924f95bf936a4a41d71b73",
            "placeholder": "​",
            "style": "IPY_MODEL_90fe3cc467ab440e8dba43a13e63ec34",
            "value": "3Nfoc@d0300618"
          }
        },
        "dbf66a7a92dc40deb2ab7e33204f0c41": {
          "model_module": "@jupyter-widgets/base",
          "model_name": "LayoutModel",
          "model_module_version": "1.2.0",
          "state": {
            "_model_module": "@jupyter-widgets/base",
            "_model_module_version": "1.2.0",
            "_model_name": "LayoutModel",
            "_view_count": null,
            "_view_module": "@jupyter-widgets/base",
            "_view_module_version": "1.2.0",
            "_view_name": "LayoutView",
            "align_content": null,
            "align_items": null,
            "align_self": null,
            "border": null,
            "bottom": null,
            "display": null,
            "flex": null,
            "flex_flow": null,
            "grid_area": null,
            "grid_auto_columns": null,
            "grid_auto_flow": null,
            "grid_auto_rows": null,
            "grid_column": null,
            "grid_gap": null,
            "grid_row": null,
            "grid_template_areas": null,
            "grid_template_columns": null,
            "grid_template_rows": null,
            "height": null,
            "justify_content": null,
            "justify_items": null,
            "left": null,
            "margin": null,
            "max_height": null,
            "max_width": null,
            "min_height": null,
            "min_width": null,
            "object_fit": null,
            "object_position": null,
            "order": null,
            "overflow": null,
            "overflow_x": null,
            "overflow_y": null,
            "padding": null,
            "right": null,
            "top": null,
            "visibility": null,
            "width": null
          }
        },
        "0454a0058a8e4a4fb015aaee9f08dd14": {
          "model_module": "@jupyter-widgets/base",
          "model_name": "LayoutModel",
          "model_module_version": "1.2.0",
          "state": {
            "_model_module": "@jupyter-widgets/base",
            "_model_module_version": "1.2.0",
            "_model_name": "LayoutModel",
            "_view_count": null,
            "_view_module": "@jupyter-widgets/base",
            "_view_module_version": "1.2.0",
            "_view_name": "LayoutView",
            "align_content": null,
            "align_items": null,
            "align_self": null,
            "border": null,
            "bottom": null,
            "display": null,
            "flex": null,
            "flex_flow": null,
            "grid_area": null,
            "grid_auto_columns": null,
            "grid_auto_flow": null,
            "grid_auto_rows": null,
            "grid_column": null,
            "grid_gap": null,
            "grid_row": null,
            "grid_template_areas": null,
            "grid_template_columns": null,
            "grid_template_rows": null,
            "height": "53px",
            "justify_content": null,
            "justify_items": null,
            "left": null,
            "margin": null,
            "max_height": null,
            "max_width": null,
            "min_height": null,
            "min_width": null,
            "object_fit": null,
            "object_position": null,
            "order": null,
            "overflow": null,
            "overflow_x": null,
            "overflow_y": null,
            "padding": null,
            "right": null,
            "top": null,
            "visibility": null,
            "width": "150px"
          }
        },
        "1eaa3cca38e246da9046058108e28c12": {
          "model_module": "@jupyter-widgets/controls",
          "model_name": "ButtonStyleModel",
          "model_module_version": "1.5.0",
          "state": {
            "_model_module": "@jupyter-widgets/controls",
            "_model_module_version": "1.5.0",
            "_model_name": "ButtonStyleModel",
            "_view_count": null,
            "_view_module": "@jupyter-widgets/base",
            "_view_module_version": "1.2.0",
            "_view_name": "StyleView",
            "button_color": null,
            "font_weight": ""
          }
        },
        "69d48b0a88254599bafde8bd706e2b1e": {
          "model_module": "@jupyter-widgets/base",
          "model_name": "LayoutModel",
          "model_module_version": "1.2.0",
          "state": {
            "_model_module": "@jupyter-widgets/base",
            "_model_module_version": "1.2.0",
            "_model_name": "LayoutModel",
            "_view_count": null,
            "_view_module": "@jupyter-widgets/base",
            "_view_module_version": "1.2.0",
            "_view_name": "LayoutView",
            "align_content": null,
            "align_items": null,
            "align_self": null,
            "border": null,
            "bottom": null,
            "display": null,
            "flex": null,
            "flex_flow": null,
            "grid_area": null,
            "grid_auto_columns": null,
            "grid_auto_flow": null,
            "grid_auto_rows": null,
            "grid_column": null,
            "grid_gap": null,
            "grid_row": null,
            "grid_template_areas": null,
            "grid_template_columns": null,
            "grid_template_rows": null,
            "height": null,
            "justify_content": null,
            "justify_items": null,
            "left": null,
            "margin": null,
            "max_height": null,
            "max_width": null,
            "min_height": null,
            "min_width": null,
            "object_fit": null,
            "object_position": null,
            "order": null,
            "overflow": null,
            "overflow_x": null,
            "overflow_y": null,
            "padding": null,
            "right": null,
            "top": null,
            "visibility": null,
            "width": "100px"
          }
        },
        "130a61e1aedb46128e77a2819693aa86": {
          "model_module": "@jupyter-widgets/controls",
          "model_name": "DescriptionStyleModel",
          "model_module_version": "1.5.0",
          "state": {
            "_model_module": "@jupyter-widgets/controls",
            "_model_module_version": "1.5.0",
            "_model_name": "DescriptionStyleModel",
            "_view_count": null,
            "_view_module": "@jupyter-widgets/base",
            "_view_module_version": "1.2.0",
            "_view_name": "StyleView",
            "description_width": ""
          }
        },
        "943bf13fa7af4a48bca4e309deb325a5": {
          "model_module": "@jupyter-widgets/base",
          "model_name": "LayoutModel",
          "model_module_version": "1.2.0",
          "state": {
            "_model_module": "@jupyter-widgets/base",
            "_model_module_version": "1.2.0",
            "_model_name": "LayoutModel",
            "_view_count": null,
            "_view_module": "@jupyter-widgets/base",
            "_view_module_version": "1.2.0",
            "_view_name": "LayoutView",
            "align_content": null,
            "align_items": null,
            "align_self": null,
            "border": null,
            "bottom": null,
            "display": null,
            "flex": null,
            "flex_flow": null,
            "grid_area": null,
            "grid_auto_columns": null,
            "grid_auto_flow": null,
            "grid_auto_rows": null,
            "grid_column": null,
            "grid_gap": null,
            "grid_row": null,
            "grid_template_areas": null,
            "grid_template_columns": null,
            "grid_template_rows": null,
            "height": "53px",
            "justify_content": null,
            "justify_items": null,
            "left": null,
            "margin": null,
            "max_height": null,
            "max_width": null,
            "min_height": null,
            "min_width": null,
            "object_fit": null,
            "object_position": null,
            "order": null,
            "overflow": null,
            "overflow_x": null,
            "overflow_y": null,
            "padding": null,
            "right": null,
            "top": null,
            "visibility": null,
            "width": "200px"
          }
        },
        "2706d2dae9b6467088bbc85d94cdaacf": {
          "model_module": "@jupyter-widgets/controls",
          "model_name": "ButtonStyleModel",
          "model_module_version": "1.5.0",
          "state": {
            "_model_module": "@jupyter-widgets/controls",
            "_model_module_version": "1.5.0",
            "_model_name": "ButtonStyleModel",
            "_view_count": null,
            "_view_module": "@jupyter-widgets/base",
            "_view_module_version": "1.2.0",
            "_view_name": "StyleView",
            "button_color": null,
            "font_weight": ""
          }
        },
        "b693a66e5bb04984b3957a713f5cd1dc": {
          "model_module": "@jupyter-widgets/base",
          "model_name": "LayoutModel",
          "model_module_version": "1.2.0",
          "state": {
            "_model_module": "@jupyter-widgets/base",
            "_model_module_version": "1.2.0",
            "_model_name": "LayoutModel",
            "_view_count": null,
            "_view_module": "@jupyter-widgets/base",
            "_view_module_version": "1.2.0",
            "_view_name": "LayoutView",
            "align_content": null,
            "align_items": null,
            "align_self": null,
            "border": null,
            "bottom": null,
            "display": null,
            "flex": null,
            "flex_flow": null,
            "grid_area": null,
            "grid_auto_columns": null,
            "grid_auto_flow": null,
            "grid_auto_rows": null,
            "grid_column": null,
            "grid_gap": null,
            "grid_row": null,
            "grid_template_areas": null,
            "grid_template_columns": null,
            "grid_template_rows": null,
            "height": "25px",
            "justify_content": null,
            "justify_items": null,
            "left": null,
            "margin": null,
            "max_height": null,
            "max_width": null,
            "min_height": null,
            "min_width": null,
            "object_fit": null,
            "object_position": null,
            "order": null,
            "overflow": null,
            "overflow_x": null,
            "overflow_y": null,
            "padding": null,
            "right": null,
            "top": null,
            "visibility": null,
            "width": "300px"
          }
        },
        "1d039458848845ce8c12b677b684ab21": {
          "model_module": "@jupyter-widgets/controls",
          "model_name": "DescriptionStyleModel",
          "model_module_version": "1.5.0",
          "state": {
            "_model_module": "@jupyter-widgets/controls",
            "_model_module_version": "1.5.0",
            "_model_name": "DescriptionStyleModel",
            "_view_count": null,
            "_view_module": "@jupyter-widgets/base",
            "_view_module_version": "1.2.0",
            "_view_name": "StyleView",
            "description_width": ""
          }
        },
        "1c07c60d2e924f95bf936a4a41d71b73": {
          "model_module": "@jupyter-widgets/base",
          "model_name": "LayoutModel",
          "model_module_version": "1.2.0",
          "state": {
            "_model_module": "@jupyter-widgets/base",
            "_model_module_version": "1.2.0",
            "_model_name": "LayoutModel",
            "_view_count": null,
            "_view_module": "@jupyter-widgets/base",
            "_view_module_version": "1.2.0",
            "_view_name": "LayoutView",
            "align_content": null,
            "align_items": null,
            "align_self": null,
            "border": null,
            "bottom": null,
            "display": null,
            "flex": null,
            "flex_flow": null,
            "grid_area": null,
            "grid_auto_columns": null,
            "grid_auto_flow": null,
            "grid_auto_rows": null,
            "grid_column": null,
            "grid_gap": null,
            "grid_row": null,
            "grid_template_areas": null,
            "grid_template_columns": null,
            "grid_template_rows": null,
            "height": "24px",
            "justify_content": null,
            "justify_items": null,
            "left": null,
            "margin": null,
            "max_height": null,
            "max_width": null,
            "min_height": null,
            "min_width": null,
            "object_fit": null,
            "object_position": null,
            "order": null,
            "overflow": null,
            "overflow_x": null,
            "overflow_y": null,
            "padding": null,
            "right": null,
            "top": null,
            "visibility": null,
            "width": "300px"
          }
        },
        "90fe3cc467ab440e8dba43a13e63ec34": {
          "model_module": "@jupyter-widgets/controls",
          "model_name": "DescriptionStyleModel",
          "model_module_version": "1.5.0",
          "state": {
            "_model_module": "@jupyter-widgets/controls",
            "_model_module_version": "1.5.0",
            "_model_name": "DescriptionStyleModel",
            "_view_count": null,
            "_view_module": "@jupyter-widgets/base",
            "_view_module_version": "1.2.0",
            "_view_name": "StyleView",
            "description_width": ""
          }
        }
      }
    }
  },
  "nbformat": 4,
  "nbformat_minor": 0
}