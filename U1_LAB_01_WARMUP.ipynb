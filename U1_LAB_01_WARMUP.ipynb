{
  "cells": [
    {
      "cell_type": "markdown",
      "metadata": {
        "id": "view-in-github",
        "colab_type": "text"
      },
      "source": [
        "<a href=\"https://colab.research.google.com/github/jadercaro/Curso-Deep-Learning-20242/blob/main/U1_LAB_01_WARMUP.ipynb\" target=\"_parent\"><img src=\"https://colab.research.google.com/assets/colab-badge.svg\" alt=\"Open In Colab\"/></a>"
      ]
    },
    {
      "cell_type": "markdown",
      "metadata": {
        "id": "jIvEPQ5kXNUj"
      },
      "source": [
        "# LAB 01.01 - WARM UP"
      ]
    },
    {
      "cell_type": "code",
      "execution_count": 1,
      "metadata": {
        "id": "ZKlC4t73XNUk",
        "colab": {
          "base_uri": "https://localhost:8080/",
          "height": 75
        },
        "outputId": "89f78c6a-fb40-475e-a46b-822916475102"
      },
      "outputs": [
        {
          "output_type": "display_data",
          "data": {
            "text/plain": [
              "<IPython.core.display.HTML object>"
            ],
            "text/html": [
              "\n",
              "<meta name=\"google-signin-client_id\"\n",
              "      content=\"461673936472-kdjosv61up3ac1ajeuq6qqu72upilmls.apps.googleusercontent.com\"/>\n",
              "<script src=\"https://apis.google.com/js/client:platform.js?onload=google_button_start\"></script>\n",
              "    "
            ]
          },
          "metadata": {}
        },
        {
          "output_type": "stream",
          "name": "stdout",
          "text": [
            "replicating local resources\n"
          ]
        },
        {
          "output_type": "execute_result",
          "data": {
            "text/plain": [
              "<IPython.core.display.HTML object>"
            ],
            "text/html": [
              "<h3>See <a href='https://m5knaekxo6.execute-api.us-west-2.amazonaws.com/dev-v0001/rlxmooc/web/login' target='_blank'>my courses and progress</a></h2>"
            ]
          },
          "metadata": {},
          "execution_count": 1
        }
      ],
      "source": [
        "!wget -nc --no-cache -O init.py -q https://raw.githubusercontent.com/rramosp/2021.deeplearning/main/content/init.py\n",
        "import init; init.init(force_download=False); init.get_weblink()"
      ]
    },
    {
      "cell_type": "code",
      "execution_count": 2,
      "metadata": {
        "id": "RxBZcF7pXNUk",
        "colab": {
          "base_uri": "https://localhost:8080/",
          "height": 136,
          "referenced_widgets": [
            "6b3f28a9c213407d8fa6a717bd371856",
            "e3cdcf85284b4e168438c22ccd356632",
            "abe4c2b1013f462ca1b3a128c0d65b3b",
            "da45c189fe734b92a7c705567178682f",
            "dd1d7748bf344154a4d5daaf5c91325f",
            "c33e95f9263a434b90142c31ed5469fc",
            "d80cb1e5640a4990b5f3aea5665694fd",
            "224ff12b374d42b4b5fda098d51449d5",
            "ea9c18083d3b4ff7a5dd09b2ffc69f5e",
            "7abb458580314cc38c6b475911f7d078",
            "bab4218865064a14823a42453fa6ab11",
            "3be1f4c2344a492ba224e60b86f43a6c",
            "9a5cea921f03446098f10f4be36c0a7b",
            "5ec6c66d8d114126b4c3e307e16b96f2",
            "967fa408766e491584e9da8deeb5a0e1",
            "dc25a56bfa6e41699aa5953c4caf4796",
            "75c7ac606cee49bd839529902bc0d197",
            "d8538a3ae18c48e19e16317421a55683",
            "3dc9cb7e549c444ab92aa2240f0b4962"
          ]
        },
        "outputId": "446b81cc-4ba3-44a3-d7c0-dadd5341ac03"
      },
      "outputs": [
        {
          "output_type": "stream",
          "name": "stdout",
          "text": [
            "logging in as jader.caro@udea.edu.co... please wait\n",
            "using course session 2021.deeplearning::udea.20242\n",
            "success!! you are logged in\n"
          ]
        }
      ],
      "source": [
        "from local.lib.rlxmoocapi import submit, session\n",
        "import inspect\n",
        "session.LoginSequence(endpoint=init.endpoint, course_id=init.course_id, lab_id=\"L01.01\", varname=\"student\");"
      ]
    },
    {
      "cell_type": "markdown",
      "metadata": {
        "id": "Ds7sD02rXNUl"
      },
      "source": [
        "## Task 1: An operation with matrices\n",
        "\n",
        "Given the following matrices and vectors:\n",
        "\n",
        "- $X \\in \\mathbb{R}^{m\\times n}$\n",
        "- $y \\in \\mathbb{R}^m$\n",
        "- $W \\in \\mathbb{R}^{n\\times 1}$\n",
        "- $b \\in \\mathbb{R}$\n",
        "\n",
        "Complete the following function so that it computes the following value:\n",
        "\n",
        "$$\\text{mean}\\bigg(\\big(\\text{relu}(X \\times W + b) - y\\big)^2\\bigg)$$\n",
        "\n",
        "observe that:\n",
        "\n",
        "- $X\\times W \\in \\mathbb{R}^m$ and $b \\in \\mathbb{R}$, so $b$ gets added (_broadcasted_) to all elements of $X \\times W$\n",
        "- $\\text{mean}$ is the mean of the elements of an vector with $m$ elements.\n",
        "- The result is a number $\\in \\mathbb{R}$\n",
        "- $\\text{relu}(z)=\\text{max}(0,z)$ is a function $\\mathbb{R}\\rightarrow\\mathbb{R}$ that when applied to a vector is also **broadcasted** (applied individually to each element of the vector)\n",
        "\n",
        "**CHALLENGE**: Solve it with a single line of Python code (not counting the `relu` function definition)."
      ]
    },
    {
      "cell_type": "code",
      "execution_count": 14,
      "metadata": {
        "id": "_Mj_UIN-XNUl"
      },
      "outputs": [],
      "source": [
        "import numpy as np\n",
        "\n",
        "def operation(X,y,W,b):\n",
        "    relu = lambda x: x*(x>0)\n",
        "    return np.mean((relu(X.dot(W) + b)-y)**2)"
      ]
    },
    {
      "cell_type": "markdown",
      "metadata": {
        "id": "gxFixDrNXNUl"
      },
      "source": [
        "test your code with the following case, which should result in `0.15848`"
      ]
    },
    {
      "cell_type": "code",
      "execution_count": 5,
      "metadata": {
        "id": "aMSktaDkXNUl"
      },
      "outputs": [],
      "source": [
        "X = np.array([[-0.09348275, -0.17182042, -0.29143506],\n",
        "              [ 0.34581753,  0.37816707,  0.39850916],\n",
        "              [ 0.23478876, -0.07832256,  0.10793716],\n",
        "              [-0.1746856 , -0.10240038, -0.27959607]])\n",
        "\n",
        "y = np.array([[-0.47312685],\n",
        "              [ 0.42086142],\n",
        "              [ 0.44194868],\n",
        "              [ 0.46536898]])\n",
        "W = np.array([[0.12650597],\n",
        "              [0.49952987],\n",
        "              [0.34470552]])\n",
        "\n",
        "b = -0.02"
      ]
    },
    {
      "cell_type": "code",
      "execution_count": 15,
      "metadata": {
        "id": "n_8bk8cuXNUm",
        "colab": {
          "base_uri": "https://localhost:8080/"
        },
        "outputId": "36920fd0-9c5a-4ede-9a5c-b4488c82a0b5"
      },
      "outputs": [
        {
          "output_type": "execute_result",
          "data": {
            "text/plain": [
              "0.15848356715672943"
            ]
          },
          "metadata": {},
          "execution_count": 15
        }
      ],
      "source": [
        "operation(X,y,W,b)"
      ]
    },
    {
      "cell_type": "markdown",
      "metadata": {
        "id": "zWDaihE_XNUm"
      },
      "source": [
        "test your code with random input values. This is actually what the **automatic grader** does"
      ]
    },
    {
      "cell_type": "code",
      "execution_count": 16,
      "metadata": {
        "id": "A9gancESXNUm",
        "colab": {
          "base_uri": "https://localhost:8080/"
        },
        "outputId": "4fc8bd7e-15c0-4589-be76-16f12b2e7503"
      },
      "outputs": [
        {
          "output_type": "stream",
          "name": "stdout",
          "text": [
            "X=\n",
            " [[ 0.08185892  0.13241993]\n",
            " [-0.40593045 -0.37293698]]\n",
            "y=\n",
            " [ 0.07015574 -0.20516384]\n",
            "W=\n",
            " [[ 0.24107139]\n",
            " [-0.00097515]]\n",
            "b=\n",
            " -0.4799579335213633\n",
            "an_operation= 0.023507013980486498\n"
          ]
        }
      ],
      "source": [
        "m,n = np.random.randint(5, size=2)+2\n",
        "X = np.random.random(size=(m,n))-0.5\n",
        "W = np.random.random(size=(n,1))-0.5\n",
        "b = np.random.random()-0.5\n",
        "y = np.random.random(size=n)-0.5\n",
        "print (\"X=\\n\", X)\n",
        "print (\"y=\\n\", y)\n",
        "print (\"W=\\n\", W)\n",
        "print (\"b=\\n\", b)\n",
        "print (\"an_operation=\", operation(X,y,W,b))"
      ]
    },
    {
      "cell_type": "markdown",
      "metadata": {
        "id": "EnbSNuvmXNUm"
      },
      "source": [
        "**Submit your solution**"
      ]
    },
    {
      "cell_type": "code",
      "execution_count": 17,
      "metadata": {
        "id": "eqv9CvH6XNUm",
        "colab": {
          "base_uri": "https://localhost:8080/",
          "height": 111
        },
        "outputId": "e6de19f5-3159-462b-a879-8a9a84d9f75e"
      },
      "outputs": [
        {
          "output_type": "display_data",
          "data": {
            "text/plain": [
              "<IPython.core.display.HTML object>"
            ],
            "text/html": [
              "\n",
              "                    <b>T1 submitted.</b> <b><font color=\"blue\">your grade is 5</font></b> \n",
              "                    <p/><pre>----- grader message -------</pre><b>correct</b><pre>----------------------------</pre>\n",
              "                    <p/><p/>\n",
              "                    <div style=\"font-size:10px\"><b>SUBMISSION CODE</b> gOxHLu4F1lfDU2QsBa1dyl7CZMX/6sJyi7yNL1SHuNazhB4aExyRjlKI5fFNFsXogM3fOulo1+5aN6uQrScAkpKfs8eeh16b/soGeWM6nrfcnnZvSEWhLAqox/U39ajr3oZBmjIdqJI577Xtvm8OlM3ox0RYB1FXrpmo+8j2pDY=</div>\n",
              "                    "
            ]
          },
          "metadata": {}
        }
      ],
      "source": [
        "student.submit_task(namespace=globals(), task_id='T1');"
      ]
    },
    {
      "cell_type": "markdown",
      "metadata": {
        "id": "HqTww-FSXNUm"
      },
      "source": [
        "## Task 2: Function `argmax`\n",
        "\n",
        "Complete the following function such that when, given as argument a function `f(x)` with $x\\in\\mathbb{R}$, returns the value of $x$ which maximizes `f(x)`. If there is more than one value that maximizes the function, just return any one of those.\n",
        "\n",
        "Your return value must be exact up to 1 decimal position, and must be a number of type `float` (not a `numpy` array or any other type of object)\n",
        "\n",
        "**HINT**: Use [`scipy.optimize.minimize`](https://docs.scipy.org/doc/scipy/reference/generated/scipy.optimize.minimize.html) with the `BFGS` method, with a `lambda` function.\n",
        "\n",
        "**CHALLENGE**: Solve it with one single line of code (not counting the `import`)"
      ]
    },
    {
      "cell_type": "code",
      "execution_count": 22,
      "metadata": {
        "id": "i0UZ8kskXNUm"
      },
      "outputs": [],
      "source": [
        "def argmax(f):\n",
        "    from scipy.optimize import minimize\n",
        "    return minimize(lambda x: -f(x), x0=0).x.item()"
      ]
    },
    {
      "cell_type": "markdown",
      "metadata": {
        "id": "CUzOn8vuXNUm"
      },
      "source": [
        "Test your code, the following two functions must have their max on `x=1` and `x=-2` approx."
      ]
    },
    {
      "cell_type": "code",
      "execution_count": 23,
      "metadata": {
        "id": "XainTiyOXNUm"
      },
      "outputs": [],
      "source": [
        "def A(x):\n",
        "    return -(x-1)**2\n",
        "\n",
        "B = lambda x: -(x+2)**4"
      ]
    },
    {
      "cell_type": "code",
      "execution_count": 24,
      "metadata": {
        "id": "GNWMV2aYXNUn",
        "colab": {
          "base_uri": "https://localhost:8080/",
          "height": 254
        },
        "outputId": "a18acfa5-f17a-463a-d700-b0d7e2974424"
      },
      "outputs": [
        {
          "output_type": "execute_result",
          "data": {
            "text/plain": [
              "Text(0.5, 1.0, 'B(X)')"
            ]
          },
          "metadata": {},
          "execution_count": 24
        },
        {
          "output_type": "display_data",
          "data": {
            "text/plain": [
              "<Figure size 1000x200 with 2 Axes>"
            ],
            "image/png": "[encoded data removed]"
          },
          "metadata": {}
        }
      ],
      "source": [
        "import matplotlib.pyplot as plt\n",
        "%matplotlib inline\n",
        "\n",
        "x = np.linspace(-6,4, 100)\n",
        "plt.figure(figsize=(10,2))\n",
        "plt.subplot(121); plt.plot(x, A(x)); plt.title(\"A(X)\")\n",
        "plt.subplot(122); plt.plot(x, B(x)); plt.title(\"B(X)\")"
      ]
    },
    {
      "cell_type": "code",
      "execution_count": 25,
      "metadata": {
        "id": "mH3tKW9jXNUo",
        "colab": {
          "base_uri": "https://localhost:8080/"
        },
        "outputId": "d73ff943-5442-42bb-d7b5-d4e3f192d2c7"
      },
      "outputs": [
        {
          "output_type": "execute_result",
          "data": {
            "text/plain": [
              "(0.9999999925496535, -1.9879498534110263)"
            ]
          },
          "metadata": {},
          "execution_count": 25
        }
      ],
      "source": [
        "argmax(A), argmax(B)"
      ]
    },
    {
      "cell_type": "markdown",
      "metadata": {
        "id": "JZ7L1hRlXNUo"
      },
      "source": [
        "**Submit your solution**"
      ]
    },
    {
      "cell_type": "code",
      "execution_count": 26,
      "metadata": {
        "id": "QlpQ4l9SXNUo",
        "colab": {
          "base_uri": "https://localhost:8080/",
          "height": 128
        },
        "outputId": "0a5f1529-cc49-4d76-b639-ba767e7830b6"
      },
      "outputs": [
        {
          "output_type": "display_data",
          "data": {
            "text/plain": [
              "<IPython.core.display.HTML object>"
            ],
            "text/html": [
              "\n",
              "                    <b>T2 submitted.</b> <b><font color=\"blue\">your grade is 5</font></b> \n",
              "                    <p/><pre>----- grader message -------</pre>testing your code with 100 random data functions<br/><b>correct</b><pre>----------------------------</pre>\n",
              "                    <p/><p/>\n",
              "                    <div style=\"font-size:10px\"><b>SUBMISSION CODE</b> yo57YzxAMMFGvGeTUHDz95BGVWlG5VNeA/BiKe3N0RlaXC6dI0KUlGyl5BEyimS1OXdsjdaK5rn7DCQIPQ0d/QizXaJMtIr6uTrDKGds2ISote1BqpJP3OLjin+fUj2RMFoiFGx5exts2c0wVMSDB9TNEpEsoP+C47PgToDK0z0=</div>\n",
              "                    "
            ]
          },
          "metadata": {}
        }
      ],
      "source": [
        "student.submit_task(namespace=globals(), task_id='T2');"
      ]
    }
  ],
  "metadata": {
    "kernelspec": {
      "display_name": "Python 3",
      "language": "python",
      "name": "python3"
    },
    "language_info": {
      "codemirror_mode": {
        "name": "ipython",
        "version": 3
      },
      "file_extension": ".py",
      "mimetype": "text/x-python",
      "name": "python",
      "nbconvert_exporter": "python",
      "pygments_lexer": "ipython3",
      "version": "3.7.6"
    },
    "varInspector": {
      "cols": {
        "lenName": 16,
        "lenType": 16,
        "lenVar": 40
      },
      "kernels_config": {
        "python": {
          "delete_cmd_postfix": "",
          "delete_cmd_prefix": "del ",
          "library": "var_list.py",
          "varRefreshCmd": "print(var_dic_list())"
        },
        "r": {
          "delete_cmd_postfix": ") ",
          "delete_cmd_prefix": "rm(",
          "library": "var_list.r",
          "varRefreshCmd": "cat(var_dic_list()) "
        }
      },
      "types_to_exclude": [
        "module",
        "function",
        "builtin_function_or_method",
        "instance",
        "_Feature"
      ],
      "window_display": false
    },
    "colab": {
      "provenance": [],
      "include_colab_link": true
    },
    "widgets": {
      "application/vnd.jupyter.widget-state+json": {
        "6b3f28a9c213407d8fa6a717bd371856": {
          "model_module": "@jupyter-widgets/controls",
          "model_name": "HBoxModel",
          "model_module_version": "1.5.0",
          "state": {
            "_dom_classes": [],
            "_model_module": "@jupyter-widgets/controls",
            "_model_module_version": "1.5.0",
            "_model_name": "HBoxModel",
            "_view_count": null,
            "_view_module": "@jupyter-widgets/controls",
            "_view_module_version": "1.5.0",
            "_view_name": "HBoxView",
            "box_style": "",
            "children": [
              "IPY_MODEL_e3cdcf85284b4e168438c22ccd356632",
              "IPY_MODEL_abe4c2b1013f462ca1b3a128c0d65b3b",
              "IPY_MODEL_da45c189fe734b92a7c705567178682f",
              "IPY_MODEL_dd1d7748bf344154a4d5daaf5c91325f"
            ],
            "layout": "IPY_MODEL_c33e95f9263a434b90142c31ed5469fc"
          }
        },
        "e3cdcf85284b4e168438c22ccd356632": {
          "model_module": "@jupyter-widgets/controls",
          "model_name": "VBoxModel",
          "model_module_version": "1.5.0",
          "state": {
            "_dom_classes": [],
            "_model_module": "@jupyter-widgets/controls",
            "_model_module_version": "1.5.0",
            "_model_name": "VBoxModel",
            "_view_count": null,
            "_view_module": "@jupyter-widgets/controls",
            "_view_module_version": "1.5.0",
            "_view_name": "VBoxView",
            "box_style": "",
            "children": [
              "IPY_MODEL_d80cb1e5640a4990b5f3aea5665694fd",
              "IPY_MODEL_224ff12b374d42b4b5fda098d51449d5"
            ],
            "layout": "IPY_MODEL_ea9c18083d3b4ff7a5dd09b2ffc69f5e"
          }
        },
        "abe4c2b1013f462ca1b3a128c0d65b3b": {
          "model_module": "@jupyter-widgets/controls",
          "model_name": "ButtonModel",
          "model_module_version": "1.5.0",
          "state": {
            "_dom_classes": [
              "login_button"
            ],
            "_model_module": "@jupyter-widgets/controls",
            "_model_module_version": "1.5.0",
            "_model_name": "ButtonModel",
            "_view_count": null,
            "_view_module": "@jupyter-widgets/controls",
            "_view_module_version": "1.5.0",
            "_view_name": "ButtonView",
            "button_style": "",
            "description": "Login with email",
            "disabled": false,
            "icon": "",
            "layout": "IPY_MODEL_7abb458580314cc38c6b475911f7d078",
            "style": "IPY_MODEL_bab4218865064a14823a42453fa6ab11",
            "tooltip": ""
          }
        },
        "da45c189fe734b92a7c705567178682f": {
          "model_module": "@jupyter-widgets/controls",
          "model_name": "HTMLModel",
          "model_module_version": "1.5.0",
          "state": {
            "_dom_classes": [],
            "_model_module": "@jupyter-widgets/controls",
            "_model_module_version": "1.5.0",
            "_model_name": "HTMLModel",
            "_view_count": null,
            "_view_module": "@jupyter-widgets/controls",
            "_view_module_version": "1.5.0",
            "_view_name": "HTMLView",
            "description": "",
            "description_tooltip": null,
            "layout": "IPY_MODEL_3be1f4c2344a492ba224e60b86f43a6c",
            "placeholder": "​",
            "style": "IPY_MODEL_9a5cea921f03446098f10f4be36c0a7b",
            "value": "<center><big>or</big></center>"
          }
        },
        "dd1d7748bf344154a4d5daaf5c91325f": {
          "model_module": "@jupyter-widgets/controls",
          "model_name": "ButtonModel",
          "model_module_version": "1.5.0",
          "state": {
            "_dom_classes": [
              "google_button"
            ],
            "_model_module": "@jupyter-widgets/controls",
            "_model_module_version": "1.5.0",
            "_model_name": "ButtonModel",
            "_view_count": null,
            "_view_module": "@jupyter-widgets/controls",
            "_view_module_version": "1.5.0",
            "_view_name": "ButtonView",
            "button_style": "",
            "description": "Login with Google",
            "disabled": false,
            "icon": "",
            "layout": "IPY_MODEL_5ec6c66d8d114126b4c3e307e16b96f2",
            "style": "IPY_MODEL_967fa408766e491584e9da8deeb5a0e1",
            "tooltip": ""
          }
        },
        "c33e95f9263a434b90142c31ed5469fc": {
          "model_module": "@jupyter-widgets/base",
          "model_name": "LayoutModel",
          "model_module_version": "1.2.0",
          "state": {
            "_model_module": "@jupyter-widgets/base",
            "_model_module_version": "1.2.0",
            "_model_name": "LayoutModel",
            "_view_count": null,
            "_view_module": "@jupyter-widgets/base",
            "_view_module_version": "1.2.0",
            "_view_name": "LayoutView",
            "align_content": null,
            "align_items": null,
            "align_self": null,
            "border": null,
            "bottom": null,
            "display": null,
            "flex": null,
            "flex_flow": null,
            "grid_area": null,
            "grid_auto_columns": null,
            "grid_auto_flow": null,
            "grid_auto_rows": null,
            "grid_column": null,
            "grid_gap": null,
            "grid_row": null,
            "grid_template_areas": null,
            "grid_template_columns": null,
            "grid_template_rows": null,
            "height": null,
            "justify_content": null,
            "justify_items": null,
            "left": null,
            "margin": null,
            "max_height": null,
            "max_width": null,
            "min_height": null,
            "min_width": null,
            "object_fit": null,
            "object_position": null,
            "order": null,
            "overflow": null,
            "overflow_x": null,
            "overflow_y": null,
            "padding": null,
            "right": null,
            "top": null,
            "visibility": null,
            "width": null
          }
        },
        "d80cb1e5640a4990b5f3aea5665694fd": {
          "model_module": "@jupyter-widgets/controls",
          "model_name": "TextModel",
          "model_module_version": "1.5.0",
          "state": {
            "_dom_classes": [],
            "_model_module": "@jupyter-widgets/controls",
            "_model_module_version": "1.5.0",
            "_model_name": "TextModel",
            "_view_count": null,
            "_view_module": "@jupyter-widgets/controls",
            "_view_module_version": "1.5.0",
            "_view_name": "TextView",
            "continuous_update": true,
            "description": "email",
            "description_tooltip": null,
            "disabled": false,
            "layout": "IPY_MODEL_dc25a56bfa6e41699aa5953c4caf4796",
            "placeholder": "​",
            "style": "IPY_MODEL_75c7ac606cee49bd839529902bc0d197",
            "value": ""
          }
        },
        "224ff12b374d42b4b5fda098d51449d5": {
          "model_module": "@jupyter-widgets/controls",
          "model_name": "PasswordModel",
          "model_module_version": "1.5.0",
          "state": {
            "_dom_classes": [],
            "_model_module": "@jupyter-widgets/controls",
            "_model_module_version": "1.5.0",
            "_model_name": "PasswordModel",
            "_view_count": null,
            "_view_module": "@jupyter-widgets/controls",
            "_view_module_version": "1.5.0",
            "_view_name": "PasswordView",
            "continuous_update": true,
            "description": "password",
            "description_tooltip": null,
            "disabled": false,
            "layout": "IPY_MODEL_d8538a3ae18c48e19e16317421a55683",
            "placeholder": "​",
            "style": "IPY_MODEL_3dc9cb7e549c444ab92aa2240f0b4962",
            "value": ""
          }
        },
        "ea9c18083d3b4ff7a5dd09b2ffc69f5e": {
          "model_module": "@jupyter-widgets/base",
          "model_name": "LayoutModel",
          "model_module_version": "1.2.0",
          "state": {
            "_model_module": "@jupyter-widgets/base",
            "_model_module_version": "1.2.0",
            "_model_name": "LayoutModel",
            "_view_count": null,
            "_view_module": "@jupyter-widgets/base",
            "_view_module_version": "1.2.0",
            "_view_name": "LayoutView",
            "align_content": null,
            "align_items": null,
            "align_self": null,
            "border": null,
            "bottom": null,
            "display": null,
            "flex": null,
            "flex_flow": null,
            "grid_area": null,
            "grid_auto_columns": null,
            "grid_auto_flow": null,
            "grid_auto_rows": null,
            "grid_column": null,
            "grid_gap": null,
            "grid_row": null,
            "grid_template_areas": null,
            "grid_template_columns": null,
            "grid_template_rows": null,
            "height": null,
            "justify_content": null,
            "justify_items": null,
            "left": null,
            "margin": null,
            "max_height": null,
            "max_width": null,
            "min_height": null,
            "min_width": null,
            "object_fit": null,
            "object_position": null,
            "order": null,
            "overflow": null,
            "overflow_x": null,
            "overflow_y": null,
            "padding": null,
            "right": null,
            "top": null,
            "visibility": null,
            "width": null
          }
        },
        "7abb458580314cc38c6b475911f7d078": {
          "model_module": "@jupyter-widgets/base",
          "model_name": "LayoutModel",
          "model_module_version": "1.2.0",
          "state": {
            "_model_module": "@jupyter-widgets/base",
            "_model_module_version": "1.2.0",
            "_model_name": "LayoutModel",
            "_view_count": null,
            "_view_module": "@jupyter-widgets/base",
            "_view_module_version": "1.2.0",
            "_view_name": "LayoutView",
            "align_content": null,
            "align_items": null,
            "align_self": null,
            "border": null,
            "bottom": null,
            "display": null,
            "flex": null,
            "flex_flow": null,
            "grid_area": null,
            "grid_auto_columns": null,
            "grid_auto_flow": null,
            "grid_auto_rows": null,
            "grid_column": null,
            "grid_gap": null,
            "grid_row": null,
            "grid_template_areas": null,
            "grid_template_columns": null,
            "grid_template_rows": null,
            "height": "53px",
            "justify_content": null,
            "justify_items": null,
            "left": null,
            "margin": null,
            "max_height": null,
            "max_width": null,
            "min_height": null,
            "min_width": null,
            "object_fit": null,
            "object_position": null,
            "order": null,
            "overflow": null,
            "overflow_x": null,
            "overflow_y": null,
            "padding": null,
            "right": null,
            "top": null,
            "visibility": null,
            "width": "150px"
          }
        },
        "bab4218865064a14823a42453fa6ab11": {
          "model_module": "@jupyter-widgets/controls",
          "model_name": "ButtonStyleModel",
          "model_module_version": "1.5.0",
          "state": {
            "_model_module": "@jupyter-widgets/controls",
            "_model_module_version": "1.5.0",
            "_model_name": "ButtonStyleModel",
            "_view_count": null,
            "_view_module": "@jupyter-widgets/base",
            "_view_module_version": "1.2.0",
            "_view_name": "StyleView",
            "button_color": null,
            "font_weight": ""
          }
        },
        "3be1f4c2344a492ba224e60b86f43a6c": {
          "model_module": "@jupyter-widgets/base",
          "model_name": "LayoutModel",
          "model_module_version": "1.2.0",
          "state": {
            "_model_module": "@jupyter-widgets/base",
            "_model_module_version": "1.2.0",
            "_model_name": "LayoutModel",
            "_view_count": null,
            "_view_module": "@jupyter-widgets/base",
            "_view_module_version": "1.2.0",
            "_view_name": "LayoutView",
            "align_content": null,
            "align_items": null,
            "align_self": null,
            "border": null,
            "bottom": null,
            "display": null,
            "flex": null,
            "flex_flow": null,
            "grid_area": null,
            "grid_auto_columns": null,
            "grid_auto_flow": null,
            "grid_auto_rows": null,
            "grid_column": null,
            "grid_gap": null,
            "grid_row": null,
            "grid_template_areas": null,
            "grid_template_columns": null,
            "grid_template_rows": null,
            "height": null,
            "justify_content": null,
            "justify_items": null,
            "left": null,
            "margin": null,
            "max_height": null,
            "max_width": null,
            "min_height": null,
            "min_width": null,
            "object_fit": null,
            "object_position": null,
            "order": null,
            "overflow": null,
            "overflow_x": null,
            "overflow_y": null,
            "padding": null,
            "right": null,
            "top": null,
            "visibility": null,
            "width": "100px"
          }
        },
        "9a5cea921f03446098f10f4be36c0a7b": {
          "model_module": "@jupyter-widgets/controls",
          "model_name": "DescriptionStyleModel",
          "model_module_version": "1.5.0",
          "state": {
            "_model_module": "@jupyter-widgets/controls",
            "_model_module_version": "1.5.0",
            "_model_name": "DescriptionStyleModel",
            "_view_count": null,
            "_view_module": "@jupyter-widgets/base",
            "_view_module_version": "1.2.0",
            "_view_name": "StyleView",
            "description_width": ""
          }
        },
        "5ec6c66d8d114126b4c3e307e16b96f2": {
          "model_module": "@jupyter-widgets/base",
          "model_name": "LayoutModel",
          "model_module_version": "1.2.0",
          "state": {
            "_model_module": "@jupyter-widgets/base",
            "_model_module_version": "1.2.0",
            "_model_name": "LayoutModel",
            "_view_count": null,
            "_view_module": "@jupyter-widgets/base",
            "_view_module_version": "1.2.0",
            "_view_name": "LayoutView",
            "align_content": null,
            "align_items": null,
            "align_self": null,
            "border": null,
            "bottom": null,
            "display": null,
            "flex": null,
            "flex_flow": null,
            "grid_area": null,
            "grid_auto_columns": null,
            "grid_auto_flow": null,
            "grid_auto_rows": null,
            "grid_column": null,
            "grid_gap": null,
            "grid_row": null,
            "grid_template_areas": null,
            "grid_template_columns": null,
            "grid_template_rows": null,
            "height": "53px",
            "justify_content": null,
            "justify_items": null,
            "left": null,
            "margin": null,
            "max_height": null,
            "max_width": null,
            "min_height": null,
            "min_width": null,
            "object_fit": null,
            "object_position": null,
            "order": null,
            "overflow": null,
            "overflow_x": null,
            "overflow_y": null,
            "padding": null,
            "right": null,
            "top": null,
            "visibility": null,
            "width": "200px"
          }
        },
        "967fa408766e491584e9da8deeb5a0e1": {
          "model_module": "@jupyter-widgets/controls",
          "model_name": "ButtonStyleModel",
          "model_module_version": "1.5.0",
          "state": {
            "_model_module": "@jupyter-widgets/controls",
            "_model_module_version": "1.5.0",
            "_model_name": "ButtonStyleModel",
            "_view_count": null,
            "_view_module": "@jupyter-widgets/base",
            "_view_module_version": "1.2.0",
            "_view_name": "StyleView",
            "button_color": null,
            "font_weight": ""
          }
        },
        "dc25a56bfa6e41699aa5953c4caf4796": {
          "model_module": "@jupyter-widgets/base",
          "model_name": "LayoutModel",
          "model_module_version": "1.2.0",
          "state": {
            "_model_module": "@jupyter-widgets/base",
            "_model_module_version": "1.2.0",
            "_model_name": "LayoutModel",
            "_view_count": null,
            "_view_module": "@jupyter-widgets/base",
            "_view_module_version": "1.2.0",
            "_view_name": "LayoutView",
            "align_content": null,
            "align_items": null,
            "align_self": null,
            "border": null,
            "bottom": null,
            "display": null,
            "flex": null,
            "flex_flow": null,
            "grid_area": null,
            "grid_auto_columns": null,
            "grid_auto_flow": null,
            "grid_auto_rows": null,
            "grid_column": null,
            "grid_gap": null,
            "grid_row": null,
            "grid_template_areas": null,
            "grid_template_columns": null,
            "grid_template_rows": null,
            "height": "25px",
            "justify_content": null,
            "justify_items": null,
            "left": null,
            "margin": null,
            "max_height": null,
            "max_width": null,
            "min_height": null,
            "min_width": null,
            "object_fit": null,
            "object_position": null,
            "order": null,
            "overflow": null,
            "overflow_x": null,
            "overflow_y": null,
            "padding": null,
            "right": null,
            "top": null,
            "visibility": null,
            "width": "300px"
          }
        },
        "75c7ac606cee49bd839529902bc0d197": {
          "model_module": "@jupyter-widgets/controls",
          "model_name": "DescriptionStyleModel",
          "model_module_version": "1.5.0",
          "state": {
            "_model_module": "@jupyter-widgets/controls",
            "_model_module_version": "1.5.0",
            "_model_name": "DescriptionStyleModel",
            "_view_count": null,
            "_view_module": "@jupyter-widgets/base",
            "_view_module_version": "1.2.0",
            "_view_name": "StyleView",
            "description_width": ""
          }
        },
        "d8538a3ae18c48e19e16317421a55683": {
          "model_module": "@jupyter-widgets/base",
          "model_name": "LayoutModel",
          "model_module_version": "1.2.0",
          "state": {
            "_model_module": "@jupyter-widgets/base",
            "_model_module_version": "1.2.0",
            "_model_name": "LayoutModel",
            "_view_count": null,
            "_view_module": "@jupyter-widgets/base",
            "_view_module_version": "1.2.0",
            "_view_name": "LayoutView",
            "align_content": null,
            "align_items": null,
            "align_self": null,
            "border": null,
            "bottom": null,
            "display": null,
            "flex": null,
            "flex_flow": null,
            "grid_area": null,
            "grid_auto_columns": null,
            "grid_auto_flow": null,
            "grid_auto_rows": null,
            "grid_column": null,
            "grid_gap": null,
            "grid_row": null,
            "grid_template_areas": null,
            "grid_template_columns": null,
            "grid_template_rows": null,
            "height": "24px",
            "justify_content": null,
            "justify_items": null,
            "left": null,
            "margin": null,
            "max_height": null,
            "max_width": null,
            "min_height": null,
            "min_width": null,
            "object_fit": null,
            "object_position": null,
            "order": null,
            "overflow": null,
            "overflow_x": null,
            "overflow_y": null,
            "padding": null,
            "right": null,
            "top": null,
            "visibility": null,
            "width": "300px"
          }
        },
        "3dc9cb7e549c444ab92aa2240f0b4962": {
          "model_module": "@jupyter-widgets/controls",
          "model_name": "DescriptionStyleModel",
          "model_module_version": "1.5.0",
          "state": {
            "_model_module": "@jupyter-widgets/controls",
            "_model_module_version": "1.5.0",
            "_model_name": "DescriptionStyleModel",
            "_view_count": null,
            "_view_module": "@jupyter-widgets/base",
            "_view_module_version": "1.2.0",
            "_view_name": "StyleView",
            "description_width": ""
          }
        }
      }
    }
  },
  "nbformat": 4,
  "nbformat_minor": 0
}